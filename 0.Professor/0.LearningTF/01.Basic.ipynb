{
 "cells": [
  {
   "cell_type": "markdown",
   "metadata": {},
   "source": [
    "# Tensorflow Programming Model\n",
    "참고: A Tour of TensorFlow (https://arxiv.org/pdf/1610.01178.pdf)"
   ]
  },
  {
   "cell_type": "markdown",
   "metadata": {},
   "source": [
    "## 1. Dataflow Graph"
   ]
  },
  {
   "cell_type": "markdown",
   "metadata": {},
   "source": [
    "<img src=\"./images/dataflow_graph.png\" width=\"35%\"/>"
   ]
  },
  {
   "cell_type": "markdown",
   "metadata": {},
   "source": [
    "- **Dataflow Graph**: a form of directed graph where vertices (or nodes) describe **operations**, while edges represent **data flowing** between these operations.\n",
    "  - <u>Vertex (or node) represents an operation</u>\n",
    "    - An operation can have zero or more inputs and produce zero or more outputs. \n",
    "    - An operation may represent...\n",
    "      - [주의] **a constant, a variable, a placeholder**\n",
    "      - a mathematical equation\n",
    "      - a control flow directive\n",
    "      - a file I/O operation\n",
    "      - a network communication port\n",
    "    - **Kernel**: an operation's implementation. It is specifically built for execution on a certain kind of device, such as a CPU, GPU or other hardware unit.  \n",
    "  - <u>Edge represents data flowing (called **Tensor**) from one operation to another</u>\n",
    "    - A tensor is symbolic handle to an output of operation.\n",
    "      - A tensor itself does not hold or store values in memory\n",
    "      - A tensor provides only an interface for retrieving the value referenced by the tensor.\n",
    "  - When creating an operation, such as 'x + y', a tensor object is returned. \n",
    "    - This tensor may be supplied as input to other computations, thereby connecting the source and destination operations with an edge.  \n",
    "  - Tensorflow를 사용한 모든 ML 알고리즘은 Dataflow Graph로 표현됨\n",
    "  - Dataflow Graph의 장점\n",
    "    - 알고리즘을 이루는 요소들간의 의존 관계를 직관적으로 파악가능함 \n",
    "\n",
    "- **Sessions**\n",
    "  -  Execution of operations and evaluation of tensors is performed in a special environment referred to as session"
   ]
  },
  {
   "cell_type": "markdown",
   "metadata": {},
   "source": [
    "## 2. 텐서플로우 자료형\n",
    "참조: http://bcho.tistory.com/1150"
   ]
  },
  {
   "cell_type": "markdown",
   "metadata": {},
   "source": [
    "- **Constant**\n",
    "  - **a constant (an operation) takes no inputs and always produces the same output (a tensor) corresponding to the constant it represents.**\n",
    "  - 선언 방법\n",
    "    - <u>tf.constant(value, dtype=None, shape=None, name='Const', verify_shape=False)</u>\n",
    "      - value: 상수의 값\n",
    "      - dtype: 상수의 데이타형 (예. dtype=tf.float32)\n",
    "      - shape: 텐서의 Shape 정보 (예. shape=[3,3])\n",
    "      - name: 상수의 이름"
   ]
  },
  {
   "cell_type": "code",
   "execution_count": 1,
   "metadata": {
    "collapsed": false
   },
   "outputs": [
    {
     "name": "stdout",
     "output_type": "stream",
     "text": [
      "Tensor(\"add:0\", shape=(1,), dtype=float32)\n",
      "Tensor(\"Add:0\", shape=(1,), dtype=float32)\n",
      "[ 250.] [ 250.]\n"
     ]
    }
   ],
   "source": [
    "import tensorflow as tf\n",
    "\n",
    "a = tf.constant([15], dtype=tf.float32, name='a')\n",
    "b = tf.constant([10], dtype=tf.float32, name='b')\n",
    "c = tf.constant([100], dtype=tf.float32, name='c')\n",
    "\n",
    "d = a * b + c\n",
    "e = tf.add(tf.multiply(a, b), c)\n",
    "\n",
    "print d \n",
    "print e\n",
    "\n",
    "with tf.Session() as sess:\n",
    "    result1 = sess.run(d)\n",
    "    result2 = sess.run(e)\n",
    "    print result1, result2 "
   ]
  },
  {
   "cell_type": "markdown",
   "metadata": {},
   "source": [
    "- **Variable**\n",
    "  - **A variable (an operation) is a persistent and mutable handle to in-memory buffer storing a tensor**\n",
    "  - 선언 방법\n",
    "    - <u>tf.Variable.\\_\\_init\\_\\_(initial_value=None, trainable=True, collections=None, validate_shape=True, caching_device=None, name=None, variable_def=None, dtype=None, expected_shape=None, import_scope=None)</u>\n",
    "      - initial_vlaue: 변수에 할당되는 초기 값 (예. dtype=tf.float32)\n",
    "      - validate_shape\n",
    "        - True (default): initial_value 값의 shape이 명확하게 인식되어야 함\n",
    "        - False: shape을 알지 못하는 상황에서 본 변수의 초기화가 가능하됨 \n",
    "      - expected_shape: 이 인자값이 지정된다면 initial_value의 shape과 동일해야 함\n",
    "      - name: 변수의 이름\n",
    "  - 변수 선언시 초기 값(initial_value)은 반드시 지정해 주어야 함\n",
    "  - 텐서플로우 Variable은 세션을 실행하기 전에 변수 값들을 초기화를 해줘야 지정된 값이 변수에 할당된다.\n",
    "    - init = tf.global_variables_initializer()\n",
    "    - sess.run(init)"
   ]
  },
  {
   "cell_type": "code",
   "execution_count": 3,
   "metadata": {
    "collapsed": false
   },
   "outputs": [
    {
     "name": "stdout",
     "output_type": "stream",
     "text": [
      "[ 10.  20.  30.  40.  50.]\n"
     ]
    }
   ],
   "source": [
    "input_data = [1, 2, 3, 4, 5]\n",
    "x = tf.placeholder(dtype=tf.float32)\n",
    "W = tf.Variable([10], dtype=tf.float32)\n",
    "y = W * x\n",
    "\n",
    "init = tf.global_variables_initializer()\n",
    "\n",
    "with tf.Session() as sess:\n",
    "    sess.run(init)\n",
    "    result = sess.run(y, feed_dict={x: input_data})\n",
    "    print result"
   ]
  },
  {
   "cell_type": "markdown",
   "metadata": {},
   "source": [
    "- **Placeholder**\n",
    "  - **A placeholder (an operation) is a special variable that must be replaced with concrete tensors upon execution.**\n",
    "  - 선언 방법\n",
    "    - <u>tf.placeholder(dtype, shape=None, name=None)</u>\n",
    "      - dtype: 플레이스홀더의 데이타형 (예. dtype=tf.float32)\n",
    "      - shape: 플레이스홀더의 Shape 정보 (예. shape=[3,3])\n",
    "      - name: 플레이스홀더의 이름\n",
    "  - 플레이스홀더에 값을 넣는 시기는 세션 런타임 (즉, 플레이스홀더 선언시 초기 값 할당 없음)\n",
    "  - 세션에 의한 수행 명령시에 feed_dict 인수를 통해 placeholder 값을 할당해주어야 한다.  \n",
    "    - sess.run(y, feed_dict={x:input_data})"
   ]
  },
  {
   "cell_type": "code",
   "execution_count": 2,
   "metadata": {
    "collapsed": false
   },
   "outputs": [
    {
     "name": "stdout",
     "output_type": "stream",
     "text": [
      "[  2.   4.   6.   8.  10.]\n"
     ]
    }
   ],
   "source": [
    "input_data = [1,2,3,4,5]\n",
    "x = tf.placeholder(dtype=tf.float32)\n",
    "y = x * 2\n",
    "\n",
    "with tf.Session() as sess:\n",
    "    result = sess.run(y, feed_dict={x:input_data})\n",
    "    print result"
   ]
  },
  {
   "cell_type": "markdown",
   "metadata": {},
   "source": [
    "## 텐서 구조 - Rank, Shape, Data Type\n",
    "\n",
    "참조: https://www.tensorflow.org/versions/r0.12/resources/dims_types.html\n",
    "\n",
    "- **Tensor**\n",
    "  - **multi-dimensional collection (array or list) of values with a fixed and static type**\n",
    "  - Only tensors may be passed between nodes (operations) in the computation graph\n",
    "  - A tensor has 1) rank, 2) shape, and 3) data type.\n",
    "  - It has static data type and dynamic dimensions\n",
    "  \n",
    "  \n",
    "- **Rank** (dimension, order, or degree)\n",
    "  - Tensor rank is the number of dimensions of the tensor\n",
    "  - A rank two tensor: a matrix\n",
    "  - A rank one tensor: a vector\n",
    "  \n",
    "  \n",
    "- **Shape**  \n",
    "  - Tensor shape is the tuple of size values (number of components) for each dimension\n",
    "  - Rank = len(Shape)\n",
    "  \n",
    "  \n",
    "- **Data type**\n",
    "  - Tensor data type is the type of data stored in the tensor\n",
    "  - Tensor data types\n",
    "    - tf.float32\n",
    "    - tf.float64\n",
    "    - tf.int8\n",
    "    - tf.int16\n",
    "    - tf.int32\n",
    "    - tf.int64\n",
    "    - tf.uint8\n",
    "    - tf.uint16\n",
    "    - tf.string\n",
    "    - tf.bool\n",
    "    - tf.complex64\n",
    "    - tf.complex128\n",
    "    - tf.qint8\n",
    "    - tf.qint32\n",
    "    - tf.quint8"
   ]
  },
  {
   "cell_type": "markdown",
   "metadata": {},
   "source": [
    "### 1) 0차원 텐서 - scala"
   ]
  },
  {
   "cell_type": "code",
   "execution_count": 25,
   "metadata": {
    "collapsed": false
   },
   "outputs": [
    {
     "name": "stdout",
     "output_type": "stream",
     "text": [
      "Rank of tensor_0d is 0\n",
      "Tensor(\"Const_7:0\", shape=(), dtype=float64)\n",
      "1.0\n"
     ]
    }
   ],
   "source": [
    "a = 1.0\n",
    "tensor_0d = tf.convert_to_tensor(a, dtype=tf.float64) \n",
    "print \"Rank of tensor_0d is %d\" % len(tensor_0d.get_shape())\n",
    "print tensor_0d\n",
    "with tf.Session() as sess:\n",
    "    print sess.run(tensor_0d)"
   ]
  },
  {
   "cell_type": "markdown",
   "metadata": {},
   "source": [
    "### 2) 1차원 텐서 - vector"
   ]
  },
  {
   "cell_type": "code",
   "execution_count": 4,
   "metadata": {
    "collapsed": true
   },
   "outputs": [],
   "source": [
    "import numpy as np"
   ]
  },
  {
   "cell_type": "code",
   "execution_count": 5,
   "metadata": {
    "collapsed": false
   },
   "outputs": [
    {
     "name": "stdout",
     "output_type": "stream",
     "text": [
      "[  1.3    1.     4.    23.99]\n"
     ]
    }
   ],
   "source": [
    "np_array_1d = np.array([1.3, 1, 4.0, 23.99])\n",
    "print np_array_1d"
   ]
  },
  {
   "cell_type": "code",
   "execution_count": 6,
   "metadata": {
    "collapsed": false
   },
   "outputs": [
    {
     "name": "stdout",
     "output_type": "stream",
     "text": [
      "1.3 1.0\n"
     ]
    }
   ],
   "source": [
    "print np_array_1d[0], np_array_1d[1]"
   ]
  },
  {
   "cell_type": "code",
   "execution_count": 7,
   "metadata": {
    "collapsed": false
   },
   "outputs": [
    {
     "name": "stdout",
     "output_type": "stream",
     "text": [
      "1\n",
      "(4,)\n",
      "float64\n"
     ]
    }
   ],
   "source": [
    "print np_array_1d.ndim   # rank\n",
    "print np_array_1d.shape  # shape\n",
    "print np_array_1d.dtype  # Data type"
   ]
  },
  {
   "cell_type": "code",
   "execution_count": 8,
   "metadata": {
    "collapsed": false
   },
   "outputs": [
    {
     "name": "stdout",
     "output_type": "stream",
     "text": [
      "Rank of tensor_1d is 1\n",
      "Tensor(\"Const:0\", shape=(4,), dtype=float64)\n"
     ]
    }
   ],
   "source": [
    "tensor_1d = tf.convert_to_tensor(np_array_1d, dtype=tf.float64)\n",
    "print \"Rank of tensor_1d is %d\" % len(tensor_1d.get_shape())\n",
    "print tensor_1d"
   ]
  },
  {
   "cell_type": "code",
   "execution_count": 9,
   "metadata": {
    "collapsed": false
   },
   "outputs": [
    {
     "name": "stdout",
     "output_type": "stream",
     "text": [
      "[  1.3    1.     4.    23.99]\n",
      "1.3 1.0\n"
     ]
    }
   ],
   "source": [
    "with tf.Session() as sess:\n",
    "    print sess.run(tensor_1d)\n",
    "    print sess.run(tensor_1d[0]), sess.run(tensor_1d[1])"
   ]
  },
  {
   "cell_type": "markdown",
   "metadata": {},
   "source": [
    "### 2) 2차원 텐서 - matrix"
   ]
  },
  {
   "cell_type": "code",
   "execution_count": 10,
   "metadata": {
    "collapsed": false
   },
   "outputs": [
    {
     "name": "stdout",
     "output_type": "stream",
     "text": [
      "[[  1.3    1.     8.2 ]\n",
      " [  4.    23.99   1.1 ]]\n"
     ]
    }
   ],
   "source": [
    "np_array_2d = np.array([[1.3, 1, 8.2], [4.0, 23.99, 1.1]])\n",
    "print np_array_2d"
   ]
  },
  {
   "cell_type": "code",
   "execution_count": 11,
   "metadata": {
    "collapsed": false
   },
   "outputs": [
    {
     "name": "stdout",
     "output_type": "stream",
     "text": [
      "2\n",
      "(2, 3)\n",
      "float64\n"
     ]
    }
   ],
   "source": [
    "print np_array_2d.ndim   # rank\n",
    "print np_array_2d.shape  # shape\n",
    "print np_array_2d.dtype  # Data type"
   ]
  },
  {
   "cell_type": "code",
   "execution_count": 12,
   "metadata": {
    "collapsed": false
   },
   "outputs": [
    {
     "name": "stdout",
     "output_type": "stream",
     "text": [
      "Rank of tensor_2d is 2\n",
      "Tensor(\"Const_1:0\", shape=(2, 3), dtype=float64)\n"
     ]
    }
   ],
   "source": [
    "tensor_2d = tf.convert_to_tensor(np_array_2d, dtype=tf.float64)\n",
    "print \"Rank of tensor_2d is %d\" % len(tensor_2d.get_shape())\n",
    "print tensor_2d"
   ]
  },
  {
   "cell_type": "code",
   "execution_count": 13,
   "metadata": {
    "collapsed": false
   },
   "outputs": [
    {
     "name": "stdout",
     "output_type": "stream",
     "text": [
      "[[  1.3    1.     8.2 ]\n",
      " [  4.    23.99   1.1 ]]\n",
      "1.3 1.1\n"
     ]
    }
   ],
   "source": [
    "with tf.Session() as sess:\n",
    "    print sess.run(tensor_2d)\n",
    "    print sess.run(tensor_2d[0, 0]), sess.run(tensor_2d[1, 2])"
   ]
  },
  {
   "cell_type": "markdown",
   "metadata": {},
   "source": [
    "- 2차원 텐서 연산"
   ]
  },
  {
   "cell_type": "code",
   "execution_count": 14,
   "metadata": {
    "collapsed": false
   },
   "outputs": [
    {
     "name": "stdout",
     "output_type": "stream",
     "text": [
      "[[1, 1, 1], [1, 1, 1], [1, 1, 1]]\n",
      "[[2, 2, 2], [2, 2, 2], [2, 2, 2]]\n"
     ]
    }
   ],
   "source": [
    "matrix1 = [[1, 1, 1], [1, 1, 1], [1, 1, 1]]\n",
    "matrix2 = [[2, 2, 2], [2, 2, 2], [2, 2, 2]]\n",
    "print matrix1\n",
    "print matrix2"
   ]
  },
  {
   "cell_type": "code",
   "execution_count": 15,
   "metadata": {
    "collapsed": false
   },
   "outputs": [
    {
     "name": "stdout",
     "output_type": "stream",
     "text": [
      "Rank of tensor_m1 is 2\n",
      "Tensor(\"Const_2:0\", shape=(3, 3), dtype=float64)\n",
      "Rank of tensor_m2 is 2\n",
      "Tensor(\"Const_3:0\", shape=(3, 3), dtype=float64)\n"
     ]
    }
   ],
   "source": [
    "tensor_m1 = tf.constant(matrix1, dtype=tf.float64)\n",
    "print \"Rank of tensor_m1 is %d\" % len(tensor_m1.get_shape())\n",
    "print tensor_m1\n",
    "\n",
    "tensor_m2 = tf.constant(matrix2, dtype=tf.float64)\n",
    "print \"Rank of tensor_m2 is %d\" % len(tensor_m2.get_shape())\n",
    "print tensor_m2"
   ]
  },
  {
   "cell_type": "code",
   "execution_count": 16,
   "metadata": {
    "collapsed": false
   },
   "outputs": [],
   "source": [
    "tensor_m3 = tf.matmul(tensor_m1, tensor_m2)\n",
    "tensor_m4 = tf.add(tensor_m1, tensor_m2)\n",
    "det = tf.matrix_determinant(tensor_m4)"
   ]
  },
  {
   "cell_type": "code",
   "execution_count": 17,
   "metadata": {
    "collapsed": false
   },
   "outputs": [
    {
     "name": "stdout",
     "output_type": "stream",
     "text": [
      "<type 'numpy.ndarray'>\n",
      "<type 'numpy.ndarray'>\n",
      "<type 'numpy.float64'>\n"
     ]
    }
   ],
   "source": [
    "with tf.Session() as sess:\n",
    "    result1 = sess.run(tensor_m3)\n",
    "    result2 = sess.run(tensor_m4)\n",
    "    result3 = sess.run(det)\n",
    "print type(result1)\n",
    "print type(result2)\n",
    "print type(result3)"
   ]
  },
  {
   "cell_type": "code",
   "execution_count": 18,
   "metadata": {
    "collapsed": false
   },
   "outputs": [
    {
     "name": "stdout",
     "output_type": "stream",
     "text": [
      "[[ 6.  6.  6.]\n",
      " [ 6.  6.  6.]\n",
      " [ 6.  6.  6.]]\n",
      "[[ 3.  3.  3.]\n",
      " [ 3.  3.  3.]\n",
      " [ 3.  3.  3.]]\n",
      "0.0\n"
     ]
    }
   ],
   "source": [
    "print result1\n",
    "print result2\n",
    "print result3"
   ]
  },
  {
   "cell_type": "markdown",
   "metadata": {},
   "source": [
    "### 3) 3차원 텐서"
   ]
  },
  {
   "cell_type": "code",
   "execution_count": 19,
   "metadata": {
    "collapsed": false
   },
   "outputs": [
    {
     "name": "stdout",
     "output_type": "stream",
     "text": [
      "[[[  1.3   1.    0.9]\n",
      "  [  8.2   1.9   5.5]]\n",
      "\n",
      " [[  4.   23.9   1.5]\n",
      "  [  1.1   7.1   0.2]]\n",
      "\n",
      " [[  2.    5.2   6.1]\n",
      "  [  3.3   1.7   3.8]]]\n"
     ]
    }
   ],
   "source": [
    "np_array_3d = np.array([[[1.3, 1.0, 0.9], [8.2, 1.9, 5.5]], \n",
    "                        [[4.0, 23.9, 1.5], [1.1, 7.1, 0.2]], \n",
    "                        [[2.0, 5.2, 6.1], [3.3, 1.7, 3.8]]])\n",
    "print np_array_3d"
   ]
  },
  {
   "cell_type": "code",
   "execution_count": 20,
   "metadata": {
    "collapsed": false
   },
   "outputs": [
    {
     "name": "stdout",
     "output_type": "stream",
     "text": [
      "3\n",
      "(3, 2, 3)\n",
      "float64\n"
     ]
    }
   ],
   "source": [
    "print np_array_3d.ndim   # rank\n",
    "print np_array_3d.shape  # shape\n",
    "print np_array_3d.dtype  # Data type"
   ]
  },
  {
   "cell_type": "code",
   "execution_count": 21,
   "metadata": {
    "collapsed": false
   },
   "outputs": [
    {
     "name": "stdout",
     "output_type": "stream",
     "text": [
      "Rank of tensor_3d is 3\n",
      "Tensor(\"Const_4:0\", shape=(3, 2, 3), dtype=float64)\n"
     ]
    }
   ],
   "source": [
    "tensor_3d = tf.convert_to_tensor(np_array_3d, dtype=tf.float64)\n",
    "print \"Rank of tensor_3d is %d\" % len(tensor_3d.get_shape())\n",
    "print tensor_3d"
   ]
  },
  {
   "cell_type": "code",
   "execution_count": 22,
   "metadata": {
    "collapsed": false
   },
   "outputs": [
    {
     "name": "stdout",
     "output_type": "stream",
     "text": [
      "[[[  1.3   1.    0.9]\n",
      "  [  8.2   1.9   5.5]]\n",
      "\n",
      " [[  4.   23.9   1.5]\n",
      "  [  1.1   7.1   0.2]]\n",
      "\n",
      " [[  2.    5.2   6.1]\n",
      "  [  3.3   1.7   3.8]]]\n",
      "1.3 0.2\n"
     ]
    }
   ],
   "source": [
    "with tf.Session() as sess:\n",
    "    print sess.run(tensor_3d)\n",
    "    print sess.run(tensor_3d[0, 0, 0]), sess.run(tensor_3d[1, 1, 2])"
   ]
  }
 ],
 "metadata": {
  "anaconda-cloud": {},
  "kernelspec": {
   "display_name": "Python [Root]",
   "language": "python",
   "name": "Python [Root]"
  },
  "language_info": {
   "codemirror_mode": {
    "name": "ipython",
    "version": 2
   },
   "file_extension": ".py",
   "mimetype": "text/x-python",
   "name": "python",
   "nbconvert_exporter": "python",
   "pygments_lexer": "ipython2",
   "version": "2.7.12"
  }
 },
 "nbformat": 4,
 "nbformat_minor": 0
}
