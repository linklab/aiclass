{
 "cells": [
  {
   "cell_type": "markdown",
   "metadata": {},
   "source": [
    "## Constants, Sequences, and Random Values\n",
    "- https://www.tensorflow.org/api_docs/python/constant_op/"
   ]
  },
  {
   "cell_type": "code",
   "execution_count": 2,
   "metadata": {
    "collapsed": true
   },
   "outputs": [],
   "source": [
    "import tensorflow as tf\n",
    "sess = tf.InteractiveSession()"
   ]
  },
  {
   "cell_type": "code",
   "execution_count": 3,
   "metadata": {
    "collapsed": true
   },
   "outputs": [],
   "source": [
    "def namestr(obj, namespace):\n",
    "    return [name for name in namespace if namespace[name] is obj][0]"
   ]
  },
  {
   "cell_type": "markdown",
   "metadata": {},
   "source": [
    "### 1. Constant Value Tensors"
   ]
  },
  {
   "cell_type": "markdown",
   "metadata": {},
   "source": [
    "#### - tf.constant(value, dtype=None, shape=None, name='Const', verify_shape=False)\n",
    "- https://www.tensorflow.org/versions/r0.10/api_docs/python/constant_op/constant_value_tensors#constant"
   ]
  },
  {
   "cell_type": "code",
   "execution_count": 4,
   "metadata": {
    "collapsed": false
   },
   "outputs": [
    {
     "name": "stdout",
     "output_type": "stream",
     "text": [
      "======Fixture=======\n",
      "Tensor Matrix - m1\n",
      "Shape: (1, 2)\n",
      "[[ 1.  2.]]\n",
      "\n",
      "Tensor Matrix - m2\n",
      "Shape: (2, 1)\n",
      "[[ 3.]\n",
      " [ 4.]]\n",
      "\n",
      "Tensor Matrix - m3\n",
      "Shape: (1, 2, 3)\n",
      "[[[ 1.  2.  3.]\n",
      "  [ 4.  5.  6.]]]\n",
      "\n",
      "Tensor Matrix - m4\n",
      "Shape: (2, 2, 3)\n",
      "[[[  1.   2.   3.]\n",
      "  [  4.   5.   6.]]\n",
      "\n",
      " [[  7.   8.   9.]\n",
      "  [ 10.  11.  12.]]]\n",
      "\n",
      "====================\n"
     ]
    }
   ],
   "source": [
    "m1 = tf.constant(value = [[1., 2.]])\n",
    "m2 = tf.constant(value = [[3.],[4.]])\n",
    "m3 = tf.constant(value = [[[1., 2., 3.], [4., 5., 6.]]])\n",
    "m4 = tf.constant(value = [[[1., 2., 3.], [4., 5., 6.]], [[7., 8., 9.] ,[10., 11., 12.]]])\n",
    "\n",
    "def printFixture(isShapeOut, tensorMatrixList):\n",
    "    print \"======Fixture=======\"\n",
    "    \n",
    "    for m in tensorMatrixList:\n",
    "        print \"Tensor Matrix - \" + namestr(m, globals())\n",
    "        if (isShapeOut):\n",
    "            print \"Shape:\", m.get_shape()\n",
    "        print m.eval()\n",
    "        print\n",
    "        \n",
    "    print \"====================\"\n",
    "\n",
    "printFixture(True, (m1, m2, m3, m4))    "
   ]
  },
  {
   "cell_type": "markdown",
   "metadata": {},
   "source": [
    "#### - tf.ones(shape, dtype=tf.float32, name=None)\n",
    "- https://www.tensorflow.org/api_docs/python/tf/ones"
   ]
  },
  {
   "cell_type": "code",
   "execution_count": 5,
   "metadata": {
    "collapsed": false
   },
   "outputs": [
    {
     "name": "stdout",
     "output_type": "stream",
     "text": [
      "[[ 1.  1.  1.  1.  1.  1.  1.  1.  1.  1.]\n",
      " [ 1.  1.  1.  1.  1.  1.  1.  1.  1.  1.]\n",
      " [ 1.  1.  1.  1.  1.  1.  1.  1.  1.  1.]\n",
      " [ 1.  1.  1.  1.  1.  1.  1.  1.  1.  1.]\n",
      " [ 1.  1.  1.  1.  1.  1.  1.  1.  1.  1.]\n",
      " [ 1.  1.  1.  1.  1.  1.  1.  1.  1.  1.]\n",
      " [ 1.  1.  1.  1.  1.  1.  1.  1.  1.  1.]\n",
      " [ 1.  1.  1.  1.  1.  1.  1.  1.  1.  1.]\n",
      " [ 1.  1.  1.  1.  1.  1.  1.  1.  1.  1.]\n",
      " [ 1.  1.  1.  1.  1.  1.  1.  1.  1.  1.]]\n"
     ]
    }
   ],
   "source": [
    "t1 = tf.ones([10, 10])\n",
    "print t1.eval()"
   ]
  },
  {
   "cell_type": "markdown",
   "metadata": {},
   "source": [
    "#### - tf.ones_like(tensor, dtype=None, name=None, optimize=True)\n",
    "- https://www.tensorflow.org/api_docs/python/tf/ones_like"
   ]
  },
  {
   "cell_type": "code",
   "execution_count": 6,
   "metadata": {
    "collapsed": false
   },
   "outputs": [
    {
     "name": "stdout",
     "output_type": "stream",
     "text": [
      "======Fixture=======\n",
      "Tensor Matrix - m1\n",
      "Shape: (1, 2)\n",
      "[[ 1.  2.]]\n",
      "\n",
      "====================\n",
      "[[ 1.  1.]]\n"
     ]
    }
   ],
   "source": [
    "printFixture(True, (m1,))\n",
    "t1 = tf.ones_like(m1)\n",
    "print t1.eval()"
   ]
  },
  {
   "cell_type": "markdown",
   "metadata": {},
   "source": [
    "### 2. Sequences"
   ]
  },
  {
   "cell_type": "markdown",
   "metadata": {},
   "source": [
    "#### tf.range(start, limit=None, delta=1, dtype=None, name='range')\n",
    "- https://www.tensorflow.org/api_docs/python/tf/range"
   ]
  },
  {
   "cell_type": "code",
   "execution_count": 9,
   "metadata": {
    "collapsed": false
   },
   "outputs": [
    {
     "name": "stdout",
     "output_type": "stream",
     "text": [
      "[ 3  6  9 12 15]\n"
     ]
    }
   ],
   "source": [
    "t1 = tf.range(start=3, limit=18, delta=3)\n",
    "print t1.eval()"
   ]
  },
  {
   "cell_type": "markdown",
   "metadata": {},
   "source": [
    "### 3. Random Tensors"
   ]
  },
  {
   "cell_type": "markdown",
   "metadata": {},
   "source": [
    "#### tf.truncated_normal(shape, mean=0.0, stddev=1.0, dtype=tf.float32, seed=None, name=None)\n",
    "- https://www.tensorflow.org/api_docs/python/tf/truncated_normal"
   ]
  },
  {
   "cell_type": "code",
   "execution_count": 12,
   "metadata": {
    "collapsed": false
   },
   "outputs": [
    {
     "name": "stdout",
     "output_type": "stream",
     "text": [
      "[[[[ 0.25117117  0.32417467 -0.470599   -0.76663405  0.12242059]]\n",
      "\n",
      "  [[-0.42931268 -0.11228631 -0.15127456 -1.14448798  0.46462807]]\n",
      "\n",
      "  [[ 0.38830131  1.35596144  0.63893807 -0.91272372 -1.42134666]]]\n",
      "\n",
      "\n",
      " [[[ 0.15331422  0.38324586 -0.37068954  0.1846994   0.72810608]]\n",
      "\n",
      "  [[-0.45035738 -0.21675514 -0.0592064   1.17470205  0.57977176]]\n",
      "\n",
      "  [[ 0.68824977 -0.48339584  0.99387664 -0.19618522  0.17525432]]]\n",
      "\n",
      "\n",
      " [[[ 0.62985092 -0.28258386 -0.12098355  0.87181062  0.54552883]]\n",
      "\n",
      "  [[-1.1921953  -0.63971949 -0.19805467  1.07015073 -1.97641695]]\n",
      "\n",
      "  [[ 1.95520198 -0.09843562 -1.1169883   0.92312455 -0.47199106]]]]\n"
     ]
    }
   ],
   "source": [
    "t1 = tf.truncated_normal([3, 3, 1, 5], stddev=1.0)\n",
    "print t1.eval()"
   ]
  },
  {
   "cell_type": "code",
   "execution_count": null,
   "metadata": {
    "collapsed": true
   },
   "outputs": [],
   "source": []
  }
 ],
 "metadata": {
  "anaconda-cloud": {},
  "kernelspec": {
   "display_name": "Python [conda env:ipykernel_py2]",
   "language": "python",
   "name": "conda-env-ipykernel_py2-py"
  },
  "language_info": {
   "codemirror_mode": {
    "name": "ipython",
    "version": 2
   },
   "file_extension": ".py",
   "mimetype": "text/x-python",
   "name": "python",
   "nbconvert_exporter": "python",
   "pygments_lexer": "ipython2",
   "version": "2.7.13"
  }
 },
 "nbformat": 4,
 "nbformat_minor": 0
}
