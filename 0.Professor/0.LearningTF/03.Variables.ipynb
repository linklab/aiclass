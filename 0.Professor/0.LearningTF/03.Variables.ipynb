{
 "cells": [
  {
   "cell_type": "markdown",
   "metadata": {},
   "source": [
    "## Variables\n",
    "- https://www.tensorflow.org/api_docs/python/state_ops/"
   ]
  },
  {
   "cell_type": "markdown",
   "metadata": {},
   "source": [
    "### 0. Loading TF and Fixtures"
   ]
  },
  {
   "cell_type": "code",
   "execution_count": 1,
   "metadata": {
    "collapsed": true
   },
   "outputs": [],
   "source": [
    "import tensorflow as tf\n",
    "sess = tf.InteractiveSession()"
   ]
  },
  {
   "cell_type": "code",
   "execution_count": 2,
   "metadata": {
    "collapsed": true
   },
   "outputs": [],
   "source": [
    "def namestr(obj, namespace):\n",
    "    return [name for name in namespace if namespace[name] is obj][0]"
   ]
  },
  {
   "cell_type": "code",
   "execution_count": 3,
   "metadata": {
    "collapsed": false
   },
   "outputs": [
    {
     "name": "stdout",
     "output_type": "stream",
     "text": [
      "======Fixture=======\n",
      "Tensor Matrix - m1\n",
      "Shape: (1, 2)\n",
      "[[ 1.  2.]]\n",
      "\n",
      "Tensor Matrix - m2\n",
      "Shape: (2, 1)\n",
      "[[ 3.]\n",
      " [ 4.]]\n",
      "\n",
      "Tensor Matrix - m3\n",
      "Shape: (1, 2, 3)\n",
      "[[[ 1.  2.  3.]\n",
      "  [ 4.  5.  6.]]]\n",
      "\n",
      "Tensor Matrix - m4\n",
      "Shape: (2, 2, 3)\n",
      "[[[  1.   2.   3.]\n",
      "  [  4.   5.   6.]]\n",
      "\n",
      " [[  7.   8.   9.]\n",
      "  [ 10.  11.  12.]]]\n",
      "\n",
      "====================\n"
     ]
    }
   ],
   "source": [
    "m1 = tf.constant(value = [[1., 2.]])\n",
    "m2 = tf.constant(value = [[3.],[4.]])\n",
    "m3 = tf.constant(value = [[[1., 2., 3.], [4., 5., 6.]]])\n",
    "m4 = tf.constant(value = [[[1., 2., 3.], [4., 5., 6.]], [[7., 8., 9.] ,[10., 11., 12.]]])\n",
    "\n",
    "def printFixture(isShapeOut, tensorMatrixList):\n",
    "    print \"======Fixture=======\"\n",
    "    \n",
    "    for m in tensorMatrixList:\n",
    "        print \"Tensor Matrix - \" + namestr(m, globals())\n",
    "        if (isShapeOut):\n",
    "            print \"Shape:\", m.get_shape()\n",
    "        print m.eval()\n",
    "        print\n",
    "        \n",
    "    print \"====================\"\n",
    "\n",
    "printFixture(True, (m1, m2, m3, m4))  "
   ]
  },
  {
   "cell_type": "code",
   "execution_count": null,
   "metadata": {
    "collapsed": true
   },
   "outputs": [],
   "source": []
  }
 ],
 "metadata": {
  "anaconda-cloud": {},
  "kernelspec": {
   "display_name": "Python [conda env:ipykernel_py2]",
   "language": "python",
   "name": "conda-env-ipykernel_py2-py"
  },
  "language_info": {
   "codemirror_mode": {
    "name": "ipython",
    "version": 2
   },
   "file_extension": ".py",
   "mimetype": "text/x-python",
   "name": "python",
   "nbconvert_exporter": "python",
   "pygments_lexer": "ipython2",
   "version": "2.7.13"
  }
 },
 "nbformat": 4,
 "nbformat_minor": 0
}
