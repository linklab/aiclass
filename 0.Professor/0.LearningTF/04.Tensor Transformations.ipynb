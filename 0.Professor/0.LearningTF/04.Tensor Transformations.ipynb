{
 "cells": [
  {
   "cell_type": "markdown",
   "metadata": {},
   "source": [
    "## Tensor Transformations"
   ]
  },
  {
   "cell_type": "markdown",
   "metadata": {},
   "source": [
    "### 0. Loading TF and Fixtures"
   ]
  },
  {
   "cell_type": "code",
   "execution_count": 3,
   "metadata": {
    "collapsed": true
   },
   "outputs": [],
   "source": [
    "import tensorflow as tf\n",
    "sess = tf.InteractiveSession()"
   ]
  },
  {
   "cell_type": "code",
   "execution_count": 4,
   "metadata": {
    "collapsed": true
   },
   "outputs": [],
   "source": [
    "def namestr(obj, namespace):\n",
    "    return [name for name in namespace if namespace[name] is obj][0]"
   ]
  },
  {
   "cell_type": "code",
   "execution_count": 8,
   "metadata": {
    "collapsed": false
   },
   "outputs": [
    {
     "name": "stdout",
     "output_type": "stream",
     "text": [
      "======Fixture=======\n",
      "Tensor Matrix - m1\n",
      "Shape: (1, 2)\n",
      "[[ 1.  2.]]\n",
      "\n",
      "Tensor Matrix - m2\n",
      "Shape: (2, 1)\n",
      "[[ 3.]\n",
      " [ 4.]]\n",
      "\n",
      "Tensor Matrix - m3\n",
      "Shape: (1, 2, 3)\n",
      "[[[ 1.  2.  3.]\n",
      "  [ 4.  5.  6.]]]\n",
      "\n",
      "Tensor Matrix - m4\n",
      "Shape: (2, 2, 3)\n",
      "[[[  1.   2.   3.]\n",
      "  [  4.   5.   6.]]\n",
      "\n",
      " [[  7.   8.   9.]\n",
      "  [ 10.  11.  12.]]]\n",
      "\n",
      "====================\n"
     ]
    }
   ],
   "source": [
    "m1 = tf.constant(value = [[1., 2.]])\n",
    "m2 = tf.constant(value = [[3.],[4.]])\n",
    "m3 = tf.constant(value = [[[1., 2., 3.], [4., 5., 6.]]])\n",
    "m4 = tf.constant(value = [[[1., 2., 3.], [4., 5., 6.]], [[7., 8., 9.] ,[10., 11., 12.]]])\n",
    "\n",
    "def printFixture(isShapeOut, tensorMatrixList):\n",
    "    print(\"======Fixture=======\")\n",
    "    \n",
    "    for m in tensorMatrixList:\n",
    "        print(\"Tensor Matrix - \" + namestr(m, globals()))\n",
    "        if (isShapeOut):\n",
    "            print(\"Shape:\", m.get_shape())\n",
    "        print(m.eval())\n",
    "        print()\n",
    "        \n",
    "    print(\"====================\")\n",
    "\n",
    "printFixture(True, (m1, m2, m3, m4))"
   ]
  },
  {
   "cell_type": "markdown",
   "metadata": {},
   "source": [
    "### 1. Casting"
   ]
  },
  {
   "cell_type": "markdown",
   "metadata": {},
   "source": [
    "### 2. Shapes and Shaping"
   ]
  },
  {
   "cell_type": "markdown",
   "metadata": {},
   "source": [
    "#### - tf.reshape"
   ]
  },
  {
   "cell_type": "code",
   "execution_count": 65,
   "metadata": {
    "collapsed": false
   },
   "outputs": [
    {
     "name": "stdout",
     "output_type": "stream",
     "text": [
      "======Fixture=======\n",
      "Tensor Matrix - m3\n",
      "Shape: (1, 2, 3)\n",
      "[[[ 1.  2.  3.]\n",
      "  [ 4.  5.  6.]]]\n",
      "\n",
      "====================\n",
      "[[ 1.]\n",
      " [ 2.]\n",
      " [ 3.]\n",
      " [ 4.]\n",
      " [ 5.]\n",
      " [ 6.]]\n",
      "[[ 1.  2.]\n",
      " [ 3.  4.]\n",
      " [ 5.  6.]]\n"
     ]
    }
   ],
   "source": [
    "printFixture(True, (m3,))\n",
    "r1 = tf.reshape(m3, [-1, 1])\n",
    "print r1.eval()\n",
    "r2 = tf.reshape(m3, [-1, 2])\n",
    "print r2.eval()"
   ]
  },
  {
   "cell_type": "markdown",
   "metadata": {},
   "source": [
    "### 3. Slicing and Joining"
   ]
  },
  {
   "cell_type": "markdown",
   "metadata": {},
   "source": [
    "#### - tf.split(value, num_or_size_splits, axis=0, num=None, name='split')\n",
    "- https://www.tensorflow.org/api_docs/python/tf/split\n",
    "- 주어진 value 텐서에 대해 axis을 따라서 num_or_size_splits개의 작은 텐서로 나눈다.\n",
    "- [주의] num_or_size_splits개의 작은 텐서들의 shape은 동일하게 맞추어져야 한다.  \n",
    "- 반환형은 python의 기본 list 이며, list 내부의 각 원소들은 동일한 shape을 지닌 Tensor 들이다."
   ]
  },
  {
   "cell_type": "code",
   "execution_count": 9,
   "metadata": {
    "collapsed": false
   },
   "outputs": [
    {
     "name": "stdout",
     "output_type": "stream",
     "text": [
      "======Fixture=======\n",
      "Tensor Matrix - m1\n",
      "Shape: (1, 2)\n",
      "[[ 1.  2.]]\n",
      "\n",
      "====================\n",
      "[<tf.Tensor 'split:0' shape=(1, 1) dtype=float32>, <tf.Tensor 'split:1' shape=(1, 1) dtype=float32>]\n",
      "[[ 1.]]\n",
      "[[ 2.]]\n"
     ]
    }
   ],
   "source": [
    "printFixture(True, (m1,))\n",
    "r1 = tf.split(value = m1, num_or_size_splits = 2, axis = 1)\n",
    "print(r1)\n",
    "print(r1[0].eval())\n",
    "print(r1[1].eval())"
   ]
  },
  {
   "cell_type": "code",
   "execution_count": 12,
   "metadata": {
    "collapsed": false
   },
   "outputs": [
    {
     "name": "stdout",
     "output_type": "stream",
     "text": [
      "======Fixture=======\n",
      "Tensor Matrix - m2\n",
      "Shape: (2, 1)\n",
      "[[ 3.]\n",
      " [ 4.]]\n",
      "\n",
      "====================\n",
      "[<tf.Tensor 'split_3:0' shape=(1, 1) dtype=float32>, <tf.Tensor 'split_3:1' shape=(1, 1) dtype=float32>]\n",
      "[[ 3.]]\n",
      "[[ 4.]]\n"
     ]
    }
   ],
   "source": [
    "printFixture(True, (m2,))\n",
    "r1 = tf.split(value = m2, num_or_size_splits = 2, axis = 0)\n",
    "print(r1)\n",
    "print(r1[0].eval())\n",
    "print(r1[1].eval())"
   ]
  },
  {
   "cell_type": "code",
   "execution_count": 16,
   "metadata": {
    "collapsed": false
   },
   "outputs": [
    {
     "name": "stdout",
     "output_type": "stream",
     "text": [
      "======Fixture=======\n",
      "Tensor Matrix - m3\n",
      "Shape: (1, 2, 3)\n",
      "[[[ 1.  2.  3.]\n",
      "  [ 4.  5.  6.]]]\n",
      "\n",
      "====================\n",
      "[<tf.Tensor 'split_7:0' shape=(1, 1, 3) dtype=float32>, <tf.Tensor 'split_7:1' shape=(1, 1, 3) dtype=float32>]\n",
      "[[[ 1.  2.  3.]]]\n",
      "[[[ 4.  5.  6.]]]\n"
     ]
    }
   ],
   "source": [
    "printFixture(True, (m3,))\n",
    "r1 = tf.split(value = m3, num_or_size_splits = 2, axis = 1)\n",
    "print(r1)\n",
    "print(r1[0].eval())\n",
    "print(r1[1].eval())"
   ]
  },
  {
   "cell_type": "code",
   "execution_count": 84,
   "metadata": {
    "collapsed": false
   },
   "outputs": [
    {
     "name": "stdout",
     "output_type": "stream",
     "text": [
      "======Fixture=======\n",
      "Tensor Matrix - m3\n",
      "Shape: (1, 2, 3)\n",
      "[[[ 1.  2.  3.]\n",
      "  [ 4.  5.  6.]]]\n",
      "\n",
      "====================\n",
      "[<tf.Tensor 'split_14:0' shape=(1, 2, 1) dtype=float32>, <tf.Tensor 'split_14:1' shape=(1, 2, 1) dtype=float32>, <tf.Tensor 'split_14:2' shape=(1, 2, 1) dtype=float32>]\n",
      "[[[ 1.]\n",
      "  [ 4.]]]\n",
      "[[[ 2.]\n",
      "  [ 5.]]]\n",
      "[[[ 3.]\n",
      "  [ 6.]]]\n"
     ]
    }
   ],
   "source": [
    "printFixture(True, (m3,))\n",
    "r1 = tf.split(axis = 2, num_or_size_splits = 3, value = m3)\n",
    "print r1\n",
    "print r1[0].eval()\n",
    "print r1[1].eval()\n",
    "print r1[2].eval()"
   ]
  },
  {
   "cell_type": "code",
   "execution_count": 96,
   "metadata": {
    "collapsed": false
   },
   "outputs": [
    {
     "name": "stdout",
     "output_type": "stream",
     "text": [
      "======Fixture=======\n",
      "Tensor Matrix - m4\n",
      "Shape: (2, 2, 3)\n",
      "[[[  1.   2.   3.]\n",
      "  [  4.   5.   6.]]\n",
      "\n",
      " [[  7.   8.   9.]\n",
      "  [ 10.  11.  12.]]]\n",
      "\n",
      "====================\n",
      "[<tf.Tensor 'split_26:0' shape=(2, 1, 3) dtype=float32>, <tf.Tensor 'split_26:1' shape=(2, 1, 3) dtype=float32>]\n",
      "[[[ 1.  2.  3.]]\n",
      "\n",
      " [[ 7.  8.  9.]]]\n",
      "\n",
      "[[[  4.   5.   6.]]\n",
      "\n",
      " [[ 10.  11.  12.]]]\n",
      "\n"
     ]
    }
   ],
   "source": [
    "printFixture(True, (m4,))\n",
    "r1 = tf.split(axis = 1, num_or_size_splits = 2, value = m4)\n",
    "print r1\n",
    "print r1[0].eval();print\n",
    "print r1[1].eval();print"
   ]
  },
  {
   "cell_type": "code",
   "execution_count": 89,
   "metadata": {
    "collapsed": false
   },
   "outputs": [
    {
     "name": "stdout",
     "output_type": "stream",
     "text": [
      "======Fixture=======\n",
      "Tensor Matrix - m4\n",
      "Shape: (2, 2, 3)\n",
      "[[[  1.   2.   3.]\n",
      "  [  4.   5.   6.]]\n",
      "\n",
      " [[  7.   8.   9.]\n",
      "  [ 10.  11.  12.]]]\n",
      "\n",
      "====================\n",
      "[<tf.Tensor 'split_19:0' shape=(2, 2, 1) dtype=float32>, <tf.Tensor 'split_19:1' shape=(2, 2, 1) dtype=float32>, <tf.Tensor 'split_19:2' shape=(2, 2, 1) dtype=float32>]\n",
      "[[[  1.]\n",
      "  [  4.]]\n",
      "\n",
      " [[  7.]\n",
      "  [ 10.]]]\n",
      "\n",
      "[[[  2.]\n",
      "  [  5.]]\n",
      "\n",
      " [[  8.]\n",
      "  [ 11.]]]\n",
      "\n",
      "[[[  3.]\n",
      "  [  6.]]\n",
      "\n",
      " [[  9.]\n",
      "  [ 12.]]]\n",
      "\n"
     ]
    }
   ],
   "source": [
    "printFixture(True, (m4,))\n",
    "r1 = tf.split(axis = 2, num_or_size_splits = 3, value = m4)\n",
    "print r1\n",
    "print r1[0].eval();print\n",
    "print r1[1].eval();print\n",
    "print r1[2].eval();print"
   ]
  },
  {
   "cell_type": "markdown",
   "metadata": {},
   "source": [
    "#### - tf.transpose(a, perm=None, name='transpose')\n",
    "- https://www.tensorflow.org/api_docs/python/tf/transpose"
   ]
  },
  {
   "cell_type": "code",
   "execution_count": 101,
   "metadata": {
    "collapsed": false
   },
   "outputs": [
    {
     "name": "stdout",
     "output_type": "stream",
     "text": [
      "======Fixture=======\n",
      "Tensor Matrix - m1\n",
      "Shape: (1, 2)\n",
      "[[ 1.  2.]]\n",
      "\n",
      "====================\n",
      "Tensor(\"transpose_4:0\", shape=(1, 2), dtype=float32)\n",
      "[[ 1.  2.]]\n",
      "Tensor(\"transpose_5:0\", shape=(2, 1), dtype=float32)\n",
      "[[ 1.]\n",
      " [ 2.]]\n"
     ]
    }
   ],
   "source": [
    "printFixture(True, (m1,))\n",
    "r1 = tf.transpose(m1, perm = [0, 1])\n",
    "r2 = tf.transpose(m1, perm = [1, 0])\n",
    "print r1\n",
    "print r1.eval()\n",
    "print r2\n",
    "print r2.eval()"
   ]
  },
  {
   "cell_type": "code",
   "execution_count": 103,
   "metadata": {
    "collapsed": false
   },
   "outputs": [
    {
     "name": "stdout",
     "output_type": "stream",
     "text": [
      "======Fixture=======\n",
      "Tensor Matrix - m3\n",
      "Shape: (1, 2, 3)\n",
      "[[[ 1.  2.  3.]\n",
      "  [ 4.  5.  6.]]]\n",
      "\n",
      "====================\n",
      "Tensor(\"transpose_7:0\", shape=(1, 3, 2), dtype=float32)\n",
      "[[[ 1.  4.]\n",
      "  [ 2.  5.]\n",
      "  [ 3.  6.]]]\n",
      "Tensor(\"transpose_8:0\", shape=(2, 3, 1), dtype=float32)\n",
      "[[[ 1.]\n",
      "  [ 2.]\n",
      "  [ 3.]]\n",
      "\n",
      " [[ 4.]\n",
      "  [ 5.]\n",
      "  [ 6.]]]\n"
     ]
    }
   ],
   "source": [
    "printFixture(True, (m3,))\n",
    "r1 = tf.transpose(m3, perm = [0, 2, 1])\n",
    "r2 = tf.transpose(m3, perm = [1, 2, 0])\n",
    "print r1\n",
    "print r1.eval()\n",
    "print r2\n",
    "print r2.eval()"
   ]
  },
  {
   "cell_type": "markdown",
   "metadata": {
    "collapsed": true
   },
   "source": [
    "#### - tf.slice(input_, begin, size, name=None)\n",
    "- https://www.tensorflow.org/api_docs/python/tf/slice"
   ]
  },
  {
   "cell_type": "code",
   "execution_count": 19,
   "metadata": {
    "collapsed": false
   },
   "outputs": [
    {
     "name": "stdout",
     "output_type": "stream",
     "text": [
      "======Fixture=======\n",
      "Tensor Matrix - m1\n",
      "Shape: (1, 2)\n",
      "[[ 1.  2.]]\n",
      "\n",
      "====================\n",
      "Tensor(\"Slice_1:0\", shape=(1, 1), dtype=float32)\n",
      "[[ 1.]]\n"
     ]
    }
   ],
   "source": [
    "printFixture(True, (m1,))\n",
    "r1 = tf.slice(input_ = m1, begin=[0, 0], size=[1, 1])\n",
    "print(r1)\n",
    "print(r1.eval())"
   ]
  },
  {
   "cell_type": "code",
   "execution_count": 20,
   "metadata": {
    "collapsed": false
   },
   "outputs": [
    {
     "name": "stdout",
     "output_type": "stream",
     "text": [
      "======Fixture=======\n",
      "Tensor Matrix - m2\n",
      "Shape: (2, 1)\n",
      "[[ 3.]\n",
      " [ 4.]]\n",
      "\n",
      "====================\n",
      "Tensor(\"Slice_2:0\", shape=(1, 1), dtype=float32)\n",
      "[[ 3.]]\n"
     ]
    }
   ],
   "source": [
    "printFixture(True, (m2,))\n",
    "r1 = tf.slice(input_ = m2, begin=[0, 0], size=[1, 1])\n",
    "print(r1)\n",
    "print(r1.eval())"
   ]
  },
  {
   "cell_type": "code",
   "execution_count": 21,
   "metadata": {
    "collapsed": false
   },
   "outputs": [
    {
     "name": "stdout",
     "output_type": "stream",
     "text": [
      "======Fixture=======\n",
      "Tensor Matrix - m2\n",
      "Shape: (2, 1)\n",
      "[[ 3.]\n",
      " [ 4.]]\n",
      "\n",
      "====================\n",
      "Tensor(\"Slice_3:0\", shape=(1, 1), dtype=float32)\n",
      "[[ 4.]]\n"
     ]
    }
   ],
   "source": [
    "printFixture(True, (m2,))\n",
    "r1 = tf.slice(input_ = m2, begin=[1, 0], size=[1, 1])\n",
    "print(r1)\n",
    "print(r1.eval())"
   ]
  },
  {
   "cell_type": "code",
   "execution_count": 24,
   "metadata": {
    "collapsed": false
   },
   "outputs": [
    {
     "name": "stdout",
     "output_type": "stream",
     "text": [
      "======Fixture=======\n",
      "Tensor Matrix - m3\n",
      "Shape: (1, 2, 3)\n",
      "[[[ 1.  2.  3.]\n",
      "  [ 4.  5.  6.]]]\n",
      "\n",
      "====================\n",
      "Tensor(\"Slice_6:0\", shape=(1, 2, 2), dtype=float32)\n",
      "[[[ 1.  2.]\n",
      "  [ 4.  5.]]]\n"
     ]
    }
   ],
   "source": [
    "printFixture(True, (m3,))\n",
    "r1 = tf.slice(input_ = m3, begin=[0, 0, 0], size=[1, 2, 2])\n",
    "print(r1)\n",
    "print(r1.eval())"
   ]
  },
  {
   "cell_type": "code",
   "execution_count": 25,
   "metadata": {
    "collapsed": false
   },
   "outputs": [
    {
     "name": "stdout",
     "output_type": "stream",
     "text": [
      "======Fixture=======\n",
      "Tensor Matrix - m4\n",
      "Shape: (2, 2, 3)\n",
      "[[[  1.   2.   3.]\n",
      "  [  4.   5.   6.]]\n",
      "\n",
      " [[  7.   8.   9.]\n",
      "  [ 10.  11.  12.]]]\n",
      "\n",
      "====================\n",
      "Tensor(\"Slice_7:0\", shape=(1, 2, 2), dtype=float32)\n",
      "[[[ 1.  2.]\n",
      "  [ 4.  5.]]]\n"
     ]
    }
   ],
   "source": [
    "printFixture(True, (m4,))\n",
    "r1 = tf.slice(input_ = m4, begin=[0, 0, 0], size=[1, 2, 2])\n",
    "print(r1)\n",
    "print(r1.eval())"
   ]
  },
  {
   "cell_type": "markdown",
   "metadata": {},
   "source": [
    "#### - tf.gather_nd(params, indices)\n",
    "- https://www.tensorflow.org/api_docs/python/tf/gather_nd"
   ]
  },
  {
   "cell_type": "code",
   "execution_count": 77,
   "metadata": {
    "collapsed": false
   },
   "outputs": [
    {
     "name": "stdout",
     "output_type": "stream",
     "text": [
      "======Fixture=======\n",
      "Tensor Matrix - q1\n",
      "Shape: (4, 2)\n",
      "[[ 1.  2.]\n",
      " [ 3.  4.]\n",
      " [ 5.  6.]\n",
      " [ 7.  8.]]\n",
      "\n",
      "====================\n",
      "======Fixture=======\n",
      "Tensor Matrix - q2\n",
      "Shape: (4, 2)\n",
      "[[0 0]\n",
      " [1 1]\n",
      " [2 0]\n",
      " [3 1]]\n",
      "\n",
      "====================\n",
      "Tensor(\"GatherNd_3:0\", shape=(4,), dtype=float32)\n",
      "[ 1.  4.  5.  8.]\n"
     ]
    }
   ],
   "source": [
    "q1 = tf.constant(value = [[1., 2.], [3., 4.], [5., 6.], [7., 8.]])\n",
    "q2 = tf.constant(value = [[0, 0], [1, 1], [2, 0], [3, 1]])\n",
    "printFixture(True, (q1, ))\n",
    "printFixture(True, (q2, ))\n",
    "\n",
    "r1 = tf.gather_nd(params = q1, indices=q2)\n",
    "print(r1)\n",
    "print(r1.eval())"
   ]
  },
  {
   "cell_type": "code",
   "execution_count": null,
   "metadata": {
    "collapsed": true
   },
   "outputs": [],
   "source": [
    ""
   ]
  }
 ],
 "metadata": {
  "anaconda-cloud": {},
  "kernelspec": {
   "display_name": "Python 3",
   "language": "python",
   "name": "python3"
  },
  "language_info": {
   "codemirror_mode": {
    "name": "ipython",
    "version": 3.0
   },
   "file_extension": ".py",
   "mimetype": "text/x-python",
   "name": "python",
   "nbconvert_exporter": "python",
   "pygments_lexer": "ipython3",
   "version": "3.6.0"
  }
 },
 "nbformat": 4,
 "nbformat_minor": 0
}