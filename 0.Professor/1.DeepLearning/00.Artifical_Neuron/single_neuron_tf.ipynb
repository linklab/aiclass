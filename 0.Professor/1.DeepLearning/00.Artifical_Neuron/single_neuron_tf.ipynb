{
 "cells": [
  {
   "cell_type": "markdown",
   "metadata": {},
   "source": [
    "# Tensorflow로 구현한 단일 뉴런 (Single Neuron)"
   ]
  },
  {
   "cell_type": "markdown",
   "metadata": {},
   "source": [
    "## Gate Neuron "
   ]
  },
  {
   "cell_type": "code",
   "execution_count": 3,
   "metadata": {
    "collapsed": true
   },
   "outputs": [],
   "source": [
    "import tensorflow as tf\n",
    "import numpy as np\n",
    "import random\n",
    "import math"
   ]
  },
  {
   "cell_type": "code",
   "execution_count": 21,
   "metadata": {
    "collapsed": false
   },
   "outputs": [],
   "source": [
    "class GateNeuron:\n",
    "    def __init__(self):\n",
    "        self.x = tf.placeholder(tf.float32, [1, 2])\n",
    "        self.z_target = tf.placeholder(tf.float32, [1])\n",
    "        self.weight = tf.Variable(tf.zeros([2, 1]))  # [[0.]  [0.]] \n",
    "        self.bias = tf.Variable(tf.zeros([1]))    # [[0.]]\n",
    "\n",
    "    def u(self):\n",
    "        '''Affine Sum'''\n",
    "        u = tf.add(tf.matmul(self.x, self.weight), self.bias)\n",
    "        return u\n",
    "\n",
    "    def f(self, x):  \n",
    "        '''Activation Function'''\n",
    "        f = tf.nn.relu(x)\n",
    "        return f\n",
    "\n",
    "    def z(self):\n",
    "        z = self.f(self.u())\n",
    "        return z\n",
    "    \n",
    "    def f_derivative(self, x):\n",
    "        delta = 0.00000001\n",
    "        return (self.f(x + delta) - self.f(x)) / delta\n",
    "\n",
    "    def d_E_over_d_w(self):\n",
    "        error = self.z() - self.z_target\n",
    "        return error * self.f_derivative(self.u()) * self.x\n",
    "\n",
    "    def d_E_over_d_b(self):\n",
    "        error = self.z() - self.z_target\n",
    "        return error * self.f_derivative(self.u())\n",
    "    \n",
    "    def optimize(self, sess, alpha, x_input, z_target):\n",
    "        op1 = tf.assign(self.weight, self.weight - alpha * tf.transpose(self.d_E_over_d_w()))\n",
    "        op2 = tf.assign(self.bias, self.bias - tf.reshape(alpha * tf.transpose(self.d_E_over_d_b()), shape=(1,)))\n",
    "        sess.run(op1, feed_dict = {self.x: x_input, self.z_target: z_target})\n",
    "        sess.run(op2, feed_dict = {self.x: x_input, self.z_target: z_target})\n",
    "\n",
    "    def squared_error(self, sess, x_input, z_target):\n",
    "        s_error = 1.0 / 2.0 * tf.pow(self.z() - self.z_target, 2)\n",
    "        s_error = sess.run(s_error, feed_dict = {self.x: x_input, self.z_target: z_target})\n",
    "        return s_error\n",
    "\n",
    "    def learning(self, sess, alpha, maxEpoch, data):\n",
    "        for i in range(maxEpoch):\n",
    "            for idx in range(data.numTrainData):\n",
    "                x_input = data.training_input_value[idx]\n",
    "                z_target = data.training_z_target[idx]\n",
    "                self.optimize(sess, alpha, x_input, z_target)\n",
    "\n",
    "            sum = 0.0\n",
    "            for idx in range(data.numTrainData):\n",
    "                x_input = data.training_input_value[idx]\n",
    "                z_target = data.training_z_target[idx]\n",
    "                sum = sum + self.squared_error(sess, x_input, z_target)\n",
    "            weight_ = self.weight.eval()    \n",
    "            weight = weight_[0][0], weight_[1][0]\n",
    "            bias = self.bias.eval()[0]\n",
    "            print(\"Epoch {0}: Error: {1}, w: {2}, {3}, b: {4}\".format(i, sum / data.numTrainData, weight[0], weight[1], bias))\n",
    "     \n",
    "    def predict(self, sess, data, criterion):\n",
    "        for idx in range(data.numTrainData):\n",
    "            x_input = data.training_input_value[idx]\n",
    "            classification = tf.greater_equal(self.z(), [criterion])\n",
    "            result = sess.run(classification, feed_dict={self.x: x_input})\n",
    "            if result[0]:\n",
    "                r = 1\n",
    "            else:\n",
    "                r = 0    \n",
    "            print(\"{0}, {1} - {2}\".format(x_input[0][0], x_input[0][1], r))                "
   ]
  },
  {
   "cell_type": "markdown",
   "metadata": {},
   "source": [
    "### 1. And Gate"
   ]
  },
  {
   "cell_type": "code",
   "execution_count": 22,
   "metadata": {
    "collapsed": false
   },
   "outputs": [
    {
     "name": "stdout",
     "output_type": "stream",
     "text": [
      "Epoch 0: Error: [[ 0.07172403]], w: 0.10000000149011612, 0.10000000149011612, b: 0.11920928955078125\n",
      "Epoch 1: Error: [[ 0.05533679]], w: 0.18762078881263733, 0.19159507751464844, b: 0.06036752089858055\n",
      "Epoch 2: Error: [[ 0.06575251]], w: 0.15167297422885895, 0.1596134901046753, b: -0.004186214879155159\n",
      "Epoch 3: Error: [[ 0.04755314]], w: 0.24333524703979492, 0.25287941098213196, b: -0.031557440757751465\n",
      "Epoch 4: Error: [[ 0.05693943]], w: 0.21177789568901062, 0.22390156984329224, b: -0.08307219296693802\n",
      "Epoch 5: Error: [[ 0.06420558]], w: 0.19259925186634064, 0.2041323482990265, b: -0.09964428842067719\n",
      "Epoch 6: Error: [[ 0.06821631]], w: 0.1856735646724701, 0.19682493805885315, b: -0.1128169372677803\n",
      "Epoch 7: Error: [[ 0.04245147]], w: 0.2923172116279602, 0.30301201343536377, b: -0.12328707426786423\n",
      "Epoch 8: Error: [[ 0.05072908]], w: 0.2671297490596771, 0.27942484617233276, b: -0.1647936999797821\n",
      "Epoch 9: Error: [[ 0.05441121]], w: 0.25950512290000916, 0.27140992879867554, b: -0.179268017411232\n",
      "Epoch 10: Error: [[ 0.05767671]], w: 0.2535269856452942, 0.2649570405483246, b: -0.19077284634113312\n",
      "Epoch 11: Error: [[ 0.0607554]], w: 0.24885143339633942, 0.25991347432136536, b: -0.2019314020872116\n",
      "Epoch 12: Error: [[ 0.06412884]], w: 0.24360771477222443, 0.2539540231227875, b: -0.21188253164291382\n",
      "Epoch 13: Error: [[ 0.06657606]], w: 0.2400621473789215, 0.24954546988010406, b: -0.21842283010482788\n",
      "Epoch 14: Error: [[ 0.0681567]], w: 0.2380468249320984, 0.24681715667247772, b: -0.22272467613220215\n",
      "Epoch 15: Error: [[ 0.06941058]], w: 0.23647713661193848, 0.24470457434654236, b: -0.22604937851428986\n",
      "Epoch 16: Error: [[ 0.03840631]], w: 0.34717315435409546, 0.35482078790664673, b: -0.22850282490253448\n",
      "Epoch 17: Error: [[ 0.04164002]], w: 0.33833152055740356, 0.34601902961730957, b: -0.24483166635036469\n",
      "Epoch 18: Error: [[ 0.0446419]], w: 0.3313652276992798, 0.33896034955978394, b: -0.25781169533729553\n",
      "Epoch 19: Error: [[ 0.04730058]], w: 0.3258850574493408, 0.3332921862602234, b: -0.2681294083595276\n",
      "0.0, 0.0 - 0\n",
      "1.0, 0.0 - 0\n",
      "0.0, 1.0 - 0\n",
      "1.0, 1.0 - 0\n"
     ]
    }
   ],
   "source": [
    "class Data:\n",
    "    def __init__(self):\n",
    "        self.training_input_value = np.array([[[0.0, 0.0]], [[1.0, 0.0]], [[0.0, 1.0]], [[1.0, 1.0]]])\n",
    "        self.training_z_target = np.array([[0.0], [0.0], [0.0], [1.0]])\n",
    "        self.numTrainData = len(self.training_input_value)\n",
    "\n",
    "if __name__ == '__main__':\n",
    "    n = GateNeuron()\n",
    "    d = Data()\n",
    "    with tf.Session() as sess:\n",
    "        sess.run(tf.global_variables_initializer())            \n",
    "        n.learning(sess, 0.1, 20, d)\n",
    "        n.predict(sess, d, 0.5)"
   ]
  },
  {
   "cell_type": "markdown",
   "metadata": {
    "collapsed": true
   },
   "source": [
    "### 2. Or Gate"
   ]
  },
  {
   "cell_type": "code",
   "execution_count": 23,
   "metadata": {
    "collapsed": false
   },
   "outputs": [
    {
     "name": "stdout",
     "output_type": "stream",
     "text": [
      "Epoch 0: Error: [[ 0.18464352]], w: 0.10000000149011612, 0.06950980424880981, b: 0.19571706652641296\n",
      "Epoch 1: Error: [[ 0.16136609]], w: 0.10000000149011612, 0.18334531784057617, b: 0.16655294597148895\n",
      "Epoch 2: Error: [[ 0.13817059]], w: 0.21299034357070923, 0.18334531784057617, b: 0.14173462986946106\n",
      "Epoch 3: Error: [[ 0.14705493]], w: 0.21299034357070923, 0.18334531784057617, b: 0.12061452120542526\n",
      "Epoch 4: Error: [[ 0.15097043]], w: 0.21299034357070923, 0.18334531784057617, b: 0.11162804067134857\n",
      "Epoch 5: Error: [[ 0.15466616]], w: 0.21299034357070923, 0.18334531784057617, b: 0.10331110656261444\n",
      "Epoch 6: Error: [[ 0.15814817]], w: 0.21299034357070923, 0.18334531784057617, b: 0.09561382979154587\n",
      "Epoch 7: Error: [[ 0.16142356]], w: 0.21299034357070923, 0.18334531784057617, b: 0.08849004656076431\n",
      "Epoch 8: Error: [[ 0.16450012]], w: 0.21299034357070923, 0.18334531784057617, b: 0.08189702033996582\n",
      "Epoch 9: Error: [[ 0.16738617]], w: 0.21299034357070923, 0.18334531784057617, b: 0.07579521834850311\n",
      "Epoch 10: Error: [[ 0.17009038]], w: 0.21299034357070923, 0.18334531784057617, b: 0.0701480358839035\n",
      "Epoch 11: Error: [[ 0.13961969]], w: 0.21299034357070923, 0.295362263917923, b: 0.06492160260677338\n",
      "Epoch 12: Error: [[ 0.14171568]], w: 0.21299034357070923, 0.295362263917923, b: 0.060084566473960876\n",
      "Epoch 13: Error: [[ 0.1446642]], w: 0.21299034357070923, 0.295362263917923, b: 0.05336959287524223\n",
      "Epoch 14: Error: [[ 0.14732102]], w: 0.21299034357070923, 0.295362263917923, b: 0.047405075281858444\n",
      "Epoch 15: Error: [[ 0.14971074]], w: 0.21299034357070923, 0.295362263917923, b: 0.042107146233320236\n",
      "Epoch 16: Error: [[ 0.15185693]], w: 0.21299034357070923, 0.295362263917923, b: 0.03740130737423897\n",
      "Epoch 17: Error: [[ 0.12289602]], w: 0.325313538312912, 0.295362263917923, b: 0.03322138637304306\n",
      "Epoch 18: Error: [[ 0.12441194]], w: 0.325313538312912, 0.295362263917923, b: 0.02950860746204853\n",
      "Epoch 19: Error: [[ 0.12554289]], w: 0.325313538312912, 0.295362263917923, b: 0.0267604049295187\n",
      "0.0, 0.0 - 0\n",
      "1.0, 0.0 - 0\n",
      "0.0, 1.0 - 0\n",
      "1.0, 1.0 - 1\n"
     ]
    }
   ],
   "source": [
    "class Data:\n",
    "    def __init__(self):\n",
    "        self.training_input_value = np.array([[[0.0, 0.0]], [[1.0, 0.0]], [[0.0, 1.0]], [[1.0, 1.0]]])\n",
    "        self.training_z_target = np.array([[0.0], [1.0], [1.0], [1.0]])\n",
    "        self.numTrainData = len(self.training_input_value)\n",
    "\n",
    "if __name__ == '__main__':\n",
    "    n = GateNeuron()\n",
    "    d = Data()\n",
    "    with tf.Session() as sess:\n",
    "        sess.run(tf.global_variables_initializer())            \n",
    "        n.learning(sess, 0.1, 20, d)\n",
    "        n.predict(sess, d, 0.5)"
   ]
  },
  {
   "cell_type": "markdown",
   "metadata": {},
   "source": [
    "### 3. XOR Gate"
   ]
  },
  {
   "cell_type": "code",
   "execution_count": 24,
   "metadata": {
    "collapsed": false
   },
   "outputs": [
    {
     "name": "stdout",
     "output_type": "stream",
     "text": [
      "Epoch 0: Error: [[ 0.15095024]], w: 0.10000000149011612, 0.06950980424880981, b: 0.19571706652641296\n",
      "Epoch 1: Error: [[ 0.14884065]], w: 0.10000000149011612, 0.18334531784057617, b: 0.16655294597148895\n",
      "Epoch 2: Error: [[ 0.14768817]], w: 0.21299034357070923, 0.18334531784057617, b: 0.14173462986946106\n",
      "Epoch 3: Error: [[ 0.15129247]], w: 0.21299034357070923, 0.18334531784057617, b: 0.12061452120542526\n",
      "Epoch 4: Error: [[ 0.15296134]], w: 0.21299034357070923, 0.18334531784057617, b: 0.11162804067134857\n",
      "Epoch 5: Error: [[ 0.15457785]], w: 0.21299034357070923, 0.18334531784057617, b: 0.10331110656261444\n",
      "Epoch 6: Error: [[ 0.15613554]], w: 0.21299034357070923, 0.18334531784057617, b: 0.09561382979154587\n",
      "Epoch 7: Error: [[ 0.15762998]], w: 0.21299034357070923, 0.18334531784057617, b: 0.08849004656076431\n",
      "Epoch 8: Error: [[ 0.15905829]], w: 0.21299034357070923, 0.18334531784057617, b: 0.08189702033996582\n",
      "Epoch 9: Error: [[ 0.1604189]], w: 0.21299034357070923, 0.18334531784057617, b: 0.07579521834850311\n",
      "Epoch 10: Error: [[ 0.16171131]], w: 0.21299034357070923, 0.18334531784057617, b: 0.0701480358839035\n",
      "Epoch 11: Error: [[ 0.15793827]], w: 0.21299034357070923, 0.295362263917923, b: 0.06492160260677338\n",
      "Epoch 12: Error: [[ 0.15882498]], w: 0.21299034357070923, 0.295362263917923, b: 0.060084566473960876\n",
      "Epoch 13: Error: [[ 0.16009477]], w: 0.21299034357070923, 0.295362263917923, b: 0.05336959287524223\n",
      "Epoch 14: Error: [[ 0.16126044]], w: 0.21299034357070923, 0.295362263917923, b: 0.047405075281858444\n",
      "Epoch 15: Error: [[ 0.16232568]], w: 0.21299034357070923, 0.295362263917923, b: 0.042107146233320236\n",
      "Epoch 16: Error: [[ 0.16329542]], w: 0.21299034357070923, 0.295362263917923, b: 0.03740130737423897\n",
      "Epoch 17: Error: [[ 0.16137032]], w: 0.325313538312912, 0.295362263917923, b: 0.03322138637304306\n",
      "Epoch 18: Error: [[ 0.16195804]], w: 0.325313538312912, 0.295362263917923, b: 0.02950860746204853\n",
      "Epoch 19: Error: [[ 0.16240194]], w: 0.325313538312912, 0.295362263917923, b: 0.0267604049295187\n"
     ]
    },
    {
     "ename": "TypeError",
     "evalue": "predict() missing 1 required positional argument: 'criterion'",
     "output_type": "error",
     "traceback": [
      "\u001b[0;31m---------------------------------------------------------------------------\u001b[0m",
      "\u001b[0;31mTypeError\u001b[0m                                 Traceback (most recent call last)",
      "\u001b[0;32m<ipython-input-24-a253ebbc768f>\u001b[0m in \u001b[0;36m<module>\u001b[0;34m()\u001b[0m\n\u001b[1;32m     11\u001b[0m         \u001b[0msess\u001b[0m\u001b[0;34m.\u001b[0m\u001b[0mrun\u001b[0m\u001b[0;34m(\u001b[0m\u001b[0mtf\u001b[0m\u001b[0;34m.\u001b[0m\u001b[0mglobal_variables_initializer\u001b[0m\u001b[0;34m(\u001b[0m\u001b[0;34m)\u001b[0m\u001b[0;34m)\u001b[0m\u001b[0;34m\u001b[0m\u001b[0m\n\u001b[1;32m     12\u001b[0m         \u001b[0mn\u001b[0m\u001b[0;34m.\u001b[0m\u001b[0mlearning\u001b[0m\u001b[0;34m(\u001b[0m\u001b[0msess\u001b[0m\u001b[0;34m,\u001b[0m \u001b[0;36m0.1\u001b[0m\u001b[0;34m,\u001b[0m \u001b[0;36m20\u001b[0m\u001b[0;34m,\u001b[0m \u001b[0md\u001b[0m\u001b[0;34m)\u001b[0m\u001b[0;34m\u001b[0m\u001b[0m\n\u001b[0;32m---> 13\u001b[0;31m         \u001b[0mn\u001b[0m\u001b[0;34m.\u001b[0m\u001b[0mpredict\u001b[0m\u001b[0;34m(\u001b[0m\u001b[0msess\u001b[0m\u001b[0;34m,\u001b[0m \u001b[0md\u001b[0m\u001b[0;34m)\u001b[0m\u001b[0;34m\u001b[0m\u001b[0m\n\u001b[0m",
      "\u001b[0;31mTypeError\u001b[0m: predict() missing 1 required positional argument: 'criterion'"
     ]
    }
   ],
   "source": [
    "class Data:\n",
    "    def __init__(self):\n",
    "        self.training_input_value = np.array([[[0.0, 0.0]], [[1.0, 0.0]], [[0.0, 1.0]], [[1.0, 1.0]]])\n",
    "        self.training_z_target = np.array([[0.0], [1.0], [1.0], [0.0]])\n",
    "        self.numTrainData = len(self.training_input_value)\n",
    "\n",
    "if __name__ == '__main__':\n",
    "    n = GateNeuron()\n",
    "    d = Data()\n",
    "    with tf.Session() as sess:\n",
    "        sess.run(tf.global_variables_initializer())            \n",
    "        n.learning(sess, 0.1, 20, d)\n",
    "        n.predict(sess, d)"
   ]
  },
  {
   "cell_type": "code",
   "execution_count": null,
   "metadata": {
    "collapsed": true
   },
   "outputs": [],
   "source": []
  }
 ],
 "metadata": {
  "kernelspec": {
   "display_name": "Python 3",
   "language": "python",
   "name": "python3"
  },
  "language_info": {
   "codemirror_mode": {
    "name": "ipython",
    "version": 3
   },
   "file_extension": ".py",
   "mimetype": "text/x-python",
   "name": "python",
   "nbconvert_exporter": "python",
   "pygments_lexer": "ipython3",
   "version": "3.6.0"
  }
 },
 "nbformat": 4,
 "nbformat_minor": 2
}
