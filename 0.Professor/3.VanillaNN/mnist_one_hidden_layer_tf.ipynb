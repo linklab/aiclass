{
 "cells": [
  {
   "cell_type": "markdown",
   "metadata": {},
   "source": [
    "# MNIST-Neural Network-Single Hidden Layer with Tensorflow"
   ]
  },
  {
   "cell_type": "code",
   "execution_count": 1,
   "metadata": {
    "collapsed": false
   },
   "outputs": [
    {
     "name": "stdout",
     "output_type": "stream",
     "text": [
      "1.0.1\n"
     ]
    }
   ],
   "source": [
    "import numpy as np\n",
    "import matplotlib.pyplot as plt\n",
    "from tensorflow.examples.tutorials.mnist import input_data\n",
    "import math\n",
    "import tensorflow as tf\n",
    "print(tf.__version__)\n",
    "\n",
    "%matplotlib inline"
   ]
  },
  {
   "cell_type": "markdown",
   "metadata": {},
   "source": [
    "## 1. MNIST handwritten digits image set\n",
    "- Note1: http://yann.lecun.com/exdb/mnist/\n",
    "- Note2: https://www.tensorflow.org/versions/r0.11/tutorials/mnist/beginners/index.html"
   ]
  },
  {
   "cell_type": "code",
   "execution_count": 2,
   "metadata": {
    "collapsed": false
   },
   "outputs": [
    {
     "name": "stdout",
     "output_type": "stream",
     "text": [
      "Extracting ../MNIST_data/train-images-idx3-ubyte.gz\n",
      "Extracting ../MNIST_data/train-labels-idx1-ubyte.gz\n",
      "Extracting ../MNIST_data/t10k-images-idx3-ubyte.gz\n",
      "Extracting ../MNIST_data/t10k-labels-idx1-ubyte.gz\n"
     ]
    }
   ],
   "source": [
    "mnist = input_data.read_data_sets(\"../MNIST_data/\", one_hot=True)"
   ]
  },
  {
   "cell_type": "markdown",
   "metadata": {},
   "source": [
    "- Each image is 28 pixels by 28 pixels. We can interpret this as a big array of numbers:\n",
    "<img src=\"https://www.tensorflow.org/versions/r0.11/images/MNIST-Matrix.png\" width=\"50%\" />\n",
    "\n",
    "- flatten 1-D tensor of size 28x28 = 784.\n",
    "  - Each entry in the tensor is a pixel intensity between 0 and 1, for a particular pixel in a particular image.\n",
    "$$[0, 0, 0, ..., 0.6, 0.7, 0.7, 0.5, ... 0.8, 1.0, 1.0, 1.0, 1.0, 1.0, 1.0, 1.0, 0.9, 0.3, ..., 0.4, 0.4, 0.4, ... 0, 0, 0]$$ "
   ]
  },
  {
   "cell_type": "markdown",
   "metadata": {},
   "source": [
    "### 1) Training Data"
   ]
  },
  {
   "cell_type": "code",
   "execution_count": 3,
   "metadata": {
    "collapsed": false
   },
   "outputs": [
    {
     "name": "stdout",
     "output_type": "stream",
     "text": [
      "<class 'numpy.ndarray'> (55000, 784)\n",
      "<class 'numpy.ndarray'> (55000, 10)\n"
     ]
    }
   ],
   "source": [
    "print(type(mnist.train.images), mnist.train.images.shape)\n",
    "print(type(mnist.train.labels), mnist.train.labels.shape)"
   ]
  },
  {
   "cell_type": "markdown",
   "metadata": {},
   "source": [
    "- Number of train images is 55000.\n",
    "- **mnist.train.images** is a tensor with a shape of [55000, 784]. \n",
    "<img src=\"https://www.tensorflow.org/versions/r0.11/images/mnist-train-xs.png\" width=\"50%\" />"
   ]
  },
  {
   "cell_type": "markdown",
   "metadata": {},
   "source": [
    "- A one-hot vector is a vector which is 0 in most entries, and 1 in a single entry.\n",
    "- In this case, the $n$th digit will be represented as a vector which is 1 in the nth entry. \n",
    "  - For example, 3 would be $[0,0,0,1,0,0,0,0,0,0]$. \n",
    "- **mnist.train.labels** is a tensor with a shape of [55000, 10]. \n",
    "<img src=\"https://www.tensorflow.org/versions/r0.11/images/mnist-train-ys.png\" width=\"48%\" />"
   ]
  },
  {
   "cell_type": "code",
   "execution_count": 4,
   "metadata": {
    "collapsed": false
   },
   "outputs": [
    {
     "data": {
      "image/png": "[encoded data removed]",
      "text/plain": [
       "<matplotlib.figure.Figure at 0x117441630>"
      ]
     },
     "metadata": {},
     "output_type": "display_data"
    }
   ],
   "source": [
    "fig = plt.figure(figsize=(20, 5))\n",
    "for i in range(5):\n",
    "    img = np.array(mnist.train.images[i])\n",
    "    img.shape = (28, 28)\n",
    "    plt.subplot(150 + (i+1))\n",
    "    plt.imshow(img, cmap='gray')"
   ]
  },
  {
   "cell_type": "markdown",
   "metadata": {},
   "source": [
    "### 2) Validation Data"
   ]
  },
  {
   "cell_type": "code",
   "execution_count": 5,
   "metadata": {
    "collapsed": false
   },
   "outputs": [
    {
     "name": "stdout",
     "output_type": "stream",
     "text": [
      "<class 'numpy.ndarray'> (5000, 784)\n",
      "<class 'numpy.ndarray'> (5000, 10)\n"
     ]
    }
   ],
   "source": [
    "print(type(mnist.validation.images), mnist.validation.images.shape)\n",
    "print(type(mnist.validation.labels), mnist.validation.labels.shape)"
   ]
  },
  {
   "cell_type": "markdown",
   "metadata": {},
   "source": [
    "### 3) Test Data"
   ]
  },
  {
   "cell_type": "code",
   "execution_count": 6,
   "metadata": {
    "collapsed": false
   },
   "outputs": [
    {
     "name": "stdout",
     "output_type": "stream",
     "text": [
      "<class 'numpy.ndarray'> (10000, 784)\n",
      "<class 'numpy.ndarray'> (10000, 10)\n"
     ]
    }
   ],
   "source": [
    "print(type(mnist.test.images), mnist.test.images.shape)\n",
    "print(type(mnist.test.labels), mnist.test.labels.shape)"
   ]
  },
  {
   "cell_type": "markdown",
   "metadata": {},
   "source": [
    "## 2. Simple Neural Network Model (No Hidden Layer)"
   ]
  },
  {
   "cell_type": "markdown",
   "metadata": {},
   "source": [
    "### 1) Tensor Operation and Shape"
   ]
  },
  {
   "cell_type": "markdown",
   "metadata": {},
   "source": [
    "- Input Layer to Output Layer\n",
    " - $i=1...784$\n",
    " - $j=1...10$\n",
    "$$ u_j = \\sum_i W_{ji} x_i + b_j $$"
   ]
  },
  {
   "cell_type": "markdown",
   "metadata": {},
   "source": [
    "- Presentation of Matrix and Vector\n",
    "  - Shape of ${\\bf W}: (10, 784)$\n",
    "  - Shape of ${\\bf x}: (784, 1)$\n",
    "  - Shape of ${\\bf b}: (10,)$\n",
    "  - Shape of ${\\bf u}: (10,)$\n",
    "$$ {\\bf u} = {\\bf Wx + b} $$"
   ]
  },
  {
   "cell_type": "markdown",
   "metadata": {},
   "source": [
    "-  **Transposed Matrix** Operation in Tensorflow\n",
    "  - Shape of ${\\bf W}: (784, 10)$\n",
    "  - Shape of ${\\bf x}: (1, 784)$\n",
    "  - Shape of ${\\bf b}: (10,)$\n",
    "  - Shape of ${\\bf u}: (10,)$\n",
    "$$ {\\bf u} = {\\bf xW + b} $$ "
   ]
  },
  {
   "cell_type": "markdown",
   "metadata": {},
   "source": [
    "- Small Sized Example"
   ]
  },
  {
   "cell_type": "code",
   "execution_count": 7,
   "metadata": {
    "collapsed": false
   },
   "outputs": [
    {
     "name": "stdout",
     "output_type": "stream",
     "text": [
      "(2, 3) (1, 2) (1, 3)\n",
      "[[ 9 12 15]]\n",
      "\n",
      "(3,) (1, 3)\n",
      "[[19 32 45]]\n"
     ]
    }
   ],
   "source": [
    "W_ = np.array([[1, 2, 3], [4, 5, 6]])  #shape of W: (2, 3)\n",
    "x_ = np.array([[1, 2]])                #shape of x: (1, 2)\n",
    "xW_ = np.dot(x_, W_)                     #shape of xW: (1, 3)\n",
    "print(W_.shape, x_.shape, xW_.shape)\n",
    "print(xW_)\n",
    "\n",
    "print()\n",
    "\n",
    "b_ = np.array([10, 20, 30])            #shape of b: (3,)\n",
    "u_ = xW_ + b_                            #shape of u: (1, 3) \n",
    "print(b_.shape, u_.shape)\n",
    "print(u_)"
   ]
  },
  {
   "cell_type": "markdown",
   "metadata": {},
   "source": [
    "### 2) Mini Batch"
   ]
  },
  {
   "cell_type": "code",
   "execution_count": 8,
   "metadata": {
    "collapsed": false
   },
   "outputs": [
    {
     "name": "stdout",
     "output_type": "stream",
     "text": [
      "(100, 784)\n",
      "(100, 10)\n"
     ]
    }
   ],
   "source": [
    "batch_images, batch_labels = mnist.train.next_batch(100)\n",
    "print(batch_images.shape)\n",
    "#print batch_images\n",
    "print\n",
    "\n",
    "print(batch_labels.shape)\n",
    "#print batch_labels"
   ]
  },
  {
   "cell_type": "markdown",
   "metadata": {},
   "source": [
    "- Mini Batch (ex. batch size = 100)  \n",
    "  - Shape of ${\\bf W}: (784, 10)$\n",
    "  - Shape of ${\\bf x}: (100, 784)$\n",
    "  - Shape of ${\\bf b}: (10,)$\n",
    "  - Shape of ${\\bf u}: (100, 10)$\n",
    "$$ {\\bf U} = {\\bf XW + B} $$  "
   ]
  },
  {
   "cell_type": "markdown",
   "metadata": {},
   "source": [
    "- Small Sized Example"
   ]
  },
  {
   "cell_type": "code",
   "execution_count": 9,
   "metadata": {
    "collapsed": false
   },
   "outputs": [
    {
     "name": "stdout",
     "output_type": "stream",
     "text": [
      "(2, 3) (5, 2) (5, 3)\n",
      "[[ 9 12 15]\n",
      " [ 9 12 15]\n",
      " [ 9 12 15]\n",
      " [ 9 12 15]\n",
      " [ 9 12 15]]\n",
      "\n",
      "(3,) (5, 3)\n",
      "[[19 32 45]\n",
      " [19 32 45]\n",
      " [19 32 45]\n",
      " [19 32 45]\n",
      " [19 32 45]]\n"
     ]
    }
   ],
   "source": [
    "W_ = np.array([[1, 2, 3], [4, 5, 6]])                    #shape of W: (2, 3)\n",
    "x_ = np.array([[1, 2], [1, 2], [1, 2], [1, 2], [1, 2]])  #shape of x: (5, 2)\n",
    "xW_ = np.dot(x_, W_)                                       #shape of xW: (5, 3)\n",
    "print(W_.shape, x_.shape, xW_.shape)\n",
    "print(xW_)\n",
    "\n",
    "print()\n",
    "\n",
    "b_ = np.array([10, 20, 30])            #shape of b: (3,)\n",
    "u_ = xW_ + b_                            #shape of u: (1, 3) \n",
    "print(b_.shape, u_.shape)\n",
    "print(u_)"
   ]
  },
  {
   "cell_type": "markdown",
   "metadata": {},
   "source": [
    "### 3) Model Construction"
   ]
  },
  {
   "cell_type": "markdown",
   "metadata": {},
   "source": [
    "- The placeholder to store the training data:"
   ]
  },
  {
   "cell_type": "code",
   "execution_count": 10,
   "metadata": {
    "collapsed": false
   },
   "outputs": [
    {
     "name": "stdout",
     "output_type": "stream",
     "text": [
      "x - (?, 784)\n"
     ]
    }
   ],
   "source": [
    "x = tf.placeholder(tf.float32, [None, 784])\n",
    "print(\"x -\", x.get_shape())"
   ]
  },
  {
   "cell_type": "markdown",
   "metadata": {},
   "source": [
    "- The placeholder to store the correct answers (ground truth):"
   ]
  },
  {
   "cell_type": "code",
   "execution_count": 11,
   "metadata": {
    "collapsed": true
   },
   "outputs": [],
   "source": [
    "y_target = tf.placeholder(tf.float32, [None, 10])"
   ]
  },
  {
   "cell_type": "markdown",
   "metadata": {},
   "source": [
    "- A single (output) layer neural network model"
   ]
  },
  {
   "cell_type": "code",
   "execution_count": 12,
   "metadata": {
    "collapsed": false
   },
   "outputs": [
    {
     "name": "stdout",
     "output_type": "stream",
     "text": [
      "W - (784, 10)\n",
      "b - (10,)\n"
     ]
    }
   ],
   "source": [
    "W = tf.Variable(tf.zeros([784, 10]))\n",
    "b = tf.Variable(tf.zeros([10]))\n",
    "print(\"W -\", W.get_shape())\n",
    "print(\"b -\", b.get_shape())"
   ]
  },
  {
   "cell_type": "code",
   "execution_count": 13,
   "metadata": {
    "collapsed": false
   },
   "outputs": [
    {
     "name": "stdout",
     "output_type": "stream",
     "text": [
      "u - (?, 10)\n"
     ]
    }
   ],
   "source": [
    "u = tf.matmul(x, W) + b\n",
    "print(\"u -\", u.get_shape())"
   ]
  },
  {
   "cell_type": "markdown",
   "metadata": {},
   "source": [
    "### 4) Target Setup"
   ]
  },
  {
   "cell_type": "markdown",
   "metadata": {},
   "source": [
    "- softmax\n",
    "\n",
    "$$ {\\bf z} = softmax({\\bf u}) $$"
   ]
  },
  {
   "cell_type": "markdown",
   "metadata": {},
   "source": [
    "- Error functions: Cross entropy"
   ]
  },
  {
   "cell_type": "markdown",
   "metadata": {},
   "source": [
    "- Suppose you have two tensors, where $u$ contains computed scores for each class (for example, from $u = W*x + b$) and $y_target$ contains one-hot encoded true labels.\n",
    "\n",
    "<pre>\n",
    "u  = ... # Predicted label, e.g. $u = tf.matmul(X, W) + b\n",
    "y_target  = ... # True label, one-hot encoded\n",
    "</pre>\n",
    "\n",
    "- We call $u$ **logits** (if you interpret the scores in u as unnormalized log probabilities).\n",
    "\n",
    "- Additionally, the total cross-entropy loss computed in this manner:\n",
    "\n",
    "<pre>\n",
    "z = tf.nn.softmax(u)\n",
    "total_loss = tf.reduce_mean(-tf.reduce_sum(y_target * tf.log(z), [1]))\n",
    "</pre>\n",
    "\n",
    "- is essentially equivalent to the total cross-entropy loss computed with the function <i>softmax_cross_entropy_with_logits()</i>:\n",
    "\n",
    "<pre>\n",
    "total_loss = tf.reduce_mean(tf.nn.softmax_cross_entropy_with_logits(logits=u, labels=y_target))\n",
    "</pre>"
   ]
  },
  {
   "cell_type": "code",
   "execution_count": 14,
   "metadata": {
    "collapsed": false
   },
   "outputs": [],
   "source": [
    "learning_rate = 0.05\n",
    "error = tf.reduce_mean(tf.nn.softmax_cross_entropy_with_logits(logits=u, labels=y_target))\n",
    "optimizer = tf.train.GradientDescentOptimizer(0.05).minimize(error)"
   ]
  },
  {
   "cell_type": "markdown",
   "metadata": {},
   "source": [
    "## 4. Learning (Training) & Evaluation"
   ]
  },
  {
   "cell_type": "code",
   "execution_count": 16,
   "metadata": {
    "collapsed": false
   },
   "outputs": [
    {
     "name": "stdout",
     "output_type": "stream",
     "text": [
      "Total batch: 550\n",
      "Epoch:  0, Train Error: 2.30271, Validation Error: 2.30257, Test Accuracy: 0.09800\n",
      "Epoch:  1, Train Error: 0.45258, Validation Error: 0.43062, Test Accuracy: 0.89210\n",
      "Epoch:  2, Train Error: 0.38814, Validation Error: 0.36683, Test Accuracy: 0.90350\n",
      "Epoch:  3, Train Error: 0.36082, Validation Error: 0.34091, Test Accuracy: 0.90760\n",
      "Epoch:  4, Train Error: 0.34368, Validation Error: 0.32403, Test Accuracy: 0.91180\n",
      "Epoch:  5, Train Error: 0.33276, Validation Error: 0.31379, Test Accuracy: 0.91330\n",
      "Epoch:  6, Train Error: 0.32413, Validation Error: 0.30663, Test Accuracy: 0.91500\n",
      "Epoch:  7, Train Error: 0.31751, Validation Error: 0.30088, Test Accuracy: 0.91620\n",
      "Epoch:  8, Train Error: 0.31267, Validation Error: 0.29666, Test Accuracy: 0.91630\n",
      "Epoch:  9, Train Error: 0.30752, Validation Error: 0.29196, Test Accuracy: 0.91840\n",
      "Epoch: 10, Train Error: 0.30410, Validation Error: 0.28904, Test Accuracy: 0.91830\n",
      "Epoch: 11, Train Error: 0.30156, Validation Error: 0.28797, Test Accuracy: 0.91860\n",
      "Epoch: 12, Train Error: 0.29786, Validation Error: 0.28441, Test Accuracy: 0.92060\n",
      "Epoch: 13, Train Error: 0.29513, Validation Error: 0.28258, Test Accuracy: 0.91980\n",
      "Epoch: 14, Train Error: 0.29304, Validation Error: 0.28039, Test Accuracy: 0.92020\n",
      "Epoch: 15, Train Error: 0.29108, Validation Error: 0.27899, Test Accuracy: 0.91910\n",
      "Epoch: 16, Train Error: 0.28958, Validation Error: 0.27832, Test Accuracy: 0.92050\n",
      "Epoch: 17, Train Error: 0.28744, Validation Error: 0.27657, Test Accuracy: 0.92140\n",
      "Epoch: 18, Train Error: 0.28599, Validation Error: 0.27573, Test Accuracy: 0.92110\n",
      "Epoch: 19, Train Error: 0.28423, Validation Error: 0.27448, Test Accuracy: 0.92090\n",
      "Epoch: 20, Train Error: 0.28361, Validation Error: 0.27438, Test Accuracy: 0.92280\n",
      "Epoch: 21, Train Error: 0.28218, Validation Error: 0.27350, Test Accuracy: 0.92150\n",
      "Epoch: 22, Train Error: 0.28069, Validation Error: 0.27228, Test Accuracy: 0.92250\n",
      "Epoch: 23, Train Error: 0.27937, Validation Error: 0.27158, Test Accuracy: 0.92210\n",
      "Epoch: 24, Train Error: 0.27824, Validation Error: 0.27034, Test Accuracy: 0.92270\n",
      "Epoch: 25, Train Error: 0.27743, Validation Error: 0.26945, Test Accuracy: 0.92300\n",
      "Epoch: 26, Train Error: 0.27626, Validation Error: 0.26947, Test Accuracy: 0.92270\n",
      "Epoch: 27, Train Error: 0.27579, Validation Error: 0.26892, Test Accuracy: 0.92190\n",
      "Epoch: 28, Train Error: 0.27507, Validation Error: 0.26889, Test Accuracy: 0.92280\n",
      "Epoch: 29, Train Error: 0.27401, Validation Error: 0.26787, Test Accuracy: 0.92200\n"
     ]
    }
   ],
   "source": [
    "prediction_and_ground_truth = tf.equal(tf.argmax(u, 1), tf.argmax(y_target, 1))\n",
    "accuracy = tf.reduce_mean(tf.cast(prediction_and_ground_truth, tf.float32))\n",
    "with tf.Session() as sess:\n",
    "    init = tf.global_variables_initializer()\n",
    "    sess.run(init)\n",
    "    \n",
    "    batch_size = 100\n",
    "    total_batch = int(math.ceil(mnist.train.num_examples/float(batch_size)))\n",
    "    print(\"Total batch: %d\" % total_batch)    \n",
    "\n",
    "    training_epochs = 50\n",
    "    epoch_list = []\n",
    "    train_error_list = []\n",
    "    validation_error_list = []\n",
    "    test_accuracy_list = []\n",
    "    for epoch in range(training_epochs):\n",
    "        epoch_list.append(epoch)\n",
    "        # Train Error Value\n",
    "        train_error_value = sess.run(error, feed_dict={x: mnist.train.images, y_target: mnist.train.labels})\n",
    "        train_error_list.append(train_error_value)\n",
    "        \n",
    "        validation_error_value = sess.run(error, feed_dict={x: mnist.validation.images, y_target: mnist.validation.labels})\n",
    "        validation_error_list.append(validation_error_value)\n",
    "        \n",
    "        test_accuracy_value = sess.run(accuracy, feed_dict={x: mnist.test.images, y_target: mnist.test.labels})\n",
    "        test_accuracy_list.append(test_accuracy_value) \n",
    "        print(\"Epoch: {0:2d}, Train Error: {1:0.5f}, Validation Error: {2:0.5f}, Test Accuracy: {3:0.5f}\".format(epoch, train_error_value, validation_error_value, test_accuracy_value))\n",
    "        \n",
    "        for i in range(total_batch):\n",
    "            batch_images, batch_labels = mnist.train.next_batch(batch_size)\n",
    "            sess.run(optimizer, feed_dict={x: batch_images, y_target: batch_labels})"
   ]
  },
  {
   "cell_type": "markdown",
   "metadata": {},
   "source": [
    "## 5. Analysis with Graph"
   ]
  },
  {
   "cell_type": "code",
   "execution_count": 19,
   "metadata": {
    "collapsed": false
   },
   "outputs": [
    {
     "data": {
      "image/png": "[encoded data removed]",
      "text/plain": [
       "<matplotlib.figure.Figure at 0x119f24e80>"
      ]
     },
     "metadata": {},
     "output_type": "display_data"
    },
    {
     "name": "stdout",
     "output_type": "stream",
     "text": [
      "[0 0 0 ..., 0 0 0]\n",
      "[7 2 1 ..., 4 5 6]\n",
      "Number of False Prediction: 9020\n",
      "False Prediction Index: 0, Prediction: 0, Ground Truth: 7\n",
      "False Prediction Index: 1, Prediction: 0, Ground Truth: 2\n",
      "False Prediction Index: 2, Prediction: 0, Ground Truth: 1\n",
      "False Prediction Index: 4, Prediction: 0, Ground Truth: 4\n",
      "False Prediction Index: 5, Prediction: 0, Ground Truth: 1\n"
     ]
    },
    {
     "data": {
      "image/png": "[encoded data removed]",
      "text/plain": [
       "<matplotlib.figure.Figure at 0x119f46f98>"
      ]
     },
     "metadata": {},
     "output_type": "display_data"
    }
   ],
   "source": [
    "# Draw Graph about Error Values & Accuracy Values\n",
    "def draw_error_values_and_accuracy(epoch_list, train_error_list, validation_error_list, test_accuracy_list):\n",
    "    # Draw Error Values and Accuracy\n",
    "    fig = plt.figure(figsize=(20, 5))\n",
    "    plt.subplot(121)\n",
    "    plt.plot(epoch_list[1:], train_error_list[1:], 'r', label='Train')\n",
    "    plt.plot(epoch_list[1:], validation_error_list[1:], 'g', label='Validation')\n",
    "    plt.ylabel('Total Error')\n",
    "    plt.xlabel('Epochs')\n",
    "    plt.grid(True)\n",
    "    plt.legend(loc='upper right')\n",
    "\n",
    "    plt.subplot(122)\n",
    "    plt.plot(epoch_list[1:], test_accuracy_list[1:], 'b', label='Test')\n",
    "    plt.ylabel('Accuracy')\n",
    "    plt.xlabel('Epochs')\n",
    "    plt.yticks(np.arange(0.0, 1.0, 0.05))\n",
    "    plt.grid(True)\n",
    "    plt.legend(loc='lower right')\n",
    "    plt.show()\n",
    "\n",
    "draw_error_values_and_accuracy(epoch_list, train_error_list, validation_error_list, test_accuracy_list)\n",
    "    \n",
    "def draw_false_prediction(diff_index_list):\n",
    "    fig = plt.figure(figsize=(20, 5))\n",
    "    for i in range(5):\n",
    "        j = diff_index_list[i]\n",
    "        print(\"False Prediction Index: %s, Prediction: %s, Ground Truth: %s\" % (j, prediction[j], ground_truth[j]))\n",
    "        img = np.array(mnist.test.images[j])\n",
    "        img.shape = (28, 28)\n",
    "        plt.subplot(150 + (i+1))\n",
    "        plt.imshow(img, cmap='gray')\n",
    "        \n",
    "with tf.Session() as sess:      \n",
    "    init = tf.global_variables_initializer()\n",
    "    sess.run(init)\n",
    "    # False Prediction Profile\n",
    "    prediction = sess.run(tf.argmax(u, 1), feed_dict={x:mnist.test.images})\n",
    "    ground_truth = sess.run(tf.argmax(y_target, 1), feed_dict={y_target:mnist.test.labels})\n",
    "\n",
    "    print(prediction)\n",
    "    print(ground_truth)\n",
    "\n",
    "    diff_index_list = []\n",
    "    for i in range(mnist.test.num_examples):\n",
    "        if (prediction[i] != ground_truth[i]):\n",
    "            diff_index_list.append(i)\n",
    "            \n",
    "    print(\"Number of False Prediction:\", len(diff_index_list))\n",
    "    draw_false_prediction(diff_index_list)"
   ]
  },
  {
   "cell_type": "code",
   "execution_count": null,
   "metadata": {
    "collapsed": true
   },
   "outputs": [],
   "source": []
  }
 ],
 "metadata": {
  "anaconda-cloud": {},
  "kernelspec": {
   "display_name": "Python 3",
   "language": "python",
   "name": "python3"
  },
  "language_info": {
   "codemirror_mode": {
    "name": "ipython",
    "version": 3
   },
   "file_extension": ".py",
   "mimetype": "text/x-python",
   "name": "python",
   "nbconvert_exporter": "python",
   "pygments_lexer": "ipython3",
   "version": "3.6.0"
  }
 },
 "nbformat": 4,
 "nbformat_minor": 0
}
