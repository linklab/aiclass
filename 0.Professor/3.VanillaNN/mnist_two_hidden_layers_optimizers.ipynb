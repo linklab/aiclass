{
 "cells": [
  {
   "cell_type": "markdown",
   "metadata": {},
   "source": [
    "# MNIST-Neural Network-Two Hidden Layers with Variable Optimziers"
   ]
  },
  {
   "cell_type": "code",
   "execution_count": 8,
   "metadata": {
    "collapsed": false
   },
   "outputs": [],
   "source": [
    "# coding: utf-8\n",
    "import sys, os\n",
    "import numpy as np\n",
    "sys.path.append(os.pardir)\n",
    "\n",
    "from common.mnist import mnist_data\n",
    "from common.functions import *\n",
    "from common.layers import *"
   ]
  },
  {
   "cell_type": "markdown",
   "metadata": {},
   "source": [
    "### Optimizers"
   ]
  },
  {
   "cell_type": "code",
   "execution_count": 10,
   "metadata": {
    "collapsed": true
   },
   "outputs": [],
   "source": [
    "class SGD:\n",
    "    def __init__(self, learning_rate=0.01):\n",
    "        self.learning_rate = learning_rate\n",
    "        \n",
    "    def update(self, params, grads):\n",
    "        for key in params.keys():\n",
    "            params[key] -= self.learning_rate * grads[keys]\n",
    "            \n",
    "class Momentum:\n",
    "    def __init__(self, learning_rate=0.01, momentum=0.9):\n",
    "        self.learning_rate = learning_rate\n",
    "        self.momentum = momentum\n",
    "        self.v = None\n",
    "    \n",
    "    def update(self, params, grads):\n",
    "        if self.v is None:\n",
    "            self.v = {}\n",
    "            for key, val in params.items():\n",
    "                self.v[key] = np.zeros_like(val)\n",
    "        \n",
    "        for key in params.keys():\n",
    "            self.v[key] = self.momentum * self.v[key] - self.learning_rate * grads[key]\n",
    "            params[key] += self.v[key]"
   ]
  },
  {
   "cell_type": "markdown",
   "metadata": {},
   "source": [
    "## Multilayer Neural Network Model"
   ]
  },
  {
   "cell_type": "code",
   "execution_count": 4,
   "metadata": {
    "collapsed": false
   },
   "outputs": [],
   "source": [
    "import sys, os\n",
    "from collections import OrderedDict\n",
    "from scipy import stats\n",
    "from pandas import DataFrame\n",
    "\n",
    "class TwoLayerNet2:\n",
    "    def __init__(self, input_size, hidden_layer1_size, hidden_layer2_size, output_size, weight_init_std = 0.01):\n",
    "        self.params = {}\n",
    "        self.params['W1'] = weight_init_std * np.random.randn(input_size, hidden_layer1_size)\n",
    "        self.params['b1'] = np.zeros(hidden_layer1_size)\n",
    "        self.params['W2'] = weight_init_std * np.random.randn(hidden_layer1_size, hidden_layer2_size)\n",
    "        self.params['b2'] = np.zeros(hidden_layer2_size)\n",
    "        self.params['W3'] = weight_init_std * np.random.randn(hidden_layer2_size, output_size)\n",
    "        self.params['b3'] = np.zeros(output_size)\n",
    "\n",
    "        self.layers = OrderedDict()\n",
    "        self.layers['Affine1'] = Affine(self.params['W1'], self.params['b1'])\n",
    "        self.layers['Relu1'] = Relu()\n",
    "        self.layers['Affine2'] = Affine(self.params['W2'], self.params['b2'])\n",
    "        self.layers['Relu2'] = Relu()\n",
    "        self.layers['Affine3'] = Affine(self.params['W3'], self.params['b3'])\n",
    "\n",
    "        self.lastLayer = SoftmaxWithCrossEntropyLoss()\n",
    "\n",
    "        self.optimizer = None\n",
    "            \n",
    "    def predict(self, x):\n",
    "        for layer in self.layers.values():\n",
    "            x = layer.forward(x)\n",
    "        \n",
    "        return x\n",
    "        \n",
    "    def loss(self, x, t):\n",
    "        y = self.predict(x)\n",
    "        return self.lastLayer.forward(y, t)\n",
    "    \n",
    "    def accuracy(self, x, t):\n",
    "        y = self.predict(x)\n",
    "        y = np.argmax(y, axis=1)\n",
    "        if t.ndim != 1 : t = np.argmax(t, axis=1)\n",
    "        \n",
    "        accuracy = np.sum(y == t) / float(x.shape[0])\n",
    "        return accuracy\n",
    "        \n",
    "    def backpropagation_gradient(self, x, t):\n",
    "        # forward\n",
    "        self.loss(x, t)\n",
    "\n",
    "        # backward\n",
    "        din = 1\n",
    "        din = self.lastLayer.backward(din)\n",
    "        \n",
    "        layers = list(self.layers.values())\n",
    "        layers.reverse()\n",
    "        for layer in layers:\n",
    "            din = layer.backward(din)\n",
    "\n",
    "        grads = {}\n",
    "        grads['W1'], grads['b1'] = self.layers['Affine1'].dW, self.layers['Affine1'].db\n",
    "        grads['W2'], grads['b2'] = self.layers['Affine2'].dW, self.layers['Affine2'].db\n",
    "        grads['W3'], grads['b3'] = self.layers['Affine3'].dW, self.layers['Affine3'].db\n",
    "\n",
    "        return grads\n",
    "    \n",
    "    def learning(self, learning_rate, x_batch, t_batch):\n",
    "        if self.optimizer is None:\n",
    "            self.optimizer = SGD(learning_rate)\n",
    "        grads = self.backpropagation_gradient(x_batch, t_batch)\n",
    "        optimizer.update(params, grads)"
   ]
  },
  {
   "cell_type": "markdown",
   "metadata": {},
   "source": [
    "## Learning and Validation"
   ]
  },
  {
   "cell_type": "code",
   "execution_count": 6,
   "metadata": {
    "collapsed": false
   },
   "outputs": [
    {
     "name": "stdout",
     "output_type": "stream",
     "text": [
      "Epoch:     0, Train Error: 2.30149, Validation Error: 2.30124 - Test Accuracy: 0.11350\n",
      "Epoch:     1, Train Error: 2.30023, Validation Error: 2.29985 - Test Accuracy: 0.11350\n",
      "Epoch:     2, Train Error: 2.29619, Validation Error: 2.29573 - Test Accuracy: 0.11350\n",
      "Epoch:     3, Train Error: 2.26375, Validation Error: 2.26358 - Test Accuracy: 0.21070\n",
      "Epoch:     4, Train Error: 2.04147, Validation Error: 2.04683 - Test Accuracy: 0.23630\n",
      "Epoch:     5, Train Error: 1.49868, Validation Error: 1.49495 - Test Accuracy: 0.50420\n",
      "Epoch:     6, Train Error: 0.89379, Validation Error: 0.86403 - Test Accuracy: 0.70290\n",
      "Epoch:     7, Train Error: 0.70011, Validation Error: 0.64780 - Test Accuracy: 0.76810\n",
      "Epoch:     8, Train Error: 0.61953, Validation Error: 0.56019 - Test Accuracy: 0.80560\n",
      "Epoch:     9, Train Error: 0.56633, Validation Error: 0.50373 - Test Accuracy: 0.82980\n",
      "Epoch:    10, Train Error: 0.51905, Validation Error: 0.45423 - Test Accuracy: 0.84790\n",
      "Epoch:    11, Train Error: 0.47323, Validation Error: 0.40482 - Test Accuracy: 0.86170\n",
      "Epoch:    12, Train Error: 0.43646, Validation Error: 0.36268 - Test Accuracy: 0.87560\n",
      "Epoch:    13, Train Error: 0.40897, Validation Error: 0.33230 - Test Accuracy: 0.88510\n",
      "Epoch:    14, Train Error: 0.38720, Validation Error: 0.31097 - Test Accuracy: 0.89090\n",
      "Epoch:    15, Train Error: 0.36833, Validation Error: 0.29453 - Test Accuracy: 0.89510\n",
      "Epoch:    16, Train Error: 0.35191, Validation Error: 0.28141 - Test Accuracy: 0.89940\n",
      "Epoch:    17, Train Error: 0.33718, Validation Error: 0.26998 - Test Accuracy: 0.90450\n",
      "Epoch:    18, Train Error: 0.32366, Validation Error: 0.25977 - Test Accuracy: 0.90820\n",
      "Epoch:    19, Train Error: 0.31126, Validation Error: 0.25055 - Test Accuracy: 0.91110\n",
      "Epoch:    20, Train Error: 0.29941, Validation Error: 0.24218 - Test Accuracy: 0.91400\n",
      "Epoch:    21, Train Error: 0.28785, Validation Error: 0.23447 - Test Accuracy: 0.91670\n",
      "Epoch:    22, Train Error: 0.27675, Validation Error: 0.22721 - Test Accuracy: 0.91910\n",
      "Epoch:    23, Train Error: 0.26594, Validation Error: 0.22004 - Test Accuracy: 0.92280\n",
      "Epoch:    24, Train Error: 0.25541, Validation Error: 0.21317 - Test Accuracy: 0.92440\n",
      "Epoch:    25, Train Error: 0.24504, Validation Error: 0.20646 - Test Accuracy: 0.92750\n",
      "Epoch:    26, Train Error: 0.23515, Validation Error: 0.19997 - Test Accuracy: 0.92930\n",
      "Epoch:    27, Train Error: 0.22548, Validation Error: 0.19363 - Test Accuracy: 0.93160\n",
      "Epoch:    28, Train Error: 0.21616, Validation Error: 0.18750 - Test Accuracy: 0.93430\n",
      "Epoch:    29, Train Error: 0.20745, Validation Error: 0.18174 - Test Accuracy: 0.93680\n",
      "Epoch:    30, Train Error: 0.19922, Validation Error: 0.17626 - Test Accuracy: 0.93820\n",
      "Epoch:    31, Train Error: 0.19145, Validation Error: 0.17111 - Test Accuracy: 0.94000\n",
      "Epoch:    32, Train Error: 0.18402, Validation Error: 0.16625 - Test Accuracy: 0.94170\n",
      "Epoch:    33, Train Error: 0.17714, Validation Error: 0.16166 - Test Accuracy: 0.94370\n",
      "Epoch:    34, Train Error: 0.17078, Validation Error: 0.15730 - Test Accuracy: 0.94490\n",
      "Epoch:    35, Train Error: 0.16467, Validation Error: 0.15326 - Test Accuracy: 0.94650\n",
      "Epoch:    36, Train Error: 0.15896, Validation Error: 0.14947 - Test Accuracy: 0.94810\n",
      "Epoch:    37, Train Error: 0.15362, Validation Error: 0.14595 - Test Accuracy: 0.94980\n",
      "Epoch:    38, Train Error: 0.14858, Validation Error: 0.14266 - Test Accuracy: 0.95080\n",
      "Epoch:    39, Train Error: 0.14378, Validation Error: 0.13959 - Test Accuracy: 0.95210\n",
      "Epoch:    40, Train Error: 0.13913, Validation Error: 0.13670 - Test Accuracy: 0.95240\n",
      "Epoch:    41, Train Error: 0.13480, Validation Error: 0.13407 - Test Accuracy: 0.95330\n",
      "Epoch:    42, Train Error: 0.13071, Validation Error: 0.13152 - Test Accuracy: 0.95400\n",
      "Epoch:    43, Train Error: 0.12683, Validation Error: 0.12912 - Test Accuracy: 0.95450\n",
      "Epoch:    44, Train Error: 0.12307, Validation Error: 0.12684 - Test Accuracy: 0.95550\n",
      "Epoch:    45, Train Error: 0.11962, Validation Error: 0.12473 - Test Accuracy: 0.95630\n",
      "Epoch:    46, Train Error: 0.11629, Validation Error: 0.12271 - Test Accuracy: 0.95710\n",
      "Epoch:    47, Train Error: 0.11298, Validation Error: 0.12082 - Test Accuracy: 0.95780\n",
      "Epoch:    48, Train Error: 0.10982, Validation Error: 0.11901 - Test Accuracy: 0.95820\n",
      "Epoch:    49, Train Error: 0.10677, Validation Error: 0.11738 - Test Accuracy: 0.95880\n"
     ]
    }
   ],
   "source": [
    "import math\n",
    "mnist = mnist_data(\"/Users/yhhan/git/aiclass/0.Professor/3.VanillaNN/MNIST_data\")\n",
    "\n",
    "(img_train, label_train), \n",
    "(img_validation, label_validation), \n",
    "(img_test, label_test) = mnist.load_mnist(flatten=True, normalize=True, one_hot_label=True)\n",
    "\n",
    "network = TwoLayerNet2(input_size=784, \n",
    "                       hidden_layer1_size=128, \n",
    "                       hidden_layer2_size=128, \n",
    "                       output_size=10)\n",
    "\n",
    "num_epochs = 50\n",
    "train_size = img_train.shape[0]\n",
    "batch_size = 1000\n",
    "learning_rate = 0.1\n",
    "\n",
    "train_error_list = []\n",
    "validation_error_list = []\n",
    "\n",
    "test_accuracy_list = []\n",
    "epoch_list = []\n",
    "\n",
    "num_batch = math.ceil(train_size / batch_size)\n",
    "\n",
    "for i in range(num_epochs):\n",
    "    j = 0\n",
    "    for j in range(num_batch):\n",
    "        x_batch = img_train[j * batch_size : j * batch_size + batch_size]\n",
    "        t_batch = label_train[j * batch_size : j * batch_size + batch_size]\n",
    "        network.learning(learning_rate, x_batch, t_batch)\n",
    "\n",
    "    epoch_list.append(i)\n",
    "    \n",
    "    train_loss = network.loss(x_batch, t_batch)\n",
    "    train_error_list.append(train_loss)\n",
    "    \n",
    "    validation_loss = network.loss(img_validation, label_validation)\n",
    "    validation_error_list.append(validation_loss)    \n",
    "    \n",
    "    test_accuracy = network.accuracy(img_test, label_test)\n",
    "    test_accuracy_list.append(test_accuracy)       \n",
    "    \n",
    "    print(\"Epoch: {0:5d}, Train Error: {1:7.5f}, Validation Error: {2:7.5f} - Test Accuracy: {3:7.5f}\".format(\n",
    "        i,\n",
    "        train_loss,\n",
    "        validation_loss,\n",
    "        test_accuracy\n",
    "    ))"
   ]
  },
  {
   "cell_type": "markdown",
   "metadata": {},
   "source": [
    "## Analysis with Graph"
   ]
  },
  {
   "cell_type": "code",
   "execution_count": 7,
   "metadata": {
    "collapsed": false
   },
   "outputs": [
    {
     "data": {
      "image/png": "[encoded data removed]",
      "text/plain": [
       "<matplotlib.figure.Figure at 0x10ec7efd0>"
      ]
     },
     "metadata": {},
     "output_type": "display_data"
    },
    {
     "name": "stdout",
     "output_type": "stream",
     "text": [
      "[7 2 1 ..., 4 5 6]\n",
      "[7 2 1 ..., 4 5 6]\n",
      "Total Test Image: 10000, Number of False Prediction: 412\n",
      "Test Accuracy: 0.9588\n",
      "False Prediction Index: 8, Prediction: 6, Ground Truth: 5\n",
      "False Prediction Index: 59, Prediction: 7, Ground Truth: 5\n",
      "False Prediction Index: 124, Prediction: 4, Ground Truth: 7\n",
      "False Prediction Index: 151, Prediction: 8, Ground Truth: 9\n",
      "False Prediction Index: 233, Prediction: 7, Ground Truth: 8\n"
     ]
    },
    {
     "data": {
      "image/png": "[encoded data removed]",
      "text/plain": [
       "<matplotlib.figure.Figure at 0x10f741390>"
      ]
     },
     "metadata": {},
     "output_type": "display_data"
    }
   ],
   "source": [
    "import matplotlib.pyplot as plt\n",
    "%matplotlib inline\n",
    "# Draw Graph about Error Values & Accuracy Values\n",
    "def draw_error_values_and_accuracy(epoch_list, train_error_list, validation_error_list, test_accuracy_list):\n",
    "    # Draw Error Values and Accuracy\n",
    "    fig = plt.figure(figsize=(20, 5))\n",
    "    plt.subplot(121)\n",
    "    plt.plot(epoch_list[1:], train_error_list[1:], 'r', label='Train')\n",
    "    plt.plot(epoch_list[1:], validation_error_list[1:], 'g', label='Validation')\n",
    "    plt.ylabel('Total Error')\n",
    "    plt.xlabel('Epochs')\n",
    "    plt.grid(True)\n",
    "    plt.legend(loc='upper right')\n",
    "\n",
    "    plt.subplot(122)\n",
    "    plt.plot(epoch_list[1:], test_accuracy_list[1:], 'b', label='Test')\n",
    "    plt.ylabel('Accuracy')\n",
    "    plt.xlabel('Epochs')\n",
    "    plt.yticks(np.arange(0.0, 1.0, 0.05))\n",
    "    plt.grid(True)\n",
    "    plt.legend(loc='lower right')\n",
    "    plt.show()\n",
    "\n",
    "draw_error_values_and_accuracy(epoch_list, train_error_list, validation_error_list, test_accuracy_list)\n",
    "    \n",
    "def draw_false_prediction(diff_index_list):\n",
    "    fig = plt.figure(figsize=(20, 5))\n",
    "    for i in range(5):\n",
    "        j = diff_index_list[i]\n",
    "        print(\"False Prediction Index: %s, Prediction: %s, Ground Truth: %s\" % (j, prediction[j], ground_truth[j]))\n",
    "        img = np.array(img_test[j])\n",
    "        img.shape = (28, 28)\n",
    "        plt.subplot(150 + (i+1))\n",
    "        plt.imshow(img, cmap='gray')\n",
    "        \n",
    "prediction = np.argmax(network.predict(img_test), axis=1)\n",
    "ground_truth = np.argmax(label_test, axis=1)\n",
    "        \n",
    "print(prediction)\n",
    "print(ground_truth)\n",
    "\n",
    "diff_index_list = []\n",
    "for i in range(len(img_test)):\n",
    "    if (prediction[i] != ground_truth[i]):\n",
    "        diff_index_list.append(i)\n",
    "\n",
    "print(\"Total Test Image: {0}, Number of False Prediction: {1}\".format(len(img_test), len(diff_index_list)))\n",
    "print(\"Test Accuracy:\", float(len(img_test) - len(diff_index_list)) / float(len(img_test)))\n",
    "draw_false_prediction(diff_index_list)"
   ]
  },
  {
   "cell_type": "code",
   "execution_count": null,
   "metadata": {
    "collapsed": true
   },
   "outputs": [],
   "source": [
    ""
   ]
  }
 ],
 "metadata": {
  "kernelspec": {
   "display_name": "Python 3",
   "language": "python",
   "name": "python3"
  },
  "language_info": {
   "codemirror_mode": {
    "name": "ipython",
    "version": 3.0
   },
   "file_extension": ".py",
   "mimetype": "text/x-python",
   "name": "python",
   "nbconvert_exporter": "python",
   "pygments_lexer": "ipython3",
   "version": "3.6.0"
  }
 },
 "nbformat": 4,
 "nbformat_minor": 0
}