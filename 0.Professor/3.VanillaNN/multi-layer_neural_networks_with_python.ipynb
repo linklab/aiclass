{
 "cells": [
  {
   "cell_type": "markdown",
   "metadata": {},
   "source": [
    "# MNIST - Python"
   ]
  },
  {
   "cell_type": "markdown",
   "metadata": {},
   "source": [
    "## 1.MNIST 데이터 로딩"
   ]
  },
  {
   "cell_type": "code",
   "execution_count": 1,
   "metadata": {
    "collapsed": false
   },
   "outputs": [
    {
     "name": "stdout",
     "output_type": "stream",
     "text": [
      "/Users/yhhan/git/aiclass/0.Professor/3.VanillaNN/MNIST_data/train-images-idx3-ubyte.gz\n",
      "/Users/yhhan/git/aiclass/0.Professor/3.VanillaNN/MNIST_data/train-labels-idx1-ubyte.gz\n",
      "/Users/yhhan/git/aiclass/0.Professor/3.VanillaNN/MNIST_data/t10k-images-idx3-ubyte.gz\n",
      "/Users/yhhan/git/aiclass/0.Professor/3.VanillaNN/MNIST_data/t10k-labels-idx1-ubyte.gz\n",
      "Converting train-images-idx3-ubyte.gz to NumPy Array ...\n",
      "Done\n",
      "Converting train-labels-idx1-ubyte.gz to NumPy Array ...\n",
      "Done\n",
      "Converting t10k-images-idx3-ubyte.gz to NumPy Array ...\n",
      "Done\n",
      "Converting t10k-labels-idx1-ubyte.gz to NumPy Array ...\n",
      "Done\n",
      "Creating pickle file ...\n",
      "Done!\n"
     ]
    }
   ],
   "source": [
    "# coding: utf-8\n",
    "import urllib.request\n",
    "import os.path\n",
    "import gzip\n",
    "import pickle\n",
    "import os\n",
    "import numpy as np\n",
    "\n",
    "url_base = 'http://yann.lecun.com/exdb/mnist/'\n",
    "key_file = {\n",
    "    'train_img':'train-images-idx3-ubyte.gz',\n",
    "    'train_label':'train-labels-idx1-ubyte.gz',\n",
    "    'test_img':'t10k-images-idx3-ubyte.gz',\n",
    "    'test_label':'t10k-labels-idx1-ubyte.gz'\n",
    "}\n",
    "\n",
    "dataset_dir = os.path.dirname(\"/Users/yhhan/git/aiclass/0.Professor/3.VanillaNN/MNIST_data/.\")\n",
    "save_file = dataset_dir + \"/mnist.pkl\"\n",
    "\n",
    "train_num = 60000\n",
    "test_num = 10000\n",
    "img_dim = (1, 28, 28)\n",
    "img_size = 784\n",
    "\n",
    "def _download(file_name):\n",
    "    file_path = dataset_dir + \"/\" + file_name\n",
    "    print(file_path)\n",
    "    if os.path.exists(file_path):\n",
    "        return\n",
    "\n",
    "    print(\"Downloading \" + file_name + \" ... \")\n",
    "    urllib.request.urlretrieve(url_base + file_name, file_path)\n",
    "    print(\"Done\")\n",
    "    \n",
    "def download_mnist():\n",
    "    for v in key_file.values():\n",
    "       _download(v)\n",
    "        \n",
    "def _load_label(file_name):\n",
    "    file_path = dataset_dir + \"/\" + file_name\n",
    "    \n",
    "    print(\"Converting \" + file_name + \" to NumPy Array ...\")\n",
    "    with gzip.open(file_path, 'rb') as f:\n",
    "            labels = np.frombuffer(f.read(), np.uint8, offset=8)\n",
    "    print(\"Done\")\n",
    "    \n",
    "    return labels\n",
    "\n",
    "def _load_img(file_name):\n",
    "    file_path = dataset_dir + \"/\" + file_name\n",
    "    \n",
    "    print(\"Converting \" + file_name + \" to NumPy Array ...\")    \n",
    "    with gzip.open(file_path, 'rb') as f:\n",
    "            data = np.frombuffer(f.read(), np.uint8, offset=16)\n",
    "    data = data.reshape(-1, img_size)\n",
    "    print(\"Done\")\n",
    "    \n",
    "    return data\n",
    "    \n",
    "def _convert_numpy():\n",
    "    dataset = {}\n",
    "    dataset['train_img'] =  _load_img(key_file['train_img'])\n",
    "    dataset['train_label'] = _load_label(key_file['train_label'])\n",
    "    dataset['test_img'] = _load_img(key_file['test_img'])\n",
    "    dataset['test_label'] = _load_label(key_file['test_label'])\n",
    "\n",
    "    dataset['validation_img'] = dataset['train_img'][55000:]\n",
    "    dataset['validation_label'] = dataset['train_label'][55000:]\n",
    "    dataset['train_img'] =  dataset['train_img'][:55000]\n",
    "    dataset['train_label'] = dataset['train_label'][:55000]\n",
    "    return dataset\n",
    "\n",
    "def init_mnist():\n",
    "    download_mnist()\n",
    "    dataset = _convert_numpy()\n",
    "    print(\"Creating pickle file ...\")\n",
    "    with open(save_file, 'wb') as f:\n",
    "        pickle.dump(dataset, f, -1)\n",
    "    print(\"Done!\")\n",
    "\n",
    "def _change_one_hot_label(X):\n",
    "    T = np.zeros((X.size, 10))\n",
    "    for idx, row in enumerate(T):\n",
    "        row[X[idx]] = 1\n",
    "        \n",
    "    return T\n",
    "    \n",
    "\n",
    "def load_mnist(normalize=True, flatten=True, one_hot_label=False):\n",
    "    if not os.path.exists(save_file):\n",
    "        init_mnist()\n",
    "        \n",
    "    with open(save_file, 'rb') as f:\n",
    "        dataset = pickle.load(f)\n",
    "    \n",
    "    if normalize:\n",
    "        for key in ('train_img', 'validation_img', 'test_img'):\n",
    "            dataset[key] = dataset[key].astype(np.float32)\n",
    "            dataset[key] /= 255.0\n",
    "            \n",
    "    if one_hot_label:\n",
    "        dataset['train_label'] = _change_one_hot_label(dataset['train_label'])\n",
    "        dataset['validation_label'] = _change_one_hot_label(dataset['test_label'])\n",
    "        dataset['test_label'] = _change_one_hot_label(dataset['test_label'])\n",
    "    \n",
    "    if not flatten:\n",
    "         for key in ('train_img', 'validation_img', 'test_img'):\n",
    "            dataset[key] = dataset[key].reshape(-1, 1, 28, 28)\n",
    "\n",
    "    return (dataset['train_img'], dataset['train_label']), (dataset['validation_img'], dataset['validation_label']), (dataset['test_img'], dataset['test_label']) \n",
    "\n",
    "\n",
    "if __name__ == '__main__':\n",
    "    init_mnist()\n"
   ]
  },
  {
   "cell_type": "markdown",
   "metadata": {},
   "source": [
    "- Each image is 28 pixels by 28 pixels. We can interpret this as a big array of numbers:\n",
    "<img src=\"https://www.tensorflow.org/versions/r0.11/images/MNIST-Matrix.png\" width=\"50%\" />\n",
    "\n",
    "- flatten 1-D tensor of size 28x28 = 784.\n",
    "  - Each entry in the tensor is a pixel intensity between 0 and 1, for a particular pixel in a particular image.\n",
    "$$[0, 0, 0, ..., 0.6, 0.7, 0.7, 0.5, ... 0.8, 1.0, 1.0, 1.0, 1.0, 1.0, 1.0, 1.0, 0.9, 0.3, ..., 0.4, 0.4, 0.4, ... 0, 0, 0]$$ "
   ]
  },
  {
   "cell_type": "markdown",
   "metadata": {},
   "source": [
    "- Number of train images is 55000.\n",
    "<img src=\"https://www.tensorflow.org/versions/r0.11/images/mnist-train-xs.png\" width=\"50%\" />"
   ]
  },
  {
   "cell_type": "markdown",
   "metadata": {},
   "source": [
    "- A one-hot vector is a vector which is 0 in most entries, and 1 in a single entry.\n",
    "- In this case, the $n$th digit will be represented as a vector which is 1 in the nth entry. \n",
    "  - For example, 3 would be $[0,0,0,1,0,0,0,0,0,0]$. \n",
    "<img src=\"https://www.tensorflow.org/versions/r0.11/images/mnist-train-ys.png\" width=\"48%\" />"
   ]
  },
  {
   "cell_type": "code",
   "execution_count": 2,
   "metadata": {
    "collapsed": false
   },
   "outputs": [
    {
     "name": "stdout",
     "output_type": "stream",
     "text": [
      "(55000, 784)\n",
      "(55000,)\n",
      "(5000, 784)\n",
      "(5000,)\n",
      "(10000, 784)\n",
      "(10000,)\n"
     ]
    }
   ],
   "source": [
    "(img_train, label_train), (img_validation, label_validation), (img_test, label_test) = load_mnist(flatten=True, normalize=False)\n",
    "print(img_train.shape)\n",
    "print(label_train.shape)\n",
    "print(img_validation.shape)\n",
    "print(label_validation.shape)\n",
    "print(img_test.shape)\n",
    "print(label_test.shape)"
   ]
  },
  {
   "cell_type": "code",
   "execution_count": 3,
   "metadata": {
    "collapsed": false
   },
   "outputs": [
    {
     "name": "stdout",
     "output_type": "stream",
     "text": [
      "5\n",
      "0\n",
      "4\n",
      "1\n",
      "9\n"
     ]
    },
    {
     "data": {
      "image/png": "[encoded data removed]",
      "text/plain": [
       "<matplotlib.figure.Figure at 0x109e95a58>"
      ]
     },
     "metadata": {},
     "output_type": "display_data"
    }
   ],
   "source": [
    "import matplotlib.pyplot as plt\n",
    "%matplotlib inline\n",
    "\n",
    "fig = plt.figure(figsize=(20, 5))\n",
    "for i in range(5):\n",
    "    print(label_train[i])\n",
    "    img = img_train[i]\n",
    "    img = img.reshape(28, 28)\n",
    "    img.shape = (28, 28)\n",
    "    plt.subplot(150 + (i+1))\n",
    "    plt.imshow(img, cmap='gray')"
   ]
  },
  {
   "cell_type": "markdown",
   "metadata": {},
   "source": [
    "## 2. Neural Network 모델 구성 "
   ]
  },
  {
   "cell_type": "code",
   "execution_count": 4,
   "metadata": {
    "collapsed": false
   },
   "outputs": [],
   "source": [
    "def sigmoid(x):\n",
    "    return 1 / (1 + np.exp(-x))   \n",
    "\n",
    "def softmax(x):\n",
    "    c = np.max(x)\n",
    "    exp_x = np.exp(x-c)\n",
    "    sum_exp_x = np.sum(exp_x)\n",
    "    y = exp_x / sum_exp_x\n",
    "    return y\n",
    "\n",
    "def init_network():\n",
    "    network = {}\n",
    "    network['W1'] = np.zeros([784, 1024])\n",
    "    network['b1'] = np.zeros([1024])\n",
    "    network['W2'] = np.zeros([1024, 1024])\n",
    "    network['b2'] = np.zeros([1024])\n",
    "    network['W3'] = np.zeros([1024, 10])\n",
    "    network['b3'] = np.zeros([10])\n",
    "    return network\n",
    "    \n",
    "def predict(network, x):\n",
    "    W1, W2, W3 = network['W1'], network['W2'], network['W3']\n",
    "    b1, b2, b3 = network['b1'], network['b2'], network['b3']\n",
    "\n",
    "    a1 = np.dot(x, W1) + b1\n",
    "    z1 = sigmoid(a1)\n",
    "    a2 = np.dot(z1, W2) + b2\n",
    "    z2 = sigmoid(a2)\n",
    "    a3 = np.dot(z2, W3) + b3\n",
    "    y = softmax(a3)\n",
    "\n",
    "    return y"
   ]
  },
  {
   "cell_type": "markdown",
   "metadata": {},
   "source": [
    "## 3. MNIST Test 테이터에 대한 단순 Feed Forward"
   ]
  },
  {
   "cell_type": "code",
   "execution_count": 5,
   "metadata": {
    "collapsed": false
   },
   "outputs": [
    {
     "name": "stdout",
     "output_type": "stream",
     "text": [
      "Accuracy:0.098\n"
     ]
    }
   ],
   "source": [
    "_, _, (img_test, label_test) = load_mnist(flatten=True, normalize=False)\n",
    "network = init_network()\n",
    "accuracy_cnt = 0\n",
    "\n",
    "for i in range(len(img_test)):\n",
    "    y = predict(network, img_test[i])\n",
    "    p = np.argmax(y)\n",
    "    if p == label_test[i]:\n",
    "        accuracy_cnt += 1\n",
    "\n",
    "print(\"Accuracy:\" + str(float(accuracy_cnt) / len(img_test)))"
   ]
  },
  {
   "cell_type": "markdown",
   "metadata": {},
   "source": [
    "## 4. MNIST Test 테이터에 대하여 Batch를 활용한 Feed Forward"
   ]
  },
  {
   "cell_type": "code",
   "execution_count": 6,
   "metadata": {
    "collapsed": false
   },
   "outputs": [
    {
     "name": "stdout",
     "output_type": "stream",
     "text": [
      "Accuracy:0.098\n"
     ]
    }
   ],
   "source": [
    "_, _, (img_test, label_test) = load_mnist(flatten=True, normalize=False)\n",
    "network = init_network()\n",
    "accuracy_cnt = 0\n",
    "batch_size = 100\n",
    "\n",
    "for i in range(0, len(img_test), batch_size):\n",
    "    x_batch = img_test[i: i + batch_size]\n",
    "    y_batch = predict(network, x_batch)\n",
    "    p = np.argmax(y_batch, axis=1)\n",
    "    accuracy_cnt += np.sum(p == label_test[i: i + batch_size])\n",
    "\n",
    "print(\"Accuracy:\" + str(float(accuracy_cnt) / len(img_test)))"
   ]
  },
  {
   "cell_type": "markdown",
   "metadata": {},
   "source": [
    "## 5. 2층 신경망을 이용한 학습 및 테스트"
   ]
  },
  {
   "cell_type": "code",
   "execution_count": 40,
   "metadata": {
    "collapsed": true
   },
   "outputs": [],
   "source": [
    "def step_function(x):\n",
    "    return np.array(x > 0, dtype=np.int)\n",
    "\n",
    "class TwoLayerNet:\n",
    "    def __init__(self, input_size, hidden_layer1_size, hidden_layer2_size, output_size, weight_init_std=0.01):\n",
    "        self.params = {}\n",
    "        self.params['W1'] = weight_init_std * np.random.randn(input_size, hidden_layer1_size)\n",
    "        self.params['b1'] = np.zeros(hidden_layer1_size)\n",
    "        self.params['W2'] = weight_init_std * np.random.randn(hidden_layer1_size, hidden_layer2_size)\n",
    "        self.params['b2'] = np.zeros(hidden_layer2_size)\n",
    "        self.params['W3'] = weight_init_std * np.random.randn(hidden_layer2_size, output_size)\n",
    "        self.params['b3'] = np.zeros(output_size)\n",
    "        print(\"W1-shape: {0}, b1-shape: {1}, W2-shape: {2}, b2-shape: {3}, W3-shape: {4}, b3-shape: {5}\".format(\n",
    "            self.params['W1'].shape,\n",
    "            self.params['b1'].shape,\n",
    "            self.params['W2'].shape,\n",
    "            self.params['b2'].shape,\n",
    "            self.params['W3'].shape,\n",
    "            self.params['b3'].shape\n",
    "        ))\n",
    "\n",
    "    def predict(self, x):\n",
    "        W1, W2, W3 = self.params['W1'], self.params['W2'], self.params['W3']\n",
    "        b1, b2, b3 = self.params['b1'], self.params['b2'], self.params['b3']\n",
    "    \n",
    "        a1 = np.dot(x, W1) + b1\n",
    "        z1 = step_function(a1)\n",
    "        a2 = np.dot(z1, W2) + b2\n",
    "        z2 = step_function(a2)\n",
    "        a3 = np.dot(z2, W3) + b3\n",
    "        y = softmax(a3)\n",
    "        \n",
    "        return y\n",
    "\n",
    "    def cross_entropy_error(self, x, t):\n",
    "        y = self.predict(x)\n",
    "        if y.ndim == 1:\n",
    "            t = t.reshape(1, t.size)\n",
    "            y = y.reshape(1, y.size)\n",
    "\n",
    "        if t.size == y.size:\n",
    "            t = t.argmax(axis=1)\n",
    "\n",
    "        batch_size = y.shape[0]\n",
    "        return -np.sum(np.log(y[np.arange(batch_size), t])) / batch_size\n",
    "    \n",
    "    def accuracy(self, x, t):\n",
    "        y = self.predict(x)\n",
    "        y = np.argmax(y, axis=1)\n",
    "        \n",
    "        accuracy = np.sum(y == t) / float(x.shape[0])\n",
    "        return accuracy\n",
    "\n",
    "    def numerical_derivative(self, params, x, z_target):\n",
    "        delta = 1e-4 # 0.0001\n",
    "        grad = np.zeros_like(params)\n",
    "       \n",
    "        it = np.nditer(params, flags=['multi_index'], op_flags=['readwrite'])\n",
    "        while not it.finished:\n",
    "            idx = it.multi_index\n",
    "            temp_val = params[idx]\n",
    "\n",
    "            #f(x + delta) 계산\n",
    "            params[idx] = params[idx] + delta\n",
    "            fxh1 = self.cross_entropy_error(x, z_target)\n",
    "            \n",
    "            #f(x - delta) 계산\n",
    "            params[idx] = params[idx] - delta\n",
    "            fxh2 = self.cross_entropy_error(x, z_target)\n",
    "            \n",
    "            #f(x + delta) - f(x - delta) / 2 * delta 계산\n",
    "            grad[idx] = (fxh1 - fxh2) / (2 * delta)\n",
    "            params[idx] = temp_val\n",
    "            it.iternext()\n",
    "        return grad\n",
    "   \n",
    "    def learning(self, learning_rate, x_batch, t_batch):\n",
    "        for key in ('W1', 'b1', 'W2', 'b2', 'W3', 'b3'):\n",
    "            grad = self.numerical_derivative(self.params[key], x_batch, t_batch)\n",
    "            self.params[key] = self.params[key] - learning_rate * grad"
   ]
  },
  {
   "cell_type": "code",
   "execution_count": null,
   "metadata": {
    "collapsed": false
   },
   "outputs": [
    {
     "name": "stdout",
     "output_type": "stream",
     "text": [
      "W1-shape: (784, 128), b1-shape: (128,), W2-shape: (128, 128), b2-shape: (128,), W3-shape: (128, 10), b3-shape: (10,)\n",
      "Epoch:   0, Train accuracy: 0.10318, validation accuracy: 0.09940\n",
      "Epoch:   1, Train accuracy:  0.0988, validation accuracy: 0.09780\n",
      "Epoch:   2, Train accuracy: 0.11447, validation accuracy: 0.11320\n",
      "Epoch:   3, Train accuracy: 0.12371, validation accuracy: 0.12380\n",
      "Epoch:   4, Train accuracy: 0.11355, validation accuracy: 0.11160\n",
      "Epoch:   5, Train accuracy: 0.15825, validation accuracy: 0.15520\n",
      "Epoch:   6, Train accuracy: 0.12611, validation accuracy: 0.12060\n",
      "Epoch:   7, Train accuracy: 0.18522, validation accuracy: 0.18400\n",
      "Epoch:   8, Train accuracy: 0.11295, validation accuracy: 0.10600\n",
      "Epoch:   9, Train accuracy:   0.113, validation accuracy: 0.10600\n",
      "Epoch:  10, Train accuracy: 0.11425, validation accuracy: 0.10680\n",
      "Epoch:  11, Train accuracy:  0.1312, validation accuracy: 0.12480\n",
      "Epoch:  12, Train accuracy: 0.14022, validation accuracy: 0.13640\n",
      "Epoch:  13, Train accuracy: 0.17102, validation accuracy: 0.16560\n",
      "Epoch:  14, Train accuracy: 0.20084, validation accuracy: 0.20120\n",
      "Epoch:  15, Train accuracy: 0.14033, validation accuracy: 0.14880\n",
      "Epoch:  16, Train accuracy: 0.11669, validation accuracy: 0.12680\n",
      "Epoch:  17, Train accuracy: 0.11816, validation accuracy: 0.11180\n",
      "Epoch:  18, Train accuracy: 0.10591, validation accuracy: 0.11460\n",
      "Epoch:  19, Train accuracy:   0.104, validation accuracy: 0.11000\n",
      "Epoch:  20, Train accuracy: 0.11295, validation accuracy: 0.10600\n",
      "Epoch:  21, Train accuracy: 0.12727, validation accuracy: 0.11820\n",
      "Epoch:  22, Train accuracy: 0.11295, validation accuracy: 0.10600\n",
      "Epoch:  23, Train accuracy: 0.098055, validation accuracy: 0.09900\n",
      "Epoch:  24, Train accuracy: 0.11295, validation accuracy: 0.10600\n",
      "Epoch:  25, Train accuracy: 0.11316, validation accuracy: 0.10640\n",
      "Epoch:  26, Train accuracy: 0.11787, validation accuracy: 0.11040\n",
      "Epoch:  27, Train accuracy: 0.11295, validation accuracy: 0.10600\n",
      "Epoch:  28, Train accuracy:   0.113, validation accuracy: 0.10600\n",
      "Epoch:  29, Train accuracy: 0.097145, validation accuracy: 0.09980\n",
      "Epoch:  30, Train accuracy: 0.11951, validation accuracy: 0.11500\n",
      "Epoch:  31, Train accuracy: 0.12842, validation accuracy: 0.13160\n",
      "Epoch:  32, Train accuracy: 0.11555, validation accuracy: 0.10860\n",
      "Epoch:  33, Train accuracy:  0.0988, validation accuracy: 0.09780\n",
      "Epoch:  34, Train accuracy:  0.0988, validation accuracy: 0.09780\n",
      "Epoch:  35, Train accuracy: 0.11325, validation accuracy: 0.10720\n",
      "Epoch:  36, Train accuracy: 0.11295, validation accuracy: 0.10600\n",
      "Epoch:  37, Train accuracy:  0.0974, validation accuracy: 0.09880\n",
      "Epoch:  38, Train accuracy: 0.10222, validation accuracy: 0.10180\n",
      "Epoch:  39, Train accuracy:  0.0974, validation accuracy: 0.09880\n",
      "Epoch:  40, Train accuracy:  0.0974, validation accuracy: 0.09880\n",
      "Epoch:  41, Train accuracy: 0.10367, validation accuracy: 0.11260\n",
      "Epoch:  42, Train accuracy: 0.098818, validation accuracy: 0.09780\n",
      "Epoch:  43, Train accuracy: 0.098655, validation accuracy: 0.09620\n",
      "Epoch:  44, Train accuracy: 0.099364, validation accuracy: 0.09860\n",
      "Epoch:  45, Train accuracy: 0.098836, validation accuracy: 0.09640\n",
      "Epoch:  46, Train accuracy: 0.10291, validation accuracy: 0.10180\n",
      "Epoch:  47, Train accuracy: 0.099182, validation accuracy: 0.09840\n",
      "Epoch:  48, Train accuracy: 0.096673, validation accuracy: 0.09420\n",
      "Epoch:  49, Train accuracy: 0.097255, validation accuracy: 0.10060\n",
      "Epoch:  50, Train accuracy: 0.097145, validation accuracy: 0.09980\n",
      "Epoch:  51, Train accuracy: 0.11298, validation accuracy: 0.10600\n",
      "Epoch:  52, Train accuracy: 0.10222, validation accuracy: 0.10180\n",
      "Epoch:  53, Train accuracy: 0.10222, validation accuracy: 0.10180\n",
      "Epoch:  54, Train accuracy: 0.098836, validation accuracy: 0.09800\n",
      "Epoch:  55, Train accuracy: 0.10222, validation accuracy: 0.10180\n"
     ]
    }
   ],
   "source": [
    "(img_train, label_train), (img_validation, label_validation), (img_test, label_test) = load_mnist(flatten=True, normalize=False)\n",
    "\n",
    "network = TwoLayerNet(input_size=784, hidden_layer1_size=128, hidden_layer2_size=128, output_size=10)\n",
    "\n",
    "num_epochs = 3000\n",
    "train_size = img_train.shape[0]\n",
    "batch_size = 100\n",
    "learning_rate = 0.1\n",
    "\n",
    "train_loss_list = []\n",
    "train_acc_list = []\n",
    "validation_acc_list = []\n",
    "\n",
    "iter_per_epoch = max(train_size / batch_size, 1)\n",
    "\n",
    "for i in range(num_epochs):\n",
    "    batch_mask = np.random.choice(train_size, batch_size)\n",
    "    x_batch = img_train[batch_mask]\n",
    "    t_batch = label_train[batch_mask]\n",
    "    \n",
    "    network.learning(learning_rate, x_batch, t_batch)\n",
    "    \n",
    "    error = network.cross_entropy_error(x_batch, t_batch)\n",
    "    train_loss_list.append(error)\n",
    "    \n",
    "    train_acc = network.accuracy(img_train, label_train)\n",
    "    train_acc_list.append(train_acc)\n",
    "\n",
    "    validation_acc = network.accuracy(img_validation, label_validation)\n",
    "    validation_acc_list.append(validation_acc)\n",
    "\n",
    "    print(\"Epoch: {0:3d}, Train accuracy: {1:7.5}, validation accuracy: {2:7.5f}\".format(\n",
    "        i,\n",
    "        train_acc,\n",
    "        validation_acc\n",
    "    ))"
   ]
  },
  {
   "cell_type": "code",
   "execution_count": null,
   "metadata": {
    "collapsed": true
   },
   "outputs": [],
   "source": []
  }
 ],
 "metadata": {
  "kernelspec": {
   "display_name": "Python 3",
   "language": "python",
   "name": "python3"
  },
  "language_info": {
   "codemirror_mode": {
    "name": "ipython",
    "version": 3
   },
   "file_extension": ".py",
   "mimetype": "text/x-python",
   "name": "python",
   "nbconvert_exporter": "python",
   "pygments_lexer": "ipython3",
   "version": "3.6.0"
  }
 },
 "nbformat": 4,
 "nbformat_minor": 2
}
