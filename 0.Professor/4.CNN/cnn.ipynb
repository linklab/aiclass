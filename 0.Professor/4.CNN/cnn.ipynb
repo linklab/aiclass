{
 "cells": [
  {
   "cell_type": "markdown",
   "metadata": {},
   "source": [
    "## Convolutional Neural Networks\n",
    "- CS231n Convolutional Neural Networks for Visual Recognition: https://git.io/vKlww\n",
    "- http://pythonkim.tistory.com/56"
   ]
  },
  {
   "cell_type": "code",
   "execution_count": 25,
   "metadata": {
    "collapsed": false
   },
   "outputs": [
    {
     "name": "stdout",
     "output_type": "stream",
     "text": [
      "1.0.1\n"
     ]
    }
   ],
   "source": [
    "import tensorflow as tf\n",
    "import math\n",
    "import numpy as np\n",
    "from tensorflow.examples.tutorials.mnist import input_data\n",
    "import matplotlib.pyplot as plt\n",
    "import tensorflow as tf\n",
    "print(tf.__version__)\n",
    "%matplotlib inline"
   ]
  },
  {
   "cell_type": "code",
   "execution_count": 26,
   "metadata": {
    "collapsed": false
   },
   "outputs": [
    {
     "name": "stdout",
     "output_type": "stream",
     "text": [
      "Extracting MNIST_data/train-images-idx3-ubyte.gz\n",
      "Extracting MNIST_data/train-labels-idx1-ubyte.gz\n",
      "Extracting MNIST_data/t10k-images-idx3-ubyte.gz\n",
      "Extracting MNIST_data/t10k-labels-idx1-ubyte.gz\n"
     ]
    }
   ],
   "source": [
    "mnist = input_data.read_data_sets(\"MNIST_data/\", one_hot=True)"
   ]
  },
  {
   "cell_type": "code",
   "execution_count": 27,
   "metadata": {
    "collapsed": false
   },
   "outputs": [],
   "source": [
    "x = tf.placeholder(\"float\", [None, 784])\n",
    "y = tf.placeholder(\"float\", [None, 10])"
   ]
  },
  {
   "cell_type": "markdown",
   "metadata": {},
   "source": [
    "- Image reshape to 4D [-1, 28, 28, 1]\n",
    "  - The MNIST images have just one gray color value (the number of color channels is one), so that the last value is one."
   ]
  },
  {
   "cell_type": "code",
   "execution_count": 28,
   "metadata": {
    "collapsed": false
   },
   "outputs": [
    {
     "name": "stdout",
     "output_type": "stream",
     "text": [
      "(?, 28, 28, 1)\n"
     ]
    }
   ],
   "source": [
    "x_image = tf.reshape(x, [-1, 28, 28, 1])\n",
    "print(x_image.get_shape())"
   ]
  },
  {
   "cell_type": "code",
   "execution_count": 29,
   "metadata": {
    "collapsed": true
   },
   "outputs": [],
   "source": [
    "keep_prob = tf.placeholder(tf.float32)"
   ]
  },
  {
   "cell_type": "markdown",
   "metadata": {},
   "source": [
    "- **stride**\n",
    "  - we must specify the stride with which we slide the filter. \n",
    "  - stride = 1: we slide the filters one pixel at a time. \n",
    "  - stride = 2: we slide the filters two pixel at a time. \n",
    "  - This will produce smaller output volumes spatially.\n",
    "- **padding**\n",
    "  - we need pad the input volume with zeros around the border. \n",
    "  - zero padding"
   ]
  },
  {
   "cell_type": "markdown",
   "metadata": {},
   "source": [
    "- The CONV layer’s parameters consist of a set of learnable filters.\n",
    "- The convolution will compute 32 kernels (features) for each 5x5 patch. \n",
    "- Its weight tensor will have a shape of [5, 5, 1, 32]. \n",
    "  - The first two dimensions are the kernel size\n",
    "  - The third is the number of input channels (here, it is one channel)\n",
    "  - The last one is the number of kernels (features). \n",
    "- A bias vector has a component per kernel."
   ]
  },
  {
   "cell_type": "markdown",
   "metadata": {},
   "source": [
    "- https://www.tensorflow.org/api_docs/python/nn/convolution#conv2d\n",
    "- https://www.tensorflow.org/api_docs/python/nn/pooling#max_pool"
   ]
  },
  {
   "cell_type": "markdown",
   "metadata": {},
   "source": [
    "- If padding == \"SAME\": output_spatial_shape[i] = ceil(input_spatial_shape[i] / strides[i])"
   ]
  },
  {
   "cell_type": "code",
   "execution_count": 30,
   "metadata": {
    "collapsed": false
   },
   "outputs": [
    {
     "name": "stdout",
     "output_type": "stream",
     "text": [
      "Tensor(\"Relu_3:0\", shape=(?, 28, 28, 8), dtype=float32)\n",
      "Tensor(\"MaxPool_2:0\", shape=(?, 14, 14, 8), dtype=float32)\n",
      "Tensor(\"dropout_3/mul:0\", shape=(?, 14, 14, 8), dtype=float32)\n"
     ]
    }
   ],
   "source": [
    "W_conv1 = tf.Variable(tf.truncated_normal([5, 5, 1, 8], stddev=0.1))\n",
    "b_conv1 = tf.Variable(tf.constant(0.1, shape=[8]))\n",
    "h_conv1 = tf.nn.relu(tf.nn.conv2d(x_image, W_conv1, strides=[1, 1, 1, 1], padding='SAME') + b_conv1)\n",
    "h_pool1 = tf.nn.max_pool(h_conv1, ksize=[1, 2, 2, 1], strides=[1, 2, 2, 1], padding='SAME')\n",
    "d_h_pool1 = tf.nn.dropout(h_pool1, keep_prob=keep_prob)\n",
    "print(h_conv1)\n",
    "print(h_pool1)\n",
    "print(d_h_pool1)"
   ]
  },
  {
   "cell_type": "code",
   "execution_count": 32,
   "metadata": {
    "collapsed": false
   },
   "outputs": [
    {
     "name": "stdout",
     "output_type": "stream",
     "text": [
      "Tensor(\"Relu_4:0\", shape=(?, 14, 14, 8), dtype=float32)\n",
      "Tensor(\"MaxPool_3:0\", shape=(?, 7, 7, 8), dtype=float32)\n",
      "Tensor(\"dropout_4/mul:0\", shape=(?, 7, 7, 8), dtype=float32)\n"
     ]
    }
   ],
   "source": [
    "W_conv2 = tf.Variable(tf.truncated_normal([5, 5, 8, 8], stddev=0.1))\n",
    "b_conv2 = tf.Variable(tf.constant(0.1, shape=[8]))\n",
    "h_conv2 = tf.nn.relu(tf.nn.conv2d(d_h_pool1, W_conv2, strides=[1, 1, 1, 1], padding='SAME') + b_conv2)\n",
    "h_pool2 = tf.nn.max_pool(h_conv2, ksize=[1, 2, 2, 1], strides=[1, 2, 2, 1], padding='SAME')\n",
    "d_h_pool2 = tf.nn.dropout(h_pool2, keep_prob=keep_prob)\n",
    "print(h_conv2)\n",
    "print(h_pool2)\n",
    "print(d_h_pool2)"
   ]
  },
  {
   "cell_type": "code",
   "execution_count": 34,
   "metadata": {
    "collapsed": true
   },
   "outputs": [],
   "source": [
    "h_pool2_flat = tf.reshape(d_h_pool2, [-1, 7 * 7 * 8])"
   ]
  },
  {
   "cell_type": "code",
   "execution_count": 41,
   "metadata": {
    "collapsed": true
   },
   "outputs": [],
   "source": [
    "W_fc1 = tf.Variable(tf.truncated_normal([7 * 7 * 8, 256], stddev=0.1))\n",
    "b_fc1 = tf.Variable(tf.constant(0.1, shape=[256]))\n",
    "h_fc1 = tf.nn.relu(tf.matmul(h_pool2_flat, W_fc1) + b_fc1)\n",
    "d_h_fc1 = tf.nn.dropout(h_fc1, keep_prob=keep_prob)"
   ]
  },
  {
   "cell_type": "code",
   "execution_count": 42,
   "metadata": {
    "collapsed": true
   },
   "outputs": [],
   "source": [
    "W_fc2 = tf.Variable(tf.truncated_normal([256, 10], stddev=0.1))\n",
    "b_fc2 = tf.Variable(tf.constant(0.1, shape=[10]))\n",
    "pred = tf.matmul(d_h_fc1, W_fc2) + b_fc2"
   ]
  },
  {
   "cell_type": "code",
   "execution_count": 43,
   "metadata": {
    "collapsed": false
   },
   "outputs": [],
   "source": [
    "error = tf.reduce_mean(tf.nn.softmax_cross_entropy_with_logits(logits=pred, labels=y))\n",
    "optimizer = tf.train.AdamOptimizer(1e-4).minimize(error)"
   ]
  },
  {
   "cell_type": "code",
   "execution_count": 50,
   "metadata": {
    "collapsed": true
   },
   "outputs": [],
   "source": [
    "# Initializing the variables\n",
    "init = tf.global_variables_initializer()\n",
    "\n",
    "# Parameters\n",
    "training_epochs = 100\n",
    "learning_rate = 0.001\n",
    "batch_size = 100\n",
    "\n",
    "# Calculate accuracy with a Test model \n",
    "prediction_ground_truth = tf.equal(tf.argmax(pred, 1), tf.argmax(y, 1))\n",
    "accuracy = tf.reduce_mean(tf.cast(prediction_ground_truth, tf.float32))"
   ]
  },
  {
   "cell_type": "code",
   "execution_count": 51,
   "metadata": {
    "collapsed": false
   },
   "outputs": [],
   "source": [
    "def printLossAccuracyForTestData(epoch, sess, test_error_value_list, test_accuracy_list):\n",
    "    accuracy_value, error_value = sess.run((accuracy, error), \n",
    "                                           feed_dict={x: mnist.test.images, y: mnist.test.labels, keep_prob: 0.5})\n",
    "    test_error_value_list.append(error_value)\n",
    "    test_accuracy_list.append(accuracy_value)\n",
    "    print(\"epoch: %d, test_error_value: %f, test_accuracy: %f\" % ( epoch, error_value, accuracy_value ))\n",
    "\n",
    "def drawErrorValues(epoch_list, train_error_value_list, validation_error_value_list, test_error_value_list, test_accuracy_list):\n",
    "    fig = plt.figure(figsize=(20, 5))\n",
    "    plt.subplot(121)\n",
    "    plt.plot(epoch_list, train_error_value_list, 'r', label='Train')\n",
    "    plt.plot(epoch_list, validation_error_value_list, 'g', label='Validation')\n",
    "    plt.plot(epoch_list, test_error_value_list, 'b', label='Test')\n",
    "    plt.ylabel('Total Error')\n",
    "    plt.xlabel('Epochs')\n",
    "    plt.grid(True)\n",
    "    plt.legend(loc='upper right')\n",
    "\n",
    "    plt.subplot(122)\n",
    "    plt.plot(epoch_list, test_accuracy_list, 'b', label='Test')\n",
    "    plt.ylabel('Accuracy')\n",
    "    plt.xlabel('Epochs')\n",
    "    plt.yticks(np.arange(min(test_accuracy_list), max(test_accuracy_list), 0.05))\n",
    "    plt.grid(True)\n",
    "    plt.legend(loc='lower right')            \n",
    "    plt.show()\n",
    "\n",
    "def drawFalsePrediction(sess, numPrintImages):\n",
    "    ground_truth = sess.run(tf.argmax(y, 1), feed_dict={y: mnist.test.labels})\n",
    "    prediction = sess.run(tf.argmax(pred, 1), feed_dict={x: mnist.test.images, keep_prob: 0.5})\n",
    "\n",
    "    fig = plt.figure(figsize=(20, 5))\n",
    "    j = 1\n",
    "    for i in range(mnist.test.num_examples):\n",
    "        if (j > numPrintImages):\n",
    "            break;\n",
    "        if (prediction[i] != ground_truth[i]):\n",
    "            print(\"Error Index: %s, Prediction: %s, Ground Truth: %s\" % (i, prediction[i], ground_truth[i]))\n",
    "            img = np.array(mnist.test.images[i])\n",
    "            img.shape = (28, 28)\n",
    "            plt.subplot(1, numPrintImages, j)\n",
    "            plt.imshow(img)\n",
    "            j += 1"
   ]
  },
  {
   "cell_type": "code",
   "execution_count": 52,
   "metadata": {
    "collapsed": false
   },
   "outputs": [
    {
     "name": "stdout",
     "output_type": "stream",
     "text": [
      "total batch: 550\n",
      "epoch: 0, test_error_value: 2.015407, test_accuracy: 0.291000\n",
      "epoch: 1, test_error_value: 1.242550, test_accuracy: 0.585100\n",
      "epoch: 2, test_error_value: 0.890830, test_accuracy: 0.708200\n",
      "epoch: 3, test_error_value: 0.734925, test_accuracy: 0.766400\n",
      "epoch: 4, test_error_value: 0.622793, test_accuracy: 0.798000\n",
      "epoch: 5, test_error_value: 0.542529, test_accuracy: 0.823000\n",
      "epoch: 6, test_error_value: 0.489445, test_accuracy: 0.847500\n",
      "epoch: 7, test_error_value: 0.433259, test_accuracy: 0.860200\n",
      "epoch: 8, test_error_value: 0.407578, test_accuracy: 0.868400\n",
      "epoch: 9, test_error_value: 0.377956, test_accuracy: 0.879900\n",
      "epoch: 10, test_error_value: 0.357250, test_accuracy: 0.886000\n",
      "epoch: 11, test_error_value: 0.348965, test_accuracy: 0.884000\n",
      "epoch: 12, test_error_value: 0.322073, test_accuracy: 0.894400\n",
      "epoch: 13, test_error_value: 0.307421, test_accuracy: 0.900600\n",
      "epoch: 14, test_error_value: 0.286957, test_accuracy: 0.909200\n",
      "epoch: 15, test_error_value: 0.278386, test_accuracy: 0.909900\n",
      "epoch: 16, test_error_value: 0.268633, test_accuracy: 0.913500\n",
      "epoch: 17, test_error_value: 0.265724, test_accuracy: 0.916000\n",
      "epoch: 18, test_error_value: 0.256500, test_accuracy: 0.914800\n",
      "epoch: 19, test_error_value: 0.249429, test_accuracy: 0.921000\n",
      "epoch: 20, test_error_value: 0.236813, test_accuracy: 0.921800\n",
      "epoch: 21, test_error_value: 0.240734, test_accuracy: 0.922600\n",
      "epoch: 22, test_error_value: 0.231615, test_accuracy: 0.927500\n",
      "epoch: 23, test_error_value: 0.227413, test_accuracy: 0.927800\n",
      "epoch: 24, test_error_value: 0.227575, test_accuracy: 0.926700\n",
      "epoch: 25, test_error_value: 0.208834, test_accuracy: 0.931700\n",
      "epoch: 26, test_error_value: 0.200975, test_accuracy: 0.932900\n",
      "epoch: 27, test_error_value: 0.207019, test_accuracy: 0.933600\n",
      "epoch: 28, test_error_value: 0.202976, test_accuracy: 0.933600\n",
      "epoch: 29, test_error_value: 0.209360, test_accuracy: 0.931900\n",
      "epoch: 30, test_error_value: 0.204151, test_accuracy: 0.933100\n",
      "epoch: 31, test_error_value: 0.201278, test_accuracy: 0.934800\n",
      "epoch: 32, test_error_value: 0.191522, test_accuracy: 0.941300\n",
      "epoch: 33, test_error_value: 0.194712, test_accuracy: 0.935900\n",
      "epoch: 34, test_error_value: 0.184633, test_accuracy: 0.938700\n",
      "epoch: 35, test_error_value: 0.179684, test_accuracy: 0.942400\n",
      "epoch: 36, test_error_value: 0.171903, test_accuracy: 0.943300\n",
      "epoch: 37, test_error_value: 0.177573, test_accuracy: 0.944000\n",
      "epoch: 38, test_error_value: 0.174618, test_accuracy: 0.946300\n",
      "epoch: 39, test_error_value: 0.173137, test_accuracy: 0.942200\n",
      "epoch: 40, test_error_value: 0.172850, test_accuracy: 0.945400\n",
      "epoch: 41, test_error_value: 0.175091, test_accuracy: 0.940200\n",
      "epoch: 42, test_error_value: 0.167262, test_accuracy: 0.945100\n",
      "epoch: 43, test_error_value: 0.166334, test_accuracy: 0.947400\n",
      "epoch: 44, test_error_value: 0.170632, test_accuracy: 0.944900\n",
      "epoch: 45, test_error_value: 0.167649, test_accuracy: 0.948000\n",
      "epoch: 46, test_error_value: 0.160323, test_accuracy: 0.948200\n",
      "epoch: 47, test_error_value: 0.160341, test_accuracy: 0.948200\n",
      "epoch: 48, test_error_value: 0.155599, test_accuracy: 0.950100\n",
      "epoch: 49, test_error_value: 0.158743, test_accuracy: 0.949100\n",
      "epoch: 50, test_error_value: 0.157698, test_accuracy: 0.948600\n",
      "epoch: 51, test_error_value: 0.153390, test_accuracy: 0.948800\n",
      "epoch: 52, test_error_value: 0.153561, test_accuracy: 0.953300\n",
      "epoch: 53, test_error_value: 0.156683, test_accuracy: 0.948900\n",
      "epoch: 54, test_error_value: 0.153997, test_accuracy: 0.950000\n",
      "epoch: 55, test_error_value: 0.156703, test_accuracy: 0.948500\n",
      "epoch: 56, test_error_value: 0.146724, test_accuracy: 0.953400\n",
      "epoch: 57, test_error_value: 0.159372, test_accuracy: 0.949000\n",
      "epoch: 58, test_error_value: 0.148200, test_accuracy: 0.951600\n",
      "epoch: 59, test_error_value: 0.148553, test_accuracy: 0.953200\n",
      "epoch: 60, test_error_value: 0.146254, test_accuracy: 0.955000\n",
      "epoch: 61, test_error_value: 0.145857, test_accuracy: 0.954500\n",
      "epoch: 62, test_error_value: 0.140605, test_accuracy: 0.956500\n",
      "epoch: 63, test_error_value: 0.146785, test_accuracy: 0.952600\n",
      "epoch: 64, test_error_value: 0.139098, test_accuracy: 0.954700\n",
      "epoch: 65, test_error_value: 0.144217, test_accuracy: 0.954000\n",
      "epoch: 66, test_error_value: 0.145296, test_accuracy: 0.955600\n",
      "epoch: 67, test_error_value: 0.147628, test_accuracy: 0.954900\n",
      "epoch: 68, test_error_value: 0.133053, test_accuracy: 0.956400\n",
      "epoch: 69, test_error_value: 0.139709, test_accuracy: 0.956600\n",
      "epoch: 70, test_error_value: 0.133423, test_accuracy: 0.956500\n",
      "epoch: 71, test_error_value: 0.130162, test_accuracy: 0.958000\n",
      "epoch: 72, test_error_value: 0.139955, test_accuracy: 0.954500\n",
      "epoch: 73, test_error_value: 0.134557, test_accuracy: 0.955500\n",
      "epoch: 74, test_error_value: 0.124415, test_accuracy: 0.960800\n",
      "epoch: 75, test_error_value: 0.134453, test_accuracy: 0.957800\n",
      "epoch: 76, test_error_value: 0.134501, test_accuracy: 0.957700\n",
      "epoch: 77, test_error_value: 0.138410, test_accuracy: 0.956700\n",
      "epoch: 78, test_error_value: 0.134554, test_accuracy: 0.958900\n",
      "epoch: 79, test_error_value: 0.135205, test_accuracy: 0.957300\n",
      "epoch: 80, test_error_value: 0.135415, test_accuracy: 0.957500\n",
      "epoch: 81, test_error_value: 0.135963, test_accuracy: 0.957800\n",
      "epoch: 82, test_error_value: 0.133622, test_accuracy: 0.956900\n",
      "epoch: 83, test_error_value: 0.139564, test_accuracy: 0.956600\n",
      "epoch: 84, test_error_value: 0.129113, test_accuracy: 0.958300\n",
      "epoch: 85, test_error_value: 0.131435, test_accuracy: 0.959200\n",
      "epoch: 86, test_error_value: 0.139372, test_accuracy: 0.957400\n",
      "epoch: 87, test_error_value: 0.138778, test_accuracy: 0.955800\n",
      "epoch: 88, test_error_value: 0.133149, test_accuracy: 0.957700\n",
      "epoch: 89, test_error_value: 0.128451, test_accuracy: 0.959800\n",
      "epoch: 90, test_error_value: 0.129970, test_accuracy: 0.957400\n",
      "epoch: 91, test_error_value: 0.127025, test_accuracy: 0.962900\n",
      "epoch: 92, test_error_value: 0.128116, test_accuracy: 0.961400\n",
      "epoch: 93, test_error_value: 0.127546, test_accuracy: 0.959700\n",
      "epoch: 94, test_error_value: 0.130300, test_accuracy: 0.957700\n",
      "epoch: 95, test_error_value: 0.121807, test_accuracy: 0.959100\n",
      "epoch: 96, test_error_value: 0.122388, test_accuracy: 0.960100\n",
      "epoch: 97, test_error_value: 0.127100, test_accuracy: 0.962400\n",
      "epoch: 98, test_error_value: 0.115686, test_accuracy: 0.962000\n",
      "epoch: 99, test_error_value: 0.122015, test_accuracy: 0.960600\n"
     ]
    },
    {
     "data": {
      "image/png": "[encoded data removed]",
      "text/plain": [
       "<matplotlib.figure.Figure at 0x130ec8ac8>"
      ]
     },
     "metadata": {},
     "output_type": "display_data"
    },
    {
     "name": "stdout",
     "output_type": "stream",
     "text": [
      "Error Index: 62, Prediction: 5, Ground Truth: 9\n",
      "Error Index: 66, Prediction: 0, Ground Truth: 6\n",
      "Error Index: 73, Prediction: 8, Ground Truth: 9\n",
      "Error Index: 95, Prediction: 8, Ground Truth: 4\n",
      "Error Index: 119, Prediction: 8, Ground Truth: 2\n",
      "Error Index: 125, Prediction: 4, Ground Truth: 9\n",
      "Error Index: 158, Prediction: 2, Ground Truth: 3\n",
      "Error Index: 160, Prediction: 1, Ground Truth: 4\n",
      "Error Index: 184, Prediction: 2, Ground Truth: 8\n",
      "Error Index: 242, Prediction: 0, Ground Truth: 8\n",
      "Optimization Finished!\n"
     ]
    },
    {
     "data": {
      "image/png": "[encoded data removed]",
      "text/plain": [
       "<matplotlib.figure.Figure at 0x10759eac8>"
      ]
     },
     "metadata": {},
     "output_type": "display_data"
    }
   ],
   "source": [
    "# Launch the tensorflow graph\n",
    "with tf.Session() as sess:\n",
    "    sess.run(init)\n",
    "    total_batch = int(math.ceil(mnist.train.num_examples/float(batch_size)))\n",
    "    \n",
    "    print(\"total batch: %d\" % total_batch)\n",
    "\n",
    "    epoch_list                  = []\n",
    "    train_error_value_list      = []\n",
    "    validation_error_value_list = []\n",
    "    test_error_value_list       = []\n",
    "    test_accuracy_list          = []\n",
    "            \n",
    "    # Training cycle\n",
    "    for epoch in range(training_epochs):\n",
    "\n",
    "        # Loop over all batches\n",
    "        for i in range(total_batch):\n",
    "            batch_images, batch_labels = mnist.train.next_batch(batch_size)\n",
    "            sess.run(optimizer, feed_dict={x: batch_images, y: batch_labels, keep_prob: 0.5})\n",
    "        \n",
    "        epoch_list.append(epoch)\n",
    "\n",
    "        # Train Error Value\n",
    "        t_error_value = sess.run(error, feed_dict={x: mnist.train.images, y: mnist.train.labels, keep_prob: 0.5})\n",
    "        train_error_value_list.append(t_error_value)\n",
    "\n",
    "        # Validation Error Value\n",
    "        v_error_value = sess.run(error, feed_dict={x: mnist.validation.images, y: mnist.validation.labels, keep_prob: 0.5})\n",
    "        validation_error_value_list.append(v_error_value)\n",
    "\n",
    "        printLossAccuracyForTestData(epoch, sess, test_error_value_list, test_accuracy_list)\n",
    "\n",
    "    drawErrorValues(epoch_list, train_error_value_list, validation_error_value_list, test_error_value_list, test_accuracy_list)\n",
    "\n",
    "    drawFalsePrediction(sess, 10)\n",
    "            \n",
    "    print(\"Optimization Finished!\")"
   ]
  },
  {
   "cell_type": "code",
   "execution_count": null,
   "metadata": {
    "collapsed": true
   },
   "outputs": [],
   "source": [
    ""
   ]
  }
 ],
 "metadata": {
  "anaconda-cloud": {},
  "kernelspec": {
   "display_name": "Python 3",
   "language": "python",
   "name": "python3"
  },
  "language_info": {
   "codemirror_mode": {
    "name": "ipython",
    "version": 3.0
   },
   "file_extension": ".py",
   "mimetype": "text/x-python",
   "name": "python",
   "nbconvert_exporter": "python",
   "pygments_lexer": "ipython3",
   "version": "3.6.0"
  }
 },
 "nbformat": 4,
 "nbformat_minor": 0
}