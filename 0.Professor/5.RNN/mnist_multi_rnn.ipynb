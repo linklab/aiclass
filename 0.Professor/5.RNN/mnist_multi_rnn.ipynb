{
 "cells": [
  {
   "cell_type": "markdown",
   "metadata": {},
   "source": [
    "### MNIST-RNN\n",
    "- [참고]\n",
    "  - http://www.modulabs.co.kr/DeepLAB_free/2107\n",
    "  - https://github.com/tgjeon/TensorFlow-Tutorials-for-Time-Series/blob/master/mnist-rnn.ipynb"
   ]
  },
  {
   "cell_type": "code",
   "execution_count": 1,
   "metadata": {
    "collapsed": false
   },
   "outputs": [
    {
     "name": "stdout",
     "output_type": "stream",
     "text": [
      "1.1.0\n"
     ]
    }
   ],
   "source": [
    "import tensorflow as tf\n",
    "from tensorflow.examples.tutorials.mnist import input_data\n",
    "import numpy as np\n",
    "import math\n",
    "import matplotlib.pyplot as plt\n",
    "%matplotlib inline\n",
    "print(tf.__version__)"
   ]
  },
  {
   "cell_type": "code",
   "execution_count": 2,
   "metadata": {
    "collapsed": false
   },
   "outputs": [
    {
     "name": "stdout",
     "output_type": "stream",
     "text": [
      "Extracting ../MNIST_data/train-images-idx3-ubyte.gz\n",
      "Extracting ../MNIST_data/train-labels-idx1-ubyte.gz\n",
      "Extracting ../MNIST_data/t10k-images-idx3-ubyte.gz\n",
      "Extracting ../MNIST_data/t10k-labels-idx1-ubyte.gz\n"
     ]
    }
   ],
   "source": [
    "mnist = input_data.read_data_sets(\"../MNIST_data/\", one_hot=True)"
   ]
  },
  {
   "cell_type": "code",
   "execution_count": 3,
   "metadata": {
    "collapsed": true
   },
   "outputs": [],
   "source": [
    "# configuration\n",
    "#                        output[-1] * W + b -> 10 labels for each image, output[-1]:[? 28], W:[28 10], B:[10]\n",
    "#                       ^ (O: output 28 vec from 28 vec input)\n",
    "#                       |\n",
    "#      +-+  +-+       +--+\n",
    "#      |1|->|2|-> ... |28| n_steps = 28\n",
    "#      +-+  +-+       +--+\n",
    "#       ^    ^    ...  ^\n",
    "#       |    |         |\n",
    "# img1:[28] [28]  ... [28]\n",
    "# img2:[28] [28]  ... [28]\n",
    "# img3:[28] [28]  ... [28]\n",
    "# ...\n",
    "# img128 or img256 (batch_size or test_size 256)\n",
    "# each n_inputs = n_state_units = 28"
   ]
  },
  {
   "cell_type": "code",
   "execution_count": 4,
   "metadata": {
    "collapsed": false
   },
   "outputs": [
    {
     "name": "stdout",
     "output_type": "stream",
     "text": [
      "rnn_cell.output_size: 56\n",
      "rnn_cell.state_size: (LSTMStateTuple(c=56, h=56), LSTMStateTuple(c=56, h=56), LSTMStateTuple(c=56, h=56))\n",
      "(LSTMStateTuple(c=<tf.Tensor 'MultiRNNCellZeroState/DropoutWrapperZeroState/BasicLSTMCellZeroState/zeros:0' shape=(128, 56) dtype=float32>, h=<tf.Tensor 'MultiRNNCellZeroState/DropoutWrapperZeroState/BasicLSTMCellZeroState/zeros_1:0' shape=(128, 56) dtype=float32>), LSTMStateTuple(c=<tf.Tensor 'MultiRNNCellZeroState/DropoutWrapperZeroState_1/BasicLSTMCellZeroState/zeros:0' shape=(128, 56) dtype=float32>, h=<tf.Tensor 'MultiRNNCellZeroState/DropoutWrapperZeroState_1/BasicLSTMCellZeroState/zeros_1:0' shape=(128, 56) dtype=float32>), LSTMStateTuple(c=<tf.Tensor 'MultiRNNCellZeroState/DropoutWrapperZeroState_2/BasicLSTMCellZeroState/zeros:0' shape=(128, 56) dtype=float32>, h=<tf.Tensor 'MultiRNNCellZeroState/DropoutWrapperZeroState_2/BasicLSTMCellZeroState/zeros_1:0' shape=(128, 56) dtype=float32>))\n",
      "\n",
      "Type of outputs: <class 'list'>, Type of state: <class 'tuple'>\n",
      "length of outputs: 28\n",
      "\n"
     ]
    }
   ],
   "source": [
    "batch_size = 128\n",
    "n_inputs = 28\n",
    "n_steps = 28\n",
    "n_state_units = 56\n",
    "learning_rate = 0.001\n",
    "n_classes = 10\n",
    "\n",
    "x = tf.placeholder(tf.float32, [None, n_steps, n_inputs])\n",
    "xt = tf.transpose(x, perm = [1, 0, 2])\n",
    "xr = tf.reshape(xt, shape = [-1, n_inputs])\n",
    "xs = tf.split(value=xr, num_or_size_splits=n_steps, axis=0)\n",
    "\n",
    "rnn_cell_1 = tf.contrib.rnn.BasicLSTMCell(num_units = n_state_units)\n",
    "dropout_rnn_cell_1 = tf.contrib.rnn.DropoutWrapper(rnn_cell_1, input_keep_prob=0.7, output_keep_prob=0.5)\n",
    "\n",
    "rnn_cell_2 = tf.contrib.rnn.BasicLSTMCell(num_units = n_state_units)\n",
    "dropout_rnn_cell_2 = tf.contrib.rnn.DropoutWrapper(rnn_cell_2, input_keep_prob=0.7, output_keep_prob=0.5)\n",
    "\n",
    "rnn_cell_3 = tf.contrib.rnn.BasicLSTMCell(num_units = n_state_units)\n",
    "dropout_rnn_cell_3 = tf.contrib.rnn.DropoutWrapper(rnn_cell_3, input_keep_prob=0.7, output_keep_prob=0.5)\n",
    "\n",
    "multi_rnn_cell = tf.contrib.rnn.MultiRNNCell([dropout_rnn_cell_1, dropout_rnn_cell_2, dropout_rnn_cell_3])\n",
    "\n",
    "initial_state = multi_rnn_cell.zero_state(batch_size=batch_size, dtype=tf.float32)\n",
    "print(\"rnn_cell.output_size:\", multi_rnn_cell.output_size)\n",
    "print(\"rnn_cell.state_size:\", multi_rnn_cell.state_size)\n",
    "print(initial_state)\n",
    "print()\n",
    "\n",
    "outputs, final_state = tf.contrib.rnn.static_rnn(multi_rnn_cell, xs, dtype=tf.float32)\n",
    "print(\"Type of outputs: {0}, Type of state: {1}\".format(type(outputs), type(final_state)))\n",
    "print(\"length of outputs:\", len(outputs))\n",
    "print()\n",
    "\n",
    "W2 = tf.Variable(tf.random_normal([n_state_units, n_classes]))\n",
    "B = tf.Variable(tf.random_normal([n_classes]))\n",
    "\n",
    "pred = tf.matmul(outputs[-1], W2) + B\n",
    "\n",
    "y = tf.placeholder(tf.float32, [None, n_classes])\n",
    "\n",
    "error = tf.reduce_mean(tf.nn.softmax_cross_entropy_with_logits(logits=pred, labels=y))\n",
    "optimizer = tf.train.AdamOptimizer(learning_rate=learning_rate).minimize(error)\n",
    "\n",
    "correct_pred = tf.equal(tf.argmax(pred,1), tf.argmax(y,1))\n",
    "accuracy = tf.reduce_mean(tf.cast(correct_pred, tf.float32))"
   ]
  },
  {
   "cell_type": "code",
   "execution_count": 5,
   "metadata": {
    "collapsed": false
   },
   "outputs": [],
   "source": [
    "def printLossAccuracyForTestData(epoch, sess, test_accuracy_list):\n",
    "    test_data = mnist.test.images.reshape((-1, n_steps, n_inputs))\n",
    "    test_labels = mnist.test.labels\n",
    "    accuracy_value, error_value = sess.run((accuracy, error), feed_dict={x: test_data, y: test_labels})\n",
    "    test_accuracy_list.append(accuracy_value)\n",
    "    print(\"epoch: {0}, test_error_value: {1}, test accuracy: {2}\".format(epoch, error_value, accuracy_value))\n",
    "\n",
    "def drawErrorValues(epoch_list, train_error_value_list, validation_error_value_list, test_accuracy_list):\n",
    "    fig = plt.figure(figsize=(20, 5))\n",
    "    plt.subplot(121)\n",
    "    plt.plot(epoch_list, train_error_value_list, 'r', label='Train')\n",
    "    plt.plot(epoch_list, validation_error_value_list, 'g', label='Validation')\n",
    "    plt.ylabel('Total Error')\n",
    "    plt.xlabel('Epochs')\n",
    "    plt.grid(True)\n",
    "    plt.legend(loc='upper right')\n",
    "\n",
    "    plt.subplot(122)\n",
    "    plt.plot(epoch_list, test_accuracy_list, 'b', label='Test')\n",
    "    plt.ylabel('Accuracy')\n",
    "    plt.xlabel('Epochs')\n",
    "    plt.yticks(np.arange(min(test_accuracy_list), max(test_accuracy_list), 0.05))\n",
    "    plt.grid(True)\n",
    "    plt.legend(loc='lower right')            \n",
    "    plt.show()\n",
    "    \n",
    "def drawFalsePrediction(epoch, sess, numPrintImages):\n",
    "    test_data = mnist.test.images.reshape((-1, n_steps, n_inputs))\n",
    "    test_labels = mnist.test.labels\n",
    "    correct_pred_value = sess.run(correct_pred, feed_dict={x: test_data, y: test_labels})\n",
    "    ground_truth = sess.run(tf.argmax(y, 1), feed_dict={y: test_labels})\n",
    "    prediction = sess.run(tf.argmax(pred, 1), feed_dict={x: test_data})\n",
    "\n",
    "    fig = plt.figure(figsize=(20, 5))\n",
    "    j = 1\n",
    "    for i in range(len(correct_pred_value)):\n",
    "        if (j > numPrintImages):\n",
    "            break;\n",
    "        if (not correct_pred_value[i]):\n",
    "            ground_truth_num = mnist.test.labels[i]\n",
    "            print(\"Error Index: {0}, Prediction: {1}, Ground Truth: {2}\".format(i, prediction[i], ground_truth[i]))\n",
    "            img = np.array(mnist.test.images[i])\n",
    "            img.shape = (28, 28)\n",
    "            plt.subplot(1, numPrintImages, j)\n",
    "            plt.imshow(img)\n",
    "            j += 1"
   ]
  },
  {
   "cell_type": "code",
   "execution_count": 6,
   "metadata": {
    "collapsed": false
   },
   "outputs": [
    {
     "name": "stdout",
     "output_type": "stream",
     "text": [
      "mnist.train.num_examples 55000\n",
      "batch_size 128\n",
      "Total batch: 430\n",
      "epoch: 0, test_error_value: 0.42889204621315, test accuracy: 0.8665000200271606\n",
      "epoch: 1, test_error_value: 0.2776442766189575, test accuracy: 0.920199990272522\n",
      "epoch: 2, test_error_value: 0.22301435470581055, test accuracy: 0.9368000030517578\n",
      "epoch: 3, test_error_value: 0.16921836137771606, test accuracy: 0.9505000114440918\n",
      "epoch: 4, test_error_value: 0.1472999006509781, test accuracy: 0.9571999907493591\n",
      "epoch: 5, test_error_value: 0.16247721016407013, test accuracy: 0.9545000195503235\n",
      "epoch: 6, test_error_value: 0.1373734176158905, test accuracy: 0.9605000019073486\n",
      "epoch: 7, test_error_value: 0.13109084963798523, test accuracy: 0.9639999866485596\n",
      "epoch: 8, test_error_value: 0.11206384003162384, test accuracy: 0.9702000021934509\n",
      "epoch: 9, test_error_value: 0.1026286631822586, test accuracy: 0.9731000065803528\n",
      "epoch: 10, test_error_value: 0.1013963371515274, test accuracy: 0.9721999764442444\n",
      "epoch: 11, test_error_value: 0.10308941453695297, test accuracy: 0.972000002861023\n",
      "epoch: 12, test_error_value: 0.09199996292591095, test accuracy: 0.9745000004768372\n",
      "epoch: 13, test_error_value: 0.08741209656000137, test accuracy: 0.974399983882904\n",
      "epoch: 14, test_error_value: 0.0963045135140419, test accuracy: 0.9746999740600586\n",
      "epoch: 15, test_error_value: 0.09332478046417236, test accuracy: 0.9754999876022339\n",
      "epoch: 16, test_error_value: 0.08376401662826538, test accuracy: 0.977400004863739\n",
      "epoch: 17, test_error_value: 0.08381086587905884, test accuracy: 0.9790999889373779\n",
      "epoch: 18, test_error_value: 0.0725201964378357, test accuracy: 0.9818999767303467\n",
      "epoch: 19, test_error_value: 0.07985564321279526, test accuracy: 0.979200005531311\n",
      "epoch: 20, test_error_value: 0.08284305781126022, test accuracy: 0.9782999753952026\n",
      "epoch: 21, test_error_value: 0.07351568341255188, test accuracy: 0.9812999963760376\n",
      "epoch: 22, test_error_value: 0.07940444350242615, test accuracy: 0.9790999889373779\n",
      "epoch: 23, test_error_value: 0.07321391254663467, test accuracy: 0.9793999791145325\n",
      "epoch: 24, test_error_value: 0.0707077905535698, test accuracy: 0.9812999963760376\n",
      "epoch: 25, test_error_value: 0.07826295495033264, test accuracy: 0.9779999852180481\n",
      "epoch: 26, test_error_value: 0.07243897020816803, test accuracy: 0.9815000295639038\n",
      "epoch: 27, test_error_value: 0.06878193467855453, test accuracy: 0.9805999994277954\n",
      "epoch: 28, test_error_value: 0.06736407428979874, test accuracy: 0.9822999835014343\n",
      "epoch: 29, test_error_value: 0.06851372122764587, test accuracy: 0.9811000227928162\n",
      "epoch: 30, test_error_value: 0.06700314581394196, test accuracy: 0.9825999736785889\n",
      "epoch: 31, test_error_value: 0.07306112349033356, test accuracy: 0.9807999730110168\n",
      "epoch: 32, test_error_value: 0.07078570872545242, test accuracy: 0.983299970626831\n",
      "epoch: 33, test_error_value: 0.06787769496440887, test accuracy: 0.9819999933242798\n",
      "epoch: 34, test_error_value: 0.06491629034280777, test accuracy: 0.9822999835014343\n",
      "epoch: 35, test_error_value: 0.06262998282909393, test accuracy: 0.9829999804496765\n",
      "epoch: 36, test_error_value: 0.06918387860059738, test accuracy: 0.982699990272522\n",
      "epoch: 37, test_error_value: 0.06667659431695938, test accuracy: 0.9818999767303467\n",
      "epoch: 38, test_error_value: 0.06817487627267838, test accuracy: 0.9817000031471252\n",
      "epoch: 39, test_error_value: 0.07170873135328293, test accuracy: 0.9817000031471252\n",
      "epoch: 40, test_error_value: 0.07022558152675629, test accuracy: 0.9840999841690063\n",
      "epoch: 41, test_error_value: 0.06721586734056473, test accuracy: 0.9829999804496765\n",
      "epoch: 42, test_error_value: 0.06564663350582123, test accuracy: 0.9821000099182129\n",
      "epoch: 43, test_error_value: 0.06795787066221237, test accuracy: 0.9828000068664551\n",
      "epoch: 44, test_error_value: 0.06403999775648117, test accuracy: 0.9833999872207642\n",
      "epoch: 45, test_error_value: 0.07150488346815109, test accuracy: 0.9822999835014343\n",
      "epoch: 46, test_error_value: 0.06868742406368256, test accuracy: 0.9811000227928162\n",
      "epoch: 47, test_error_value: 0.0669720470905304, test accuracy: 0.9821000099182129\n",
      "epoch: 48, test_error_value: 0.06359051167964935, test accuracy: 0.9829999804496765\n",
      "epoch: 49, test_error_value: 0.0652468279004097, test accuracy: 0.984000027179718\n",
      "epoch: 50, test_error_value: 0.05948236212134361, test accuracy: 0.9853000044822693\n",
      "epoch: 51, test_error_value: 0.05971226096153259, test accuracy: 0.9854000210762024\n",
      "epoch: 52, test_error_value: 0.06270162761211395, test accuracy: 0.9847000241279602\n",
      "epoch: 53, test_error_value: 0.06278524547815323, test accuracy: 0.9833999872207642\n",
      "epoch: 54, test_error_value: 0.0641661211848259, test accuracy: 0.9836999773979187\n",
      "epoch: 55, test_error_value: 0.07553380727767944, test accuracy: 0.9815999865531921\n",
      "epoch: 56, test_error_value: 0.06014414131641388, test accuracy: 0.98580002784729\n",
      "epoch: 57, test_error_value: 0.047810912132263184, test accuracy: 0.9871000051498413\n",
      "epoch: 58, test_error_value: 0.05523068830370903, test accuracy: 0.9854000210762024\n",
      "epoch: 59, test_error_value: 0.05744820460677147, test accuracy: 0.9850999712944031\n",
      "epoch: 60, test_error_value: 0.06558779627084732, test accuracy: 0.9833999872207642\n",
      "epoch: 61, test_error_value: 0.05751234292984009, test accuracy: 0.9854000210762024\n",
      "epoch: 62, test_error_value: 0.05274157598614693, test accuracy: 0.9855999946594238\n",
      "epoch: 63, test_error_value: 0.060170408338308334, test accuracy: 0.984499990940094\n",
      "epoch: 64, test_error_value: 0.06238146871328354, test accuracy: 0.984499990940094\n",
      "epoch: 65, test_error_value: 0.054152440279722214, test accuracy: 0.986299991607666\n",
      "epoch: 66, test_error_value: 0.0549769401550293, test accuracy: 0.9850999712944031\n",
      "epoch: 67, test_error_value: 0.05919996276497841, test accuracy: 0.9861000180244446\n",
      "epoch: 68, test_error_value: 0.05322733148932457, test accuracy: 0.9857000112533569\n",
      "epoch: 69, test_error_value: 0.052652183920145035, test accuracy: 0.9865999817848206\n",
      "epoch: 70, test_error_value: 0.062350306659936905, test accuracy: 0.9836999773979187\n",
      "epoch: 71, test_error_value: 0.05552731826901436, test accuracy: 0.9861000180244446\n",
      "epoch: 72, test_error_value: 0.05577365681529045, test accuracy: 0.9847000241279602\n",
      "epoch: 73, test_error_value: 0.055049970746040344, test accuracy: 0.9865000247955322\n",
      "epoch: 74, test_error_value: 0.053882185369729996, test accuracy: 0.9855999946594238\n",
      "epoch: 75, test_error_value: 0.06397517025470734, test accuracy: 0.984000027179718\n",
      "epoch: 76, test_error_value: 0.05569860711693764, test accuracy: 0.9854999780654907\n",
      "epoch: 77, test_error_value: 0.05631846934556961, test accuracy: 0.9855999946594238\n",
      "epoch: 78, test_error_value: 0.05987262725830078, test accuracy: 0.9847999811172485\n",
      "epoch: 79, test_error_value: 0.053814154118299484, test accuracy: 0.9858999848365784\n",
      "epoch: 80, test_error_value: 0.05539332330226898, test accuracy: 0.9848999977111816\n",
      "epoch: 81, test_error_value: 0.05754740536212921, test accuracy: 0.986299991607666\n",
      "epoch: 82, test_error_value: 0.050070010125637054, test accuracy: 0.9872000217437744\n",
      "epoch: 83, test_error_value: 0.0524175763130188, test accuracy: 0.986299991607666\n",
      "epoch: 84, test_error_value: 0.05443790182471275, test accuracy: 0.98580002784729\n",
      "epoch: 85, test_error_value: 0.05253615602850914, test accuracy: 0.9872999787330627\n",
      "epoch: 86, test_error_value: 0.062245823442935944, test accuracy: 0.9847000241279602\n",
      "epoch: 87, test_error_value: 0.05860961973667145, test accuracy: 0.9860000014305115\n",
      "epoch: 88, test_error_value: 0.061495471745729446, test accuracy: 0.9858999848365784\n",
      "epoch: 89, test_error_value: 0.05779951810836792, test accuracy: 0.9851999878883362\n",
      "epoch: 90, test_error_value: 0.06278929114341736, test accuracy: 0.9847000241279602\n",
      "epoch: 91, test_error_value: 0.053147949278354645, test accuracy: 0.9872000217437744\n",
      "epoch: 92, test_error_value: 0.057818468660116196, test accuracy: 0.9854000210762024\n",
      "epoch: 93, test_error_value: 0.05159315839409828, test accuracy: 0.986299991607666\n",
      "epoch: 94, test_error_value: 0.059218499809503555, test accuracy: 0.9848999977111816\n",
      "epoch: 95, test_error_value: 0.058122094720602036, test accuracy: 0.9850999712944031\n",
      "epoch: 96, test_error_value: 0.06040416285395622, test accuracy: 0.9847000241279602\n",
      "epoch: 97, test_error_value: 0.06145534664392471, test accuracy: 0.9854999780654907\n",
      "epoch: 98, test_error_value: 0.05678297206759453, test accuracy: 0.9850999712944031\n",
      "epoch: 99, test_error_value: 0.052847638726234436, test accuracy: 0.9876999855041504\n",
      "train complete!\n"
     ]
    },
    {
     "data": {
      "image/png": "[encoded data removed]",
      "text/plain": [
       "<matplotlib.figure.Figure at 0x1204a9588>"
      ]
     },
     "metadata": {},
     "output_type": "display_data"
    },
    {
     "name": "stdout",
     "output_type": "stream",
     "text": [
      "Error Index: 115, Prediction: 4, Ground Truth: 4\n",
      "Error Index: 199, Prediction: 2, Ground Truth: 2\n",
      "Error Index: 247, Prediction: 6, Ground Truth: 4\n",
      "Error Index: 259, Prediction: 0, Ground Truth: 6\n",
      "Error Index: 282, Prediction: 7, Ground Truth: 7\n",
      "Error Index: 340, Prediction: 3, Ground Truth: 5\n",
      "Error Index: 445, Prediction: 0, Ground Truth: 6\n",
      "Error Index: 447, Prediction: 9, Ground Truth: 4\n",
      "Error Index: 449, Prediction: 3, Ground Truth: 3\n",
      "Error Index: 582, Prediction: 3, Ground Truth: 8\n"
     ]
    },
    {
     "data": {
      "image/png": "[encoded data removed]",
      "text/plain": [
       "<matplotlib.figure.Figure at 0x13c4c3ac8>"
      ]
     },
     "metadata": {},
     "output_type": "display_data"
    }
   ],
   "source": [
    "init = tf.global_variables_initializer()\n",
    "\n",
    "display_step = 1\n",
    "max_training_epochs = 100\n",
    "batch_size = 128\n",
    "n_inputs = 28\n",
    "n_steps = 28\n",
    "\n",
    "epoch_list                  = []\n",
    "train_error_value_list      = []\n",
    "validation_error_value_list = []\n",
    "test_error_value_list       = []\n",
    "test_accuracy_list          = []\n",
    "\n",
    "with tf.Session() as sess:\n",
    "    sess.run(init)\n",
    "    \n",
    "    print(\"mnist.train.num_examples\", mnist.train.num_examples)\n",
    "    print(\"batch_size\", batch_size)\n",
    "    total_batch = int(math.ceil(mnist.train.num_examples / float(batch_size)))\n",
    "    print(\"Total batch: {0}\".format(total_batch))\n",
    "    \n",
    "    for epoch in range(max_training_epochs):\n",
    "        for i in range(total_batch):\n",
    "            batch_images, batch_labels = mnist.train.next_batch(batch_size)\n",
    "            batch_images = batch_images.reshape((batch_size, n_steps, n_inputs))\n",
    "            sess.run((optimizer, error), feed_dict={x: batch_images, y: batch_labels})\n",
    "        \n",
    "        epoch_list.append(epoch)\n",
    "        \n",
    "        t_images = mnist.train.images.reshape((mnist.train.num_examples, n_steps, n_inputs))\n",
    "        t_labels = mnist.train.labels\n",
    "        t_error_value = sess.run(error, feed_dict={x: t_images, y: t_labels})\n",
    "        train_error_value_list.append(t_error_value)\n",
    "        \n",
    "        v_images = mnist.validation.images.reshape((mnist.validation.num_examples, n_steps, n_inputs))\n",
    "        v_labels = mnist.validation.labels\n",
    "        v_error_value = sess.run(error, feed_dict={x: v_images, y: v_labels})\n",
    "        validation_error_value_list.append(v_error_value)\n",
    "            \n",
    "        printLossAccuracyForTestData(epoch, sess, test_accuracy_list)\n",
    "            \n",
    "    print(\"train complete!\")\n",
    "    drawErrorValues(epoch_list, train_error_value_list, validation_error_value_list, test_accuracy_list)\n",
    "    drawFalsePrediction(epoch, sess, 10)"
   ]
  },
  {
   "cell_type": "code",
   "execution_count": null,
   "metadata": {
    "collapsed": true
   },
   "outputs": [],
   "source": []
  }
 ],
 "metadata": {
  "kernelspec": {
   "display_name": "Python 3",
   "language": "python",
   "name": "python3"
  },
  "language_info": {
   "codemirror_mode": {
    "name": "ipython",
    "version": 3
   },
   "file_extension": ".py",
   "mimetype": "text/x-python",
   "name": "python",
   "nbconvert_exporter": "python",
   "pygments_lexer": "ipython3",
   "version": "3.6.0"
  }
 },
 "nbformat": 4,
 "nbformat_minor": 0
}
