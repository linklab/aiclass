{
 "cells": [
  {
   "cell_type": "markdown",
   "metadata": {},
   "source": [
    "### MNIST-RNN\n",
    "- [참고]\n",
    "  - http://www.modulabs.co.kr/DeepLAB_free/2107\n",
    "  - https://github.com/tgjeon/TensorFlow-Tutorials-for-Time-Series/blob/master/mnist-rnn.ipynb"
   ]
  },
  {
   "cell_type": "code",
   "execution_count": 1,
   "metadata": {
    "collapsed": false
   },
   "outputs": [
    {
     "name": "stdout",
     "output_type": "stream",
     "text": [
      "1.1.0\n"
     ]
    }
   ],
   "source": [
    "import tensorflow as tf\n",
    "from tensorflow.examples.tutorials.mnist import input_data\n",
    "import numpy as np\n",
    "import math\n",
    "import matplotlib.pyplot as plt\n",
    "%matplotlib inline\n",
    "print(tf.__version__)"
   ]
  },
  {
   "cell_type": "code",
   "execution_count": 2,
   "metadata": {
    "collapsed": false
   },
   "outputs": [
    {
     "name": "stdout",
     "output_type": "stream",
     "text": [
      "Extracting ../MNIST_data/train-images-idx3-ubyte.gz\n",
      "Extracting ../MNIST_data/train-labels-idx1-ubyte.gz\n",
      "Extracting ../MNIST_data/t10k-images-idx3-ubyte.gz\n",
      "Extracting ../MNIST_data/t10k-labels-idx1-ubyte.gz\n"
     ]
    }
   ],
   "source": [
    "mnist = input_data.read_data_sets(\"../MNIST_data/\", one_hot=True)"
   ]
  },
  {
   "cell_type": "code",
   "execution_count": 3,
   "metadata": {
    "collapsed": true
   },
   "outputs": [],
   "source": [
    "# configuration\n",
    "#                        output[-1] * W + b -> 10 labels for each image, output[-1]:[? 28], W:[28 10], B:[10]\n",
    "#                       ^ (O: output 28 vec from 28 vec input)\n",
    "#                       |\n",
    "#      +-+  +-+       +--+\n",
    "#      |1|->|2|-> ... |28| n_steps = 28\n",
    "#      +-+  +-+       +--+\n",
    "#       ^    ^    ...  ^\n",
    "#       |    |         |\n",
    "# img1:[28] [28]  ... [28]\n",
    "# img2:[28] [28]  ... [28]\n",
    "# img3:[28] [28]  ... [28]\n",
    "# ...\n",
    "# img128 or img256 (batch_size or test_size 256)\n",
    "# each n_inputs = n_state_units = 28"
   ]
  },
  {
   "cell_type": "code",
   "execution_count": 4,
   "metadata": {
    "collapsed": false
   },
   "outputs": [
    {
     "name": "stdout",
     "output_type": "stream",
     "text": [
      "rnn_cell.output_size: 56\n",
      "rnn_cell.state_size: LSTMStateTuple(c=56, h=56)\n",
      "LSTMStateTuple(c=<tf.Tensor 'BasicLSTMCellZeroState/zeros:0' shape=(128, 56) dtype=float32>, h=<tf.Tensor 'BasicLSTMCellZeroState/zeros_1:0' shape=(128, 56) dtype=float32>)\n",
      "\n",
      "Type of outputs: <class 'list'>, Type of state: <class 'tensorflow.contrib.rnn.python.ops.core_rnn_cell_impl.LSTMStateTuple'>\n",
      "length of outputs: 28\n",
      "\n"
     ]
    }
   ],
   "source": [
    "batch_size = 128\n",
    "n_inputs = 28\n",
    "n_steps = 28\n",
    "n_state_units = 56\n",
    "learning_rate = 0.001\n",
    "n_classes = 10\n",
    "\n",
    "x = tf.placeholder(tf.float32, [None, n_steps, n_inputs])\n",
    "xt = tf.transpose(x, perm = [1, 0, 2])\n",
    "xr = tf.reshape(xt, shape = [-1, n_inputs])\n",
    "xs = tf.split(value=xr, num_or_size_splits=n_steps, axis=0)\n",
    "\n",
    "#rnn_cell = tf.contrib.rnn.BasicRNNCell(num_units = n_state_units)\n",
    "rnn_cell = tf.contrib.rnn.BasicLSTMCell(num_units = n_state_units)\n",
    "initial_state = rnn_cell.zero_state(batch_size=batch_size, dtype=tf.float32)\n",
    "print(\"rnn_cell.output_size:\", rnn_cell.output_size)\n",
    "print(\"rnn_cell.state_size:\", rnn_cell.state_size)\n",
    "print(initial_state)\n",
    "print()\n",
    "\n",
    "outputs, final_state = tf.contrib.rnn.static_rnn(rnn_cell, xs, dtype=tf.float32)\n",
    "print(\"Type of outputs: {0}, Type of state: {1}\".format(type(outputs), type(final_state)))\n",
    "print(\"length of outputs:\", len(outputs))\n",
    "print()\n",
    "\n",
    "W2 = tf.Variable(tf.random_normal([n_state_units, n_classes]))\n",
    "B = tf.Variable(tf.random_normal([n_classes]))\n",
    "\n",
    "pred = tf.matmul(outputs[-1], W2) + B\n",
    "\n",
    "y = tf.placeholder(tf.float32, [None, n_classes])\n",
    "\n",
    "error = tf.reduce_mean(tf.nn.softmax_cross_entropy_with_logits(logits=pred, labels=y))\n",
    "optimizer = tf.train.AdamOptimizer(learning_rate=learning_rate).minimize(error)\n",
    "\n",
    "correct_pred = tf.equal(tf.argmax(pred,1), tf.argmax(y,1))\n",
    "accuracy = tf.reduce_mean(tf.cast(correct_pred, tf.float32))"
   ]
  },
  {
   "cell_type": "code",
   "execution_count": 5,
   "metadata": {
    "collapsed": false
   },
   "outputs": [],
   "source": [
    "def printLossAccuracyForTestData(epoch, sess, test_accuracy_list):\n",
    "    test_data = mnist.test.images.reshape((-1, n_steps, n_inputs))\n",
    "    test_labels = mnist.test.labels\n",
    "    accuracy_value, error_value = sess.run((accuracy, error), feed_dict={x: test_data, y: test_labels})\n",
    "    test_accuracy_list.append(accuracy_value)\n",
    "    print(\"epoch: {0}, test_error_value: {1}, test accuracy: {2}\".format(epoch, error_value, accuracy_value))\n",
    "\n",
    "def drawErrorValues(epoch_list, train_error_value_list, validation_error_value_list, test_accuracy_list):\n",
    "    fig = plt.figure(figsize=(20, 5))\n",
    "    plt.subplot(121)\n",
    "    plt.plot(epoch_list, train_error_value_list, 'r', label='Train')\n",
    "    plt.plot(epoch_list, validation_error_value_list, 'g', label='Validation')\n",
    "    plt.ylabel('Total Error')\n",
    "    plt.xlabel('Epochs')\n",
    "    plt.grid(True)\n",
    "    plt.legend(loc='upper right')\n",
    "\n",
    "    plt.subplot(122)\n",
    "    plt.plot(epoch_list, test_accuracy_list, 'b', label='Test')\n",
    "    plt.ylabel('Accuracy')\n",
    "    plt.xlabel('Epochs')\n",
    "    plt.yticks(np.arange(min(test_accuracy_list), max(test_accuracy_list), 0.05))\n",
    "    plt.grid(True)\n",
    "    plt.legend(loc='lower right')            \n",
    "    plt.show()\n",
    "    \n",
    "def drawFalsePrediction(epoch, sess, numPrintImages):\n",
    "    test_data = mnist.test.images.reshape((-1, n_steps, n_inputs))\n",
    "    test_labels = mnist.test.labels\n",
    "    correct_pred_value = sess.run(correct_pred, feed_dict={x: test_data, y: test_labels})\n",
    "    ground_truth = sess.run(tf.argmax(y, 1), feed_dict={y: test_labels})\n",
    "    prediction = sess.run(tf.argmax(pred, 1), feed_dict={x: test_data})\n",
    "\n",
    "    fig = plt.figure(figsize=(20, 5))\n",
    "    j = 1\n",
    "    for i in range(len(correct_pred_value)):\n",
    "        if (j > numPrintImages):\n",
    "            break;\n",
    "        if (not correct_pred_value[i]):\n",
    "            ground_truth_num = mnist.test.labels[i]\n",
    "            print(\"Error Index: {0}, Prediction: {1}, Ground Truth: {2}\".format(i, prediction[i], ground_truth[i]))\n",
    "            img = np.array(mnist.test.images[i])\n",
    "            img.shape = (28, 28)\n",
    "            plt.subplot(1, numPrintImages, j)\n",
    "            plt.imshow(img)\n",
    "            j += 1"
   ]
  },
  {
   "cell_type": "code",
   "execution_count": 6,
   "metadata": {
    "collapsed": false
   },
   "outputs": [
    {
     "name": "stdout",
     "output_type": "stream",
     "text": [
      "mnist.train.num_examples 55000\n",
      "batch_size 128\n",
      "Total batch: 430\n",
      "epoch: 0, test_error_value: 0.24169917404651642, test accuracy: 0.9269999861717224\n",
      "epoch: 1, test_error_value: 0.15371936559677124, test accuracy: 0.9517999887466431\n",
      "epoch: 2, test_error_value: 0.12103129923343658, test accuracy: 0.9602000117301941\n",
      "epoch: 3, test_error_value: 0.09868147224187851, test accuracy: 0.9678999781608582\n",
      "epoch: 4, test_error_value: 0.08608122915029526, test accuracy: 0.9721999764442444\n",
      "epoch: 5, test_error_value: 0.07247398048639297, test accuracy: 0.9769999980926514\n",
      "epoch: 6, test_error_value: 0.07057272642850876, test accuracy: 0.9765999913215637\n",
      "epoch: 7, test_error_value: 0.07463515549898148, test accuracy: 0.9757000207901001\n",
      "epoch: 8, test_error_value: 0.06403790414333344, test accuracy: 0.9814000129699707\n",
      "epoch: 9, test_error_value: 0.05264980345964432, test accuracy: 0.9832000136375427\n",
      "epoch: 10, test_error_value: 0.058648571372032166, test accuracy: 0.9815000295639038\n",
      "epoch: 11, test_error_value: 0.060451965779066086, test accuracy: 0.9818000197410583\n",
      "epoch: 12, test_error_value: 0.05407562851905823, test accuracy: 0.9828000068664551\n",
      "epoch: 13, test_error_value: 0.05381638929247856, test accuracy: 0.9839000105857849\n",
      "epoch: 14, test_error_value: 0.06526758521795273, test accuracy: 0.9810000061988831\n",
      "epoch: 15, test_error_value: 0.054090362042188644, test accuracy: 0.9833999872207642\n",
      "epoch: 16, test_error_value: 0.07192806899547577, test accuracy: 0.9782000184059143\n",
      "epoch: 17, test_error_value: 0.05000551789999008, test accuracy: 0.9847999811172485\n",
      "epoch: 18, test_error_value: 0.050669435411691666, test accuracy: 0.9843999743461609\n",
      "epoch: 19, test_error_value: 0.053859204053878784, test accuracy: 0.9839000105857849\n",
      "epoch: 20, test_error_value: 0.05668436363339424, test accuracy: 0.9835000038146973\n",
      "epoch: 21, test_error_value: 0.06243979558348656, test accuracy: 0.9815000295639038\n",
      "epoch: 22, test_error_value: 0.05337776616215706, test accuracy: 0.9853000044822693\n",
      "epoch: 23, test_error_value: 0.05665627866983414, test accuracy: 0.9850000143051147\n",
      "epoch: 24, test_error_value: 0.04621744900941849, test accuracy: 0.9864000082015991\n",
      "epoch: 25, test_error_value: 0.05420253798365593, test accuracy: 0.9848999977111816\n",
      "epoch: 26, test_error_value: 0.0592624694108963, test accuracy: 0.9840999841690063\n",
      "epoch: 27, test_error_value: 0.0534835159778595, test accuracy: 0.9836000204086304\n",
      "epoch: 28, test_error_value: 0.05420888215303421, test accuracy: 0.9847000241279602\n",
      "epoch: 29, test_error_value: 0.05566537007689476, test accuracy: 0.9850000143051147\n",
      "epoch: 30, test_error_value: 0.0614619143307209, test accuracy: 0.9846000075340271\n",
      "epoch: 31, test_error_value: 0.06044485419988632, test accuracy: 0.9836999773979187\n",
      "epoch: 32, test_error_value: 0.05738242343068123, test accuracy: 0.9847000241279602\n",
      "epoch: 33, test_error_value: 0.05218643695116043, test accuracy: 0.986299991607666\n",
      "epoch: 34, test_error_value: 0.05318913608789444, test accuracy: 0.9855999946594238\n",
      "epoch: 35, test_error_value: 0.056448377668857574, test accuracy: 0.98580002784729\n",
      "epoch: 36, test_error_value: 0.05225729942321777, test accuracy: 0.9858999848365784\n",
      "epoch: 37, test_error_value: 0.0522799976170063, test accuracy: 0.9860000014305115\n",
      "epoch: 38, test_error_value: 0.0543174184858799, test accuracy: 0.9853000044822693\n",
      "epoch: 39, test_error_value: 0.05678332969546318, test accuracy: 0.9850999712944031\n",
      "epoch: 40, test_error_value: 0.05209391936659813, test accuracy: 0.9861999750137329\n",
      "epoch: 41, test_error_value: 0.05215827748179436, test accuracy: 0.9866999983787537\n",
      "epoch: 42, test_error_value: 0.0593559630215168, test accuracy: 0.9847999811172485\n",
      "epoch: 43, test_error_value: 0.05905084311962128, test accuracy: 0.9850999712944031\n",
      "epoch: 44, test_error_value: 0.06734155118465424, test accuracy: 0.9830999970436096\n",
      "epoch: 45, test_error_value: 0.053221240639686584, test accuracy: 0.9861999750137329\n",
      "epoch: 46, test_error_value: 0.056073229759931564, test accuracy: 0.9865000247955322\n",
      "epoch: 47, test_error_value: 0.06654956191778183, test accuracy: 0.9836999773979187\n",
      "epoch: 48, test_error_value: 0.061675917357206345, test accuracy: 0.9850000143051147\n",
      "epoch: 49, test_error_value: 0.05594633147120476, test accuracy: 0.9865999817848206\n",
      "epoch: 50, test_error_value: 0.0552787110209465, test accuracy: 0.9868999719619751\n",
      "epoch: 51, test_error_value: 0.05240429565310478, test accuracy: 0.9868000149726868\n",
      "epoch: 52, test_error_value: 0.054270025342702866, test accuracy: 0.9868999719619751\n",
      "epoch: 53, test_error_value: 0.05149265006184578, test accuracy: 0.9869999885559082\n",
      "epoch: 54, test_error_value: 0.06898246705532074, test accuracy: 0.984499990940094\n",
      "epoch: 55, test_error_value: 0.060185179114341736, test accuracy: 0.9869999885559082\n",
      "epoch: 56, test_error_value: 0.06444081664085388, test accuracy: 0.9836999773979187\n",
      "epoch: 57, test_error_value: 0.06388552486896515, test accuracy: 0.9847999811172485\n",
      "epoch: 58, test_error_value: 0.057388611137866974, test accuracy: 0.9871000051498413\n",
      "epoch: 59, test_error_value: 0.05257686600089073, test accuracy: 0.9872999787330627\n",
      "epoch: 60, test_error_value: 0.05771316960453987, test accuracy: 0.987500011920929\n",
      "epoch: 61, test_error_value: 0.064585842192173, test accuracy: 0.9861999750137329\n",
      "epoch: 62, test_error_value: 0.06441330909729004, test accuracy: 0.9868999719619751\n",
      "epoch: 63, test_error_value: 0.06380347162485123, test accuracy: 0.9860000014305115\n",
      "epoch: 64, test_error_value: 0.051404498517513275, test accuracy: 0.9886000156402588\n",
      "epoch: 65, test_error_value: 0.053605321794748306, test accuracy: 0.9878000020980835\n",
      "epoch: 66, test_error_value: 0.05975867807865143, test accuracy: 0.9858999848365784\n",
      "epoch: 67, test_error_value: 0.059711139649152756, test accuracy: 0.9860000014305115\n",
      "epoch: 68, test_error_value: 0.06080830842256546, test accuracy: 0.9864000082015991\n",
      "epoch: 69, test_error_value: 0.05940229445695877, test accuracy: 0.9871000051498413\n",
      "epoch: 70, test_error_value: 0.05953587591648102, test accuracy: 0.9865000247955322\n",
      "epoch: 71, test_error_value: 0.059969209134578705, test accuracy: 0.9855999946594238\n",
      "epoch: 72, test_error_value: 0.055613670498132706, test accuracy: 0.988099992275238\n",
      "epoch: 73, test_error_value: 0.06523416191339493, test accuracy: 0.9854000210762024\n",
      "epoch: 74, test_error_value: 0.06444019824266434, test accuracy: 0.9857000112533569\n",
      "epoch: 75, test_error_value: 0.05322132632136345, test accuracy: 0.988099992275238\n",
      "epoch: 76, test_error_value: 0.054741326719522476, test accuracy: 0.9884999990463257\n",
      "epoch: 77, test_error_value: 0.05452330410480499, test accuracy: 0.9886999726295471\n",
      "epoch: 78, test_error_value: 0.055040400475263596, test accuracy: 0.9886999726295471\n",
      "epoch: 79, test_error_value: 0.057305194437503815, test accuracy: 0.9883999824523926\n",
      "epoch: 80, test_error_value: 0.0741828978061676, test accuracy: 0.9836999773979187\n",
      "epoch: 81, test_error_value: 0.06150247901678085, test accuracy: 0.9860000014305115\n",
      "epoch: 82, test_error_value: 0.05232711881399155, test accuracy: 0.9878000020980835\n",
      "epoch: 83, test_error_value: 0.05135827511548996, test accuracy: 0.9886000156402588\n",
      "epoch: 84, test_error_value: 0.054013725370168686, test accuracy: 0.9886999726295471\n",
      "epoch: 85, test_error_value: 0.05418097600340843, test accuracy: 0.9886000156402588\n",
      "epoch: 86, test_error_value: 0.05635154992341995, test accuracy: 0.9883000254631042\n",
      "epoch: 87, test_error_value: 0.057695526629686356, test accuracy: 0.9886000156402588\n",
      "epoch: 88, test_error_value: 0.058195922523736954, test accuracy: 0.9884999990463257\n",
      "epoch: 89, test_error_value: 0.060256749391555786, test accuracy: 0.988099992275238\n",
      "epoch: 90, test_error_value: 0.061236266046762466, test accuracy: 0.9886999726295471\n",
      "epoch: 91, test_error_value: 0.0642244964838028, test accuracy: 0.9846000075340271\n",
      "epoch: 92, test_error_value: 0.06101656332612038, test accuracy: 0.9861000180244446\n",
      "epoch: 93, test_error_value: 0.05572809278964996, test accuracy: 0.9883000254631042\n",
      "epoch: 94, test_error_value: 0.05623029172420502, test accuracy: 0.9878000020980835\n",
      "epoch: 95, test_error_value: 0.05781885236501694, test accuracy: 0.9882000088691711\n",
      "epoch: 96, test_error_value: 0.05892055481672287, test accuracy: 0.9876999855041504\n",
      "epoch: 97, test_error_value: 0.06016601622104645, test accuracy: 0.9879000186920166\n",
      "epoch: 98, test_error_value: 0.0618915893137455, test accuracy: 0.9878000020980835\n",
      "epoch: 99, test_error_value: 0.06292132288217545, test accuracy: 0.9879000186920166\n",
      "train complete!\n"
     ]
    },
    {
     "data": {
      "image/png": "[encoded data removed]",
      "text/plain": [
       "<matplotlib.figure.Figure at 0x118cb55f8>"
      ]
     },
     "metadata": {},
     "output_type": "display_data"
    },
    {
     "name": "stdout",
     "output_type": "stream",
     "text": [
      "Error Index: 247, Prediction: 2, Ground Truth: 4\n",
      "Error Index: 321, Prediction: 7, Ground Truth: 2\n",
      "Error Index: 359, Prediction: 4, Ground Truth: 9\n",
      "Error Index: 445, Prediction: 0, Ground Truth: 6\n",
      "Error Index: 449, Prediction: 5, Ground Truth: 3\n",
      "Error Index: 582, Prediction: 2, Ground Truth: 8\n",
      "Error Index: 625, Prediction: 4, Ground Truth: 6\n",
      "Error Index: 658, Prediction: 4, Ground Truth: 7\n",
      "Error Index: 674, Prediction: 3, Ground Truth: 5\n",
      "Error Index: 720, Prediction: 8, Ground Truth: 5\n"
     ]
    },
    {
     "data": {
      "image/png": "[encoded data removed]",
      "text/plain": [
       "<matplotlib.figure.Figure at 0x123eed048>"
      ]
     },
     "metadata": {},
     "output_type": "display_data"
    }
   ],
   "source": [
    "init = tf.global_variables_initializer()\n",
    "\n",
    "max_training_epochs = 100\n",
    "batch_size = 128\n",
    "n_inputs = 28\n",
    "n_steps = 28\n",
    "\n",
    "epoch_list                  = []\n",
    "train_error_value_list      = []\n",
    "validation_error_value_list = []\n",
    "test_error_value_list       = []\n",
    "test_accuracy_list          = []\n",
    "\n",
    "with tf.Session() as sess:\n",
    "    sess.run(init)\n",
    "    \n",
    "    print(\"mnist.train.num_examples\", mnist.train.num_examples)\n",
    "    print(\"batch_size\", batch_size)\n",
    "    total_batch = int(math.ceil(mnist.train.num_examples / float(batch_size)))\n",
    "    print(\"Total batch: {0}\".format(total_batch))\n",
    "    \n",
    "    for epoch in range(max_training_epochs):\n",
    "        for i in range(total_batch):\n",
    "            batch_images, batch_labels = mnist.train.next_batch(batch_size)\n",
    "            batch_images = batch_images.reshape((batch_size, n_steps, n_inputs))\n",
    "            sess.run((optimizer, error), feed_dict={x: batch_images, y: batch_labels})\n",
    "        \n",
    "        epoch_list.append(epoch)\n",
    "        \n",
    "        t_images = mnist.train.images.reshape((mnist.train.num_examples, n_steps, n_inputs))\n",
    "        t_labels = mnist.train.labels\n",
    "        t_error_value = sess.run(error, feed_dict={x: t_images, y: t_labels})\n",
    "        train_error_value_list.append(t_error_value)\n",
    "        \n",
    "        v_images = mnist.validation.images.reshape((mnist.validation.num_examples, n_steps, n_inputs))\n",
    "        v_labels = mnist.validation.labels\n",
    "        v_error_value = sess.run(error, feed_dict={x: v_images, y: v_labels})\n",
    "        validation_error_value_list.append(v_error_value)\n",
    "            \n",
    "        printLossAccuracyForTestData(epoch, sess, test_accuracy_list)\n",
    "            \n",
    "    print(\"train complete!\")\n",
    "    drawErrorValues(epoch_list, train_error_value_list, validation_error_value_list, test_accuracy_list)\n",
    "    drawFalsePrediction(epoch, sess, 10)"
   ]
  },
  {
   "cell_type": "code",
   "execution_count": null,
   "metadata": {
    "collapsed": true
   },
   "outputs": [],
   "source": []
  }
 ],
 "metadata": {
  "kernelspec": {
   "display_name": "Python 3",
   "language": "python",
   "name": "python3"
  },
  "language_info": {
   "codemirror_mode": {
    "name": "ipython",
    "version": 3
   },
   "file_extension": ".py",
   "mimetype": "text/x-python",
   "name": "python",
   "nbconvert_exporter": "python",
   "pygments_lexer": "ipython3",
   "version": "3.6.0"
  }
 },
 "nbformat": 4,
 "nbformat_minor": 0
}
