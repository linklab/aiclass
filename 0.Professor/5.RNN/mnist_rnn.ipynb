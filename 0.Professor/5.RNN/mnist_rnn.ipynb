{
 "cells": [
  {
   "cell_type": "markdown",
   "metadata": {},
   "source": [
    "### MNIST-RNN\n",
    "- [참고]\n",
    "  - http://www.modulabs.co.kr/DeepLAB_free/2107\n",
    "  - https://github.com/tgjeon/TensorFlow-Tutorials-for-Time-Series/blob/master/mnist-rnn.ipynb"
   ]
  },
  {
   "cell_type": "code",
   "execution_count": 1,
   "metadata": {
    "collapsed": false
   },
   "outputs": [
    {
     "name": "stdout",
     "output_type": "stream",
     "text": [
      "1.1.0\n"
     ]
    }
   ],
   "source": [
    "import tensorflow as tf\n",
    "from tensorflow.examples.tutorials.mnist import input_data\n",
    "import numpy as np\n",
    "import math\n",
    "import matplotlib.pyplot as plt\n",
    "%matplotlib inline\n",
    "print(tf.__version__)"
   ]
  },
  {
   "cell_type": "code",
   "execution_count": 2,
   "metadata": {
    "collapsed": false
   },
   "outputs": [
    {
     "name": "stdout",
     "output_type": "stream",
     "text": [
      "Extracting ../MNIST_data/train-images-idx3-ubyte.gz\n",
      "Extracting ../MNIST_data/train-labels-idx1-ubyte.gz\n",
      "Extracting ../MNIST_data/t10k-images-idx3-ubyte.gz\n",
      "Extracting ../MNIST_data/t10k-labels-idx1-ubyte.gz\n"
     ]
    }
   ],
   "source": [
    "mnist = input_data.read_data_sets(\"../MNIST_data/\", one_hot=True)"
   ]
  },
  {
   "cell_type": "code",
   "execution_count": 3,
   "metadata": {
    "collapsed": true
   },
   "outputs": [],
   "source": [
    "# configuration\n",
    "#                        output[-1] * W + b -> 10 labels for each image, output[-1]:[? 28], W:[28 10], B:[10]\n",
    "#                       ^ (O: output 28 vec from 28 vec input)\n",
    "#                       |\n",
    "#      +-+  +-+       +--+\n",
    "#      |1|->|2|-> ... |28| n_steps = 28\n",
    "#      +-+  +-+       +--+\n",
    "#       ^    ^    ...  ^\n",
    "#       |    |         |\n",
    "# img1:[28] [28]  ... [28]\n",
    "# img2:[28] [28]  ... [28]\n",
    "# img3:[28] [28]  ... [28]\n",
    "# ...\n",
    "# img128 or img256 (batch_size or test_size 256)\n",
    "# each n_inputs = n_state_units = 28"
   ]
  },
  {
   "cell_type": "code",
   "execution_count": 4,
   "metadata": {
    "collapsed": false
   },
   "outputs": [
    {
     "name": "stdout",
     "output_type": "stream",
     "text": [
      "28\n",
      "28\n",
      "Tensor(\"foo/rnn/basic_rnn_cell_27/Tanh:0\", shape=(?, 28), dtype=float32)\n"
     ]
    }
   ],
   "source": [
    "batch_size = 128\n",
    "n_inputs = 28\n",
    "n_steps = 28\n",
    "n_state_units = 28\n",
    "learning_rate = 0.001\n",
    "n_classes = 10\n",
    "\n",
    "with tf.variable_scope(\"foo\", reuse=None):\n",
    "    x = tf.placeholder(tf.float32, [None, n_steps, n_inputs])\n",
    "    xt = tf.transpose(x, perm = [1, 0, 2])\n",
    "    xr = tf.reshape(xt, shape = [-1, n_inputs])\n",
    "    xs = tf.split(value=xr, num_or_size_splits=n_steps, axis=0)\n",
    "\n",
    "    rnn_cell = tf.contrib.rnn.BasicRNNCell(num_units = n_state_units)\n",
    "    #rnn_cell = tf.contrib.rnn.BasicLSTMCell(num_units = n_state_units, forget_bias=1.0)\n",
    "    outputs, state = tf.contrib.rnn.static_rnn(rnn_cell, xs, dtype=tf.float32)\n",
    "\n",
    "    print(rnn_cell.output_size)\n",
    "    print(len(outputs))\n",
    "    print(outputs[-1])\n",
    "\n",
    "    W = tf.Variable(tf.random_normal([n_state_units, n_classes]))\n",
    "    B = tf.Variable(tf.random_normal([n_classes]))\n",
    "\n",
    "    pred = tf.matmul(outputs[-1], W) + B\n",
    "\n",
    "    y = tf.placeholder(tf.float32, [None, n_classes])\n",
    "\n",
    "    error = tf.reduce_mean(tf.nn.softmax_cross_entropy_with_logits(logits=pred, labels=y))\n",
    "    optimizer = tf.train.AdamOptimizer(learning_rate=learning_rate).minimize(error)\n",
    "\n",
    "    correct_pred = tf.equal(tf.argmax(pred,1), tf.argmax(y,1))\n",
    "    accuracy = tf.reduce_mean(tf.cast(correct_pred, tf.float32))"
   ]
  },
  {
   "cell_type": "code",
   "execution_count": 21,
   "metadata": {
    "collapsed": false
   },
   "outputs": [],
   "source": [
    "def printLossAccuracyForTestData(epoch, sess, test_accuracy_list):\n",
    "    test_data = mnist.test.images.reshape((-1, n_steps, n_inputs))\n",
    "    test_labels = mnist.test.labels\n",
    "    accuracy_value, error_value = sess.run((accuracy, error), feed_dict={x: test_data, y: test_labels})\n",
    "    test_accuracy_list.append(accuracy_value)\n",
    "    print(\"epoch: {0}, test_error_value: {1}, test accuracy: {2}\".format(epoch, error_value, accuracy_value))\n",
    "\n",
    "def drawErrorValues(epoch_list, train_error_value_list, validation_error_value_list, test_accuracy_list):\n",
    "    fig = plt.figure(figsize=(20, 5))\n",
    "    plt.subplot(121)\n",
    "    plt.plot(epoch_list, train_error_value_list, 'r', label='Train')\n",
    "    plt.plot(epoch_list, validation_error_value_list, 'g', label='Validation')\n",
    "    plt.ylabel('Total Error')\n",
    "    plt.xlabel('Epochs')\n",
    "    plt.grid(True)\n",
    "    plt.legend(loc='upper right')\n",
    "\n",
    "    plt.subplot(122)\n",
    "    plt.plot(epoch_list, test_accuracy_list, 'b', label='Test')\n",
    "    plt.ylabel('Accuracy')\n",
    "    plt.xlabel('Epochs')\n",
    "    plt.yticks(np.arange(min(test_accuracy_list), max(test_accuracy_list), 0.05))\n",
    "    plt.grid(True)\n",
    "    plt.legend(loc='lower right')            \n",
    "    plt.show()\n",
    "    \n",
    "def drawFalsePrediction(epoch, sess, numPrintImages):\n",
    "    test_data = mnist.test.images.reshape((-1, n_steps, n_inputs))\n",
    "    test_labels = mnist.test.labels\n",
    "    correct_pred_value = sess.run(correct_pred, feed_dict={x: test_data, y: test_labels})\n",
    "    ground_truth = sess.run(tf.argmax(y, 1), feed_dict={y: test_labels})\n",
    "    prediction = sess.run(tf.argmax(pred, 1), feed_dict={x: test_data})\n",
    "\n",
    "    fig = plt.figure(figsize=(20, 5))\n",
    "    j = 1\n",
    "    for i in range(len(correct_pred_value)):\n",
    "        if (j > numPrintImages):\n",
    "            break;\n",
    "        if (not correct_pred_value[i]):\n",
    "            ground_truth_num = mnist.test.labels[i]\n",
    "            print(\"Error Index: {0}, Prediction: {1}, Ground Truth: {2}\".format(i, prediction[i], ground_truth[i]))\n",
    "            img = np.array(mnist.test.images[i])\n",
    "            img.shape = (28, 28)\n",
    "            plt.subplot(1, numPrintImages, j)\n",
    "            plt.imshow(img)\n",
    "            j += 1"
   ]
  },
  {
   "cell_type": "code",
   "execution_count": 23,
   "metadata": {
    "collapsed": false
   },
   "outputs": [
    {
     "name": "stdout",
     "output_type": "stream",
     "text": [
      "mnist.train.num_examples 55000\n",
      "batch_size 128\n",
      "Total batch: 430\n",
      "epoch: 0, test_error_value: 0.9924019575119019, test accuracy: 0.6559000015258789\n",
      "epoch: 1, test_error_value: 0.7431579828262329, test accuracy: 0.7470999956130981\n",
      "epoch: 2, test_error_value: 0.5909509062767029, test accuracy: 0.7914999723434448\n",
      "epoch: 3, test_error_value: 0.5139036178588867, test accuracy: 0.8303999900817871\n",
      "epoch: 4, test_error_value: 0.4566079080104828, test accuracy: 0.8575000166893005\n",
      "epoch: 5, test_error_value: 0.39440256357192993, test accuracy: 0.8801000118255615\n",
      "epoch: 6, test_error_value: 0.35933950543403625, test accuracy: 0.8895999789237976\n",
      "epoch: 7, test_error_value: 0.34521928429603577, test accuracy: 0.8978000283241272\n",
      "epoch: 8, test_error_value: 0.3253401815891266, test accuracy: 0.901199996471405\n",
      "epoch: 9, test_error_value: 0.30270621180534363, test accuracy: 0.9083999991416931\n",
      "epoch: 10, test_error_value: 0.29583168029785156, test accuracy: 0.9093000292778015\n",
      "epoch: 11, test_error_value: 0.2932104766368866, test accuracy: 0.910099983215332\n",
      "epoch: 12, test_error_value: 0.28469592332839966, test accuracy: 0.9140999913215637\n",
      "epoch: 13, test_error_value: 0.2757296562194824, test accuracy: 0.9182999730110168\n",
      "epoch: 14, test_error_value: 0.2658565044403076, test accuracy: 0.9196000099182129\n",
      "epoch: 15, test_error_value: 0.25296586751937866, test accuracy: 0.9251999855041504\n",
      "epoch: 16, test_error_value: 0.2649920880794525, test accuracy: 0.9210000038146973\n",
      "epoch: 17, test_error_value: 0.2498290091753006, test accuracy: 0.9275000095367432\n",
      "epoch: 18, test_error_value: 0.25402382016181946, test accuracy: 0.9265999794006348\n",
      "epoch: 19, test_error_value: 0.2275116890668869, test accuracy: 0.9334999918937683\n",
      "epoch: 20, test_error_value: 0.23864735662937164, test accuracy: 0.929099977016449\n",
      "epoch: 21, test_error_value: 0.22373491525650024, test accuracy: 0.9337999820709229\n",
      "epoch: 22, test_error_value: 0.2109755575656891, test accuracy: 0.9387999773025513\n",
      "epoch: 23, test_error_value: 0.217778742313385, test accuracy: 0.9329000115394592\n",
      "epoch: 24, test_error_value: 0.21301651000976562, test accuracy: 0.9373999834060669\n",
      "epoch: 25, test_error_value: 0.20453017950057983, test accuracy: 0.9398999810218811\n",
      "epoch: 26, test_error_value: 0.20932795107364655, test accuracy: 0.9369000196456909\n",
      "epoch: 27, test_error_value: 0.20028865337371826, test accuracy: 0.9420999884605408\n",
      "epoch: 28, test_error_value: 0.20853853225708008, test accuracy: 0.9402999877929688\n",
      "epoch: 29, test_error_value: 0.1947181671857834, test accuracy: 0.944599986076355\n",
      "epoch: 30, test_error_value: 0.20760072767734528, test accuracy: 0.9386000037193298\n",
      "epoch: 31, test_error_value: 0.1918168067932129, test accuracy: 0.944100022315979\n",
      "epoch: 32, test_error_value: 0.2045692354440689, test accuracy: 0.9398000240325928\n",
      "epoch: 33, test_error_value: 0.20271740853786469, test accuracy: 0.9412999749183655\n",
      "epoch: 34, test_error_value: 0.19270318746566772, test accuracy: 0.9449999928474426\n",
      "epoch: 35, test_error_value: 0.19627270102500916, test accuracy: 0.9444000124931335\n",
      "epoch: 36, test_error_value: 0.18710927665233612, test accuracy: 0.9448000192642212\n",
      "epoch: 37, test_error_value: 0.18973863124847412, test accuracy: 0.9455999732017517\n",
      "epoch: 38, test_error_value: 0.1837972104549408, test accuracy: 0.9480999708175659\n",
      "epoch: 39, test_error_value: 0.20898433029651642, test accuracy: 0.9401999711990356\n",
      "epoch: 40, test_error_value: 0.18004128336906433, test accuracy: 0.9485999941825867\n",
      "epoch: 41, test_error_value: 0.19256606698036194, test accuracy: 0.9451000094413757\n",
      "epoch: 42, test_error_value: 0.17843878269195557, test accuracy: 0.9495999813079834\n",
      "epoch: 43, test_error_value: 0.1830560714006424, test accuracy: 0.948199987411499\n",
      "epoch: 44, test_error_value: 0.2068912833929062, test accuracy: 0.9395999908447266\n",
      "epoch: 45, test_error_value: 0.174834206700325, test accuracy: 0.9496999979019165\n",
      "epoch: 46, test_error_value: 0.16945265233516693, test accuracy: 0.95169997215271\n",
      "epoch: 47, test_error_value: 0.1805935502052307, test accuracy: 0.9503999948501587\n",
      "epoch: 48, test_error_value: 0.1815214306116104, test accuracy: 0.9488000273704529\n",
      "epoch: 49, test_error_value: 0.18536414206027985, test accuracy: 0.9470999836921692\n",
      "epoch: 50, test_error_value: 0.1704915314912796, test accuracy: 0.9520000219345093\n",
      "epoch: 51, test_error_value: 0.20135560631752014, test accuracy: 0.9434999823570251\n",
      "epoch: 52, test_error_value: 0.17836225032806396, test accuracy: 0.9480999708175659\n",
      "epoch: 53, test_error_value: 0.17357267439365387, test accuracy: 0.9513000249862671\n",
      "epoch: 54, test_error_value: 0.1843460649251938, test accuracy: 0.946399986743927\n",
      "epoch: 55, test_error_value: 0.19282282888889313, test accuracy: 0.946399986743927\n",
      "epoch: 56, test_error_value: 0.1713346540927887, test accuracy: 0.9502999782562256\n",
      "epoch: 57, test_error_value: 0.19069135189056396, test accuracy: 0.9452000260353088\n",
      "epoch: 58, test_error_value: 0.1755310297012329, test accuracy: 0.9501000046730042\n",
      "epoch: 59, test_error_value: 0.1739530712366104, test accuracy: 0.9484999775886536\n",
      "epoch: 60, test_error_value: 0.165956050157547, test accuracy: 0.9527999758720398\n",
      "epoch: 61, test_error_value: 0.18498027324676514, test accuracy: 0.9484000205993652\n",
      "epoch: 62, test_error_value: 0.17345735430717468, test accuracy: 0.9496999979019165\n",
      "epoch: 63, test_error_value: 0.190877765417099, test accuracy: 0.9458000063896179\n",
      "epoch: 64, test_error_value: 0.1661001443862915, test accuracy: 0.9523000121116638\n",
      "epoch: 65, test_error_value: 0.17017652094364166, test accuracy: 0.9517999887466431\n",
      "epoch: 66, test_error_value: 0.15922322869300842, test accuracy: 0.9549999833106995\n",
      "epoch: 67, test_error_value: 0.16972792148590088, test accuracy: 0.9517999887466431\n",
      "epoch: 68, test_error_value: 0.1719258725643158, test accuracy: 0.9495000243186951\n",
      "epoch: 69, test_error_value: 0.17044179141521454, test accuracy: 0.9513999819755554\n",
      "epoch: 70, test_error_value: 0.16427746415138245, test accuracy: 0.9534000158309937\n",
      "epoch: 71, test_error_value: 0.1794552206993103, test accuracy: 0.9487000107765198\n",
      "epoch: 72, test_error_value: 0.17867153882980347, test accuracy: 0.949999988079071\n",
      "epoch: 73, test_error_value: 0.17042720317840576, test accuracy: 0.9517999887466431\n",
      "epoch: 74, test_error_value: 0.1631353199481964, test accuracy: 0.9560999870300293\n",
      "epoch: 75, test_error_value: 0.16026723384857178, test accuracy: 0.9574000239372253\n",
      "epoch: 76, test_error_value: 0.16877730190753937, test accuracy: 0.9498000144958496\n",
      "epoch: 77, test_error_value: 0.1610032171010971, test accuracy: 0.9545999765396118\n",
      "epoch: 78, test_error_value: 0.1613372266292572, test accuracy: 0.9559999704360962\n",
      "epoch: 79, test_error_value: 0.15727949142456055, test accuracy: 0.955299973487854\n",
      "epoch: 80, test_error_value: 0.16133923828601837, test accuracy: 0.9546999931335449\n",
      "epoch: 81, test_error_value: 0.16644790768623352, test accuracy: 0.9531000256538391\n",
      "epoch: 82, test_error_value: 0.18031296133995056, test accuracy: 0.9478999972343445\n",
      "epoch: 83, test_error_value: 0.16403691470623016, test accuracy: 0.9531999826431274\n",
      "epoch: 84, test_error_value: 0.17394447326660156, test accuracy: 0.9508000016212463\n",
      "epoch: 85, test_error_value: 0.15752685070037842, test accuracy: 0.9567000269889832\n",
      "epoch: 86, test_error_value: 0.16727381944656372, test accuracy: 0.9524000287055969\n",
      "epoch: 87, test_error_value: 0.15576931834220886, test accuracy: 0.95660001039505\n",
      "epoch: 88, test_error_value: 0.16085678339004517, test accuracy: 0.9559999704360962\n",
      "epoch: 89, test_error_value: 0.17206475138664246, test accuracy: 0.9527000188827515\n",
      "epoch: 90, test_error_value: 0.1559276431798935, test accuracy: 0.9563000202178955\n",
      "epoch: 91, test_error_value: 0.15446650981903076, test accuracy: 0.9563000202178955\n",
      "epoch: 92, test_error_value: 0.15119768679141998, test accuracy: 0.9595000147819519\n",
      "epoch: 93, test_error_value: 0.15623308718204498, test accuracy: 0.9555000066757202\n",
      "epoch: 94, test_error_value: 0.16175585985183716, test accuracy: 0.9567999839782715\n",
      "epoch: 95, test_error_value: 0.16045469045639038, test accuracy: 0.9556000232696533\n",
      "epoch: 96, test_error_value: 0.1593388020992279, test accuracy: 0.95660001039505\n",
      "epoch: 97, test_error_value: 0.17167246341705322, test accuracy: 0.9546999931335449\n",
      "epoch: 98, test_error_value: 0.16923539340496063, test accuracy: 0.9501000046730042\n",
      "epoch: 99, test_error_value: 0.16530798375606537, test accuracy: 0.9559000134468079\n",
      "train complete!\n"
     ]
    },
    {
     "data": {
      "image/png": "[encoded data removed]",
      "text/plain": [
       "<matplotlib.figure.Figure at 0x119e78e10>"
      ]
     },
     "metadata": {},
     "output_type": "display_data"
    },
    {
     "name": "stdout",
     "output_type": "stream",
     "text": [
      "Error Index: 8, Prediction: 6, Ground Truth: 5\n",
      "Error Index: 33, Prediction: 6, Ground Truth: 4\n",
      "Error Index: 59, Prediction: 9, Ground Truth: 5\n",
      "Error Index: 124, Prediction: 4, Ground Truth: 7\n",
      "Error Index: 149, Prediction: 8, Ground Truth: 2\n",
      "Error Index: 151, Prediction: 5, Ground Truth: 9\n",
      "Error Index: 175, Prediction: 3, Ground Truth: 7\n",
      "Error Index: 185, Prediction: 4, Ground Truth: 9\n",
      "Error Index: 217, Prediction: 5, Ground Truth: 6\n",
      "Error Index: 247, Prediction: 6, Ground Truth: 4\n"
     ]
    },
    {
     "data": {
      "image/png": "[encoded data removed]",
      "text/plain": [
       "<matplotlib.figure.Figure at 0x118fca9e8>"
      ]
     },
     "metadata": {},
     "output_type": "display_data"
    }
   ],
   "source": [
    "init = tf.global_variables_initializer()\n",
    "\n",
    "display_step = 1\n",
    "max_training_epochs = 100\n",
    "batch_size = 128\n",
    "n_inputs = 28\n",
    "n_steps = 28\n",
    "\n",
    "epoch_list                  = []\n",
    "train_error_value_list      = []\n",
    "validation_error_value_list = []\n",
    "test_error_value_list       = []\n",
    "test_accuracy_list          = []\n",
    "\n",
    "with tf.Session() as sess:\n",
    "    sess.run(init)\n",
    "    \n",
    "    print(\"mnist.train.num_examples\", mnist.train.num_examples)\n",
    "    print(\"batch_size\", batch_size)\n",
    "    total_batch = int(math.ceil(mnist.train.num_examples / float(batch_size)))\n",
    "    print(\"Total batch: {0}\".format(total_batch))\n",
    "    \n",
    "    for epoch in range(max_training_epochs):\n",
    "        for i in range(total_batch):\n",
    "            batch_images, batch_labels = mnist.train.next_batch(batch_size)\n",
    "            batch_images = batch_images.reshape((batch_size, n_steps, n_inputs))\n",
    "            sess.run((optimizer, error), feed_dict={x: batch_images, y: batch_labels})\n",
    "        \n",
    "        epoch_list.append(epoch)\n",
    "        \n",
    "        t_images = mnist.train.images.reshape((mnist.train.num_examples, n_steps, n_inputs))\n",
    "        t_labels = mnist.train.labels\n",
    "        t_error_value = sess.run(error, feed_dict={x: t_images, y: t_labels})\n",
    "        train_error_value_list.append(t_error_value)\n",
    "        \n",
    "        v_images = mnist.validation.images.reshape((mnist.validation.num_examples, n_steps, n_inputs))\n",
    "        v_labels = mnist.validation.labels\n",
    "        v_error_value = sess.run(error, feed_dict={x: v_images, y: v_labels})\n",
    "        validation_error_value_list.append(v_error_value)\n",
    "            \n",
    "        printLossAccuracyForTestData(epoch, sess, test_accuracy_list)\n",
    "            \n",
    "    print(\"train complete!\")\n",
    "    drawErrorValues(epoch_list, train_error_value_list, validation_error_value_list, test_accuracy_list)\n",
    "    drawFalsePrediction(epoch, sess, 10)"
   ]
  },
  {
   "cell_type": "code",
   "execution_count": null,
   "metadata": {
    "collapsed": true
   },
   "outputs": [],
   "source": []
  }
 ],
 "metadata": {
  "kernelspec": {
   "display_name": "Python 3",
   "language": "python",
   "name": "python3"
  },
  "language_info": {
   "codemirror_mode": {
    "name": "ipython",
    "version": 3
   },
   "file_extension": ".py",
   "mimetype": "text/x-python",
   "name": "python",
   "nbconvert_exporter": "python",
   "pygments_lexer": "ipython3",
   "version": "3.6.0"
  }
 },
 "nbformat": 4,
 "nbformat_minor": 0
}
