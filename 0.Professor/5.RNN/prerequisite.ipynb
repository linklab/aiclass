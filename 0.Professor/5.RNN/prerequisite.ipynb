{
 "cells": [
  {
   "cell_type": "markdown",
   "metadata": {},
   "source": [
    "### RNN의 각 Step에 넣어줄 데이터 준비 - 사전 연습"
   ]
  },
  {
   "cell_type": "code",
   "execution_count": 1,
   "metadata": {
    "collapsed": false
   },
   "outputs": [
    {
     "name": "stdout",
     "output_type": "stream",
     "text": [
      "1.1.0\n"
     ]
    }
   ],
   "source": [
    "import tensorflow as tf\n",
    "from tensorflow.examples.tutorials.mnist import input_data\n",
    "import numpy as np\n",
    "import math\n",
    "import matplotlib.pyplot as plt\n",
    "%matplotlib inline\n",
    "print(tf.__version__)"
   ]
  },
  {
   "cell_type": "code",
   "execution_count": 2,
   "metadata": {
    "collapsed": false
   },
   "outputs": [],
   "source": [
    "sess = tf.InteractiveSession()"
   ]
  },
  {
   "cell_type": "code",
   "execution_count": 3,
   "metadata": {
    "collapsed": false,
    "scrolled": true
   },
   "outputs": [
    {
     "name": "stdout",
     "output_type": "stream",
     "text": [
      "Tensor(\"Const:0\", shape=(3, 4, 5), dtype=int64)\n",
      "[[[ 0  1  2  3  4]\n",
      "  [ 1  2  3  4  5]\n",
      "  [ 2  3  4  5  6]\n",
      "  [ 3  4  5  6  7]]\n",
      "\n",
      " [[ 5  6  7  8  9]\n",
      "  [ 6  7  8  9 10]\n",
      "  [ 7  8  9 10 11]\n",
      "  [ 8  9 10 11 12]]\n",
      "\n",
      " [[10 11 12 13 14]\n",
      "  [11 12 13 14 15]\n",
      "  [12 13 14 15 16]\n",
      "  [13 14 15 16 17]]]\n"
     ]
    }
   ],
   "source": [
    "batch_size = 3\n",
    "n_steps = 4\n",
    "n_inputs = 5\n",
    "\n",
    "values = []\n",
    "for i in range(0, batch_size):\n",
    "    values.append([])\n",
    "    for j in range(0, n_steps):\n",
    "        values[i].append([])\n",
    "        for k in range(0, n_inputs):\n",
    "            values[i][j].append(k + j + (i * 5))\n",
    "            \n",
    "values_array = np.asarray(values)\n",
    "x = tf.constant(value = values_array)\n",
    "print(x)\n",
    "print(x.eval())"
   ]
  },
  {
   "cell_type": "code",
   "execution_count": 4,
   "metadata": {
    "collapsed": false
   },
   "outputs": [
    {
     "name": "stdout",
     "output_type": "stream",
     "text": [
      "Tensor(\"transpose:0\", shape=(4, 3, 5), dtype=int64)\n",
      "[[[ 0  1  2  3  4]\n",
      "  [ 5  6  7  8  9]\n",
      "  [10 11 12 13 14]]\n",
      "\n",
      " [[ 1  2  3  4  5]\n",
      "  [ 6  7  8  9 10]\n",
      "  [11 12 13 14 15]]\n",
      "\n",
      " [[ 2  3  4  5  6]\n",
      "  [ 7  8  9 10 11]\n",
      "  [12 13 14 15 16]]\n",
      "\n",
      " [[ 3  4  5  6  7]\n",
      "  [ 8  9 10 11 12]\n",
      "  [13 14 15 16 17]]]\n"
     ]
    }
   ],
   "source": [
    "xt = tf.transpose(x, perm = [1, 0, 2])\n",
    "print(xt)\n",
    "print(xt.eval())"
   ]
  },
  {
   "cell_type": "code",
   "execution_count": 5,
   "metadata": {
    "collapsed": false
   },
   "outputs": [
    {
     "name": "stdout",
     "output_type": "stream",
     "text": [
      "Tensor(\"Reshape:0\", shape=(12, 5), dtype=int64)\n",
      "[[ 0  1  2  3  4]\n",
      " [ 5  6  7  8  9]\n",
      " [10 11 12 13 14]\n",
      " [ 1  2  3  4  5]\n",
      " [ 6  7  8  9 10]\n",
      " [11 12 13 14 15]\n",
      " [ 2  3  4  5  6]\n",
      " [ 7  8  9 10 11]\n",
      " [12 13 14 15 16]\n",
      " [ 3  4  5  6  7]\n",
      " [ 8  9 10 11 12]\n",
      " [13 14 15 16 17]]\n"
     ]
    }
   ],
   "source": [
    "xr = tf.reshape(xt, [-1, n_inputs])  # n_inputs = 5\n",
    "print(xr)\n",
    "print(xr.eval())"
   ]
  },
  {
   "cell_type": "code",
   "execution_count": 6,
   "metadata": {
    "collapsed": false
   },
   "outputs": [
    {
     "name": "stdout",
     "output_type": "stream",
     "text": [
      "<class 'list'>\n",
      "\n",
      "[<tf.Tensor 'split:0' shape=(3, 5) dtype=int64>, <tf.Tensor 'split:1' shape=(3, 5) dtype=int64>, <tf.Tensor 'split:2' shape=(3, 5) dtype=int64>, <tf.Tensor 'split:3' shape=(3, 5) dtype=int64>]\n",
      "\n",
      "[[ 0  1  2  3  4]\n",
      " [ 5  6  7  8  9]\n",
      " [10 11 12 13 14]]\n",
      "\n",
      "[[ 1  2  3  4  5]\n",
      " [ 6  7  8  9 10]\n",
      " [11 12 13 14 15]]\n",
      "\n",
      "[[ 2  3  4  5  6]\n",
      " [ 7  8  9 10 11]\n",
      " [12 13 14 15 16]]\n",
      "\n",
      "[[ 3  4  5  6  7]\n",
      " [ 8  9 10 11 12]\n",
      " [13 14 15 16 17]]\n",
      "\n"
     ]
    }
   ],
   "source": [
    "xs = tf.split(value = xr, num_or_size_splits = n_steps, axis=0)  # n_steps = 4\n",
    "print(type(xs))\n",
    "print()\n",
    "print(xs)\n",
    "print()\n",
    "for item in xs:\n",
    "    print(item.eval())\n",
    "    print()"
   ]
  },
  {
   "cell_type": "markdown",
   "metadata": {},
   "source": [
    "### MNIST 데이터에 대한 RNN 배치 Input 처리 - 사전연습"
   ]
  },
  {
   "cell_type": "code",
   "execution_count": 7,
   "metadata": {
    "collapsed": false
   },
   "outputs": [
    {
     "name": "stdout",
     "output_type": "stream",
     "text": [
      "Extracting ../MNIST_data/train-images-idx3-ubyte.gz\n",
      "Extracting ../MNIST_data/train-labels-idx1-ubyte.gz\n",
      "Extracting ../MNIST_data/t10k-images-idx3-ubyte.gz\n",
      "Extracting ../MNIST_data/t10k-labels-idx1-ubyte.gz\n"
     ]
    }
   ],
   "source": [
    "mnist = input_data.read_data_sets(\"../MNIST_data/\", one_hot=True)"
   ]
  },
  {
   "cell_type": "code",
   "execution_count": 8,
   "metadata": {
    "collapsed": false
   },
   "outputs": [
    {
     "name": "stdout",
     "output_type": "stream",
     "text": [
      "(?, 28, 28)\n",
      "\n",
      "(28, ?, 28)\n",
      "\n",
      "(?, 28)\n",
      "\n",
      "28\n",
      "Tensor(\"split_1:0\", shape=(?, 28), dtype=float32)\n",
      "Tensor(\"split_1:1\", shape=(?, 28), dtype=float32)\n",
      "Tensor(\"split_1:2\", shape=(?, 28), dtype=float32)\n",
      "Tensor(\"split_1:3\", shape=(?, 28), dtype=float32)\n",
      "Tensor(\"split_1:4\", shape=(?, 28), dtype=float32)\n",
      "Tensor(\"split_1:5\", shape=(?, 28), dtype=float32)\n",
      "Tensor(\"split_1:6\", shape=(?, 28), dtype=float32)\n",
      "Tensor(\"split_1:7\", shape=(?, 28), dtype=float32)\n",
      "Tensor(\"split_1:8\", shape=(?, 28), dtype=float32)\n",
      "Tensor(\"split_1:9\", shape=(?, 28), dtype=float32)\n",
      "Tensor(\"split_1:10\", shape=(?, 28), dtype=float32)\n",
      "Tensor(\"split_1:11\", shape=(?, 28), dtype=float32)\n",
      "Tensor(\"split_1:12\", shape=(?, 28), dtype=float32)\n",
      "Tensor(\"split_1:13\", shape=(?, 28), dtype=float32)\n",
      "Tensor(\"split_1:14\", shape=(?, 28), dtype=float32)\n",
      "Tensor(\"split_1:15\", shape=(?, 28), dtype=float32)\n",
      "Tensor(\"split_1:16\", shape=(?, 28), dtype=float32)\n",
      "Tensor(\"split_1:17\", shape=(?, 28), dtype=float32)\n",
      "Tensor(\"split_1:18\", shape=(?, 28), dtype=float32)\n",
      "Tensor(\"split_1:19\", shape=(?, 28), dtype=float32)\n",
      "Tensor(\"split_1:20\", shape=(?, 28), dtype=float32)\n",
      "Tensor(\"split_1:21\", shape=(?, 28), dtype=float32)\n",
      "Tensor(\"split_1:22\", shape=(?, 28), dtype=float32)\n",
      "Tensor(\"split_1:23\", shape=(?, 28), dtype=float32)\n",
      "Tensor(\"split_1:24\", shape=(?, 28), dtype=float32)\n",
      "Tensor(\"split_1:25\", shape=(?, 28), dtype=float32)\n",
      "Tensor(\"split_1:26\", shape=(?, 28), dtype=float32)\n",
      "Tensor(\"split_1:27\", shape=(?, 28), dtype=float32)\n"
     ]
    }
   ],
   "source": [
    "# image: 28 * 30\n",
    "batch_size = 128\n",
    "n_steps = 28\n",
    "n_inputs = 28\n",
    "\n",
    "x = tf.placeholder(tf.float32, [None, n_steps, n_inputs])\n",
    "print(x.get_shape())\n",
    "print()\n",
    "\n",
    "xt = tf.transpose(x, perm = [1, 0, 2])\n",
    "print(xt.get_shape())\n",
    "print()\n",
    "\n",
    "xr = tf.reshape(xt, shape = [-1, n_inputs])\n",
    "print(xr.get_shape())\n",
    "print()\n",
    "\n",
    "xs = tf.split(value=xr, num_or_size_splits=n_steps, axis=0)\n",
    "print(len(xs))\n",
    "for item in xs:\n",
    "    print(item)"
   ]
  },
  {
   "cell_type": "code",
   "execution_count": 43,
   "metadata": {
    "collapsed": false
   },
   "outputs": [
    {
     "ename": "NameError",
     "evalue": "name 'tanh' is not defined",
     "output_type": "error",
     "traceback": [
      "\u001b[0;31m---------------------------------------------------------------------------\u001b[0m",
      "\u001b[0;31mNameError\u001b[0m                                 Traceback (most recent call last)",
      "\u001b[0;32m<ipython-input-43-af775adf5072>\u001b[0m in \u001b[0;36m<module>\u001b[0;34m()\u001b[0m\n\u001b[1;32m      1\u001b[0m \u001b[0mn_state_units\u001b[0m \u001b[0;34m=\u001b[0m \u001b[0;36m20\u001b[0m\u001b[0;34m\u001b[0m\u001b[0m\n\u001b[1;32m      2\u001b[0m \u001b[0;32mwith\u001b[0m \u001b[0mtf\u001b[0m\u001b[0;34m.\u001b[0m\u001b[0mvariable_scope\u001b[0m\u001b[0;34m(\u001b[0m\u001b[0;34m'rnn'\u001b[0m\u001b[0;34m,\u001b[0m \u001b[0mreuse\u001b[0m\u001b[0;34m=\u001b[0m\u001b[0;32mTrue\u001b[0m\u001b[0;34m)\u001b[0m\u001b[0;34m:\u001b[0m\u001b[0;34m\u001b[0m\u001b[0m\n\u001b[0;32m----> 3\u001b[0;31m     \u001b[0mrnn_cell\u001b[0m \u001b[0;34m=\u001b[0m \u001b[0mtf\u001b[0m\u001b[0;34m.\u001b[0m\u001b[0mcontrib\u001b[0m\u001b[0;34m.\u001b[0m\u001b[0mrnn\u001b[0m\u001b[0;34m.\u001b[0m\u001b[0mBasicRNNCell\u001b[0m\u001b[0;34m(\u001b[0m\u001b[0mnum_units\u001b[0m \u001b[0;34m=\u001b[0m \u001b[0mn_state_units\u001b[0m\u001b[0;34m,\u001b[0m \u001b[0mactivation\u001b[0m\u001b[0;34m=\u001b[0m\u001b[0mtanh\u001b[0m\u001b[0;34m,\u001b[0m \u001b[0mreuse\u001b[0m\u001b[0;34m=\u001b[0m\u001b[0;32mTrue\u001b[0m\u001b[0;34m)\u001b[0m\u001b[0;34m\u001b[0m\u001b[0m\n\u001b[0m\u001b[1;32m      4\u001b[0m     \u001b[0mprint\u001b[0m\u001b[0;34m(\u001b[0m\u001b[0mrnn_cell\u001b[0m\u001b[0;34m.\u001b[0m\u001b[0moutput_size\u001b[0m\u001b[0;34m)\u001b[0m \u001b[0;31m# RNN cell의 output node의 수\u001b[0m\u001b[0;34m\u001b[0m\u001b[0m\n\u001b[1;32m      5\u001b[0m     \u001b[0mprint\u001b[0m\u001b[0;34m(\u001b[0m\u001b[0mrnn_cell\u001b[0m\u001b[0;34m.\u001b[0m\u001b[0mstate_size\u001b[0m\u001b[0;34m)\u001b[0m \u001b[0;31m# RNN cell의 hidden node의 수\u001b[0m\u001b[0;34m\u001b[0m\u001b[0m\n",
      "\u001b[0;31mNameError\u001b[0m: name 'tanh' is not defined"
     ]
    }
   ],
   "source": [
    "n_state_units = 20\n",
    "with tf.variable_scope('rnn', reuse=True):\n",
    "    rnn_cell = tf.contrib.rnn.BasicRNNCell(num_units = n_state_units, activation=t, reuse=True)\n",
    "    print(rnn_cell.output_size) # RNN cell의 output node의 수\n",
    "    print(rnn_cell.state_size) # RNN cell의 hidden node의 수\n",
    "    \n",
    "    initial_state = rnn_cell.zero_state(batch_size=batch_size, dtype=tf.float32)\n",
    "    print(initial_state)\n",
    "    \n",
    "    outputs, state = tf.contrib.rnn.static_rnn(cell = rnn_cell, inputs = xs, initial_state=initial_state, dtype=tf.float32)\n",
    "    print(len(outputs))\n",
    "    print(outputs[-1])"
   ]
  },
  {
   "cell_type": "code",
   "execution_count": 36,
   "metadata": {
    "collapsed": true
   },
   "outputs": [],
   "source": [
    "? tf.contrib.rnn.BasicRNNCell.zero_state"
   ]
  },
  {
   "cell_type": "code",
   "execution_count": null,
   "metadata": {
    "collapsed": true
   },
   "outputs": [],
   "source": []
  }
 ],
 "metadata": {
  "kernelspec": {
   "display_name": "Python 3",
   "language": "python",
   "name": "python3"
  },
  "language_info": {
   "codemirror_mode": {
    "name": "ipython",
    "version": 3
   },
   "file_extension": ".py",
   "mimetype": "text/x-python",
   "name": "python",
   "nbconvert_exporter": "python",
   "pygments_lexer": "ipython3",
   "version": "3.6.0"
  }
 },
 "nbformat": 4,
 "nbformat_minor": 0
}
