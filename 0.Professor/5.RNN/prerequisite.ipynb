{
 "cells": [
  {
   "cell_type": "markdown",
   "metadata": {},
   "source": [
    "### RNN의 각 Step에 넣어줄 데이터 준비 - 사전 연습"
   ]
  },
  {
   "cell_type": "code",
   "execution_count": 1,
   "metadata": {
    "collapsed": false
   },
   "outputs": [
    {
     "name": "stdout",
     "output_type": "stream",
     "text": [
      "1.1.0\n"
     ]
    }
   ],
   "source": [
    "import tensorflow as tf\n",
    "from tensorflow.examples.tutorials.mnist import input_data\n",
    "import numpy as np\n",
    "import math\n",
    "import matplotlib.pyplot as plt\n",
    "%matplotlib inline\n",
    "print(tf.__version__)"
   ]
  },
  {
   "cell_type": "code",
   "execution_count": 2,
   "metadata": {
    "collapsed": false
   },
   "outputs": [],
   "source": [
    "sess = tf.InteractiveSession()"
   ]
  },
  {
   "cell_type": "code",
   "execution_count": 3,
   "metadata": {
    "collapsed": false,
    "scrolled": true
   },
   "outputs": [
    {
     "name": "stdout",
     "output_type": "stream",
     "text": [
      "Tensor(\"Const:0\", shape=(3, 4, 5), dtype=int64)\n",
      "[[[ 0  1  2  3  4]\n",
      "  [ 1  2  3  4  5]\n",
      "  [ 2  3  4  5  6]\n",
      "  [ 3  4  5  6  7]]\n",
      "\n",
      " [[ 5  6  7  8  9]\n",
      "  [ 6  7  8  9 10]\n",
      "  [ 7  8  9 10 11]\n",
      "  [ 8  9 10 11 12]]\n",
      "\n",
      " [[10 11 12 13 14]\n",
      "  [11 12 13 14 15]\n",
      "  [12 13 14 15 16]\n",
      "  [13 14 15 16 17]]]\n"
     ]
    }
   ],
   "source": [
    "batch_size = 3\n",
    "n_steps = 4\n",
    "n_inputs = 5\n",
    "\n",
    "values = []\n",
    "for i in range(0, batch_size):\n",
    "    values.append([])\n",
    "    for j in range(0, n_steps):\n",
    "        values[i].append([])\n",
    "        for k in range(0, n_inputs):\n",
    "            values[i][j].append(k + j + (i * 5))\n",
    "            \n",
    "values_array = np.asarray(values)\n",
    "x = tf.constant(value = values_array)\n",
    "print(x)\n",
    "print(x.eval())"
   ]
  },
  {
   "cell_type": "code",
   "execution_count": 4,
   "metadata": {
    "collapsed": false
   },
   "outputs": [
    {
     "name": "stdout",
     "output_type": "stream",
     "text": [
      "Tensor(\"transpose:0\", shape=(4, 3, 5), dtype=int64)\n",
      "[[[ 0  1  2  3  4]\n",
      "  [ 5  6  7  8  9]\n",
      "  [10 11 12 13 14]]\n",
      "\n",
      " [[ 1  2  3  4  5]\n",
      "  [ 6  7  8  9 10]\n",
      "  [11 12 13 14 15]]\n",
      "\n",
      " [[ 2  3  4  5  6]\n",
      "  [ 7  8  9 10 11]\n",
      "  [12 13 14 15 16]]\n",
      "\n",
      " [[ 3  4  5  6  7]\n",
      "  [ 8  9 10 11 12]\n",
      "  [13 14 15 16 17]]]\n"
     ]
    }
   ],
   "source": [
    "xt = tf.transpose(x, perm = [1, 0, 2])\n",
    "print(xt)\n",
    "print(xt.eval())"
   ]
  },
  {
   "cell_type": "code",
   "execution_count": 5,
   "metadata": {
    "collapsed": false
   },
   "outputs": [
    {
     "name": "stdout",
     "output_type": "stream",
     "text": [
      "Tensor(\"Reshape:0\", shape=(12, 5), dtype=int64)\n",
      "[[ 0  1  2  3  4]\n",
      " [ 5  6  7  8  9]\n",
      " [10 11 12 13 14]\n",
      " [ 1  2  3  4  5]\n",
      " [ 6  7  8  9 10]\n",
      " [11 12 13 14 15]\n",
      " [ 2  3  4  5  6]\n",
      " [ 7  8  9 10 11]\n",
      " [12 13 14 15 16]\n",
      " [ 3  4  5  6  7]\n",
      " [ 8  9 10 11 12]\n",
      " [13 14 15 16 17]]\n"
     ]
    }
   ],
   "source": [
    "xr = tf.reshape(xt, [-1, n_inputs])  # n_inputs = 5\n",
    "print(xr)\n",
    "print(xr.eval())"
   ]
  },
  {
   "cell_type": "code",
   "execution_count": 6,
   "metadata": {
    "collapsed": false
   },
   "outputs": [
    {
     "name": "stdout",
     "output_type": "stream",
     "text": [
      "<class 'list'>\n",
      "\n",
      "[<tf.Tensor 'split:0' shape=(3, 5) dtype=int64>, <tf.Tensor 'split:1' shape=(3, 5) dtype=int64>, <tf.Tensor 'split:2' shape=(3, 5) dtype=int64>, <tf.Tensor 'split:3' shape=(3, 5) dtype=int64>]\n",
      "\n",
      "[[ 0  1  2  3  4]\n",
      " [ 5  6  7  8  9]\n",
      " [10 11 12 13 14]]\n",
      "\n",
      "[[ 1  2  3  4  5]\n",
      " [ 6  7  8  9 10]\n",
      " [11 12 13 14 15]]\n",
      "\n",
      "[[ 2  3  4  5  6]\n",
      " [ 7  8  9 10 11]\n",
      " [12 13 14 15 16]]\n",
      "\n",
      "[[ 3  4  5  6  7]\n",
      " [ 8  9 10 11 12]\n",
      " [13 14 15 16 17]]\n",
      "\n"
     ]
    }
   ],
   "source": [
    "xs = tf.split(value = xr, num_or_size_splits = n_steps, axis=0)  # n_steps = 4\n",
    "print(type(xs))\n",
    "print()\n",
    "print(xs)\n",
    "print()\n",
    "for item in xs:\n",
    "    print(item.eval())\n",
    "    print()"
   ]
  },
  {
   "cell_type": "markdown",
   "metadata": {},
   "source": [
    "### MNIST 데이터에 대한 RNN 배치 Input 처리 - 사전연습"
   ]
  },
  {
   "cell_type": "code",
   "execution_count": 7,
   "metadata": {
    "collapsed": false
   },
   "outputs": [
    {
     "name": "stdout",
     "output_type": "stream",
     "text": [
      "Extracting ../MNIST_data/train-images-idx3-ubyte.gz\n",
      "Extracting ../MNIST_data/train-labels-idx1-ubyte.gz\n",
      "Extracting ../MNIST_data/t10k-images-idx3-ubyte.gz\n",
      "Extracting ../MNIST_data/t10k-labels-idx1-ubyte.gz\n"
     ]
    }
   ],
   "source": [
    "mnist = input_data.read_data_sets(\"../MNIST_data/\", one_hot=True)"
   ]
  },
  {
   "cell_type": "code",
   "execution_count": 8,
   "metadata": {
    "collapsed": false
   },
   "outputs": [
    {
     "name": "stdout",
     "output_type": "stream",
     "text": [
      "(?, 28, 28)\n",
      "\n",
      "(28, ?, 28)\n",
      "\n",
      "(?, 28)\n",
      "\n",
      "28\n",
      "Tensor(\"split_1:0\", shape=(?, 28), dtype=float32)\n",
      "Tensor(\"split_1:1\", shape=(?, 28), dtype=float32)\n",
      "Tensor(\"split_1:2\", shape=(?, 28), dtype=float32)\n",
      "Tensor(\"split_1:3\", shape=(?, 28), dtype=float32)\n",
      "Tensor(\"split_1:4\", shape=(?, 28), dtype=float32)\n",
      "Tensor(\"split_1:5\", shape=(?, 28), dtype=float32)\n",
      "Tensor(\"split_1:6\", shape=(?, 28), dtype=float32)\n",
      "Tensor(\"split_1:7\", shape=(?, 28), dtype=float32)\n",
      "Tensor(\"split_1:8\", shape=(?, 28), dtype=float32)\n",
      "Tensor(\"split_1:9\", shape=(?, 28), dtype=float32)\n",
      "Tensor(\"split_1:10\", shape=(?, 28), dtype=float32)\n",
      "Tensor(\"split_1:11\", shape=(?, 28), dtype=float32)\n",
      "Tensor(\"split_1:12\", shape=(?, 28), dtype=float32)\n",
      "Tensor(\"split_1:13\", shape=(?, 28), dtype=float32)\n",
      "Tensor(\"split_1:14\", shape=(?, 28), dtype=float32)\n",
      "Tensor(\"split_1:15\", shape=(?, 28), dtype=float32)\n",
      "Tensor(\"split_1:16\", shape=(?, 28), dtype=float32)\n",
      "Tensor(\"split_1:17\", shape=(?, 28), dtype=float32)\n",
      "Tensor(\"split_1:18\", shape=(?, 28), dtype=float32)\n",
      "Tensor(\"split_1:19\", shape=(?, 28), dtype=float32)\n",
      "Tensor(\"split_1:20\", shape=(?, 28), dtype=float32)\n",
      "Tensor(\"split_1:21\", shape=(?, 28), dtype=float32)\n",
      "Tensor(\"split_1:22\", shape=(?, 28), dtype=float32)\n",
      "Tensor(\"split_1:23\", shape=(?, 28), dtype=float32)\n",
      "Tensor(\"split_1:24\", shape=(?, 28), dtype=float32)\n",
      "Tensor(\"split_1:25\", shape=(?, 28), dtype=float32)\n",
      "Tensor(\"split_1:26\", shape=(?, 28), dtype=float32)\n",
      "Tensor(\"split_1:27\", shape=(?, 28), dtype=float32)\n"
     ]
    }
   ],
   "source": [
    "# image: 28 * 30\n",
    "batch_size = 128\n",
    "n_steps = 28\n",
    "n_inputs = 28\n",
    "\n",
    "x = tf.placeholder(tf.float32, [None, n_steps, n_inputs])\n",
    "print(x.get_shape())\n",
    "print()\n",
    "\n",
    "xt = tf.transpose(x, perm = [1, 0, 2])\n",
    "print(xt.get_shape())\n",
    "print()\n",
    "\n",
    "xr = tf.reshape(xt, shape = [-1, n_inputs])\n",
    "print(xr.get_shape())\n",
    "print()\n",
    "\n",
    "xs = tf.split(value=xr, num_or_size_splits=n_steps, axis=0)\n",
    "print(len(xs))\n",
    "for item in xs:\n",
    "    print(item)"
   ]
  },
  {
   "cell_type": "markdown",
   "metadata": {
    "collapsed": true
   },
   "source": [
    "### Sine Function 데이터에 대한 RNN 배치 Input 처리 - 사전연습"
   ]
  },
  {
   "cell_type": "code",
   "execution_count": 3,
   "metadata": {
    "collapsed": true
   },
   "outputs": [],
   "source": [
    "import numpy as np\n",
    "\n",
    "def split_data(data, val_size=0.1, test_size=0.2):\n",
    "    \"\"\"\n",
    "    splits data to training, validation and testing parts\n",
    "    \"\"\"\n",
    "    ntest = int(round(len(data) * (1 - test_size)))\n",
    "    nval = int(round(len(data) * (1 - (val_size + test_size))))\n",
    "\n",
    "    train_data, val_data, test_data = data[:nval], data[nval:ntest], data[ntest:]\n",
    "    return train_data, val_data, test_data\n",
    "\n",
    "def prepare_data(data, n_steps):\n",
    "    x = []\n",
    "    y = []\n",
    "    for i in range(len(data) - n_steps - 1):\n",
    "        x_item = []\n",
    "        for j in range(n_steps):\n",
    "            x_item.append([data[i + j]])\n",
    "        x.append(x_item)\n",
    "        y.append([data[i + n_steps]])\n",
    "    x = np.asarray(x)\n",
    "    y = np.asarray(y)\n",
    "    return x, y    \n",
    "\n",
    "def generate_data(func, x, n_steps):\n",
    "    \"\"\"\n",
    "    generates data with based on a function fct\n",
    "    creates new data frame based on previous observation\n",
    "       * example:\n",
    "        l = [1, 2, 3, 4, 5]\n",
    "        n_steps = 3\n",
    "        -> [[[1], [2], [3]], [[2], [3], [4]], [[3], [4], [5]]]\n",
    "    \"\"\"\n",
    "    data = func(x)\n",
    "    train_data, val_data, test_data = split_data(data, val_size=0.1, test_size=0.2)\n",
    "    train = {}\n",
    "    val = {}\n",
    "    test = {}\n",
    "    train['x'], train['y'] = prepare_data(train_data, n_steps)\n",
    "    val['x'], val['y'] = prepare_data(val_data, n_steps)\n",
    "    test['x'], test['y'] = prepare_data(test_data, n_steps)\n",
    "    return train, val, test"
   ]
  },
  {
   "cell_type": "code",
   "execution_count": 4,
   "metadata": {
    "collapsed": false
   },
   "outputs": [],
   "source": [
    "n_steps = 5\n",
    "train, val, test = generate_data(np.sin, np.linspace(0, 100, 10000), n_steps)"
   ]
  },
  {
   "cell_type": "code",
   "execution_count": 5,
   "metadata": {
    "collapsed": false
   },
   "outputs": [
    {
     "name": "stdout",
     "output_type": "stream",
     "text": [
      "[[[ 0.        ]\n",
      "  [ 0.01000083]\n",
      "  [ 0.02000067]\n",
      "  [ 0.0299985 ]\n",
      "  [ 0.03999333]]\n",
      "\n",
      " [[ 0.01000083]\n",
      "  [ 0.02000067]\n",
      "  [ 0.0299985 ]\n",
      "  [ 0.03999333]\n",
      "  [ 0.04998416]]\n",
      "\n",
      " [[ 0.02000067]\n",
      "  [ 0.0299985 ]\n",
      "  [ 0.03999333]\n",
      "  [ 0.04998416]\n",
      "  [ 0.05997   ]]\n",
      "\n",
      " [[ 0.0299985 ]\n",
      "  [ 0.03999333]\n",
      "  [ 0.04998416]\n",
      "  [ 0.05997   ]\n",
      "  [ 0.06994983]]\n",
      "\n",
      " [[ 0.03999333]\n",
      "  [ 0.04998416]\n",
      "  [ 0.05997   ]\n",
      "  [ 0.06994983]\n",
      "  [ 0.07992267]]] 6994\n",
      "[[ 0.04998416]\n",
      " [ 0.05997   ]\n",
      " [ 0.06994983]\n",
      " [ 0.07992267]\n",
      " [ 0.08988751]] 6994\n",
      "\n",
      "[[[ 0.77830536]\n",
      "  [ 0.78454582]\n",
      "  [ 0.79070781]\n",
      "  [ 0.79679071]\n",
      "  [ 0.80279392]]\n",
      "\n",
      " [[ 0.78454582]\n",
      "  [ 0.79070781]\n",
      "  [ 0.79679071]\n",
      "  [ 0.80279392]\n",
      "  [ 0.80871684]]\n",
      "\n",
      " [[ 0.79070781]\n",
      "  [ 0.79679071]\n",
      "  [ 0.80279392]\n",
      "  [ 0.80871684]\n",
      "  [ 0.81455887]]\n",
      "\n",
      " [[ 0.79679071]\n",
      "  [ 0.80279392]\n",
      "  [ 0.80871684]\n",
      "  [ 0.81455887]\n",
      "  [ 0.82031942]]\n",
      "\n",
      " [[ 0.80279392]\n",
      "  [ 0.80871684]\n",
      "  [ 0.81455887]\n",
      "  [ 0.82031942]\n",
      "  [ 0.82599793]]] 994\n",
      "[[ 0.80871684]\n",
      " [ 0.81455887]\n",
      " [ 0.82031942]\n",
      " [ 0.82599793]\n",
      " [ 0.83159383]] 994\n",
      "\n",
      "[[[-0.99474002]\n",
      "  [-0.99571468]\n",
      "  [-0.99658975]\n",
      "  [-0.99736513]\n",
      "  [-0.99804077]]\n",
      "\n",
      " [[-0.99571468]\n",
      "  [-0.99658975]\n",
      "  [-0.99736513]\n",
      "  [-0.99804077]\n",
      "  [-0.99861658]]\n",
      "\n",
      " [[-0.99658975]\n",
      "  [-0.99736513]\n",
      "  [-0.99804077]\n",
      "  [-0.99861658]\n",
      "  [-0.99909251]]\n",
      "\n",
      " [[-0.99736513]\n",
      "  [-0.99804077]\n",
      "  [-0.99861658]\n",
      "  [-0.99909251]\n",
      "  [-0.99946851]]\n",
      "\n",
      " [[-0.99804077]\n",
      "  [-0.99861658]\n",
      "  [-0.99909251]\n",
      "  [-0.99946851]\n",
      "  [-0.99974454]]] 1994\n",
      "[[-0.99861658]\n",
      " [-0.99909251]\n",
      " [-0.99946851]\n",
      " [-0.99974454]\n",
      " [-0.99992058]] 1994\n"
     ]
    }
   ],
   "source": [
    "print(train['x'][0:5], len(train['x']))\n",
    "print(train['y'][0:5], len(train['y']))\n",
    "print()\n",
    "print(val['x'][0:5], len(val['x']))\n",
    "print(val['y'][0:5], len(val['y']))\n",
    "print()\n",
    "print(test['x'][0:5], len(test['x']))\n",
    "print(test['y'][0:5], len(test['y']))"
   ]
  }
 ],
 "metadata": {
  "kernelspec": {
   "display_name": "Python 3",
   "language": "python",
   "name": "python3"
  },
  "language_info": {
   "codemirror_mode": {
    "name": "ipython",
    "version": 3.0
   },
   "file_extension": ".py",
   "mimetype": "text/x-python",
   "name": "python",
   "nbconvert_exporter": "python",
   "pygments_lexer": "ipython3",
   "version": "3.6.0"
  }
 },
 "nbformat": 4,
 "nbformat_minor": 0
}