{
 "cells": [
  {
   "cell_type": "code",
   "execution_count": 1,
   "metadata": {
    "collapsed": false,
    "scrolled": true
   },
   "outputs": [
    {
     "name": "stdout",
     "output_type": "stream",
     "text": [
      "0.35.0\n"
     ]
    }
   ],
   "source": [
    "# pip install numba --upgrade\n",
    "# pip install pygraphviz\n",
    "import sys\n",
    "sys.path.insert(0, \"/Users/yhhan/git/aiclass/0.Professor/\")\n",
    "\n",
    "import tensorflux.graph as tfg\n",
    "import tensorflux.deep_learning_networks as tfn\n",
    "import tensorflux.enums as tfe\n",
    "import datasource.mnist as mnist\n",
    "import tensorflux.functions as tff\n",
    "import math\n",
    "import numba\n",
    "import numpy as np\n",
    "import matplotlib.pyplot as plt\n",
    "print(numba.__version__)\n",
    "%matplotlib inline"
   ]
  },
  {
   "cell_type": "code",
   "execution_count": 2,
   "metadata": {
    "collapsed": false
   },
   "outputs": [
    {
     "name": "stdout",
     "output_type": "stream",
     "text": [
      "Multi Layer Network Model - ID: F6YKRYRL\n",
      "Multi Layer Network Model - ID: 3T66DTN2\n",
      "Multi Layer Network Model - ID: UL94B4C6\n",
      "Multi Layer Network Model - ID: Q1GLK5DQ\n",
      "Multi Layer Network Model - ID: G60G2UJB\n"
     ]
    }
   ],
   "source": [
    "input_size = 784\n",
    "hidden_layer1_size = 128\n",
    "hidden_layer2_size = 128\n",
    "output_size = 10\n",
    "model_params_dir = \"/Users/yhhan/temp3\"\n",
    "\n",
    "x = tfg.Placeholder(name=\"x\")\n",
    "target = tfg.Placeholder(name=\"target\")\n",
    "\n",
    "n_sgd = tfn.Multi_Layer_Network(\n",
    "    input_size=input_size,\n",
    "    hidden_size_list=[hidden_layer1_size, hidden_layer2_size],\n",
    "    output_size=output_size,\n",
    "    input_node=x,\n",
    "    target_node=target,\n",
    "    init_mean=0.0,\n",
    "    init_sd=0.01,\n",
    "    activator=tfe.Activator.ReLU.value,\n",
    "    optimizer=tfe.Optimizer.SGD.value,\n",
    "    learning_rate=0.01,\n",
    "    model_params_dir=model_params_dir\n",
    ")\n",
    "\n",
    "n_momentum = tfn.Multi_Layer_Network(\n",
    "    input_size=input_size,\n",
    "    hidden_size_list=[hidden_layer1_size, hidden_layer2_size],\n",
    "    output_size=output_size,\n",
    "    input_node=x,\n",
    "    target_node=target,\n",
    "    init_mean=0.0,\n",
    "    init_sd=0.01,\n",
    "    activator=tfe.Activator.ReLU.value,\n",
    "    optimizer=tfe.Optimizer.Momentum.value,\n",
    "    learning_rate=0.01,\n",
    "    model_params_dir=model_params_dir\n",
    ")\n",
    "\n",
    "n_nag = tfn.Multi_Layer_Network(\n",
    "    input_size=input_size,\n",
    "    hidden_size_list=[hidden_layer1_size, hidden_layer2_size],\n",
    "    output_size=output_size,\n",
    "    input_node=x,\n",
    "    target_node=target,\n",
    "    init_mean=0.0,\n",
    "    init_sd=0.01,\n",
    "    activator=tfe.Activator.ReLU.value,\n",
    "    optimizer=tfe.Optimizer.NAG.value,\n",
    "    learning_rate=0.01,\n",
    "    model_params_dir=model_params_dir\n",
    ")\n",
    "\n",
    "n_adagrad = tfn.Multi_Layer_Network(\n",
    "    input_size=input_size,\n",
    "    hidden_size_list=[hidden_layer1_size, hidden_layer2_size],\n",
    "    output_size=output_size,\n",
    "    input_node=x,\n",
    "    target_node=target,\n",
    "    init_mean=0.0,\n",
    "    init_sd=0.01,\n",
    "    activator=tfe.Activator.ReLU.value,\n",
    "    optimizer=tfe.Optimizer.AdaGrad.value,\n",
    "    learning_rate=0.01,\n",
    "    model_params_dir=model_params_dir\n",
    ")\n",
    "\n",
    "n_adam = tfn.Multi_Layer_Network(\n",
    "    input_size=input_size,\n",
    "    hidden_size_list=[hidden_layer1_size, hidden_layer2_size],\n",
    "    output_size=output_size,\n",
    "    input_node=x,\n",
    "    target_node=target,\n",
    "    init_mean=0.0,\n",
    "    init_sd=0.01,\n",
    "    activator=tfe.Activator.ReLU.value,\n",
    "    optimizer=tfe.Optimizer.Adam.value,\n",
    "    learning_rate=0.01,\n",
    "    model_params_dir=model_params_dir\n",
    ")"
   ]
  },
  {
   "cell_type": "code",
   "execution_count": null,
   "metadata": {
    "collapsed": true,
    "scrolled": false
   },
   "outputs": [],
   "source": [
    "data = mnist.MNIST_Data()\n",
    "#data = mnist.Fashion_MNIST_Data()"
   ]
  },
  {
   "cell_type": "code",
   "execution_count": null,
   "metadata": {
    "collapsed": false,
    "scrolled": false
   },
   "outputs": [
    {
     "name": "stdout",
     "output_type": "stream",
     "text": [
      "***SGD***\n",
      "-- Learning Started --\n",
      "Epoch   0 Completed - Train Error: 2.303948 - Validation Error: 2.303270 - Test Accuracy: 0.081300\n",
      "Save Params at Epoch: 0\n",
      "Epoch   1 Completed - Train Error: 0.411108 - Validation Error: 0.375926 - Test Accuracy: 0.890900\n",
      "Save Params at Epoch: 1\n"
     ]
    }
   ],
   "source": [
    "batch_size = 1000\n",
    "max_epoch = 3\n",
    "\n",
    "neural_networks = {\"SGD\": n_sgd, \"Momentum\": n_momentum, \"Nesterov\": n_nag, \"AdaGrad\": n_adagrad, \"Adam\": n_adam}\n",
    "#neural_networks = {\"AdaGrad\": n_adagrad, \"Adam\": n_adam}\n",
    "\n",
    "for key, neural_network in neural_networks.items():\n",
    "    print(\"***\" + key + \"***\")\n",
    "    neural_network.learning(\n",
    "        max_epoch=max_epoch, \n",
    "        data=data, \n",
    "        batch_size=batch_size, \n",
    "        print_period=1, \n",
    "        is_numba=True, \n",
    "        verbose=False\n",
    "    )"
   ]
  },
  {
   "cell_type": "code",
   "execution_count": null,
   "metadata": {
    "collapsed": false
   },
   "outputs": [],
   "source": [
    "for key, neural_network in neural_networks.items():\n",
    "    print(\"{:10s} - Epoch:{:3d}, Min Train Error: {:7.5f}, Min ValidationError: {:7.5f}, Max Test Accuracy: {:7.5f}\".format(\n",
    "        key, \n",
    "        neural_networks[key].min_validation_error_epoch,\n",
    "        neural_networks[key].min_train_error,\n",
    "        neural_networks[key].min_validation_error,\n",
    "        neural_networks[key].max_test_accuracy,\n",
    "        )\n",
    "    )"
   ]
  },
  {
   "cell_type": "code",
   "execution_count": null,
   "metadata": {
    "collapsed": false
   },
   "outputs": [],
   "source": [
    "markers = {\"SGD\": \"h\", \"Momentum\": \"x\", \"Nesterov\": \"s\", \"AdaGrad\": \"o\", \"Adam\": \"1\"}\n",
    "epoch_list = np.arange(max_epoch + 1)\n",
    "\n",
    "f, axarr = plt.subplots(2, 2, figsize=(15,10))\n",
    "\n",
    "for key, neural_network in neural_networks.items():\n",
    "    axarr[0, 0].plot(epoch_list, neural_networks[key].train_error_list, marker=markers[key], markevery=2, label=key)\n",
    "axarr[0, 0].set_ylabel('Train Error')\n",
    "axarr[0, 0].set_xlabel('Epochs')\n",
    "axarr[0, 0].grid(True)\n",
    "axarr[0, 0].set_title('Train Error')\n",
    "axarr[0, 0].legend(loc='upper left')\n",
    "\n",
    "for key, neural_network in neural_networks.items():\n",
    "    axarr[0, 1].plot(epoch_list, neural_networks[key].validation_error_list, marker=markers[key], markevery=2, label=key)\n",
    "axarr[0, 1].set_ylabel('Validation Error')\n",
    "axarr[0, 1].set_xlabel('Epochs')\n",
    "axarr[0, 1].grid(True)\n",
    "axarr[0, 1].set_title('Validation Error')\n",
    "axarr[0, 1].legend(loc='upper left')\n",
    "\n",
    "for key, neural_network in neural_networks.items():\n",
    "    axarr[1, 0].plot(epoch_list, neural_networks[key].train_error_list, marker=markers[key], markevery=2, label=key)\n",
    "axarr[1, 0].set_ylabel('Train Error')\n",
    "axarr[1, 0].set_xlabel('Epochs')\n",
    "axarr[1, 0].grid(True)\n",
    "axarr[1, 0].set_ylim(0, 0.3)\n",
    "axarr[1, 0].set_title('Train Error (0.00 ~ 0.30)')\n",
    "axarr[1, 0].legend(loc='upper left')\n",
    "\n",
    "for key, neural_network in neural_networks.items():\n",
    "    axarr[1, 1].plot(epoch_list, neural_networks[key].validation_error_list, marker=markers[key], markevery=2, label=key)\n",
    "axarr[1, 1].set_ylabel('Validation Error')\n",
    "axarr[1, 1].set_xlabel('Epochs')\n",
    "axarr[1, 1].grid(True)\n",
    "axarr[1, 1].set_ylim(0, 0.3)\n",
    "axarr[1, 1].set_title('Validation Error (0.00 ~ 0.30)')\n",
    "axarr[1, 1].legend(loc='upper left')\n",
    "\n",
    "f.subplots_adjust(hspace=0.3)\n",
    "\n",
    "plt.show()"
   ]
  },
  {
   "cell_type": "code",
   "execution_count": null,
   "metadata": {
    "collapsed": false
   },
   "outputs": [],
   "source": [
    "f, axarr = plt.subplots(2, 1, figsize=(15,10))\n",
    "\n",
    "for key, neural_network in neural_networks.items():\n",
    "    axarr[0].plot(epoch_list, neural_networks[key].test_accuracy_list, marker=markers[key], markevery=1, label=key)\n",
    "axarr[0].set_ylabel('Test Accuracy')\n",
    "axarr[0].set_xlabel('Epochs')\n",
    "axarr[0].grid(True)\n",
    "axarr[0].set_title('Test Accuracy')\n",
    "axarr[0].legend(loc='upper left')\n",
    "\n",
    "for key, neural_network in neural_networks.items():\n",
    "    axarr[0].plot(epoch_list, neural_networks[key].test_accuracy_list, marker=markers[key], markevery=1, label=key)\n",
    "axarr[1].set_ylabel('Test Accuracy')\n",
    "axarr[1].set_xlabel('Epochs')\n",
    "axarr[1].grid(True)\n",
    "axarr[1].set_ylim(0.9, 1.0)\n",
    "axarr[1].set_title('Test Accuracy (0.9 ~ 1.0)')\n",
    "axarr[1].legend(loc='upper left')\n",
    "\n",
    "f.subplots_adjust(hspace=0.3)\n",
    "plt.show()"
   ]
  }
 ],
 "metadata": {
  "kernelspec": {
   "display_name": "Python 3",
   "language": "python",
   "name": "python3"
  },
  "language_info": {
   "codemirror_mode": {
    "name": "ipython",
    "version": 3
   },
   "file_extension": ".py",
   "mimetype": "text/x-python",
   "name": "python",
   "nbconvert_exporter": "python",
   "pygments_lexer": "ipython3",
   "version": "3.6.0"
  }
 },
 "nbformat": 4,
 "nbformat_minor": 2
}
