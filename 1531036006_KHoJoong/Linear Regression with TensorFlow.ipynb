{
 "cells": [
  {
   "cell_type": "code",
   "execution_count": 4,
   "metadata": {
    "collapsed": false
   },
   "outputs": [
    {
     "name": "stdout",
     "output_type": "stream",
     "text": [
      "<class 'numpy.ndarray'> (2, 100)\n",
      "<class 'numpy.ndarray'> (100,)\n"
     ]
    }
   ],
   "source": [
    "import tensorflow as tf\n",
    "import numpy as np\n",
    "\n",
    "# Numpy 랜덤으로 100개의 가짜 데이터 채우기.\n",
    "x = np.float32(np.random.rand(2, 100))\n",
    "\n",
    "# 학습 레이블(목표값)은 아래의 식으로 산출. (W = [0.1, 0.2], b = 0.3)\n",
    "y_target = np.dot([0.100, 0.200], x) + 0.300\n",
    "\n",
    "print(type(x), x.shape)\n",
    "#print(x)\n",
    "print(type(y_target), y_target.shape)\n",
    "#print(y_target)"
   ]
  },
  {
   "cell_type": "code",
   "execution_count": 5,
   "metadata": {
    "collapsed": false
   },
   "outputs": [
    {
     "name": "stdout",
     "output_type": "stream",
     "text": [
      "(1,)\n",
      "(1, 2)\n",
      "(1, 100)\n"
     ]
    }
   ],
   "source": [
    "# b는 0 으로 초기화\n",
    "b = tf.Variable(tf.zeros([1]))\n",
    "\n",
    "# W는 1x2 형태의 가중치 변수, 역시 0으로 초기화\n",
    "W = tf.Variable(tf.zeros([1, 2]))\n",
    "\n",
    "# 모델 생성 --> Tenforflow Graph 완성\n",
    "y = tf.matmul(W, x) + b\n",
    "\n",
    "print(b.get_shape())\n",
    "print(W.get_shape())\n",
    "print(y.get_shape())"
   ]
  },
  {
   "cell_type": "code",
   "execution_count": 6,
   "metadata": {
    "collapsed": true
   },
   "outputs": [],
   "source": [
    "# 손실 함수 정의\n",
    "loss = tf.reduce_mean(tf.square(y - y_target))  # 이 예제에서 100개의 데이터에 대해서 각각의 에러가 나오는데, 그것들의 평균을 이용\n",
    "\n",
    "# 경사하강법으로 Backpropagation 적용 (0.0005는 learning rate) --> W와 b 변수 변경\n",
    "optimizer = tf.train.GradientDescentOptimizer(0.0005)\n",
    "\n",
    "# optimizer의 학습 목표 정의\n",
    "train = optimizer.minimize(loss)"
   ]
  },
  {
   "cell_type": "code",
   "execution_count": 7,
   "metadata": {
    "collapsed": false
   },
   "outputs": [
    {
     "name": "stdout",
     "output_type": "stream",
     "text": [
      "step: 0, loss: 0.21449267864227295, w: [[ 0.00024254  0.00026641]], b: [ 0.00045879]\n",
      "step: 10000, loss: 7.352770626312122e-05, w: [[ 0.12694444  0.18393579]], b: [ 0.2947517]\n",
      "step: 20000, loss: 1.7195656255353242e-05, w: [[ 0.11304299  0.1922625 ]], b: [ 0.29743192]\n",
      "step: 30000, loss: 4.026760052511236e-06, w: [[ 0.10632364  0.19628483]], b: [ 0.29873028]\n",
      "step: 40000, loss: 9.432263823327958e-07, w: [[ 0.10306659  0.19821475]], b: [ 0.2993778]\n",
      "step: 50000, loss: 2.226222051149307e-07, w: [[ 0.10149685  0.19914714]], b: [ 0.29969171]\n",
      "step: 60000, loss: 5.258950608322266e-08, w: [[ 0.10072502  0.1995828 ]], b: [ 0.29984593]\n",
      "step: 70000, loss: 1.3719296809711068e-08, w: [[ 0.10037773  0.19981343]], b: [ 0.29989591]\n",
      "step: 80000, loss: 3.9212317837211685e-09, w: [[ 0.10020976  0.19995888]], b: [ 0.29990402]\n",
      "step: 90000, loss: 1.761266354982638e-09, w: [[ 0.10013403  0.19998628]], b: [ 0.299925]\n",
      "step: 100000, loss: 1.677523342458187e-09, w: [[ 0.10013033  0.19998688]], b: [ 0.29992655]\n",
      "sample_x: [[0.49316248], [0.29598236]], sample_y: [[ 0.40849966]], sample_y_target: 0.4085127204656601\n",
      "sample_x: [[0.97467589], [0.031977683]], sample_y: [[ 0.4039163]], sample_y_target: 0.403863126039505\n",
      "sample_x: [[0.26184127], [0.21905839]], sample_y: [[ 0.3699536]], sample_y_target: 0.36999580562114714\n",
      "new_x: [[1.5], [1.5]], y_value: [[ 0.7501024]]\n"
     ]
    }
   ],
   "source": [
    "# 세션 시작\n",
    "with tf.Session() as sess:\n",
    "    # 모든 변수를 초기화.\n",
    "    init = tf.global_variables_initializer()\n",
    "    sess.run(init)\n",
    "\n",
    "    # 100000번 학습.\n",
    "    for step in range(0, 100001):\n",
    "        sess.run(train)\n",
    "        if step % 10000 == 0:\n",
    "            loss_value = sess.run(loss)\n",
    "            w_value = sess.run(W)\n",
    "            b_value = sess.run(b)\n",
    "            print(\"step: {0}, loss: {1}, w: {2}, b: {3}\".format(step, loss_value, w_value, b_value))\n",
    "    \n",
    "    print\n",
    "    \n",
    "    # 학습된 모델을 활용한 값과 실제 값 비교\n",
    "    sample_x = [[x[0][0]], [x[1][0]]] # 0번째 데이터\n",
    "    sample_y = sess.run(tf.matmul(W, sample_x) + b)\n",
    "    sample_y_target = y_target[0]\n",
    "    print(\"sample_x: {0}, sample_y: {1}, sample_y_target: {2}\".format(sample_x, sample_y, sample_y_target))\n",
    "    \n",
    "    sample_x = [[x[0][1]], [x[1][1]]] # 1번째 데이터\n",
    "    sample_y = sess.run(tf.matmul(W, sample_x) + b)\n",
    "    sample_y_target = y_target[1]\n",
    "    print(\"sample_x: {0}, sample_y: {1}, sample_y_target: {2}\".format(sample_x, sample_y, sample_y_target))\n",
    "    \n",
    "    sample_x = [[x[0][2]], [x[1][2]]] # 2번째 데이터\n",
    "    sample_y = sess.run(tf.matmul(W, sample_x) + b)\n",
    "    sample_y_target = y_target[2]\n",
    "    print(\"sample_x: {0}, sample_y: {1}, sample_y_target: {2}\".format(sample_x, sample_y, sample_y_target))\n",
    "    \n",
    "    print\n",
    "    \n",
    "    # 학습된 모델을 활용한 새로운 데이터 값에 대한 y 값 예측\n",
    "    new_x = [[1.5], [1.5]]\n",
    "    y_value = sess.run(tf.matmul(W, new_x) + b)\n",
    "    print(\"new_x: {0}, y_value: {1}\".format(new_x, y_value))"
   ]
  },
  {
   "cell_type": "code",
   "execution_count": null,
   "metadata": {
    "collapsed": true
   },
   "outputs": [],
   "source": []
  }
 ],
 "metadata": {
  "kernelspec": {
   "display_name": "Python [conda root]",
   "language": "python",
   "name": "conda-root-py"
  },
  "language_info": {
   "codemirror_mode": {
    "name": "ipython",
    "version": 3
   },
   "file_extension": ".py",
   "mimetype": "text/x-python",
   "name": "python",
   "nbconvert_exporter": "python",
   "pygments_lexer": "ipython3",
   "version": "3.5.2"
  }
 },
 "nbformat": 4,
 "nbformat_minor": 1
}
