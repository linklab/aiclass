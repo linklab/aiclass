{
 "cells": [
  {
   "cell_type": "code",
   "execution_count": 2,
   "metadata": {
    "collapsed": false
   },
   "outputs": [
    {
     "name": "stdout",
     "output_type": "stream",
     "text": [
      "Tensor(\"add:0\", shape=(1,), dtype=float32)\n",
      "Tensor(\"Add:0\", shape=(1,), dtype=float32)\n",
      "[ 250.] [ 250.]\n"
     ]
    }
   ],
   "source": [
    "import tensorflow as tf\n",
    "\n",
    "a = tf.constant([15], dtype=tf.float32, name='a')\n",
    "b = tf.constant([10], dtype=tf.float32, name='b')\n",
    "c = tf.constant([100], dtype=tf.float32, name='c')\n",
    "\n",
    "d = a * b + c\n",
    "e = tf.add(tf.multiply(a, b), c)\n",
    "\n",
    "print(d) \n",
    "print(e)\n",
    "\n",
    "with tf.Session() as sess:\n",
    "    result1 = sess.run(d)\n",
    "    result2 = sess.run(e)\n",
    "    print(result1, result2)"
   ]
  },
  {
   "cell_type": "code",
   "execution_count": 7,
   "metadata": {
    "collapsed": false
   },
   "outputs": [
    {
     "name": "stdout",
     "output_type": "stream",
     "text": [
      "[ 10.  20.  30.  40.  50.]\n"
     ]
    }
   ],
   "source": [
    "input_data = [1, 2, 3, 4, 5]\n",
    "x = tf.placeholder(dtype=tf.float32)\n",
    "W = tf.Variable([10], dtype=tf.float32)\n",
    "y = W * x\n",
    "\n",
    "init = tf.global_variables_initializer()  # 필수. 이걸 써줘야 실제로 초기화가 됨\n",
    "\n",
    "with tf.Session() as sess:\n",
    "    sess.run(init)\n",
    "    result = sess.run(y, feed_dict={x: input_data})\n",
    "    print(result)"
   ]
  },
  {
   "cell_type": "code",
   "execution_count": 9,
   "metadata": {
    "collapsed": false
   },
   "outputs": [
    {
     "name": "stdout",
     "output_type": "stream",
     "text": [
      "Tensor(\"Const_1:0\", shape=(2, 2), dtype=int32)\n",
      "Tensor(\"Const_2:0\", shape=(2, 2, 2), dtype=int32)\n"
     ]
    }
   ],
   "source": [
    "a = tf.constant([[1,1],[2,2]])\n",
    "print(a)\n",
    "b = tf.constant([[[1,1],[2,2]], [[3,3],[4,4]]])\n",
    "print(b)"
   ]
  },
  {
   "cell_type": "code",
   "execution_count": null,
   "metadata": {
    "collapsed": true
   },
   "outputs": [],
   "source": []
  }
 ],
 "metadata": {
  "anaconda-cloud": {},
  "kernelspec": {
   "display_name": "Python [conda root]",
   "language": "python",
   "name": "conda-root-py"
  },
  "language_info": {
   "codemirror_mode": {
    "name": "ipython",
    "version": 3
   },
   "file_extension": ".py",
   "mimetype": "text/x-python",
   "name": "python",
   "nbconvert_exporter": "python",
   "pygments_lexer": "ipython3",
   "version": "3.5.2"
  }
 },
 "nbformat": 4,
 "nbformat_minor": 1
}
