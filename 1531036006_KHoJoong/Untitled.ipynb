{
 "cells": [
  {
   "cell_type": "code",
   "execution_count": 1,
   "metadata": {
    "collapsed": false
   },
   "outputs": [
    {
     "name": "stderr",
     "output_type": "stream",
     "text": [
      "[2017-04-25 21:30:50,855] Making new env: FrozenLake-v3\n"
     ]
    },
    {
     "name": "stdout",
     "output_type": "stream",
     "text": [
      "\n",
      "\u001b[41mS\u001b[0mFFF\n",
      "FHFH\n",
      "FFFH\n",
      "HFFG\n",
      "env.observation_space.n: 16\n",
      "env.action_space.n: 4\n",
      "Success rate: 0.936\n",
      "Final Q-Table Values\n",
      "LEFT DOWN RIGHT UP\n",
      "[[ 0.  1.  0.  0.]\n",
      " [ 0.  0.  1.  0.]\n",
      " [ 0.  1.  0.  0.]\n",
      " [ 0.  0.  0.  0.]\n",
      " [ 0.  1.  0.  0.]\n",
      " [ 0.  0.  0.  0.]\n",
      " [ 0.  1.  0.  0.]\n",
      " [ 0.  0.  0.  0.]\n",
      " [ 0.  0.  1.  0.]\n",
      " [ 0.  1.  0.  0.]\n",
      " [ 1.  0.  0.  0.]\n",
      " [ 0.  0.  0.  0.]\n",
      " [ 0.  0.  0.  0.]\n",
      " [ 0.  0.  1.  0.]\n",
      " [ 0.  0.  1.  0.]\n",
      " [ 0.  0.  0.  0.]]\n"
     ]
    },
    {
     "data": {
      "image/png": "[encoded data removed]",
      "text/plain": [
       "<matplotlib.figure.Figure at 0x2ccc4252da0>"
      ]
     },
     "metadata": {},
     "output_type": "display_data"
    }
   ],
   "source": [
    "# Dummy Q-Table learning algorithm\n",
    "from __future__ import print_function\n",
    "\n",
    "import gym\n",
    "from gym.envs.registration import register\n",
    "import numpy as np\n",
    "import random\n",
    "import matplotlib.pyplot as plt\n",
    "\n",
    "register(\n",
    "    id = 'FrozenLake-v3',\n",
    "    entry_point = 'gym.envs.toy_text:FrozenLakeEnv',\n",
    "    kwargs={\n",
    "        'map_name': '4x4',\n",
    "        'is_slippery': False\n",
    "    }\n",
    ")\n",
    "\n",
    "def rargmax(vector):\n",
    "    # vector: [ 0.  1.  1.  0.]\n",
    "    # Return the maximum number of an array element.\n",
    "    m = np.amax(vector)     # m = 1.\n",
    "    # Return the list of indices of the elements that are non-zero and the given condition is True\n",
    "    indices = np.nonzero(vector == m)[0]   # indices = [1, 2]\n",
    "    return random.choice(indices)\n",
    "\n",
    "env = gym.make(\"FrozenLake-v3\")\n",
    "env.render()\n",
    "\n",
    "print(\"env.observation_space.n:\", env.observation_space.n)\n",
    "print(\"env.action_space.n:\", env.action_space.n)\n",
    "Q = np.zeros([env.observation_space.n, env.action_space.n])\n",
    "\n",
    "num_episodes = 2000\n",
    "\n",
    "# list to contain total rewards and steps per episode\n",
    "rList = []\n",
    "\n",
    "for i in range(num_episodes):\n",
    "    # Reset environment and get first new observation\n",
    "    state = env.reset()\n",
    "    rAll = 0\n",
    "    done = False\n",
    "\n",
    "    # The Q-Table learning algorithm\n",
    "    while not done:\n",
    "        action = rargmax(Q[state, :])\n",
    "\n",
    "        # Get new state and reward from environment\n",
    "        new_state, reward, done, info = env.step(action)\n",
    "\n",
    "        # Update Q-Table with new knowledge using learning rate\n",
    "        Q[state, action] = reward + np.max(Q[new_state, :])\n",
    "\n",
    "        rAll += reward\n",
    "        state = new_state\n",
    "\n",
    "    rList.append(rAll)\n",
    "\n",
    "print(\"Success rate: \" + str(sum(rList)/num_episodes))\n",
    "print(\"Final Q-Table Values\")\n",
    "print(\"LEFT DOWN RIGHT UP\")\n",
    "print(Q)\n",
    "plt.plot(rList)\n",
    "plt.ylim(-0.5, 1.5)\n",
    "plt.show()"
   ]
  },
  {
   "cell_type": "code",
   "execution_count": null,
   "metadata": {
    "collapsed": true
   },
   "outputs": [],
   "source": []
  }
 ],
 "metadata": {
  "anaconda-cloud": {},
  "kernelspec": {
   "display_name": "Python [default]",
   "language": "python",
   "name": "python3"
  },
  "language_info": {
   "codemirror_mode": {
    "name": "ipython",
    "version": 3
   },
   "file_extension": ".py",
   "mimetype": "text/x-python",
   "name": "python",
   "nbconvert_exporter": "python",
   "pygments_lexer": "ipython3",
   "version": "3.5.2"
  }
 },
 "nbformat": 4,
 "nbformat_minor": 1
}
