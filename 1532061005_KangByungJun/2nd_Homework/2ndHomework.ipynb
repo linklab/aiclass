{
 "cells": [
  {
   "cell_type": "markdown",
   "metadata": {
    "deletable": true,
    "editable": true
   },
   "source": [
    "# 독버섯 vs. 식용버섯 - Multi-layer Neural Network으로 구분하기"
   ]
  },
  {
   "cell_type": "markdown",
   "metadata": {
    "deletable": true,
    "editable": true
   },
   "source": [
    "## 1. Data Set Desciption\n",
    "- http://archive.ics.uci.edu/ml/datasets/Mushroom\n",
    "- Attribute Information\n",
    "  -    0 - classes (target attribute): edible=e, poisonous=p\n",
    "  -  1 - cap-shape: bell=b, conical=c, convex=x, flat=f, knobbed=k, sunken=s\n",
    "  -  2 - cap-surface: fibrous=f, grooves=g, scaly=y, smooth=s\n",
    "  -  3 - cap-color: brown=n, buff=b, cinnamon=c, gray=g, green=r, pink=p, purple=u, red=e, white=w, yellow=y\n",
    "  -  4 - bruises: bruises=t, no=f\n",
    "  -  5 - odor: almond=a, anise=l, creosote=c, fishy=y, foul=f, musty=m, none=n, pungent=p, spicy=s\n",
    "  -  6 - gill-attachment: attached=a, descending=d, free=f, notched=n\n",
    "  -  7 - gill-spacing: close=c,crowded=w,distant=d\n",
    "  -  8 - gill-size: broad=b, narrow=n\n",
    "  -  9 - gill-color: black=k, brown=n, buff=b, chocolate=h, gray=g, green=r, orange=o, pink=p, purple=u, red=e, white=w, yellow=y\n",
    "  -  10 - stalk-shape: enlarging=e, tapering=t\n",
    "  -  11 - stalk-root: bulbous=b, club=c, cup=u, equal=e, rhizomorphs=z, rooted=r, missing=?\n",
    "  -  12 - stalk-surface-above-ring: fibrous=f, scaly=y, silky=k, smooth=s\n",
    "  -  13 - stalk-surface-below-ring: fibrous=f, scaly=y, silky=k, smooth=s\n",
    "  -  14 - stalk-color-above-ring: brown=n, buff=b, cinnamon=c, gray=g, orange=o, pink=p, red=e, white=w, yellow=y\n",
    "  -  15 - stalk-color-below-ring: brown=n, buff=b, cinnamon=c, gray=g, orange=o, pink=p, red=e, white=w, yellow=y\n",
    "  -  16 - veil-type: partial=p, universal=u\n",
    "  -  17 - veil-color: brown=n, orange=o, white=w, yellow=y\n",
    "  -  18 - ring-number: none=n, one=o, two=t\n",
    "  -  19 - ring-type: cobwebby=c, evanescent=e, flaring=f, large=l, none=n, pendant=p, sheathing=s, zone=z\n",
    "  -  20 - spore-print-color: black=k, brown=n, buff=b, chocolate=h, green=r, orange=o, purple=u, white=w, yellow=y\n",
    "  -  21 - population: abundant=a, clustered=c, numerous=n, scattered=s, several=v, solitary=y\n",
    "  -  22 - habitat: grasses=g, leaves=l, meadows=m, paths=p, urban=u, waste=w, woods=d"
   ]
  },
  {
   "cell_type": "markdown",
   "metadata": {
    "deletable": true,
    "editable": true
   },
   "source": [
    "## 2. Pandas DataFame 및 Numpy Array를 사용하여 데이터 준비하기"
   ]
  },
  {
   "cell_type": "markdown",
   "metadata": {
    "deletable": true,
    "editable": true
   },
   "source": [
    "### 1) Loading Data"
   ]
  },
  {
   "cell_type": "code",
   "execution_count": 2,
   "metadata": {
    "collapsed": false,
    "deletable": true,
    "editable": true
   },
   "outputs": [
    {
     "name": "stdout",
     "output_type": "stream",
     "text": [
      "8124\n"
     ]
    }
   ],
   "source": [
    "import urllib\n",
    "from scipy import stats\n",
    "from pandas import Series, DataFrame\n",
    "import pandas as pd\n",
    "import matplotlib.pyplot as plt\n",
    "import numpy as np\n",
    "import tensorflow as tf\n",
    "import math\n",
    "%matplotlib inline\n",
    "\n",
    "path = 'http://archive.ics.uci.edu/ml/machine-learning-databases/mushroom/agaricus-lepiota.data'\n",
    "raw_csv = urllib.request.urlopen(path)\n",
    "col_names = range(23)\n",
    "df = pd.read_csv(raw_csv, names = col_names)\n",
    "print(len(df))"
   ]
  },
  {
   "cell_type": "code",
   "execution_count": 3,
   "metadata": {
    "collapsed": false,
    "deletable": true,
    "editable": true
   },
   "outputs": [
    {
     "data": {
      "text/html": [
       "<div>\n",
       "<table border=\"1\" class=\"dataframe\">\n",
       "  <thead>\n",
       "    <tr style=\"text-align: right;\">\n",
       "      <th></th>\n",
       "      <th>0</th>\n",
       "      <th>1</th>\n",
       "      <th>2</th>\n",
       "      <th>3</th>\n",
       "      <th>4</th>\n",
       "      <th>5</th>\n",
       "      <th>6</th>\n",
       "      <th>7</th>\n",
       "      <th>8</th>\n",
       "      <th>9</th>\n",
       "      <th>...</th>\n",
       "      <th>13</th>\n",
       "      <th>14</th>\n",
       "      <th>15</th>\n",
       "      <th>16</th>\n",
       "      <th>17</th>\n",
       "      <th>18</th>\n",
       "      <th>19</th>\n",
       "      <th>20</th>\n",
       "      <th>21</th>\n",
       "      <th>22</th>\n",
       "    </tr>\n",
       "  </thead>\n",
       "  <tbody>\n",
       "    <tr>\n",
       "      <th>0</th>\n",
       "      <td>p</td>\n",
       "      <td>x</td>\n",
       "      <td>s</td>\n",
       "      <td>n</td>\n",
       "      <td>t</td>\n",
       "      <td>p</td>\n",
       "      <td>f</td>\n",
       "      <td>c</td>\n",
       "      <td>n</td>\n",
       "      <td>k</td>\n",
       "      <td>...</td>\n",
       "      <td>s</td>\n",
       "      <td>w</td>\n",
       "      <td>w</td>\n",
       "      <td>p</td>\n",
       "      <td>w</td>\n",
       "      <td>o</td>\n",
       "      <td>p</td>\n",
       "      <td>k</td>\n",
       "      <td>s</td>\n",
       "      <td>u</td>\n",
       "    </tr>\n",
       "    <tr>\n",
       "      <th>1</th>\n",
       "      <td>e</td>\n",
       "      <td>x</td>\n",
       "      <td>s</td>\n",
       "      <td>y</td>\n",
       "      <td>t</td>\n",
       "      <td>a</td>\n",
       "      <td>f</td>\n",
       "      <td>c</td>\n",
       "      <td>b</td>\n",
       "      <td>k</td>\n",
       "      <td>...</td>\n",
       "      <td>s</td>\n",
       "      <td>w</td>\n",
       "      <td>w</td>\n",
       "      <td>p</td>\n",
       "      <td>w</td>\n",
       "      <td>o</td>\n",
       "      <td>p</td>\n",
       "      <td>n</td>\n",
       "      <td>n</td>\n",
       "      <td>g</td>\n",
       "    </tr>\n",
       "    <tr>\n",
       "      <th>2</th>\n",
       "      <td>e</td>\n",
       "      <td>b</td>\n",
       "      <td>s</td>\n",
       "      <td>w</td>\n",
       "      <td>t</td>\n",
       "      <td>l</td>\n",
       "      <td>f</td>\n",
       "      <td>c</td>\n",
       "      <td>b</td>\n",
       "      <td>n</td>\n",
       "      <td>...</td>\n",
       "      <td>s</td>\n",
       "      <td>w</td>\n",
       "      <td>w</td>\n",
       "      <td>p</td>\n",
       "      <td>w</td>\n",
       "      <td>o</td>\n",
       "      <td>p</td>\n",
       "      <td>n</td>\n",
       "      <td>n</td>\n",
       "      <td>m</td>\n",
       "    </tr>\n",
       "    <tr>\n",
       "      <th>3</th>\n",
       "      <td>p</td>\n",
       "      <td>x</td>\n",
       "      <td>y</td>\n",
       "      <td>w</td>\n",
       "      <td>t</td>\n",
       "      <td>p</td>\n",
       "      <td>f</td>\n",
       "      <td>c</td>\n",
       "      <td>n</td>\n",
       "      <td>n</td>\n",
       "      <td>...</td>\n",
       "      <td>s</td>\n",
       "      <td>w</td>\n",
       "      <td>w</td>\n",
       "      <td>p</td>\n",
       "      <td>w</td>\n",
       "      <td>o</td>\n",
       "      <td>p</td>\n",
       "      <td>k</td>\n",
       "      <td>s</td>\n",
       "      <td>u</td>\n",
       "    </tr>\n",
       "    <tr>\n",
       "      <th>4</th>\n",
       "      <td>e</td>\n",
       "      <td>x</td>\n",
       "      <td>s</td>\n",
       "      <td>g</td>\n",
       "      <td>f</td>\n",
       "      <td>n</td>\n",
       "      <td>f</td>\n",
       "      <td>w</td>\n",
       "      <td>b</td>\n",
       "      <td>k</td>\n",
       "      <td>...</td>\n",
       "      <td>s</td>\n",
       "      <td>w</td>\n",
       "      <td>w</td>\n",
       "      <td>p</td>\n",
       "      <td>w</td>\n",
       "      <td>o</td>\n",
       "      <td>e</td>\n",
       "      <td>n</td>\n",
       "      <td>a</td>\n",
       "      <td>g</td>\n",
       "    </tr>\n",
       "  </tbody>\n",
       "</table>\n",
       "<p>5 rows × 23 columns</p>\n",
       "</div>"
      ],
      "text/plain": [
       "  0  1  2  3  4  5  6  7  8  9  ... 13 14 15 16 17 18 19 20 21 22\n",
       "0  p  x  s  n  t  p  f  c  n  k ...  s  w  w  p  w  o  p  k  s  u\n",
       "1  e  x  s  y  t  a  f  c  b  k ...  s  w  w  p  w  o  p  n  n  g\n",
       "2  e  b  s  w  t  l  f  c  b  n ...  s  w  w  p  w  o  p  n  n  m\n",
       "3  p  x  y  w  t  p  f  c  n  n ...  s  w  w  p  w  o  p  k  s  u\n",
       "4  e  x  s  g  f  n  f  w  b  k ...  s  w  w  p  w  o  e  n  a  g\n",
       "\n",
       "[5 rows x 23 columns]"
      ]
     },
     "execution_count": 3,
     "metadata": {},
     "output_type": "execute_result"
    }
   ],
   "source": [
    "df.head()"
   ]
  },
  {
   "cell_type": "markdown",
   "metadata": {
    "deletable": true,
    "editable": true
   },
   "source": [
    "### 2) Categorical Attribute를 Numerical Attribute로 변환"
   ]
  },
  {
   "cell_type": "code",
   "execution_count": 4,
   "metadata": {
    "collapsed": false,
    "deletable": true,
    "editable": true
   },
   "outputs": [],
   "source": [
    "num_columns = df.shape[1]\n",
    "map_dic = {}\n",
    "for i in range(num_columns):\n",
    "    unique_array = df[i].unique()\n",
    "    N = len(unique_array)\n",
    "    map_dic[i] = {}\n",
    "    for j in range(N):\n",
    "        map_dic[i][unique_array[j]] = j\n",
    "    df[i] = df[i].map(map_dic[i])"
   ]
  },
  {
   "cell_type": "code",
   "execution_count": 5,
   "metadata": {
    "collapsed": false,
    "deletable": true,
    "editable": true
   },
   "outputs": [
    {
     "data": {
      "text/html": [
       "<div>\n",
       "<table border=\"1\" class=\"dataframe\">\n",
       "  <thead>\n",
       "    <tr style=\"text-align: right;\">\n",
       "      <th></th>\n",
       "      <th>0</th>\n",
       "      <th>1</th>\n",
       "      <th>2</th>\n",
       "      <th>3</th>\n",
       "      <th>4</th>\n",
       "      <th>5</th>\n",
       "      <th>6</th>\n",
       "      <th>7</th>\n",
       "      <th>8</th>\n",
       "      <th>9</th>\n",
       "      <th>...</th>\n",
       "      <th>13</th>\n",
       "      <th>14</th>\n",
       "      <th>15</th>\n",
       "      <th>16</th>\n",
       "      <th>17</th>\n",
       "      <th>18</th>\n",
       "      <th>19</th>\n",
       "      <th>20</th>\n",
       "      <th>21</th>\n",
       "      <th>22</th>\n",
       "    </tr>\n",
       "  </thead>\n",
       "  <tbody>\n",
       "    <tr>\n",
       "      <th>0</th>\n",
       "      <td>0</td>\n",
       "      <td>0</td>\n",
       "      <td>0</td>\n",
       "      <td>0</td>\n",
       "      <td>0</td>\n",
       "      <td>0</td>\n",
       "      <td>0</td>\n",
       "      <td>0</td>\n",
       "      <td>0</td>\n",
       "      <td>0</td>\n",
       "      <td>...</td>\n",
       "      <td>0</td>\n",
       "      <td>0</td>\n",
       "      <td>0</td>\n",
       "      <td>0</td>\n",
       "      <td>0</td>\n",
       "      <td>0</td>\n",
       "      <td>0</td>\n",
       "      <td>0</td>\n",
       "      <td>0</td>\n",
       "      <td>0</td>\n",
       "    </tr>\n",
       "    <tr>\n",
       "      <th>1</th>\n",
       "      <td>1</td>\n",
       "      <td>0</td>\n",
       "      <td>0</td>\n",
       "      <td>1</td>\n",
       "      <td>0</td>\n",
       "      <td>1</td>\n",
       "      <td>0</td>\n",
       "      <td>0</td>\n",
       "      <td>1</td>\n",
       "      <td>0</td>\n",
       "      <td>...</td>\n",
       "      <td>0</td>\n",
       "      <td>0</td>\n",
       "      <td>0</td>\n",
       "      <td>0</td>\n",
       "      <td>0</td>\n",
       "      <td>0</td>\n",
       "      <td>0</td>\n",
       "      <td>1</td>\n",
       "      <td>1</td>\n",
       "      <td>1</td>\n",
       "    </tr>\n",
       "    <tr>\n",
       "      <th>2</th>\n",
       "      <td>1</td>\n",
       "      <td>1</td>\n",
       "      <td>0</td>\n",
       "      <td>2</td>\n",
       "      <td>0</td>\n",
       "      <td>2</td>\n",
       "      <td>0</td>\n",
       "      <td>0</td>\n",
       "      <td>1</td>\n",
       "      <td>1</td>\n",
       "      <td>...</td>\n",
       "      <td>0</td>\n",
       "      <td>0</td>\n",
       "      <td>0</td>\n",
       "      <td>0</td>\n",
       "      <td>0</td>\n",
       "      <td>0</td>\n",
       "      <td>0</td>\n",
       "      <td>1</td>\n",
       "      <td>1</td>\n",
       "      <td>2</td>\n",
       "    </tr>\n",
       "    <tr>\n",
       "      <th>3</th>\n",
       "      <td>0</td>\n",
       "      <td>0</td>\n",
       "      <td>1</td>\n",
       "      <td>2</td>\n",
       "      <td>0</td>\n",
       "      <td>0</td>\n",
       "      <td>0</td>\n",
       "      <td>0</td>\n",
       "      <td>0</td>\n",
       "      <td>1</td>\n",
       "      <td>...</td>\n",
       "      <td>0</td>\n",
       "      <td>0</td>\n",
       "      <td>0</td>\n",
       "      <td>0</td>\n",
       "      <td>0</td>\n",
       "      <td>0</td>\n",
       "      <td>0</td>\n",
       "      <td>0</td>\n",
       "      <td>0</td>\n",
       "      <td>0</td>\n",
       "    </tr>\n",
       "    <tr>\n",
       "      <th>4</th>\n",
       "      <td>1</td>\n",
       "      <td>0</td>\n",
       "      <td>0</td>\n",
       "      <td>3</td>\n",
       "      <td>1</td>\n",
       "      <td>3</td>\n",
       "      <td>0</td>\n",
       "      <td>1</td>\n",
       "      <td>1</td>\n",
       "      <td>0</td>\n",
       "      <td>...</td>\n",
       "      <td>0</td>\n",
       "      <td>0</td>\n",
       "      <td>0</td>\n",
       "      <td>0</td>\n",
       "      <td>0</td>\n",
       "      <td>0</td>\n",
       "      <td>1</td>\n",
       "      <td>1</td>\n",
       "      <td>2</td>\n",
       "      <td>1</td>\n",
       "    </tr>\n",
       "  </tbody>\n",
       "</table>\n",
       "<p>5 rows × 23 columns</p>\n",
       "</div>"
      ],
      "text/plain": [
       "   0   1   2   3   4   5   6   7   8   9  ...  13  14  15  16  17  18  19  20  \\\n",
       "0   0   0   0   0   0   0   0   0   0   0 ...   0   0   0   0   0   0   0   0   \n",
       "1   1   0   0   1   0   1   0   0   1   0 ...   0   0   0   0   0   0   0   1   \n",
       "2   1   1   0   2   0   2   0   0   1   1 ...   0   0   0   0   0   0   0   1   \n",
       "3   0   0   1   2   0   0   0   0   0   1 ...   0   0   0   0   0   0   0   0   \n",
       "4   1   0   0   3   1   3   0   1   1   0 ...   0   0   0   0   0   0   1   1   \n",
       "\n",
       "   21  22  \n",
       "0   0   0  \n",
       "1   1   1  \n",
       "2   1   2  \n",
       "3   0   0  \n",
       "4   2   1  \n",
       "\n",
       "[5 rows x 23 columns]"
      ]
     },
     "execution_count": 5,
     "metadata": {},
     "output_type": "execute_result"
    }
   ],
   "source": [
    "df.head()"
   ]
  },
  {
   "cell_type": "markdown",
   "metadata": {
    "deletable": true,
    "editable": true
   },
   "source": [
    "### 3) 각 컬럼별 Normalization"
   ]
  },
  {
   "cell_type": "code",
   "execution_count": 6,
   "metadata": {
    "collapsed": true,
    "deletable": true,
    "editable": true
   },
   "outputs": [],
   "source": [
    "for i in range(1, num_columns):\n",
    "    unique_array = df[i].unique()\n",
    "    N = len(unique_array)\n",
    "    map_dic_sub = {}\n",
    "    for j in range(N):\n",
    "        if j == 0:\n",
    "            map_dic_sub[j] = 0\n",
    "        else:\n",
    "            map_dic_sub[j] = j / float(N - 1)        \n",
    "    df[i] = df[i].map(map_dic_sub)"
   ]
  },
  {
   "cell_type": "code",
   "execution_count": 7,
   "metadata": {
    "collapsed": false,
    "deletable": true,
    "editable": true
   },
   "outputs": [
    {
     "data": {
      "text/html": [
       "<div>\n",
       "<table border=\"1\" class=\"dataframe\">\n",
       "  <thead>\n",
       "    <tr style=\"text-align: right;\">\n",
       "      <th></th>\n",
       "      <th>0</th>\n",
       "      <th>1</th>\n",
       "      <th>2</th>\n",
       "      <th>3</th>\n",
       "      <th>4</th>\n",
       "      <th>5</th>\n",
       "      <th>6</th>\n",
       "      <th>7</th>\n",
       "      <th>8</th>\n",
       "      <th>9</th>\n",
       "      <th>...</th>\n",
       "      <th>13</th>\n",
       "      <th>14</th>\n",
       "      <th>15</th>\n",
       "      <th>16</th>\n",
       "      <th>17</th>\n",
       "      <th>18</th>\n",
       "      <th>19</th>\n",
       "      <th>20</th>\n",
       "      <th>21</th>\n",
       "      <th>22</th>\n",
       "    </tr>\n",
       "  </thead>\n",
       "  <tbody>\n",
       "    <tr>\n",
       "      <th>0</th>\n",
       "      <td>0</td>\n",
       "      <td>0.0</td>\n",
       "      <td>0.000000</td>\n",
       "      <td>0.000000</td>\n",
       "      <td>0.0</td>\n",
       "      <td>0.000</td>\n",
       "      <td>0.0</td>\n",
       "      <td>0.0</td>\n",
       "      <td>0.0</td>\n",
       "      <td>0.000000</td>\n",
       "      <td>...</td>\n",
       "      <td>0.0</td>\n",
       "      <td>0.0</td>\n",
       "      <td>0.0</td>\n",
       "      <td>0</td>\n",
       "      <td>0.0</td>\n",
       "      <td>0.0</td>\n",
       "      <td>0.00</td>\n",
       "      <td>0.000</td>\n",
       "      <td>0.0</td>\n",
       "      <td>0.000000</td>\n",
       "    </tr>\n",
       "    <tr>\n",
       "      <th>1</th>\n",
       "      <td>1</td>\n",
       "      <td>0.0</td>\n",
       "      <td>0.000000</td>\n",
       "      <td>0.111111</td>\n",
       "      <td>0.0</td>\n",
       "      <td>0.125</td>\n",
       "      <td>0.0</td>\n",
       "      <td>0.0</td>\n",
       "      <td>1.0</td>\n",
       "      <td>0.000000</td>\n",
       "      <td>...</td>\n",
       "      <td>0.0</td>\n",
       "      <td>0.0</td>\n",
       "      <td>0.0</td>\n",
       "      <td>0</td>\n",
       "      <td>0.0</td>\n",
       "      <td>0.0</td>\n",
       "      <td>0.00</td>\n",
       "      <td>0.125</td>\n",
       "      <td>0.2</td>\n",
       "      <td>0.166667</td>\n",
       "    </tr>\n",
       "    <tr>\n",
       "      <th>2</th>\n",
       "      <td>1</td>\n",
       "      <td>0.2</td>\n",
       "      <td>0.000000</td>\n",
       "      <td>0.222222</td>\n",
       "      <td>0.0</td>\n",
       "      <td>0.250</td>\n",
       "      <td>0.0</td>\n",
       "      <td>0.0</td>\n",
       "      <td>1.0</td>\n",
       "      <td>0.090909</td>\n",
       "      <td>...</td>\n",
       "      <td>0.0</td>\n",
       "      <td>0.0</td>\n",
       "      <td>0.0</td>\n",
       "      <td>0</td>\n",
       "      <td>0.0</td>\n",
       "      <td>0.0</td>\n",
       "      <td>0.00</td>\n",
       "      <td>0.125</td>\n",
       "      <td>0.2</td>\n",
       "      <td>0.333333</td>\n",
       "    </tr>\n",
       "    <tr>\n",
       "      <th>3</th>\n",
       "      <td>0</td>\n",
       "      <td>0.0</td>\n",
       "      <td>0.333333</td>\n",
       "      <td>0.222222</td>\n",
       "      <td>0.0</td>\n",
       "      <td>0.000</td>\n",
       "      <td>0.0</td>\n",
       "      <td>0.0</td>\n",
       "      <td>0.0</td>\n",
       "      <td>0.090909</td>\n",
       "      <td>...</td>\n",
       "      <td>0.0</td>\n",
       "      <td>0.0</td>\n",
       "      <td>0.0</td>\n",
       "      <td>0</td>\n",
       "      <td>0.0</td>\n",
       "      <td>0.0</td>\n",
       "      <td>0.00</td>\n",
       "      <td>0.000</td>\n",
       "      <td>0.0</td>\n",
       "      <td>0.000000</td>\n",
       "    </tr>\n",
       "    <tr>\n",
       "      <th>4</th>\n",
       "      <td>1</td>\n",
       "      <td>0.0</td>\n",
       "      <td>0.000000</td>\n",
       "      <td>0.333333</td>\n",
       "      <td>1.0</td>\n",
       "      <td>0.375</td>\n",
       "      <td>0.0</td>\n",
       "      <td>1.0</td>\n",
       "      <td>1.0</td>\n",
       "      <td>0.000000</td>\n",
       "      <td>...</td>\n",
       "      <td>0.0</td>\n",
       "      <td>0.0</td>\n",
       "      <td>0.0</td>\n",
       "      <td>0</td>\n",
       "      <td>0.0</td>\n",
       "      <td>0.0</td>\n",
       "      <td>0.25</td>\n",
       "      <td>0.125</td>\n",
       "      <td>0.4</td>\n",
       "      <td>0.166667</td>\n",
       "    </tr>\n",
       "  </tbody>\n",
       "</table>\n",
       "<p>5 rows × 23 columns</p>\n",
       "</div>"
      ],
      "text/plain": [
       "   0    1         2         3    4      5    6    7    8         9     ...     \\\n",
       "0   0  0.0  0.000000  0.000000  0.0  0.000  0.0  0.0  0.0  0.000000    ...      \n",
       "1   1  0.0  0.000000  0.111111  0.0  0.125  0.0  0.0  1.0  0.000000    ...      \n",
       "2   1  0.2  0.000000  0.222222  0.0  0.250  0.0  0.0  1.0  0.090909    ...      \n",
       "3   0  0.0  0.333333  0.222222  0.0  0.000  0.0  0.0  0.0  0.090909    ...      \n",
       "4   1  0.0  0.000000  0.333333  1.0  0.375  0.0  1.0  1.0  0.000000    ...      \n",
       "\n",
       "    13   14   15  16   17   18    19     20   21        22  \n",
       "0  0.0  0.0  0.0   0  0.0  0.0  0.00  0.000  0.0  0.000000  \n",
       "1  0.0  0.0  0.0   0  0.0  0.0  0.00  0.125  0.2  0.166667  \n",
       "2  0.0  0.0  0.0   0  0.0  0.0  0.00  0.125  0.2  0.333333  \n",
       "3  0.0  0.0  0.0   0  0.0  0.0  0.00  0.000  0.0  0.000000  \n",
       "4  0.0  0.0  0.0   0  0.0  0.0  0.25  0.125  0.4  0.166667  \n",
       "\n",
       "[5 rows x 23 columns]"
      ]
     },
     "execution_count": 7,
     "metadata": {},
     "output_type": "execute_result"
    }
   ],
   "source": [
    "df.head()"
   ]
  },
  {
   "cell_type": "markdown",
   "metadata": {
    "deletable": true,
    "editable": true
   },
   "source": [
    "### 4) 데이터 전처리 작업"
   ]
  },
  {
   "cell_type": "code",
   "execution_count": 8,
   "metadata": {
    "collapsed": false,
    "deletable": true,
    "editable": true
   },
   "outputs": [],
   "source": [
    "data_df = df.iloc[:, 1:]"
   ]
  },
  {
   "cell_type": "code",
   "execution_count": 9,
   "metadata": {
    "collapsed": false,
    "deletable": true,
    "editable": true
   },
   "outputs": [
    {
     "data": {
      "text/html": [
       "<div>\n",
       "<table border=\"1\" class=\"dataframe\">\n",
       "  <thead>\n",
       "    <tr style=\"text-align: right;\">\n",
       "      <th></th>\n",
       "      <th>1</th>\n",
       "      <th>2</th>\n",
       "      <th>3</th>\n",
       "      <th>4</th>\n",
       "      <th>5</th>\n",
       "      <th>6</th>\n",
       "      <th>7</th>\n",
       "      <th>8</th>\n",
       "      <th>9</th>\n",
       "      <th>10</th>\n",
       "      <th>...</th>\n",
       "      <th>13</th>\n",
       "      <th>14</th>\n",
       "      <th>15</th>\n",
       "      <th>16</th>\n",
       "      <th>17</th>\n",
       "      <th>18</th>\n",
       "      <th>19</th>\n",
       "      <th>20</th>\n",
       "      <th>21</th>\n",
       "      <th>22</th>\n",
       "    </tr>\n",
       "  </thead>\n",
       "  <tbody>\n",
       "    <tr>\n",
       "      <th>0</th>\n",
       "      <td>0.0</td>\n",
       "      <td>0.000000</td>\n",
       "      <td>0.000000</td>\n",
       "      <td>0.0</td>\n",
       "      <td>0.000</td>\n",
       "      <td>0.0</td>\n",
       "      <td>0.0</td>\n",
       "      <td>0.0</td>\n",
       "      <td>0.000000</td>\n",
       "      <td>0.0</td>\n",
       "      <td>...</td>\n",
       "      <td>0.0</td>\n",
       "      <td>0.0</td>\n",
       "      <td>0.0</td>\n",
       "      <td>0</td>\n",
       "      <td>0.0</td>\n",
       "      <td>0.0</td>\n",
       "      <td>0.00</td>\n",
       "      <td>0.000</td>\n",
       "      <td>0.0</td>\n",
       "      <td>0.000000</td>\n",
       "    </tr>\n",
       "    <tr>\n",
       "      <th>1</th>\n",
       "      <td>0.0</td>\n",
       "      <td>0.000000</td>\n",
       "      <td>0.111111</td>\n",
       "      <td>0.0</td>\n",
       "      <td>0.125</td>\n",
       "      <td>0.0</td>\n",
       "      <td>0.0</td>\n",
       "      <td>1.0</td>\n",
       "      <td>0.000000</td>\n",
       "      <td>0.0</td>\n",
       "      <td>...</td>\n",
       "      <td>0.0</td>\n",
       "      <td>0.0</td>\n",
       "      <td>0.0</td>\n",
       "      <td>0</td>\n",
       "      <td>0.0</td>\n",
       "      <td>0.0</td>\n",
       "      <td>0.00</td>\n",
       "      <td>0.125</td>\n",
       "      <td>0.2</td>\n",
       "      <td>0.166667</td>\n",
       "    </tr>\n",
       "    <tr>\n",
       "      <th>2</th>\n",
       "      <td>0.2</td>\n",
       "      <td>0.000000</td>\n",
       "      <td>0.222222</td>\n",
       "      <td>0.0</td>\n",
       "      <td>0.250</td>\n",
       "      <td>0.0</td>\n",
       "      <td>0.0</td>\n",
       "      <td>1.0</td>\n",
       "      <td>0.090909</td>\n",
       "      <td>0.0</td>\n",
       "      <td>...</td>\n",
       "      <td>0.0</td>\n",
       "      <td>0.0</td>\n",
       "      <td>0.0</td>\n",
       "      <td>0</td>\n",
       "      <td>0.0</td>\n",
       "      <td>0.0</td>\n",
       "      <td>0.00</td>\n",
       "      <td>0.125</td>\n",
       "      <td>0.2</td>\n",
       "      <td>0.333333</td>\n",
       "    </tr>\n",
       "    <tr>\n",
       "      <th>3</th>\n",
       "      <td>0.0</td>\n",
       "      <td>0.333333</td>\n",
       "      <td>0.222222</td>\n",
       "      <td>0.0</td>\n",
       "      <td>0.000</td>\n",
       "      <td>0.0</td>\n",
       "      <td>0.0</td>\n",
       "      <td>0.0</td>\n",
       "      <td>0.090909</td>\n",
       "      <td>0.0</td>\n",
       "      <td>...</td>\n",
       "      <td>0.0</td>\n",
       "      <td>0.0</td>\n",
       "      <td>0.0</td>\n",
       "      <td>0</td>\n",
       "      <td>0.0</td>\n",
       "      <td>0.0</td>\n",
       "      <td>0.00</td>\n",
       "      <td>0.000</td>\n",
       "      <td>0.0</td>\n",
       "      <td>0.000000</td>\n",
       "    </tr>\n",
       "    <tr>\n",
       "      <th>4</th>\n",
       "      <td>0.0</td>\n",
       "      <td>0.000000</td>\n",
       "      <td>0.333333</td>\n",
       "      <td>1.0</td>\n",
       "      <td>0.375</td>\n",
       "      <td>0.0</td>\n",
       "      <td>1.0</td>\n",
       "      <td>1.0</td>\n",
       "      <td>0.000000</td>\n",
       "      <td>1.0</td>\n",
       "      <td>...</td>\n",
       "      <td>0.0</td>\n",
       "      <td>0.0</td>\n",
       "      <td>0.0</td>\n",
       "      <td>0</td>\n",
       "      <td>0.0</td>\n",
       "      <td>0.0</td>\n",
       "      <td>0.25</td>\n",
       "      <td>0.125</td>\n",
       "      <td>0.4</td>\n",
       "      <td>0.166667</td>\n",
       "    </tr>\n",
       "  </tbody>\n",
       "</table>\n",
       "<p>5 rows × 22 columns</p>\n",
       "</div>"
      ],
      "text/plain": [
       "    1         2         3    4      5    6    7    8         9    10  \\\n",
       "0  0.0  0.000000  0.000000  0.0  0.000  0.0  0.0  0.0  0.000000  0.0   \n",
       "1  0.0  0.000000  0.111111  0.0  0.125  0.0  0.0  1.0  0.000000  0.0   \n",
       "2  0.2  0.000000  0.222222  0.0  0.250  0.0  0.0  1.0  0.090909  0.0   \n",
       "3  0.0  0.333333  0.222222  0.0  0.000  0.0  0.0  0.0  0.090909  0.0   \n",
       "4  0.0  0.000000  0.333333  1.0  0.375  0.0  1.0  1.0  0.000000  1.0   \n",
       "\n",
       "     ...      13   14   15  16   17   18    19     20   21        22  \n",
       "0    ...     0.0  0.0  0.0   0  0.0  0.0  0.00  0.000  0.0  0.000000  \n",
       "1    ...     0.0  0.0  0.0   0  0.0  0.0  0.00  0.125  0.2  0.166667  \n",
       "2    ...     0.0  0.0  0.0   0  0.0  0.0  0.00  0.125  0.2  0.333333  \n",
       "3    ...     0.0  0.0  0.0   0  0.0  0.0  0.00  0.000  0.0  0.000000  \n",
       "4    ...     0.0  0.0  0.0   0  0.0  0.0  0.25  0.125  0.4  0.166667  \n",
       "\n",
       "[5 rows x 22 columns]"
      ]
     },
     "execution_count": 9,
     "metadata": {},
     "output_type": "execute_result"
    }
   ],
   "source": [
    "data_df.head()"
   ]
  },
  {
   "cell_type": "code",
   "execution_count": 10,
   "metadata": {
    "collapsed": false,
    "deletable": true,
    "editable": true
   },
   "outputs": [],
   "source": [
    "data_array = data_df.as_matrix()"
   ]
  },
  {
   "cell_type": "code",
   "execution_count": 11,
   "metadata": {
    "collapsed": false,
    "deletable": true,
    "editable": true
   },
   "outputs": [
    {
     "name": "stdout",
     "output_type": "stream",
     "text": [
      "<class 'numpy.ndarray'> (8124, 22)\n"
     ]
    }
   ],
   "source": [
    "print(type(data_array), data_array.shape)"
   ]
  },
  {
   "cell_type": "code",
   "execution_count": 12,
   "metadata": {
    "collapsed": true,
    "deletable": true,
    "editable": true
   },
   "outputs": [],
   "source": [
    "label_df = df.iloc[:, 0:1]"
   ]
  },
  {
   "cell_type": "code",
   "execution_count": 13,
   "metadata": {
    "collapsed": false,
    "deletable": true,
    "editable": true
   },
   "outputs": [
    {
     "data": {
      "text/html": [
       "<div>\n",
       "<table border=\"1\" class=\"dataframe\">\n",
       "  <thead>\n",
       "    <tr style=\"text-align: right;\">\n",
       "      <th></th>\n",
       "      <th>0</th>\n",
       "    </tr>\n",
       "  </thead>\n",
       "  <tbody>\n",
       "    <tr>\n",
       "      <th>0</th>\n",
       "      <td>0</td>\n",
       "    </tr>\n",
       "    <tr>\n",
       "      <th>1</th>\n",
       "      <td>1</td>\n",
       "    </tr>\n",
       "    <tr>\n",
       "      <th>2</th>\n",
       "      <td>1</td>\n",
       "    </tr>\n",
       "    <tr>\n",
       "      <th>3</th>\n",
       "      <td>0</td>\n",
       "    </tr>\n",
       "    <tr>\n",
       "      <th>4</th>\n",
       "      <td>1</td>\n",
       "    </tr>\n",
       "  </tbody>\n",
       "</table>\n",
       "</div>"
      ],
      "text/plain": [
       "   0\n",
       "0  0\n",
       "1  1\n",
       "2  1\n",
       "3  0\n",
       "4  1"
      ]
     },
     "execution_count": 13,
     "metadata": {},
     "output_type": "execute_result"
    }
   ],
   "source": [
    "label_df.head()"
   ]
  },
  {
   "cell_type": "code",
   "execution_count": 14,
   "metadata": {
    "collapsed": true,
    "deletable": true,
    "editable": true
   },
   "outputs": [],
   "source": [
    "label_array = label_df.as_matrix()"
   ]
  },
  {
   "cell_type": "code",
   "execution_count": 15,
   "metadata": {
    "collapsed": false,
    "deletable": true,
    "editable": true
   },
   "outputs": [
    {
     "name": "stdout",
     "output_type": "stream",
     "text": [
      "<class 'numpy.ndarray'> (8124, 1)\n"
     ]
    }
   ],
   "source": [
    "print(type(label_array), label_array.shape)"
   ]
  },
  {
   "cell_type": "code",
   "execution_count": 16,
   "metadata": {
    "collapsed": true,
    "deletable": true,
    "editable": true
   },
   "outputs": [],
   "source": [
    "label_array_one_hot = []\n",
    "for i in label_array:\n",
    "    if i == 0:\n",
    "        one_hot = [1, 0]\n",
    "    else:\n",
    "        one_hot = [0, 1]\n",
    "    label_array_one_hot.append(one_hot)    "
   ]
  },
  {
   "cell_type": "code",
   "execution_count": 17,
   "metadata": {
    "collapsed": true,
    "deletable": true,
    "editable": true
   },
   "outputs": [],
   "source": [
    "label_array_one_hot =  np.array(label_array_one_hot)"
   ]
  },
  {
   "cell_type": "code",
   "execution_count": 18,
   "metadata": {
    "collapsed": false,
    "deletable": true,
    "editable": true
   },
   "outputs": [
    {
     "name": "stdout",
     "output_type": "stream",
     "text": [
      "<class 'numpy.ndarray'> (8124, 2)\n"
     ]
    }
   ],
   "source": [
    "print(type(label_array_one_hot), label_array_one_hot.shape)"
   ]
  },
  {
   "cell_type": "code",
   "execution_count": 19,
   "metadata": {
    "collapsed": true,
    "deletable": true,
    "editable": true
   },
   "outputs": [],
   "source": [
    "train = {'data': None, 'labels': None}\n",
    "validation = {'data': None, 'labels': None}\n",
    "test = {'data': None, 'labels': None}"
   ]
  },
  {
   "cell_type": "code",
   "execution_count": 20,
   "metadata": {
    "collapsed": false,
    "deletable": true,
    "editable": true
   },
   "outputs": [],
   "source": [
    "import random\n",
    "pick = random.random()\n",
    "train_data = []\n",
    "train_labels = []\n",
    "validation_data = []\n",
    "validation_labels = []\n",
    "test_data = []\n",
    "test_labels = []\n",
    "for i in range(len(data_array)):\n",
    "    pick = random.random()\n",
    "    if pick < 0.80:\n",
    "        train_data.append(data_array[i])\n",
    "        train_labels.append(label_array_one_hot[i])\n",
    "    elif pick >= 0.80 and pick < 0.85:\n",
    "        validation_data.append(data_array[i])\n",
    "        validation_labels.append(label_array_one_hot[i])\n",
    "    elif pick >= 0.85:\n",
    "        test_data.append(data_array[i])\n",
    "        test_labels.append(label_array_one_hot[i])\n",
    "        \n",
    "train['data'] = np.array(train_data)\n",
    "train['labels'] = np.array(train_labels)\n",
    "validation['data'] = np.array(validation_data)\n",
    "validation['labels'] = np.array(validation_labels)\n",
    "test['data'] = np.array(test_data)\n",
    "test['labels'] = np.array(test_labels)"
   ]
  },
  {
   "cell_type": "code",
   "execution_count": 21,
   "metadata": {
    "collapsed": false,
    "deletable": true,
    "editable": true
   },
   "outputs": [
    {
     "name": "stdout",
     "output_type": "stream",
     "text": [
      "(6541, 22) (6541, 2)\n"
     ]
    }
   ],
   "source": [
    "print(train['data'].shape, train['labels'].shape)"
   ]
  },
  {
   "cell_type": "code",
   "execution_count": 22,
   "metadata": {
    "collapsed": false,
    "deletable": true,
    "editable": true
   },
   "outputs": [
    {
     "name": "stdout",
     "output_type": "stream",
     "text": [
      "(410, 22) (410, 2)\n"
     ]
    }
   ],
   "source": [
    "print(validation['data'].shape, validation['labels'].shape)"
   ]
  },
  {
   "cell_type": "code",
   "execution_count": 54,
   "metadata": {
    "collapsed": false,
    "deletable": true,
    "editable": true
   },
   "outputs": [
    {
     "name": "stdout",
     "output_type": "stream",
     "text": [
      "(1173, 22) (1173, 2)\n"
     ]
    }
   ],
   "source": [
    "print(test['data'].shape, test['labels'].shape)\n"
   ]
  },
  {
   "cell_type": "markdown",
   "metadata": {
    "deletable": true,
    "editable": true
   },
   "source": [
    "## 3. Multi-layer Neural Network 모델 생성 및 테스트하기\n",
    "- Homework"
   ]
  },
  {
   "cell_type": "code",
   "execution_count": 57,
   "metadata": {
    "collapsed": false,
    "deletable": true,
    "editable": true,
    "scrolled": true
   },
   "outputs": [
    {
     "name": "stdout",
     "output_type": "stream",
     "text": [
      "Total batch: 66\n",
      "Epoch:  0, Train Error: 17.68921, Validation Error: 18.25573, Test Accuracy: 0.49702\n",
      "Epoch:  1, Train Error: 0.00096, Validation Error: 0.00119, Test Accuracy: 1.00000\n",
      "Epoch:  2, Train Error: 0.00038, Validation Error: 0.00050, Test Accuracy: 1.00000\n",
      "Epoch:  3, Train Error: 0.00023, Validation Error: 0.00029, Test Accuracy: 1.00000\n",
      "Epoch:  4, Train Error: 0.00016, Validation Error: 0.00020, Test Accuracy: 1.00000\n",
      "Epoch:  5, Train Error: 0.00012, Validation Error: 0.00015, Test Accuracy: 1.00000\n",
      "Epoch:  6, Train Error: 0.00010, Validation Error: 0.00012, Test Accuracy: 1.00000\n",
      "Epoch:  7, Train Error: 0.00008, Validation Error: 0.00010, Test Accuracy: 1.00000\n",
      "Epoch:  8, Train Error: 0.00007, Validation Error: 0.00008, Test Accuracy: 1.00000\n",
      "Epoch:  9, Train Error: 0.00006, Validation Error: 0.00007, Test Accuracy: 1.00000\n",
      "Epoch: 10, Train Error: 0.00005, Validation Error: 0.00006, Test Accuracy: 1.00000\n",
      "Epoch: 11, Train Error: 0.00005, Validation Error: 0.00006, Test Accuracy: 1.00000\n",
      "Epoch: 12, Train Error: 0.00004, Validation Error: 0.00005, Test Accuracy: 1.00000\n",
      "Epoch: 13, Train Error: 0.00004, Validation Error: 0.00005, Test Accuracy: 1.00000\n",
      "Epoch: 14, Train Error: 0.00003, Validation Error: 0.00004, Test Accuracy: 1.00000\n",
      "Epoch: 15, Train Error: 0.00003, Validation Error: 0.00004, Test Accuracy: 1.00000\n",
      "Epoch: 16, Train Error: 0.00003, Validation Error: 0.00003, Test Accuracy: 1.00000\n",
      "Epoch: 17, Train Error: 0.00003, Validation Error: 0.00003, Test Accuracy: 1.00000\n",
      "Epoch: 18, Train Error: 0.00003, Validation Error: 0.00003, Test Accuracy: 1.00000\n",
      "Epoch: 19, Train Error: 0.00002, Validation Error: 0.00003, Test Accuracy: 1.00000\n",
      "Epoch: 20, Train Error: 0.00002, Validation Error: 0.00003, Test Accuracy: 1.00000\n",
      "Epoch: 21, Train Error: 0.00002, Validation Error: 0.00003, Test Accuracy: 1.00000\n",
      "Epoch: 22, Train Error: 0.00002, Validation Error: 0.00002, Test Accuracy: 1.00000\n",
      "Epoch: 23, Train Error: 0.00002, Validation Error: 0.00002, Test Accuracy: 1.00000\n",
      "Epoch: 24, Train Error: 0.00002, Validation Error: 0.00002, Test Accuracy: 1.00000\n",
      "Epoch: 25, Train Error: 0.00002, Validation Error: 0.00002, Test Accuracy: 1.00000\n",
      "Epoch: 26, Train Error: 0.00002, Validation Error: 0.00002, Test Accuracy: 1.00000\n",
      "Epoch: 27, Train Error: 0.00002, Validation Error: 0.00002, Test Accuracy: 1.00000\n",
      "Epoch: 28, Train Error: 0.00001, Validation Error: 0.00002, Test Accuracy: 1.00000\n",
      "Epoch: 29, Train Error: 0.00001, Validation Error: 0.00002, Test Accuracy: 1.00000\n",
      "Epoch: 30, Train Error: 0.00001, Validation Error: 0.00002, Test Accuracy: 1.00000\n",
      "Epoch: 31, Train Error: 0.00001, Validation Error: 0.00002, Test Accuracy: 1.00000\n",
      "Epoch: 32, Train Error: 0.00001, Validation Error: 0.00002, Test Accuracy: 1.00000\n",
      "Epoch: 33, Train Error: 0.00001, Validation Error: 0.00002, Test Accuracy: 1.00000\n",
      "Epoch: 34, Train Error: 0.00001, Validation Error: 0.00001, Test Accuracy: 1.00000\n",
      "Epoch: 35, Train Error: 0.00001, Validation Error: 0.00001, Test Accuracy: 1.00000\n",
      "Epoch: 36, Train Error: 0.00001, Validation Error: 0.00001, Test Accuracy: 1.00000\n",
      "Epoch: 37, Train Error: 0.00001, Validation Error: 0.00001, Test Accuracy: 1.00000\n",
      "Epoch: 38, Train Error: 0.00001, Validation Error: 0.00001, Test Accuracy: 1.00000\n",
      "Epoch: 39, Train Error: 0.00001, Validation Error: 0.00001, Test Accuracy: 1.00000\n",
      "Epoch: 40, Train Error: 0.00001, Validation Error: 0.00001, Test Accuracy: 1.00000\n",
      "Epoch: 41, Train Error: 0.00001, Validation Error: 0.00001, Test Accuracy: 1.00000\n",
      "Epoch: 42, Train Error: 0.00001, Validation Error: 0.00001, Test Accuracy: 1.00000\n",
      "Epoch: 43, Train Error: 0.00001, Validation Error: 0.00001, Test Accuracy: 1.00000\n",
      "Epoch: 44, Train Error: 0.00001, Validation Error: 0.00001, Test Accuracy: 1.00000\n",
      "Epoch: 45, Train Error: 0.00001, Validation Error: 0.00001, Test Accuracy: 1.00000\n",
      "Epoch: 46, Train Error: 0.00001, Validation Error: 0.00001, Test Accuracy: 1.00000\n",
      "Epoch: 47, Train Error: 0.00001, Validation Error: 0.00001, Test Accuracy: 1.00000\n",
      "Epoch: 48, Train Error: 0.00001, Validation Error: 0.00001, Test Accuracy: 1.00000\n",
      "Epoch: 49, Train Error: 0.00001, Validation Error: 0.00001, Test Accuracy: 1.00000\n",
      "Epoch: 50, Train Error: 0.00001, Validation Error: 0.00001, Test Accuracy: 1.00000\n",
      "Epoch: 51, Train Error: 0.00001, Validation Error: 0.00001, Test Accuracy: 1.00000\n",
      "Epoch: 52, Train Error: 0.00001, Validation Error: 0.00001, Test Accuracy: 1.00000\n",
      "Epoch: 53, Train Error: 0.00001, Validation Error: 0.00001, Test Accuracy: 1.00000\n",
      "Epoch: 54, Train Error: 0.00001, Validation Error: 0.00001, Test Accuracy: 1.00000\n",
      "Epoch: 55, Train Error: 0.00001, Validation Error: 0.00001, Test Accuracy: 1.00000\n",
      "Epoch: 56, Train Error: 0.00001, Validation Error: 0.00001, Test Accuracy: 1.00000\n",
      "Epoch: 57, Train Error: 0.00001, Validation Error: 0.00001, Test Accuracy: 1.00000\n",
      "Epoch: 58, Train Error: 0.00001, Validation Error: 0.00001, Test Accuracy: 1.00000\n",
      "Epoch: 59, Train Error: 0.00001, Validation Error: 0.00001, Test Accuracy: 1.00000\n",
      "Epoch: 60, Train Error: 0.00001, Validation Error: 0.00001, Test Accuracy: 1.00000\n",
      "Epoch: 61, Train Error: 0.00001, Validation Error: 0.00001, Test Accuracy: 1.00000\n",
      "Epoch: 62, Train Error: 0.00001, Validation Error: 0.00001, Test Accuracy: 1.00000\n",
      "Epoch: 63, Train Error: 0.00001, Validation Error: 0.00001, Test Accuracy: 1.00000\n",
      "Epoch: 64, Train Error: 0.00001, Validation Error: 0.00001, Test Accuracy: 1.00000\n",
      "Epoch: 65, Train Error: 0.00001, Validation Error: 0.00001, Test Accuracy: 1.00000\n",
      "Epoch: 66, Train Error: 0.00001, Validation Error: 0.00001, Test Accuracy: 1.00000\n",
      "Epoch: 67, Train Error: 0.00001, Validation Error: 0.00001, Test Accuracy: 1.00000\n",
      "Epoch: 68, Train Error: 0.00001, Validation Error: 0.00001, Test Accuracy: 1.00000\n",
      "Epoch: 69, Train Error: 0.00001, Validation Error: 0.00001, Test Accuracy: 1.00000\n",
      "Epoch: 70, Train Error: 0.00001, Validation Error: 0.00001, Test Accuracy: 1.00000\n",
      "Epoch: 71, Train Error: 0.00001, Validation Error: 0.00001, Test Accuracy: 1.00000\n",
      "Epoch: 72, Train Error: 0.00001, Validation Error: 0.00001, Test Accuracy: 1.00000\n",
      "Epoch: 73, Train Error: 0.00000, Validation Error: 0.00001, Test Accuracy: 1.00000\n",
      "Epoch: 74, Train Error: 0.00000, Validation Error: 0.00001, Test Accuracy: 1.00000\n",
      "Epoch: 75, Train Error: 0.00000, Validation Error: 0.00001, Test Accuracy: 1.00000\n",
      "Epoch: 76, Train Error: 0.00000, Validation Error: 0.00001, Test Accuracy: 1.00000\n",
      "Epoch: 77, Train Error: 0.00000, Validation Error: 0.00001, Test Accuracy: 1.00000\n",
      "Epoch: 78, Train Error: 0.00000, Validation Error: 0.00001, Test Accuracy: 1.00000\n",
      "Epoch: 79, Train Error: 0.00000, Validation Error: 0.00001, Test Accuracy: 1.00000\n",
      "Epoch: 80, Train Error: 0.00000, Validation Error: 0.00001, Test Accuracy: 1.00000\n",
      "Epoch: 81, Train Error: 0.00000, Validation Error: 0.00001, Test Accuracy: 1.00000\n",
      "Epoch: 82, Train Error: 0.00000, Validation Error: 0.00001, Test Accuracy: 1.00000\n",
      "Epoch: 83, Train Error: 0.00000, Validation Error: 0.00001, Test Accuracy: 1.00000\n",
      "Epoch: 84, Train Error: 0.00000, Validation Error: 0.00001, Test Accuracy: 1.00000\n",
      "Epoch: 85, Train Error: 0.00000, Validation Error: 0.00001, Test Accuracy: 1.00000\n",
      "Epoch: 86, Train Error: 0.00000, Validation Error: 0.00001, Test Accuracy: 1.00000\n",
      "Epoch: 87, Train Error: 0.00000, Validation Error: 0.00001, Test Accuracy: 1.00000\n",
      "Epoch: 88, Train Error: 0.00000, Validation Error: 0.00001, Test Accuracy: 1.00000\n",
      "Epoch: 89, Train Error: 0.00000, Validation Error: 0.00001, Test Accuracy: 1.00000\n",
      "Epoch: 90, Train Error: 0.00000, Validation Error: 0.00001, Test Accuracy: 1.00000\n",
      "Epoch: 91, Train Error: 0.00000, Validation Error: 0.00001, Test Accuracy: 1.00000\n",
      "Epoch: 92, Train Error: 0.00000, Validation Error: 0.00001, Test Accuracy: 1.00000\n",
      "Epoch: 93, Train Error: 0.00000, Validation Error: 0.00001, Test Accuracy: 1.00000\n",
      "Epoch: 94, Train Error: 0.00000, Validation Error: 0.00001, Test Accuracy: 1.00000\n",
      "Epoch: 95, Train Error: 0.00000, Validation Error: 0.00001, Test Accuracy: 1.00000\n",
      "Epoch: 96, Train Error: 0.00000, Validation Error: 0.00001, Test Accuracy: 1.00000\n",
      "Epoch: 97, Train Error: 0.00000, Validation Error: 0.00001, Test Accuracy: 1.00000\n",
      "Epoch: 98, Train Error: 0.00000, Validation Error: 0.00001, Test Accuracy: 1.00000\n",
      "Epoch: 99, Train Error: 0.00000, Validation Error: 0.00001, Test Accuracy: 1.00000\n"
     ]
    },
    {
     "data": {
      "image/png": "[encoded data removed]",
      "text/plain": [
       "<matplotlib.figure.Figure at 0x15f69c5cf28>"
      ]
     },
     "metadata": {},
     "output_type": "display_data"
    },
    {
     "name": "stdout",
     "output_type": "stream",
     "text": [
      "[1 1 1 ..., 1 0 0]\n",
      "[1 1 1 ..., 1 0 0]\n",
      "Number of False Prediction: 0\n"
     ]
    },
    {
     "ename": "IndexError",
     "evalue": "list index out of range",
     "output_type": "error",
     "traceback": [
      "\u001b[0;31m---------------------------------------------------------------------------\u001b[0m",
      "\u001b[0;31mIndexError\u001b[0m                                Traceback (most recent call last)",
      "\u001b[0;32m<ipython-input-57-dfb54e5904c6>\u001b[0m in \u001b[0;36m<module>\u001b[0;34m()\u001b[0m\n\u001b[1;32m    133\u001b[0m \u001b[1;33m\u001b[0m\u001b[0m\n\u001b[1;32m    134\u001b[0m     \u001b[0mprint\u001b[0m\u001b[1;33m(\u001b[0m\u001b[1;34m\"Number of False Prediction:\"\u001b[0m\u001b[1;33m,\u001b[0m \u001b[0mlen\u001b[0m\u001b[1;33m(\u001b[0m\u001b[0mdiff_index_list\u001b[0m\u001b[1;33m)\u001b[0m\u001b[1;33m)\u001b[0m\u001b[1;33m\u001b[0m\u001b[0m\n\u001b[0;32m--> 135\u001b[0;31m     \u001b[0mdraw_false_prediction\u001b[0m\u001b[1;33m(\u001b[0m\u001b[1;33m)\u001b[0m\u001b[1;33m\u001b[0m\u001b[0m\n\u001b[0m",
      "\u001b[0;32m<ipython-input-57-dfb54e5904c6>\u001b[0m in \u001b[0;36mdraw_false_prediction\u001b[0;34m()\u001b[0m\n\u001b[1;32m     75\u001b[0m     \u001b[0mfig\u001b[0m \u001b[1;33m=\u001b[0m \u001b[0mplt\u001b[0m\u001b[1;33m.\u001b[0m\u001b[0mfigure\u001b[0m\u001b[1;33m(\u001b[0m\u001b[0mfigsize\u001b[0m\u001b[1;33m=\u001b[0m\u001b[1;33m(\u001b[0m\u001b[1;36m20\u001b[0m\u001b[1;33m,\u001b[0m \u001b[1;36m5\u001b[0m\u001b[1;33m)\u001b[0m\u001b[1;33m)\u001b[0m\u001b[1;33m\u001b[0m\u001b[0m\n\u001b[1;32m     76\u001b[0m     \u001b[1;32mfor\u001b[0m \u001b[0mi\u001b[0m \u001b[1;32min\u001b[0m \u001b[0mrange\u001b[0m\u001b[1;33m(\u001b[0m\u001b[1;36m5\u001b[0m\u001b[1;33m)\u001b[0m\u001b[1;33m:\u001b[0m\u001b[1;33m\u001b[0m\u001b[0m\n\u001b[0;32m---> 77\u001b[0;31m         \u001b[0mj\u001b[0m \u001b[1;33m=\u001b[0m \u001b[0mdiff_index_list\u001b[0m\u001b[1;33m[\u001b[0m\u001b[0mi\u001b[0m\u001b[1;33m]\u001b[0m\u001b[1;33m\u001b[0m\u001b[0m\n\u001b[0m\u001b[1;32m     78\u001b[0m         \u001b[0mprint\u001b[0m\u001b[1;33m(\u001b[0m\u001b[1;34m\"False Prediction Index: %s, Prediction: %s, Ground Truth: %s\"\u001b[0m \u001b[1;33m%\u001b[0m \u001b[1;33m(\u001b[0m\u001b[0mj\u001b[0m\u001b[1;33m,\u001b[0m \u001b[0mprediction\u001b[0m\u001b[1;33m[\u001b[0m\u001b[0mj\u001b[0m\u001b[1;33m]\u001b[0m\u001b[1;33m,\u001b[0m \u001b[0mground_truth\u001b[0m\u001b[1;33m[\u001b[0m\u001b[0mj\u001b[0m\u001b[1;33m]\u001b[0m\u001b[1;33m)\u001b[0m\u001b[1;33m)\u001b[0m\u001b[1;33m\u001b[0m\u001b[0m\n\u001b[1;32m     79\u001b[0m         \u001b[1;31m#img = np.array(mnist.test.images[j])\u001b[0m\u001b[1;33m\u001b[0m\u001b[1;33m\u001b[0m\u001b[0m\n",
      "\u001b[0;31mIndexError\u001b[0m: list index out of range"
     ]
    },
    {
     "data": {
      "text/plain": [
       "<matplotlib.figure.Figure at 0x15f6b1368d0>"
      ]
     },
     "metadata": {},
     "output_type": "display_data"
    }
   ],
   "source": [
    "batch_size = 100\n",
    "training_epochs = 100\n",
    "learning_rate = 0.05\n",
    "\n",
    "epoch_list = []\n",
    "train_error_list = []\n",
    "validation_error_list = []\n",
    "test_accuracy_list = []\n",
    "diff_index_list = []\n",
    "\n",
    "# Network Parameters\n",
    "n_input = 22 # MNIST data input (img shape: 28*28)\n",
    "n_hidden_1 = 16 # 1st layer number of features\n",
    "n_hidden_2 = 16 # 2nd layer number of features\n",
    "n_classes = 2 # MNIST total classes (0-9 digits)\n",
    "\n",
    "# Data Preparation\n",
    "x = tf.placeholder(tf.float32, [None, n_input])\n",
    "y_target = tf.placeholder(tf.float32, [None, n_classes])\n",
    "\n",
    "# Model Construction\n",
    "# Store layers weight & bias\n",
    "weights = {\n",
    "    'W1': tf.Variable(tf.random_normal([n_input, n_hidden_1])),\n",
    "    'W2': tf.Variable(tf.random_normal([n_hidden_1, n_hidden_2])),\n",
    "    'out': tf.Variable(tf.random_normal([n_hidden_2, n_classes]))\n",
    "}\n",
    "\n",
    "biases = {\n",
    "    'b1': tf.Variable(tf.random_normal([n_hidden_1])),\n",
    "    'b2': tf.Variable(tf.random_normal([n_hidden_2])),\n",
    "    'out': tf.Variable(tf.random_normal([n_classes]))\n",
    "}\n",
    "\n",
    "# 1st Hidden layer with RELU activation\n",
    "u2 = tf.matmul(x, weights['W1']) + biases['b1']\n",
    "z2 = tf.nn.relu(u2)\n",
    "\n",
    "# 2ndHidden layer with RELU activation\n",
    "u3 = tf.matmul(z2, weights['W2']) + biases['b2']\n",
    "z3 = tf.nn.relu(u3)\n",
    "\n",
    "# Output layer with linear activation\n",
    "u_out = tf.matmul(z3, weights['out']) + biases['out']\n",
    "\n",
    "# Target Setup\n",
    "error = tf.reduce_mean(tf.nn.softmax_cross_entropy_with_logits(logits=u_out, labels=y_target))\n",
    "optimizer = tf.train.GradientDescentOptimizer(learning_rate).minimize(error)\n",
    "\n",
    "# Accuracy   \n",
    "prediction_and_ground_truth = tf.equal(tf.argmax(u_out, 1), tf.argmax(y_target, 1))\n",
    "accuracy = tf.reduce_mean(tf.cast(prediction_and_ground_truth, tf.float32))\n",
    "\n",
    "def draw_error_values_and_accuracy():\n",
    "    # Draw Error Values and Accuracy\n",
    "    fig = plt.figure(figsize=(20, 5))\n",
    "    plt.subplot(121)\n",
    "    plt.plot(epoch_list[1:], train_error_list[1:], 'r', label='Train')\n",
    "    plt.plot(epoch_list[1:], validation_error_list[1:], 'g', label='Validation')\n",
    "    plt.ylabel('Total Error')\n",
    "    plt.xlabel('Epochs')\n",
    "    plt.grid(True)\n",
    "    plt.legend(loc='upper right')\n",
    "\n",
    "    plt.subplot(122)\n",
    "    plt.plot(epoch_list[1:], test_accuracy_list[1:], 'b', label='Test')\n",
    "    plt.ylabel('Accuracy')\n",
    "    plt.xlabel('Epochs')\n",
    "    plt.yticks(np.arange(0.0, 1.0, 0.05))\n",
    "    plt.grid(True)\n",
    "    plt.legend(loc='lower right')\n",
    "    plt.show()\n",
    "    \n",
    "def draw_false_prediction():\n",
    "    fig = plt.figure(figsize=(20, 5))\n",
    "    for i in range(5):\n",
    "        j = diff_index_list[i]\n",
    "        print(\"False Prediction Index: %s, Prediction: %s, Ground Truth: %s\" % (j, prediction[j], ground_truth[j]))\n",
    "        #img = np.array(mnist.test.images[j])\n",
    "        #img.shape = (28, 28)\n",
    "        plt.subplot(150 + (i+1))\n",
    "        #plt.imshow(img, cmap='gray')\n",
    "\n",
    "def batch(iterable, n=1):\n",
    "    l = len(iterable)\n",
    "    for ndx in range(0, l, n):\n",
    "        yield iterable[ndx:min(ndx + n, l), :]\n",
    "        \n",
    "        \n",
    "with tf.Session() as sess:\n",
    "    init = tf.global_variables_initializer()\n",
    "    sess.run(init)\n",
    "    \n",
    "    total_batch = int(math.ceil(len(train['data'])/float(batch_size)))\n",
    "    print(\"Total batch: %d\" % total_batch)    \n",
    "\n",
    "    for epoch in range(training_epochs):\n",
    "        epoch_list.append(epoch)\n",
    "        # Train Error Value\n",
    "        train_error_value = sess.run(error, feed_dict={x: train['data'], y_target: train['labels']})\n",
    "        train_error_list.append(train_error_value)\n",
    "        \n",
    "        validation_error_value = sess.run(error, feed_dict={x: validation['data'], y_target: validation['labels']})\n",
    "        validation_error_list.append(validation_error_value)\n",
    "        \n",
    "        test_accuracy_value = sess.run(accuracy, feed_dict={x: test['data'], y_target: test['labels']})\n",
    "        test_accuracy_list.append(test_accuracy_value) \n",
    "        print(\"Epoch: {0:2d}, Train Error: {1:0.5f}, Validation Error: {2:0.5f}, Test Accuracy: {3:0.5f}\".format(epoch, train_error_value, validation_error_value, test_accuracy_value))\n",
    "        \n",
    "        for i in range(len(train['data'])):\n",
    "            sess.run(optimizer, feed_dict={x: train['data'], y_target: train['labels']})\n",
    "        #for i in range(total_batch):\n",
    "        #    batch_images = batch(train['data'], 3)\n",
    "        #    batch_labels = batch(train['labels'], batch_size)\n",
    "        #    print(batch_images)\n",
    "        #    sess.run(optimizer, feed_dict={x: batch_images, y_target: batch_labels})\n",
    "            \n",
    "    \n",
    "\n",
    "    # Draw Graph about Error Values & Accuracy Values\n",
    "    draw_error_values_and_accuracy()\n",
    "    \n",
    "    # False Prediction Profile\n",
    "    prediction = sess.run(tf.argmax(u_out, 1), feed_dict={x:test['data']})\n",
    "    ground_truth = sess.run(tf.argmax(y_target, 1), feed_dict={y_target:test['labels']})\n",
    "\n",
    "    print(prediction)\n",
    "    print(ground_truth)\n",
    "\n",
    "    for i in range(len(test['data'])):\n",
    "        if (prediction[i] != ground_truth[i]):\n",
    "            diff_index_list.append(i)\n",
    "            \n",
    "    print(\"Number of False Prediction:\", len(diff_index_list))\n",
    "    draw_false_prediction()"
   ]
  },
  {
   "cell_type": "code",
   "execution_count": null,
   "metadata": {
    "collapsed": true,
    "deletable": true,
    "editable": true
   },
   "outputs": [],
   "source": []
  }
 ],
 "metadata": {
  "anaconda-cloud": {},
  "kernelspec": {
   "display_name": "Python [default]",
   "language": "python",
   "name": "python3"
  },
  "language_info": {
   "codemirror_mode": {
    "name": "ipython",
    "version": 3
   },
   "file_extension": ".py",
   "mimetype": "text/x-python",
   "name": "python",
   "nbconvert_exporter": "python",
   "pygments_lexer": "ipython3",
   "version": "3.5.2"
  }
 },
 "nbformat": 4,
 "nbformat_minor": 2
}
