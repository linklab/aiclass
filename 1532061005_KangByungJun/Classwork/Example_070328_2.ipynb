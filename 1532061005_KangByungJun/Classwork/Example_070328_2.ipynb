{
 "cells": [
  {
   "cell_type": "markdown",
   "metadata": {},
   "source": [
    "# Linear Regression with TensorFlow"
   ]
  },
  {
   "cell_type": "markdown",
   "metadata": {},
   "source": [
    "# 목표\n",
    "- 다음의 선형회귀식을 TensorFlow 기반 학습과정을 통해서 유추해내는 프로그래밍 작성\n",
    "- y=0.1×x1+0.2×x2+0.3\n",
    "- 즉, 위 식은 Ground Truth 로서 머신러닝 알고리즘 내부에서는 알지 못함."
   ]
  },
  {
   "cell_type": "code",
   "execution_count": 1,
   "metadata": {
    "collapsed": false
   },
   "outputs": [
    {
     "name": "stdout",
     "output_type": "stream",
     "text": [
      "<class 'numpy.ndarray'> (2, 100)\n",
      "<class 'numpy.ndarray'> (100,)\n"
     ]
    }
   ],
   "source": [
    "import tensorflow as tf\n",
    "import numpy as np\n",
    "\n",
    "# Numpy 랜덤으로 100개의 가짜 데이터 채우기.\n",
    "x = np.float32(np.random.rand(2, 100))\n",
    "\n",
    "# 학습 레이블(목표값)은 아래의 식으로 산출. (W = [0.1, 0.2], b = 0.3)\n",
    "y_target = np.dot([0.100, 0.200], x) + 0.300\n",
    "\n",
    "print(type(x), x.shape)\n",
    "#print(x)\n",
    "print(type(y_target), y_target.shape)\n",
    "#print(y_target)"
   ]
  },
  {
   "cell_type": "code",
   "execution_count": 2,
   "metadata": {
    "collapsed": false
   },
   "outputs": [
    {
     "name": "stdout",
     "output_type": "stream",
     "text": [
      "(1,)\n",
      "(1, 2)\n",
      "(1, 100)\n"
     ]
    }
   ],
   "source": [
    "# b는 0 으로 초기화\n",
    "b = tf.Variable(tf.zeros([1]))\n",
    "\n",
    "# W는 1x2 형태의 가중치 변수, 역시 0으로 초기화\n",
    "W = tf.Variable(tf.zeros([1, 2]))\n",
    "\n",
    "# 모델 생성 --> Tenforflow Graph 완성\n",
    "y = tf.matmul(W, x) + b\n",
    "\n",
    "print(b.get_shape())\n",
    "print(W.get_shape())\n",
    "print(y.get_shape())"
   ]
  },
  {
   "cell_type": "code",
   "execution_count": 3,
   "metadata": {
    "collapsed": true
   },
   "outputs": [],
   "source": [
    "# 손실 함수 정의\n",
    "loss = tf.reduce_mean(tf.square(y - y_target))\n",
    "\n",
    "# 경사하강법으로 Backpropagation 적용 (0.0005는 learning rate) --> W와 b 변수 변경\n",
    "optimizer = tf.train.GradientDescentOptimizer(0.0005)\n",
    "\n",
    "# optimizer의 학습 목표 정의\n",
    "train = optimizer.minimize(loss)"
   ]
  },
  {
   "cell_type": "code",
   "execution_count": 4,
   "metadata": {
    "collapsed": false
   },
   "outputs": [
    {
     "name": "stdout",
     "output_type": "stream",
     "text": [
      "step: 0, loss: 0.21040451526641846, w: [[ 0.00024561  0.00024982]], b: [ 0.00045513]\n",
      "step: 10000, loss: 8.67984417709522e-05, w: [[ 0.12736493  0.18319638]], b: [ 0.29401666]\n",
      "step: 20000, loss: 1.691294710326474e-05, w: [[ 0.11278459  0.19380613]], b: [ 0.29630309]\n",
      "step: 30000, loss: 3.4700219657679554e-06, w: [[ 0.10613126  0.19796839]], b: [ 0.29772365]\n",
      "step: 40000, loss: 7.746854748802434e-07, w: [[ 0.1030265   0.19950834]], b: [ 0.29859373]\n",
      "step: 50000, loss: 1.9349467095253203e-07, w: [[ 0.1015416   0.20001823]], b: [ 0.29913887]\n",
      "step: 60000, loss: 5.791338963945236e-08, w: [[ 0.10083347  0.20015587]], b: [ 0.29945454]\n",
      "step: 70000, loss: 1.717373798726385e-08, w: [[ 0.10043786  0.20015587]], b: [ 0.29967576]\n",
      "step: 80000, loss: 7.0649139871648e-09, w: [[ 0.10025261  0.20015587]], b: [ 0.29977277]\n",
      "step: 90000, loss: 4.417988641591819e-09, w: [[ 0.10017287  0.20015587]], b: [ 0.29981452]\n",
      "step: 100000, loss: 3.844775608996542e-09, w: [[ 0.10014983  0.20015587]], b: [ 0.29982656]\n",
      "sample_x: [[0.40394866], [0.91119653]], sample_y: [[ 0.5226633]], sample_y_target: 0.5226341724395752\n",
      "sample_x: [[0.042511016], [0.027064659]], sample_y: [[ 0.30950117]], sample_y_target: 0.3096640333533287\n",
      "sample_x: [[0.68365824], [0.96029502]], sample_y: [[ 0.56050348]], sample_y_target: 0.5604248285293579\n",
      "new_x: [[1.5], [1.5]], y_value: [[ 0.75028515]]\n"
     ]
    }
   ],
   "source": [
    "# 세션 시작\n",
    "with tf.Session() as sess:\n",
    "    # 모든 변수를 초기화.\n",
    "    init = tf.global_variables_initializer()\n",
    "    sess.run(init)\n",
    "\n",
    "    # 100000번 학습.\n",
    "    for step in range(0, 100001):\n",
    "        sess.run(train)\n",
    "        if step % 10000 == 0:\n",
    "            loss_value = sess.run(loss)\n",
    "            w_value = sess.run(W)\n",
    "            b_value = sess.run(b)\n",
    "            print(\"step: {0}, loss: {1}, w: {2}, b: {3}\".format(step, loss_value, w_value, b_value))\n",
    "    \n",
    "    print\n",
    "    \n",
    "    # 학습된 모델을 활용한 값과 실제 값 비교\n",
    "    sample_x = [[x[0][0]], [x[1][0]]] # 0번째 데이터\n",
    "    sample_y = sess.run(tf.matmul(W, sample_x) + b)\n",
    "    sample_y_target = y_target[0]\n",
    "    print(\"sample_x: {0}, sample_y: {1}, sample_y_target: {2}\".format(sample_x, sample_y, sample_y_target))\n",
    "    \n",
    "    sample_x = [[x[0][1]], [x[1][1]]] # 1번째 데이터\n",
    "    sample_y = sess.run(tf.matmul(W, sample_x) + b)\n",
    "    sample_y_target = y_target[1]\n",
    "    print(\"sample_x: {0}, sample_y: {1}, sample_y_target: {2}\".format(sample_x, sample_y, sample_y_target))\n",
    "    \n",
    "    sample_x = [[x[0][2]], [x[1][2]]] # 2번째 데이터\n",
    "    sample_y = sess.run(tf.matmul(W, sample_x) + b)\n",
    "    sample_y_target = y_target[2]\n",
    "    print(\"sample_x: {0}, sample_y: {1}, sample_y_target: {2}\".format(sample_x, sample_y, sample_y_target))\n",
    "    \n",
    "    print\n",
    "    \n",
    "    # 학습된 모델을 활용한 새로운 데이터 값에 대한 y 값 예측\n",
    "    new_x = [[1.5], [1.5]]\n",
    "    y_value = sess.run(tf.matmul(W, new_x) + b)\n",
    "    print(\"new_x: {0}, y_value: {1}\".format(new_x, y_value))"
   ]
  },
  {
   "cell_type": "code",
   "execution_count": null,
   "metadata": {
    "collapsed": true
   },
   "outputs": [],
   "source": []
  }
 ],
 "metadata": {
  "kernelspec": {
   "display_name": "Python 3",
   "language": "python",
   "name": "python3"
  },
  "language_info": {
   "codemirror_mode": {
    "name": "ipython",
    "version": 3
   },
   "file_extension": ".py",
   "mimetype": "text/x-python",
   "name": "python",
   "nbconvert_exporter": "python",
   "pygments_lexer": "ipython3",
   "version": "3.5.2"
  }
 },
 "nbformat": 4,
 "nbformat_minor": 2
}
