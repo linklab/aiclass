{
 "cells": [
  {
   "cell_type": "markdown",
   "metadata": {},
   "source": [
    "## Convolutional Neural Networks\n",
    "- CS231n Convolutional Neural Networks for Visual Recognition: https://git.io/vKlww\n",
    "- http://pythonkim.tistory.com/56"
   ]
  },
  {
   "cell_type": "code",
   "execution_count": 3,
   "metadata": {
    "collapsed": false
   },
   "outputs": [
    {
     "name": "stdout",
     "output_type": "stream",
     "text": [
      "1.0.1\n"
     ]
    }
   ],
   "source": [
    "import tensorflow as tf\n",
    "import math\n",
    "import numpy as np\n",
    "from tensorflow.examples.tutorials.mnist import input_data\n",
    "import matplotlib.pyplot as plt\n",
    "import tensorflow as tf\n",
    "print(tf.__version__)\n",
    "%matplotlib inline"
   ]
  },
  {
   "cell_type": "code",
   "execution_count": 4,
   "metadata": {
    "collapsed": false
   },
   "outputs": [
    {
     "name": "stdout",
     "output_type": "stream",
     "text": [
      "Extracting MNIST_data/train-images-idx3-ubyte.gz\n",
      "Extracting MNIST_data/train-labels-idx1-ubyte.gz\n",
      "Extracting MNIST_data/t10k-images-idx3-ubyte.gz\n",
      "Extracting MNIST_data/t10k-labels-idx1-ubyte.gz\n"
     ]
    }
   ],
   "source": [
    "mnist = input_data.read_data_sets(\"MNIST_data/\", one_hot=True)"
   ]
  },
  {
   "cell_type": "code",
   "execution_count": 5,
   "metadata": {
    "collapsed": false
   },
   "outputs": [],
   "source": [
    "x = tf.placeholder(\"float\", [None, 784])\n",
    "y = tf.placeholder(\"float\", [None, 10])"
   ]
  },
  {
   "cell_type": "markdown",
   "metadata": {},
   "source": [
    "- Image reshape to 4D [-1, 28, 28, 1]\n",
    "  - The MNIST images have just one gray color value (the number of color channels is one), so that the last value is one."
   ]
  },
  {
   "cell_type": "code",
   "execution_count": 6,
   "metadata": {
    "collapsed": false
   },
   "outputs": [
    {
     "name": "stdout",
     "output_type": "stream",
     "text": [
      "(?, 28, 28, 1)\n"
     ]
    }
   ],
   "source": [
    "x_image = tf.reshape(x, [-1, 28, 28, 1])\n",
    "print(x_image.get_shape())"
   ]
  },
  {
   "cell_type": "code",
   "execution_count": 7,
   "metadata": {
    "collapsed": true
   },
   "outputs": [],
   "source": [
    "keep_prob = tf.placeholder(tf.float32)"
   ]
  },
  {
   "cell_type": "markdown",
   "metadata": {},
   "source": [
    "- **stride**\n",
    "  - we must specify the stride with which we slide the filter. \n",
    "  - stride = 1: we slide the filters one pixel at a time. \n",
    "  - stride = 2: we slide the filters two pixel at a time. \n",
    "  - This will produce smaller output volumes spatially.\n",
    "- **padding**\n",
    "  - we need pad the input volume with zeros around the border. \n",
    "  - zero padding"
   ]
  },
  {
   "cell_type": "markdown",
   "metadata": {},
   "source": [
    "- The CONV layer’s parameters consist of a set of learnable filters.\n",
    "- The convolution will compute 32 kernels (features) for each 5x5 patch. \n",
    "- Its weight tensor will have a shape of [5, 5, 1, 32]. \n",
    "  - The first two dimensions are the kernel size\n",
    "  - The third is the number of input channels (here, it is one channel)\n",
    "  - The last one is the number of kernels (features). \n",
    "- A bias vector has a component per kernel."
   ]
  },
  {
   "cell_type": "markdown",
   "metadata": {},
   "source": [
    "- https://www.tensorflow.org/api_docs/python/nn/convolution#conv2d\n",
    "- https://www.tensorflow.org/api_docs/python/nn/pooling#max_pool"
   ]
  },
  {
   "cell_type": "markdown",
   "metadata": {},
   "source": [
    "- If padding == \"SAME\": output_spatial_shape[i] = ceil(input_spatial_shape[i] / strides[i])"
   ]
  },
  {
   "cell_type": "code",
   "execution_count": 8,
   "metadata": {
    "collapsed": false
   },
   "outputs": [
    {
     "name": "stdout",
     "output_type": "stream",
     "text": [
      "Tensor(\"Relu:0\", shape=(?, 28, 28, 8), dtype=float32)\n",
      "Tensor(\"MaxPool:0\", shape=(?, 14, 14, 8), dtype=float32)\n",
      "Tensor(\"dropout/mul:0\", shape=(?, 14, 14, 8), dtype=float32)\n"
     ]
    }
   ],
   "source": [
    "W_conv1 = tf.Variable(tf.truncated_normal([5, 5, 1, 8], stddev=0.1))\n",
    "b_conv1 = tf.Variable(tf.constant(0.1, shape=[8]))\n",
    "h_conv1 = tf.nn.relu(tf.nn.conv2d(x_image, W_conv1, strides=[1, 1, 1, 1], padding='SAME') + b_conv1)\n",
    "h_pool1 = tf.nn.max_pool(h_conv1, ksize=[1, 2, 2, 1], strides=[1, 2, 2, 1], padding='SAME')\n",
    "d_h_pool1 = tf.nn.dropout(h_pool1, keep_prob=keep_prob)\n",
    "print(h_conv1)\n",
    "print(h_pool1)\n",
    "print(d_h_pool1)"
   ]
  },
  {
   "cell_type": "code",
   "execution_count": 9,
   "metadata": {
    "collapsed": false
   },
   "outputs": [
    {
     "name": "stdout",
     "output_type": "stream",
     "text": [
      "Tensor(\"Relu_1:0\", shape=(?, 14, 14, 8), dtype=float32)\n",
      "Tensor(\"MaxPool_1:0\", shape=(?, 7, 7, 8), dtype=float32)\n",
      "Tensor(\"dropout_1/mul:0\", shape=(?, 7, 7, 8), dtype=float32)\n"
     ]
    }
   ],
   "source": [
    "W_conv2 = tf.Variable(tf.truncated_normal([5, 5, 8, 8], stddev=0.1))\n",
    "b_conv2 = tf.Variable(tf.constant(0.1, shape=[8]))\n",
    "h_conv2 = tf.nn.relu(tf.nn.conv2d(d_h_pool1, W_conv2, strides=[1, 1, 1, 1], padding='SAME') + b_conv2)\n",
    "h_pool2 = tf.nn.max_pool(h_conv2, ksize=[1, 2, 2, 1], strides=[1, 2, 2, 1], padding='SAME')\n",
    "d_h_pool2 = tf.nn.dropout(h_pool2, keep_prob=keep_prob)\n",
    "print(h_conv2)\n",
    "print(h_pool2)\n",
    "print(d_h_pool2)"
   ]
  },
  {
   "cell_type": "code",
   "execution_count": 10,
   "metadata": {
    "collapsed": true
   },
   "outputs": [],
   "source": [
    "h_pool2_flat = tf.reshape(d_h_pool2, [-1, 7 * 7 * 8])"
   ]
  },
  {
   "cell_type": "code",
   "execution_count": 11,
   "metadata": {
    "collapsed": true
   },
   "outputs": [],
   "source": [
    "W_fc1 = tf.Variable(tf.truncated_normal([7 * 7 * 8, 256], stddev=0.1))\n",
    "b_fc1 = tf.Variable(tf.constant(0.1, shape=[256]))\n",
    "h_fc1 = tf.nn.relu(tf.matmul(h_pool2_flat, W_fc1) + b_fc1)\n",
    "d_h_fc1 = tf.nn.dropout(h_fc1, keep_prob=keep_prob)"
   ]
  },
  {
   "cell_type": "code",
   "execution_count": 12,
   "metadata": {
    "collapsed": true
   },
   "outputs": [],
   "source": [
    "W_fc2 = tf.Variable(tf.truncated_normal([256, 10], stddev=0.1))\n",
    "b_fc2 = tf.Variable(tf.constant(0.1, shape=[10]))\n",
    "pred = tf.matmul(d_h_fc1, W_fc2) + b_fc2"
   ]
  },
  {
   "cell_type": "code",
   "execution_count": 13,
   "metadata": {
    "collapsed": false
   },
   "outputs": [],
   "source": [
    "error = tf.reduce_mean(tf.nn.softmax_cross_entropy_with_logits(logits=pred, labels=y))\n",
    "optimizer = tf.train.AdamOptimizer(1e-4).minimize(error)"
   ]
  },
  {
   "cell_type": "code",
   "execution_count": 14,
   "metadata": {
    "collapsed": true
   },
   "outputs": [],
   "source": [
    "# Initializing the variables\n",
    "init = tf.global_variables_initializer()\n",
    "\n",
    "# Parameters\n",
    "training_epochs = 100\n",
    "learning_rate = 0.001\n",
    "batch_size = 100\n",
    "\n",
    "# Calculate accuracy with a Test model \n",
    "prediction_ground_truth = tf.equal(tf.argmax(pred, 1), tf.argmax(y, 1))\n",
    "accuracy = tf.reduce_mean(tf.cast(prediction_ground_truth, tf.float32))"
   ]
  },
  {
   "cell_type": "code",
   "execution_count": null,
   "metadata": {
    "collapsed": false
   },
   "outputs": [],
   "source": [
    "def printLossAccuracyForTestData(epoch, sess, test_error_value_list, test_accuracy_list):\n",
    "    accuracy_value, error_value = sess.run((accuracy, error), \n",
    "                                           feed_dict={x: mnist.test.images, y: mnist.test.labels, keep_prob: 0.5})\n",
    "    test_error_value_list.append(error_value)\n",
    "    test_accuracy_list.append(accuracy_value)\n",
    "    print(\"epoch: %d, test_error_value: %f, test_accuracy: %f\" % ( epoch, error_value, accuracy_value ))\n",
    "\n",
    "def drawErrorValues(epoch_list, train_error_value_list, validation_error_value_list, test_error_value_list, test_accuracy_list):\n",
    "    fig = plt.figure(figsize=(20, 5))\n",
    "    plt.subplot(121)\n",
    "    plt.plot(epoch_list, train_error_value_list, 'r', label='Train')\n",
    "    plt.plot(epoch_list, validation_error_value_list, 'g', label='Validation')\n",
    "    plt.plot(epoch_list, test_error_value_list, 'b', label='Test')\n",
    "    plt.ylabel('Total Error')\n",
    "    plt.xlabel('Epochs')\n",
    "    plt.grid(True)\n",
    "    plt.legend(loc='upper right')\n",
    "\n",
    "    plt.subplot(122)\n",
    "    plt.plot(epoch_list, test_accuracy_list, 'b', label='Test')\n",
    "    plt.ylabel('Accuracy')\n",
    "    plt.xlabel('Epochs')\n",
    "    plt.yticks(np.arange(min(test_accuracy_list), max(test_accuracy_list), 0.05))\n",
    "    plt.grid(True)\n",
    "    plt.legend(loc='lower right')            \n",
    "    plt.show()\n",
    "\n",
    "def drawFalsePrediction(sess, numPrintImages):\n",
    "    ground_truth = sess.run(tf.argmax(y, 1), feed_dict={y: mnist.test.labels})\n",
    "    prediction = sess.run(tf.argmax(pred, 1), feed_dict={x: mnist.test.images, keep_prob: 0.5})\n",
    "\n",
    "    fig = plt.figure(figsize=(20, 5))\n",
    "    j = 1\n",
    "    for i in range(mnist.test.num_examples):\n",
    "        if (j > numPrintImages):\n",
    "            break;\n",
    "        if (prediction[i] != ground_truth[i]):\n",
    "            print(\"Error Index: %s, Prediction: %s, Ground Truth: %s\" % (i, prediction[i], ground_truth[i]))\n",
    "            img = np.array(mnist.test.images[i])\n",
    "            img.shape = (28, 28)\n",
    "            plt.subplot(1, numPrintImages, j)\n",
    "            plt.imshow(img)\n",
    "            j += 1"
   ]
  },
  {
   "cell_type": "code",
   "execution_count": null,
   "metadata": {
    "collapsed": false
   },
   "outputs": [
    {
     "name": "stdout",
     "output_type": "stream",
     "text": [
      "total batch: 550\n",
      "epoch: 0, test_error_value: 2.085187, test_accuracy: 0.266600\n",
      "epoch: 1, test_error_value: 1.267498, test_accuracy: 0.563000\n",
      "epoch: 2, test_error_value: 0.866561, test_accuracy: 0.708500\n",
      "epoch: 3, test_error_value: 0.677672, test_accuracy: 0.770200\n",
      "epoch: 4, test_error_value: 0.572898, test_accuracy: 0.812500\n",
      "epoch: 5, test_error_value: 0.505407, test_accuracy: 0.838800\n",
      "epoch: 6, test_error_value: 0.460191, test_accuracy: 0.851000\n",
      "epoch: 7, test_error_value: 0.422435, test_accuracy: 0.867000\n",
      "epoch: 8, test_error_value: 0.400824, test_accuracy: 0.867200\n",
      "epoch: 9, test_error_value: 0.367512, test_accuracy: 0.884000\n",
      "epoch: 10, test_error_value: 0.345368, test_accuracy: 0.886500\n",
      "epoch: 11, test_error_value: 0.327892, test_accuracy: 0.896000\n",
      "epoch: 12, test_error_value: 0.312537, test_accuracy: 0.899100\n",
      "epoch: 13, test_error_value: 0.295319, test_accuracy: 0.908300\n",
      "epoch: 14, test_error_value: 0.282806, test_accuracy: 0.914500\n",
      "epoch: 15, test_error_value: 0.280408, test_accuracy: 0.908300\n",
      "epoch: 16, test_error_value: 0.269135, test_accuracy: 0.915500\n",
      "epoch: 17, test_error_value: 0.257733, test_accuracy: 0.917400\n",
      "epoch: 18, test_error_value: 0.238785, test_accuracy: 0.925600\n",
      "epoch: 19, test_error_value: 0.248344, test_accuracy: 0.920900\n",
      "epoch: 20, test_error_value: 0.233302, test_accuracy: 0.928200\n",
      "epoch: 21, test_error_value: 0.235451, test_accuracy: 0.924400\n",
      "epoch: 22, test_error_value: 0.228767, test_accuracy: 0.929300\n",
      "epoch: 23, test_error_value: 0.221407, test_accuracy: 0.928800\n",
      "epoch: 24, test_error_value: 0.207849, test_accuracy: 0.931300\n",
      "epoch: 25, test_error_value: 0.215888, test_accuracy: 0.932400\n",
      "epoch: 26, test_error_value: 0.215462, test_accuracy: 0.932100\n",
      "epoch: 27, test_error_value: 0.215428, test_accuracy: 0.931100\n",
      "epoch: 28, test_error_value: 0.206257, test_accuracy: 0.934800\n",
      "epoch: 29, test_error_value: 0.202322, test_accuracy: 0.934900\n",
      "epoch: 30, test_error_value: 0.200297, test_accuracy: 0.937800\n",
      "epoch: 31, test_error_value: 0.195623, test_accuracy: 0.937400\n",
      "epoch: 32, test_error_value: 0.188424, test_accuracy: 0.939400\n",
      "epoch: 33, test_error_value: 0.189093, test_accuracy: 0.938800\n",
      "epoch: 34, test_error_value: 0.186990, test_accuracy: 0.940100\n",
      "epoch: 35, test_error_value: 0.174742, test_accuracy: 0.943000\n",
      "epoch: 36, test_error_value: 0.186901, test_accuracy: 0.941800\n",
      "epoch: 37, test_error_value: 0.180857, test_accuracy: 0.941700\n",
      "epoch: 38, test_error_value: 0.175678, test_accuracy: 0.948300\n",
      "epoch: 39, test_error_value: 0.169563, test_accuracy: 0.946300\n",
      "epoch: 40, test_error_value: 0.178403, test_accuracy: 0.943100\n",
      "epoch: 41, test_error_value: 0.175813, test_accuracy: 0.943700\n"
     ]
    }
   ],
   "source": [
    "# Launch the tensorflow graph\n",
    "with tf.Session() as sess:\n",
    "    sess.run(init)\n",
    "    total_batch = int(math.ceil(mnist.train.num_examples/float(batch_size)))\n",
    "    \n",
    "    print(\"total batch: %d\" % total_batch)\n",
    "\n",
    "    epoch_list                  = []\n",
    "    train_error_value_list      = []\n",
    "    validation_error_value_list = []\n",
    "    test_error_value_list       = []\n",
    "    test_accuracy_list          = []\n",
    "            \n",
    "    # Training cycle\n",
    "    for epoch in range(training_epochs):\n",
    "\n",
    "        # Loop over all batches\n",
    "        for i in range(total_batch):\n",
    "            batch_images, batch_labels = mnist.train.next_batch(batch_size)\n",
    "            sess.run(optimizer, feed_dict={x: batch_images, y: batch_labels, keep_prob: 0.5})\n",
    "        \n",
    "        epoch_list.append(epoch)\n",
    "\n",
    "        # Train Error Value\n",
    "        t_error_value = sess.run(error, feed_dict={x: mnist.train.images, y: mnist.train.labels, keep_prob: 0.5})\n",
    "        train_error_value_list.append(t_error_value)\n",
    "\n",
    "        # Validation Error Value\n",
    "        v_error_value = sess.run(error, feed_dict={x: mnist.validation.images, y: mnist.validation.labels, keep_prob: 0.5})\n",
    "        validation_error_value_list.append(v_error_value)\n",
    "\n",
    "        printLossAccuracyForTestData(epoch, sess, test_error_value_list, test_accuracy_list)\n",
    "\n",
    "    drawErrorValues(epoch_list, train_error_value_list, validation_error_value_list, test_error_value_list, test_accuracy_list)\n",
    "\n",
    "    drawFalsePrediction(sess, 10)\n",
    "            \n",
    "    print(\"Optimization Finished!\")"
   ]
  },
  {
   "cell_type": "code",
   "execution_count": null,
   "metadata": {
    "collapsed": true
   },
   "outputs": [],
   "source": []
  }
 ],
 "metadata": {
  "anaconda-cloud": {},
  "kernelspec": {
   "display_name": "Python 3",
   "language": "python",
   "name": "python3"
  },
  "language_info": {
   "codemirror_mode": {
    "name": "ipython",
    "version": 3
   },
   "file_extension": ".py",
   "mimetype": "text/x-python",
   "name": "python",
   "nbconvert_exporter": "python",
   "pygments_lexer": "ipython3",
   "version": "3.5.2"
  }
 },
 "nbformat": 4,
 "nbformat_minor": 0
}
