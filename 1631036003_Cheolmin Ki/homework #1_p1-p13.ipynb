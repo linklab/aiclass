{
 "cells": [
  {
   "cell_type": "markdown",
   "metadata": {},
   "source": [
    "# exam 1"
   ]
  },
  {
   "cell_type": "code",
   "execution_count": 4,
   "metadata": {
    "collapsed": false
   },
   "outputs": [
    {
     "data": {
      "text/plain": [
       "array([ 2.,  2.], dtype=float32)"
      ]
     },
     "execution_count": 4,
     "metadata": {},
     "output_type": "execute_result"
    }
   ],
   "source": [
    "import tensorflow as tf\n",
    "sess = tf.Session()\n",
    "\n",
    "a = tf.zeros((2, 2)); b = tf.ones((2, 2))\n",
    "\n",
    "sess.run(tf.reduce_sum(b, axis=1))"
   ]
  },
  {
   "cell_type": "markdown",
   "metadata": {},
   "source": [
    "**설명**\n",
    "\n",
    "- tf.Session()\n",
    "    - tensorflow 연산들을 실행하기 위한 클래스 생성\n",
    "    - session 객체는 openration 객체가 실행되고 tensor 객체가 계산되는 환경을 캡슐화한다.\n",
    "    - 세션은 자체 리소스를 가지므로, 더 이상 필요하지 않을 때 이를 해제 시키는 것이 중요, close() 메소드를 실행\n",
    "- tf.zeros()\n",
    "    - 모든 엘리먼트를 0으로 초기화한 텐서를 생성\n",
    "- tf.ones()\n",
    "    - 모든 엘리먼트를 1로 초기화한 텐서를 생성\n",
    "- tf.reduce_sum()\n",
    "    - 지정된 차원을 따라 엘리먼트들을 더함\n",
    "- tf.Session.run(fetches, feed_dict=None, options=None, run_metadata=None)\n",
    "    - 연산과 텐서를 실행\n",
    "import tensorflow as tf\n",
    "sess = tf.Session()\n",
    "\n",
    "a = tf.zeros((2, 2)); b = tf.ones((2, 2))\n",
    "\n",
    "sess.run(tf.reduce_sum(b, axis=1))\n",
    "\n",
    "a.get_shape()\n",
    "\n",
    "sess.run(tf.reshape(a, (1, 4)))\n"
   ]
  },
  {
   "cell_type": "code",
   "execution_count": 7,
   "metadata": {
    "collapsed": false
   },
   "outputs": [
    {
     "data": {
      "text/plain": [
       "TensorShape([Dimension(2), Dimension(2)])"
      ]
     },
     "execution_count": 7,
     "metadata": {},
     "output_type": "execute_result"
    }
   ],
   "source": [
    "a.get_shape()"
   ]
  },
  {
   "cell_type": "markdown",
   "metadata": {},
   "source": [
    "- tf.get_shape()\n",
    "    - 이 텐서의 크기를 확인"
   ]
  },
  {
   "cell_type": "code",
   "execution_count": 8,
   "metadata": {
    "collapsed": false
   },
   "outputs": [
    {
     "data": {
      "text/plain": [
       "array([[ 0.,  0.,  0.,  0.]], dtype=float32)"
      ]
     },
     "execution_count": 8,
     "metadata": {},
     "output_type": "execute_result"
    }
   ],
   "source": [
    "sess.run(tf.reshape(a, (1, 4)))"
   ]
  },
  {
   "cell_type": "markdown",
   "metadata": {},
   "source": [
    "- tf.reshape()\n",
    "    - 텐서의 엘리먼트(element)는 그대로 유지하면서 텐서의 구조를 바꿈"
   ]
  },
  {
   "cell_type": "markdown",
   "metadata": {},
   "source": [
    "# exam 2"
   ]
  },
  {
   "cell_type": "code",
   "execution_count": 9,
   "metadata": {
    "collapsed": false
   },
   "outputs": [
    {
     "name": "stdout",
     "output_type": "stream",
     "text": [
      "Tensor(\"zeros_5:0\", shape=(2, 2), dtype=float32)\n"
     ]
    }
   ],
   "source": [
    "sess = tf.Session()\n",
    "ta = tf.zeros((2, 2))\n",
    "print(ta)"
   ]
  },
  {
   "cell_type": "markdown",
   "metadata": {},
   "source": [
    "- (2 x 2)의 0으로 초기화한 텐서를 print로 출력하면 위의 결과와 같이 tensor, shape, data type이 출력됨"
   ]
  },
  {
   "cell_type": "code",
   "execution_count": 10,
   "metadata": {
    "collapsed": false
   },
   "outputs": [
    {
     "name": "stdout",
     "output_type": "stream",
     "text": [
      "[[ 0.  0.]\n",
      " [ 0.  0.]]\n"
     ]
    }
   ],
   "source": [
    "print(sess.run(ta))"
   ]
  },
  {
   "cell_type": "markdown",
   "metadata": {},
   "source": [
    "- ta 텐서를 세션에서 실행한 결과 operation이 없으므로 초기화된 ta tensor만 나타난다"
   ]
  },
  {
   "cell_type": "markdown",
   "metadata": {},
   "source": [
    "# exam 3"
   ]
  },
  {
   "cell_type": "code",
   "execution_count": 13,
   "metadata": {
    "collapsed": false
   },
   "outputs": [
    {
     "name": "stdout",
     "output_type": "stream",
     "text": [
      "30.0\n"
     ]
    }
   ],
   "source": [
    "a = tf.constant(5.0)\n",
    "b = tf.constant(6.0)\n",
    "c = a*b\n",
    "\n",
    "sess = tf.Session()\n",
    "print(sess.run(c))"
   ]
  },
  {
   "cell_type": "markdown",
   "metadata": {},
   "source": [
    "- a, b, c는 computation graph로 정의됨, 값을 확인할 수 없음 \n",
    "- c는 a * b의 연산 결과를 적용하고 세션을 실행할 경우 c의 결과를 보여준다"
   ]
  },
  {
   "cell_type": "code",
   "execution_count": 15,
   "metadata": {
    "collapsed": false
   },
   "outputs": [
    {
     "name": "stdout",
     "output_type": "stream",
     "text": [
      "30.0\n",
      "30.0\n"
     ]
    }
   ],
   "source": [
    "with tf.Session() as sess:\n",
    "    print(sess.run(c))\n",
    "    print(c.eval())"
   ]
  },
  {
   "cell_type": "markdown",
   "metadata": {},
   "source": [
    "- eval()\n",
    "    - 결과를 내장하고 있다면 eval() 함수 사용 가능, initialize 하지 않고 호출하면 비정상 종료\n",
    "- with tf.Session() as sess:\n",
    "    - close() 메소드를 사용하지 않고, 컨텍스트 매니저로써 세션을 사용하는 방식.\n",
    "    - exam 3의 두가지 방법은 같은 방법임"
   ]
  }
 ],
 "metadata": {
  "anaconda-cloud": {},
  "kernelspec": {
   "display_name": "Python [default]",
   "language": "python",
   "name": "python3"
  },
  "language_info": {
   "codemirror_mode": {
    "name": "ipython",
    "version": 3
   },
   "file_extension": ".py",
   "mimetype": "text/x-python",
   "name": "python",
   "nbconvert_exporter": "python",
   "pygments_lexer": "ipython3",
   "version": "3.5.2"
  }
 },
 "nbformat": 4,
 "nbformat_minor": 1
}
