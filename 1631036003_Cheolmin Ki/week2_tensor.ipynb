{
 "cells": [
  {
   "cell_type": "code",
   "execution_count": 3,
   "metadata": {
    "collapsed": false
   },
   "outputs": [
    {
     "name": "stdout",
     "output_type": "stream",
     "text": [
      "Tensor(\"add:0\", shape=(1,), dtype=float32)\n",
      "Tensor(\"Add:0\", shape=(1,), dtype=float32)\n",
      "[ 250.] [ 250.]\n"
     ]
    }
   ],
   "source": [
    "import tensorflow as tf\n",
    "\n",
    "a = tf.constant([15], dtype=tf.float32, name='a')\n",
    "b = tf.constant([10], dtype=tf.float32, name='b')\n",
    "c = tf.constant([100], dtype=tf.float32, name='c')\n",
    "\n",
    "d = a * b + c\n",
    "e = tf.add(tf.multiply(a, b), c)\n",
    "\n",
    "print (d) \n",
    "print (e)\n",
    "\n",
    "with tf.Session() as sess:\n",
    "    result1 = sess.run(d)\n",
    "    result2 = sess.run(e)\n",
    "    print (result1, result2 )"
   ]
  },
  {
   "cell_type": "code",
   "execution_count": 7,
   "metadata": {
    "collapsed": false
   },
   "outputs": [
    {
     "name": "stdout",
     "output_type": "stream",
     "text": [
      "Tensor(\"Const_3:0\", shape=(3, 2, 1), dtype=int32)\n"
     ]
    }
   ],
   "source": [
    "a = tf.constant([[[1], [2]], [[3],[4]], [[5],[6]]])\n",
    "print(a)"
   ]
  },
  {
   "cell_type": "code",
   "execution_count": 11,
   "metadata": {
    "collapsed": false
   },
   "outputs": [
    {
     "name": "stdout",
     "output_type": "stream",
     "text": [
      "Tensor(\"Const_3:0\", shape=(3, 2, 1), dtype=int32)\n"
     ]
    }
   ],
   "source": [
    "b = tf.constant([[[[1],[2]], [[3],[4]]]])\n",
    "print(a)"
   ]
  }
 ],
 "metadata": {
  "anaconda-cloud": {},
  "kernelspec": {
   "display_name": "Python [default]",
   "language": "python",
   "name": "python3"
  },
  "language_info": {
   "codemirror_mode": {
    "name": "ipython",
    "version": 3
   },
   "file_extension": ".py",
   "mimetype": "text/x-python",
   "name": "python",
   "nbconvert_exporter": "python",
   "pygments_lexer": "ipython3",
   "version": "3.5.2"
  }
 },
 "nbformat": 4,
 "nbformat_minor": 1
}
