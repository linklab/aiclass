{
 "cells": [
  {
   "cell_type": "markdown",
   "metadata": {
    "deletable": true,
    "editable": true
   },
   "source": [
    "# Linear Regression"
   ]
  },
  {
   "cell_type": "markdown",
   "metadata": {
    "deletable": true,
    "editable": true
   },
   "source": [
    "## 목표"
   ]
  },
  {
   "cell_type": "markdown",
   "metadata": {
    "deletable": true,
    "editable": true
   },
   "source": [
    "* 다음의 선형회귀식을 TensorFlow 기반 학습과정을 통해서 유추해내는 프로그래밍 작성"
   ]
  },
  {
   "cell_type": "markdown",
   "metadata": {
    "deletable": true,
    "editable": true
   },
   "source": [
    "$y = 0.1 \\times x_1 + 0.2 \\times x_2 + 0.3$"
   ]
  },
  {
   "cell_type": "markdown",
   "metadata": {},
   "source": [
    "* 즉, 위 식은 Ground Truth 로서 머신러닝 알고리즘 내부에서는 알지 못함."
   ]
  },
  {
   "cell_type": "code",
   "execution_count": 2,
   "metadata": {
    "collapsed": false,
    "deletable": true,
    "editable": true
   },
   "outputs": [
    {
     "name": "stdout",
     "output_type": "stream",
     "text": [
      "<class 'numpy.ndarray'> (2, 5)\n",
      "<class 'numpy.ndarray'> (5,)\n"
     ]
    }
   ],
   "source": [
    "import tensorflow as tf\n",
    "import numpy as np\n",
    "\n",
    "# Numpy 랜덤으로 100개의 가짜 데이터 채우기.\n",
    "x = np.float32(np.random.rand(2, 5))\n",
    "\n",
    "# 학습 레이블(목표값)은 아래의 식으로 산출. (W = [0.1, 0.2], b = 0.3)\n",
    "y_target = np.dot([0.100, 0.200], x) + 0.300\n",
    "\n",
    "print(type(x), x.shape)\n",
    "#print(x)\n",
    "print(type(y_target), y_target.shape)\n",
    "#print(y_target)"
   ]
  },
  {
   "cell_type": "code",
   "execution_count": 3,
   "metadata": {
    "collapsed": false,
    "deletable": true,
    "editable": true
   },
   "outputs": [
    {
     "name": "stdout",
     "output_type": "stream",
     "text": [
      "(1,)\n",
      "(1, 2)\n",
      "(1, 5)\n"
     ]
    }
   ],
   "source": [
    "# b는 0 으로 초기화\n",
    "b = tf.Variable(tf.zeros([1]))\n",
    "\n",
    "# W는 1x2 형태의 가중치 변수, 역시 0으로 초기화\n",
    "W = tf.Variable(tf.zeros([1, 2]))\n",
    "\n",
    "# 모델 생성 --> Tenforflow Graph 완성\n",
    "y = tf.matmul(W, x) + b\n",
    "\n",
    "print(b.get_shape())\n",
    "print(W.get_shape())\n",
    "print(y.get_shape())"
   ]
  },
  {
   "cell_type": "code",
   "execution_count": 4,
   "metadata": {
    "collapsed": false,
    "deletable": true,
    "editable": true
   },
   "outputs": [],
   "source": [
    "# 손실 함수 정의\n",
    "loss = tf.reduce_mean(tf.square(y - y_target))\n",
    "\n",
    "# 경사하강법으로 Backpropagation 적용 (0.0005는 learning rate) --> W와 b 변수 변경\n",
    "optimizer = tf.train.GradientDescentOptimizer(0.0005)\n",
    "\n",
    "# optimizer의 학습 목표 정의\n",
    "train = optimizer.minimize(loss)"
   ]
  },
  {
   "cell_type": "code",
   "execution_count": 18,
   "metadata": {
    "collapsed": false,
    "scrolled": true
   },
   "outputs": [
    {
     "name": "stdout",
     "output_type": "stream",
     "text": [
      "step:      0, loss:   2.0793641e-01, w: [[ 0.00022511  0.00024929]], b: [ 0.00045402]\n",
      "step:  10000, loss:   6.0591166e-05, w: [[ 0.13716976  0.17500462]], b: [ 0.29511097]\n",
      "step:  20000, loss:   3.1873431e-05, w: [[ 0.12899412  0.18364918]], b: [ 0.29447356]\n",
      "step:  30000, loss:   1.7420020e-05, w: [[ 0.12274571  0.18935014]], b: [ 0.29447967]\n",
      "step:  40000, loss:   9.8851597e-06, w: [[ 0.11793569  0.19310141]], b: [ 0.29482564]\n",
      "step:  50000, loss:   5.7923676e-06, w: [[ 0.11417728  0.19553389]], b: [ 0.29537913]\n",
      "step:  60000, loss:   3.4865352e-06, w: [[ 0.1112418   0.19712128]], b: [ 0.29597518]\n",
      "step:  70000, loss:   2.1409473e-06, w: [[ 0.10893264  0.19815104]], b: [ 0.29656589]\n",
      "step:  80000, loss:   1.3350303e-06, w: [[ 0.10711205  0.19882044]], b: [ 0.29710293]\n",
      "step:  90000, loss:   8.4760268e-07, w: [[ 0.10569443  0.19928561]], b: [ 0.29755047]\n",
      "step: 100000, loss:   5.4946179e-07, w: [[ 0.10459129  0.19958363]], b: [ 0.29793242]\n",
      "\n",
      "sample_x: [[0.81195801], [0.56258202]], sample_y: [[ 0.49513832]], sample_y_target: 0.4937122046947479\n",
      "sample_x: [[0.3910329], [0.27055225]], sample_y: [[ 0.39282885]], sample_y_target: 0.393213739991188\n",
      "sample_x: [[0.41132435], [0.9341976]], sample_y: [[ 0.52740395]], sample_y_target: 0.5279719561338425\n",
      "\n",
      "new_x: [[1.5], [1.5]], y_value: [[ 0.7541948]]\n"
     ]
    }
   ],
   "source": [
    "# 세션 시작\n",
    "with tf.Session() as sess:\n",
    "    # 모든 변수를 초기화.\n",
    "    init = tf.global_variables_initializer()\n",
    "    sess.run(init)\n",
    "\n",
    "    # 100000번 학습.\n",
    "    for step in range(0, 100001):\n",
    "        sess.run(train)\n",
    "        if step % 10000 == 0:\n",
    "            loss_value = sess.run(loss)\n",
    "            w_value = sess.run(W)\n",
    "            b_value = sess.run(b)\n",
    "            print(\"step: {0:6d}, loss: {1:15.7e}, w: {2}, b: {3}\".format(step, loss_value, w_value, b_value))\n",
    "    \n",
    "    print()\n",
    "    \n",
    "    sample_format = \"sample_x: {0}, sample_y: {1}, sample_y_target: {2}\"\n",
    "    \n",
    "    # 학습된 모델을 활용한 값과 실제 값 비교\n",
    "    sample_x = [[x[0][0]], [x[1][0]]] # 0번째 데이터\n",
    "    sample_y = sess.run(tf.matmul(W, sample_x) + b)\n",
    "    sample_y_target = y_target[0]\n",
    "    print(sample_format.format(sample_x, sample_y, sample_y_target))\n",
    "    \n",
    "    sample_x = [[x[0][1]], [x[1][1]]] # 1번째 데이터\n",
    "    sample_y = sess.run(tf.matmul(W, sample_x) + b)\n",
    "    sample_y_target = y_target[1]\n",
    "    print(sample_format.format(sample_x, sample_y, sample_y_target))\n",
    "    \n",
    "    sample_x = [[x[0][2]], [x[1][2]]] # 2번째 데이터\n",
    "    sample_y = sess.run(tf.matmul(W, sample_x) + b)\n",
    "    sample_y_target = y_target[2]\n",
    "    print(sample_format.format(sample_x, sample_y, sample_y_target))\n",
    "    \n",
    "    print()\n",
    "    \n",
    "    # 학습된 모델을 활용한 새로운 데이터 값에 대한 y 값 예측\n",
    "    new_x = [[1.5], [1.5]]\n",
    "    y_value = sess.run(tf.matmul(W, new_x) + b)\n",
    "    print(\"new_x: {0}, y_value: {1}\".format(new_x, y_value))"
   ]
  },
  {
   "cell_type": "code",
   "execution_count": null,
   "metadata": {
    "collapsed": true
   },
   "outputs": [],
   "source": []
  }
 ],
 "metadata": {
  "kernelspec": {
   "display_name": "tfkernel",
   "language": "python",
   "name": "tfkernel"
  },
  "language_info": {
   "codemirror_mode": {
    "name": "ipython",
    "version": 3
   },
   "file_extension": ".py",
   "mimetype": "text/x-python",
   "name": "python",
   "nbconvert_exporter": "python",
   "pygments_lexer": "ipython3",
   "version": "3.5.3"
  }
 },
 "nbformat": 4,
 "nbformat_minor": 2
}
