{
 "cells": [
  {
   "cell_type": "markdown",
   "metadata": {},
   "source": [
    "# Tensorflow Programming Model"
   ]
  },
  {
   "cell_type": "markdown",
   "metadata": {},
   "source": [
    "### 참고: A Tour of TensorFlow (https://arxiv.org/pdf/1610.01178.pdf)"
   ]
  },
  {
   "cell_type": "markdown",
   "metadata": {},
   "source": [
    "## 1. Dataflow Graph"
   ]
  },
  {
   "cell_type": "code",
   "execution_count": 5,
   "metadata": {
    "collapsed": false
   },
   "outputs": [],
   "source": [
    "import tensorflow as tf"
   ]
  },
  {
   "cell_type": "code",
   "execution_count": 7,
   "metadata": {
    "collapsed": false
   },
   "outputs": [
    {
     "name": "stdout",
     "output_type": "stream",
     "text": [
      "Tensor(\"add_2:0\", shape=(1,), dtype=float32)\n",
      "Tensor(\"Add_2:0\", shape=(1,), dtype=float32)\n"
     ]
    }
   ],
   "source": [
    "a = tf.constant([15], dtype=tf.float32, name='a')\n",
    "b = tf.constant([10], dtype=tf.float32, name='b')\n",
    "c = tf.constant([100], dtype=tf.float32, name='c')\n",
    "\n",
    "d = a * b + c\n",
    "e = tf.add(tf.multiply(a, b), c)\n",
    "\n",
    "print(d) \n",
    "print(e)"
   ]
  },
  {
   "cell_type": "code",
   "execution_count": 8,
   "metadata": {
    "collapsed": false
   },
   "outputs": [
    {
     "name": "stdout",
     "output_type": "stream",
     "text": [
      "[ 250.] [ 250.]\n"
     ]
    }
   ],
   "source": [
    "with tf.Session() as sess:\n",
    "    result1 = sess.run(d)\n",
    "    result2 = sess.run(e)\n",
    "    print(result1, result2)"
   ]
  },
  {
   "cell_type": "markdown",
   "metadata": {},
   "source": [
    "위 코드는 아래 코드와 동일하다."
   ]
  },
  {
   "cell_type": "code",
   "execution_count": 10,
   "metadata": {
    "collapsed": false,
    "scrolled": true
   },
   "outputs": [
    {
     "name": "stdout",
     "output_type": "stream",
     "text": [
      "[ 250.] [ 250.]\n"
     ]
    }
   ],
   "source": [
    "sess = tf.Session()\n",
    "result1 = sess.run(d)\n",
    "result2 = sess.run(e)\n",
    "print(result1, result2)\n",
    "sess.close() # 위 코드에서는 close()를 자동으로 수행한다."
   ]
  },
  {
   "cell_type": "markdown",
   "metadata": {},
   "source": [
    "### Variable"
   ]
  },
  {
   "cell_type": "code",
   "execution_count": 12,
   "metadata": {
    "collapsed": false
   },
   "outputs": [
    {
     "name": "stdout",
     "output_type": "stream",
     "text": [
      "[ 10.  20.  30.  40.  50.]\n"
     ]
    }
   ],
   "source": [
    "input_data = [1, 2, 3, 4, 5]\n",
    "x = tf.placeholder(dtype=tf.float32)\n",
    "W = tf.Variable([10], dtype=tf.float32)\n",
    "y = W * x\n",
    "\n",
    "init = tf.global_variables_initializer()\n",
    "\n",
    "with tf.Session() as sess:\n",
    "    sess.run(init)\n",
    "    result = sess.run(y, feed_dict={x: input_data})\n",
    "    print(result)"
   ]
  },
  {
   "cell_type": "markdown",
   "metadata": {},
   "source": [
    "### Placeholder\n",
    "A placeholder (an operation) is a special variable that must be replaced with concrete tensors upon execution."
   ]
  },
  {
   "cell_type": "code",
   "execution_count": 14,
   "metadata": {
    "collapsed": false
   },
   "outputs": [
    {
     "name": "stdout",
     "output_type": "stream",
     "text": [
      "[  2.   4.   6.   8.  10.]\n"
     ]
    }
   ],
   "source": [
    "input_data = [1, 2, 3, 4, 5]\n",
    "x = tf.placeholder(dtype=tf.float32)\n",
    "y = x * 2\n",
    "\n",
    "with tf.Session() as sess:\n",
    "    result = sess.run(y, feed_dict={x:input_data})\n",
    "    print(result)"
   ]
  },
  {
   "cell_type": "markdown",
   "metadata": {},
   "source": [
    "### 텐서 구조 - Rank, Shape, Data Type\n",
    "\n",
    "참조: https://www.tensorflow.org/versions/r0.12/resources/dims_types.html"
   ]
  },
  {
   "cell_type": "code",
   "execution_count": 16,
   "metadata": {
    "collapsed": false
   },
   "outputs": [
    {
     "name": "stdout",
     "output_type": "stream",
     "text": [
      "Tensor(\"Const_1:0\", shape=(2, 2, 3, 2), dtype=int32)\n"
     ]
    }
   ],
   "source": [
    "a = tf.constant([[[[1, 1], [2, 2], [3, 3]], [[4, 4], [5, 5], [6, 6]]], [[[1, 1], [2, 2], [3, 3]], [[4, 4], [5, 5], [6, 6]]]])\n",
    "print(a)"
   ]
  },
  {
   "cell_type": "markdown",
   "metadata": {},
   "source": [
    "#### 0차원 텐서 - Scalar"
   ]
  },
  {
   "cell_type": "code",
   "execution_count": 17,
   "metadata": {
    "collapsed": false
   },
   "outputs": [
    {
     "name": "stdout",
     "output_type": "stream",
     "text": [
      "Rank of tensor_0d is 0\n",
      "Tensor(\"Const_2:0\", shape=(), dtype=float64)\n",
      "1.0\n"
     ]
    }
   ],
   "source": [
    "a = 1.0\n",
    "tensor_0d = tf.convert_to_tensor(a, dtype=tf.float64) \n",
    "print(\"Rank of tensor_0d is %d\" % len(tensor_0d.get_shape()))\n",
    "print(tensor_0d)\n",
    "with tf.Session() as sess:\n",
    "    print(sess.run(tensor_0d))"
   ]
  },
  {
   "cell_type": "markdown",
   "metadata": {},
   "source": [
    "#### 1차원 텐서 - vector"
   ]
  },
  {
   "cell_type": "code",
   "execution_count": 18,
   "metadata": {
    "collapsed": false
   },
   "outputs": [
    {
     "name": "stdout",
     "output_type": "stream",
     "text": [
      "1.3 1.0\n"
     ]
    }
   ],
   "source": [
    "import numpy as np\n",
    "np_array_1d = np.array([1.3, 1, 4.0, 23.99])\n",
    "print(np_array_1d[0], np_array_1d[1])"
   ]
  },
  {
   "cell_type": "code",
   "execution_count": 21,
   "metadata": {
    "collapsed": false
   },
   "outputs": [
    {
     "name": "stdout",
     "output_type": "stream",
     "text": [
      "1\n",
      "(4,)\n",
      "float64\n"
     ]
    }
   ],
   "source": [
    "print(np_array_1d.ndim)\n",
    "print(np_array_1d.shape)\n",
    "print(np_array_1d.dtype)"
   ]
  },
  {
   "cell_type": "markdown",
   "metadata": {},
   "source": [
    "Python에서\n",
    "(4)는 단순자료형이며 tuple을 나타내려면 (4,)로 표현해야한다."
   ]
  },
  {
   "cell_type": "code",
   "execution_count": 24,
   "metadata": {
    "collapsed": false
   },
   "outputs": [
    {
     "name": "stdout",
     "output_type": "stream",
     "text": [
      "Rank of tensor_1d is 1\n",
      "Tensor(\"Const_4:0\", shape=(4,), dtype=float64)\n"
     ]
    }
   ],
   "source": [
    "tensor_1d = tf.convert_to_tensor(np_array_1d, dtype=tf.float64)\n",
    "print(\"Rank of tensor_1d is %d\" % len(tensor_1d.get_shape()))\n",
    "print(tensor_1d)"
   ]
  },
  {
   "cell_type": "code",
   "execution_count": 26,
   "metadata": {
    "collapsed": false
   },
   "outputs": [
    {
     "name": "stdout",
     "output_type": "stream",
     "text": [
      "[  1.3    1.     4.    23.99]\n",
      "1.3 1.0\n"
     ]
    }
   ],
   "source": [
    "with tf.Session() as sess:\n",
    "    print(sess.run(tensor_1d))\n",
    "    print(sess.run(tensor_1d[0]), sess.run(tensor_1d[1]))"
   ]
  },
  {
   "cell_type": "markdown",
   "metadata": {},
   "source": [
    "#### 2차원 텐서 - matrix"
   ]
  },
  {
   "cell_type": "code",
   "execution_count": 27,
   "metadata": {
    "collapsed": false
   },
   "outputs": [
    {
     "name": "stdout",
     "output_type": "stream",
     "text": [
      "[[  1.3    1.     8.2 ]\n",
      " [  4.    23.99   1.1 ]]\n"
     ]
    }
   ],
   "source": [
    "np_array_2d = np.array([[1.3, 1, 8.2], [4.0, 23.99, 1.1]])\n",
    "print(np_array_2d)"
   ]
  },
  {
   "cell_type": "code",
   "execution_count": 28,
   "metadata": {
    "collapsed": false
   },
   "outputs": [
    {
     "name": "stdout",
     "output_type": "stream",
     "text": [
      "2\n",
      "(2, 3)\n",
      "float64\n"
     ]
    }
   ],
   "source": [
    "print(np_array_2d.ndim)   # rank\n",
    "print(np_array_2d.shape)  # shape\n",
    "print(np_array_2d.dtype)  # Data type"
   ]
  },
  {
   "cell_type": "code",
   "execution_count": 29,
   "metadata": {
    "collapsed": false,
    "scrolled": true
   },
   "outputs": [
    {
     "name": "stdout",
     "output_type": "stream",
     "text": [
      "Rank of tensor_2d is 2\n",
      "Tensor(\"Const_5:0\", shape=(2, 3), dtype=float64)\n"
     ]
    }
   ],
   "source": [
    "tensor_2d = tf.convert_to_tensor(np_array_2d, dtype=tf.float64)\n",
    "print(\"Rank of tensor_2d is %d\" % len(tensor_2d.get_shape()))\n",
    "print(tensor_2d)"
   ]
  },
  {
   "cell_type": "code",
   "execution_count": 30,
   "metadata": {
    "collapsed": false
   },
   "outputs": [
    {
     "name": "stdout",
     "output_type": "stream",
     "text": [
      "[[  1.3    1.     8.2 ]\n",
      " [  4.    23.99   1.1 ]]\n",
      "1.3 1.1\n"
     ]
    }
   ],
   "source": [
    "with tf.Session() as sess:\n",
    "    print(sess.run(tensor_2d))\n",
    "    print(sess.run(tensor_2d[0, 0]), sess.run(tensor_2d[1, 2]))"
   ]
  },
  {
   "cell_type": "markdown",
   "metadata": {},
   "source": [
    "#### 2차원 텐서 연산"
   ]
  },
  {
   "cell_type": "code",
   "execution_count": 31,
   "metadata": {
    "collapsed": false
   },
   "outputs": [
    {
     "name": "stdout",
     "output_type": "stream",
     "text": [
      "[[1, 1, 1], [1, 1, 1], [1, 1, 1]]\n",
      "[[2, 2, 2], [2, 2, 2], [2, 2, 2]]\n"
     ]
    }
   ],
   "source": [
    "matrix1 = [[1, 1, 1], [1, 1, 1], [1, 1, 1]]\n",
    "matrix2 = [[2, 2, 2], [2, 2, 2], [2, 2, 2]]\n",
    "print(matrix1)\n",
    "print(matrix2)"
   ]
  },
  {
   "cell_type": "code",
   "execution_count": 32,
   "metadata": {
    "collapsed": false
   },
   "outputs": [
    {
     "name": "stdout",
     "output_type": "stream",
     "text": [
      "Rank of tensor_m1 is 2\n",
      "Tensor(\"Const_6:0\", shape=(3, 3), dtype=float64)\n",
      "Rank of tensor_m2 is 2\n",
      "Tensor(\"Const_7:0\", shape=(3, 3), dtype=float64)\n"
     ]
    }
   ],
   "source": [
    "tensor_m1 = tf.constant(matrix1, dtype=tf.float64)\n",
    "print(\"Rank of tensor_m1 is %d\" % len(tensor_m1.get_shape()))\n",
    "print(tensor_m1)\n",
    "\n",
    "tensor_m2 = tf.constant(matrix2, dtype=tf.float64)\n",
    "print(\"Rank of tensor_m2 is %d\" % len(tensor_m2.get_shape()))\n",
    "print(tensor_m2)"
   ]
  },
  {
   "cell_type": "code",
   "execution_count": 33,
   "metadata": {
    "collapsed": true
   },
   "outputs": [],
   "source": [
    "tensor_m3 = tf.matmul(tensor_m1, tensor_m2)\n",
    "tensor_m4 = tf.add(tensor_m1, tensor_m2)\n",
    "det = tf.matrix_determinant(tensor_m4)"
   ]
  },
  {
   "cell_type": "code",
   "execution_count": 34,
   "metadata": {
    "collapsed": false
   },
   "outputs": [
    {
     "name": "stdout",
     "output_type": "stream",
     "text": [
      "<class 'numpy.ndarray'>\n",
      "<class 'numpy.ndarray'>\n",
      "<class 'numpy.float64'>\n"
     ]
    }
   ],
   "source": [
    "with tf.Session() as sess:\n",
    "    result1 = sess.run(tensor_m3)\n",
    "    result2 = sess.run(tensor_m4)\n",
    "    result3 = sess.run(det)\n",
    "print(type(result1))\n",
    "print(type(result2))\n",
    "print(type(result3))"
   ]
  },
  {
   "cell_type": "code",
   "execution_count": 35,
   "metadata": {
    "collapsed": false,
    "scrolled": true
   },
   "outputs": [
    {
     "name": "stdout",
     "output_type": "stream",
     "text": [
      "[[ 6.  6.  6.]\n",
      " [ 6.  6.  6.]\n",
      " [ 6.  6.  6.]]\n",
      "[[ 3.  3.  3.]\n",
      " [ 3.  3.  3.]\n",
      " [ 3.  3.  3.]]\n",
      "0.0\n"
     ]
    }
   ],
   "source": [
    "print(result1)\n",
    "print(result2)\n",
    "print(result3)"
   ]
  },
  {
   "cell_type": "code",
   "execution_count": null,
   "metadata": {
    "collapsed": true
   },
   "outputs": [],
   "source": []
  }
 ],
 "metadata": {
  "kernelspec": {
   "display_name": "tfkernel",
   "language": "python",
   "name": "tfkernel"
  },
  "language_info": {
   "codemirror_mode": {
    "name": "ipython",
    "version": 3
   },
   "file_extension": ".py",
   "mimetype": "text/x-python",
   "name": "python",
   "nbconvert_exporter": "python",
   "pygments_lexer": "ipython3",
   "version": "3.5.3"
  }
 },
 "nbformat": 4,
 "nbformat_minor": 2
}
