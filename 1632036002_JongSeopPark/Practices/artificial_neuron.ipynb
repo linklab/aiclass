{
 "cells": [
  {
   "cell_type": "markdown",
   "metadata": {
    "deletable": true,
    "editable": true
   },
   "source": [
    "### 2017. 03. 14 JongSeop Park"
   ]
  },
  {
   "cell_type": "markdown",
   "metadata": {
    "deletable": true,
    "editable": true
   },
   "source": [
    "# Class: Neuron"
   ]
  },
  {
   "cell_type": "code",
   "execution_count": 1,
   "metadata": {
    "collapsed": false,
    "deletable": true,
    "editable": true,
    "scrolled": true
   },
   "outputs": [],
   "source": [
    "from __future__ import print_function\n",
    "\n",
    "class Neuron:\n",
    "    def __init__(self, init_w = 0.0, init_b = 0.0):\n",
    "        self.w = init_w   # weight of one input\n",
    "        self.b = init_b   # bias\n",
    "        print(\"Initial w: {0}, b: {1}\".format(self.w, self.b))\n",
    "\n",
    "    def get_u(self, input):\n",
    "        return self.w * input + self.b\n",
    "    \n",
    "    def get_u2(self, input):\n",
    "        return np.dot(self.w, input) + self.b\n",
    "\n",
    "\n",
    "    def f(self, u):\n",
    "        return max(0.0, u)\n",
    "\n",
    "    def z(self, input):\n",
    "        u = self.get_u(input)\n",
    "        \n",
    "        return self.f(u)\n",
    "    \n",
    "    def squared_error(self, input, z_target):\n",
    "        return (0.5 * math.pow(self.z(input) - z_target, 2))\n",
    "\n",
    "    def f_derivative(self, u):\n",
    "        if u >= 0:\n",
    "            return 1\n",
    "        else:\n",
    "            return 0\n",
    "    \n",
    "    # def numerical_f_derivative(self, u):\n",
    "    #     delta = 0.00000001\n",
    "    #     return (self.f(u + delta) - self.f(u)) / delta\n",
    "\n",
    "    def d_E_over_d_w(self, input, z_target):\n",
    "        u = self.get_u(input)\n",
    "        z = self.f(u)\n",
    "        error = z - z_target\n",
    "        return error * self.f_derivative(u) * input\n",
    "\n",
    "    def d_E_over_d_b(self, input, z_target):\n",
    "        u = self.get_u(input)\n",
    "        z = self.f(u)\n",
    "        error = z - z_target\n",
    "        return error * self.f_derivative(u)\n",
    "\n",
    "    def learning(self, alpha, maxEpoch, data):\n",
    "        for i in range(maxEpoch):\n",
    "            for idx in range(data.numTrainData):\n",
    "                input = data.training_input_value[idx]\n",
    "                z_target = data.training_z_target[idx]\n",
    "\n",
    "                self.w = self.w - alpha * self.d_E_over_d_w(input, z_target)\n",
    "                self.b = self.b - alpha * self.d_E_over_d_b(input, z_target)\n",
    "\n",
    "            sum = 0.0\n",
    "            for idx in range(data.numTrainData):\n",
    "                sum = sum + self.squared_error(data.training_input_value[idx], data.training_z_target[idx])\n",
    "            print(\"Epoch {0:5d}: Error: {1:15.7e}, w: {2:15.7e}, b: {3:15.7e}\".format(i, sum / data.numTrainData, self.w, self.b))\n",
    "\n"
   ]
  },
  {
   "cell_type": "markdown",
   "metadata": {
    "deletable": true,
    "editable": true
   },
   "source": [
    "# Class: Data"
   ]
  },
  {
   "cell_type": "code",
   "execution_count": 2,
   "metadata": {
    "collapsed": true,
    "deletable": true,
    "editable": true
   },
   "outputs": [],
   "source": [
    "import math\n",
    "\n",
    "class Data:\n",
    "    def __init__(self):\n",
    "        #self.training_input_value = [1.0, 2.0, 3.0]\n",
    "        #self.training_z_target = [6.0, 7.0, 8.0]\n",
    "        \n",
    "        # 데이터를 더 줄 경우 학습이 더 잘 된다.\n",
    "        self.training_input_value = [1.0, 2.0, 3.0, 4.0]\n",
    "        self.training_z_target = [6.0, 7.0, 8.0, 9.0]\n",
    "        \n",
    "        self.numTrainData = len(self.training_input_value)"
   ]
  },
  {
   "cell_type": "markdown",
   "metadata": {
    "deletable": true,
    "editable": true
   },
   "source": [
    "# main#1"
   ]
  },
  {
   "cell_type": "code",
   "execution_count": 3,
   "metadata": {
    "collapsed": false,
    "deletable": true,
    "editable": true
   },
   "outputs": [
    {
     "name": "stdout",
     "output_type": "stream",
     "text": [
      "Initial w: 5.0, b: -1.0\n",
      "4.0\n",
      "9.0\n",
      "14.0\n"
     ]
    }
   ],
   "source": [
    "if __name__ == '__main__':\n",
    "    n = Neuron(5.0, -1.0)\n",
    "    print(n.z(1.0))\n",
    "    print(n.z(2.0))\n",
    "    print(n.z(3.0))"
   ]
  },
  {
   "cell_type": "markdown",
   "metadata": {
    "deletable": true,
    "editable": true
   },
   "source": [
    "# main#2"
   ]
  },
  {
   "cell_type": "code",
   "execution_count": 4,
   "metadata": {
    "collapsed": false,
    "deletable": true,
    "editable": true
   },
   "outputs": [
    {
     "name": "stdout",
     "output_type": "stream",
     "text": [
      "Initial w: 5.0, b: -1.0\n",
      "x: 1.0, z: 4.0, z_target: 6.0, error: 2.0\n",
      "x: 2.0, z: 9.0, z_target: 7.0, error: 2.0\n",
      "x: 3.0, z: 14.0, z_target: 8.0, error: 18.0\n",
      "x: 4.0, z: 19.0, z_target: 9.0, error: 50.0\n"
     ]
    }
   ],
   "source": [
    "if __name__ == '__main__':\n",
    "    n = Neuron(5.0, -1.0)\n",
    "    d = Data()\n",
    "    \n",
    "    # 참고: Python 3.x에서는 xrange 메서드 사용 안 함. (대신 range 사용)\n",
    "    for idx in range(d.numTrainData): \n",
    "        input = d.training_input_value[idx]\n",
    "        z = n.z(input)\n",
    "        z_target = d.training_z_target[idx]\n",
    "        error = n.squared_error(input, z_target)\n",
    "        print(\"x: {0}, z: {1}, z_target: {2}, error: {3}\".format(input, z, z_target, error))"
   ]
  },
  {
   "cell_type": "markdown",
   "metadata": {
    "deletable": true,
    "editable": true
   },
   "source": [
    "# main#3"
   ]
  },
  {
   "cell_type": "code",
   "execution_count": 5,
   "metadata": {
    "collapsed": false,
    "deletable": true,
    "editable": true
   },
   "outputs": [
    {
     "name": "stdout",
     "output_type": "stream",
     "text": [
      "Initial w: 5.0, b: -1.0\n",
      "x:  1.00000, z:  4.00000, z_target:  6.00000, error:  2.00000\n",
      "x:  2.00000, z:  9.00000, z_target:  7.00000, error:  2.00000\n",
      "x:  3.00000, z: 14.00000, z_target:  8.00000, error: 18.00000\n",
      "x:  4.00000, z: 19.00000, z_target:  9.00000, error: 50.00000\n",
      "Epoch     0: Error:   5.5313617e+00, w:   2.1137248e+00, b:  -8.6850472e-01\n",
      "Epoch     1: Error:   4.0176925e+00, w:   2.0478478e+00, b:  -2.0087967e-01\n",
      "Epoch     2: Error:   3.1782884e+00, w:   1.9295417e+00, b:   3.7907877e-01\n",
      "Epoch     3: Error:   2.5084923e+00, w:   1.8258654e+00, b:   8.9464611e-01\n",
      "Epoch     4: Error:   1.9799723e+00, w:   1.7337221e+00, b:   1.3526836e+00\n",
      "Epoch     5: Error:   1.5628047e+00, w:   1.6518601e+00, b:   1.7596177e+00\n",
      "Epoch     6: Error:   1.2335318e+00, w:   1.5791316e+00, b:   2.1211498e+00\n",
      "Epoch     7: Error:   9.7363454e-01, w:   1.5145174e+00, b:   2.4423455e+00\n",
      "Epoch     8: Error:   7.6849598e-01, w:   1.4571123e+00, b:   2.7277051e+00\n",
      "Epoch     9: Error:   6.0657880e-01, w:   1.4061119e+00, b:   2.9812269e+00\n",
      "Epoch    10: Error:   4.7877654e-01, w:   1.3608016e+00, b:   3.2064631e+00\n",
      "Epoch    11: Error:   3.7790139e-01, w:   1.3205467e+00, b:   3.4065695e+00\n",
      "Epoch    12: Error:   2.9827999e-01, w:   1.2847830e+00, b:   3.5843498e+00\n",
      "Epoch    13: Error:   2.3543430e-01, w:   1.2530096e+00, b:   3.7422951e+00\n",
      "Epoch    14: Error:   1.8582980e-01, w:   1.2247811e+00, b:   3.8826182e+00\n",
      "Epoch    15: Error:   1.4667666e-01, w:   1.1997021e+00, b:   4.0072854e+00\n",
      "Epoch    16: Error:   1.1577282e-01, w:   1.1774211e+00, b:   4.1180434e+00\n",
      "Epoch    17: Error:   9.1380232e-02, w:   1.1576261e+00, b:   4.2164440e+00\n",
      "Epoch    18: Error:   7.2127002e-02, w:   1.1400396e+00, b:   4.3038660e+00\n",
      "Epoch    19: Error:   5.6930305e-02, w:   1.1244153e+00, b:   4.3815343e+00\n",
      "Epoch    20: Error:   4.4935454e-02, w:   1.1105342e+00, b:   4.4505370e+00\n",
      "Epoch    21: Error:   3.5467842e-02, w:   1.0982018e+00, b:   4.5118410e+00\n",
      "Epoch    22: Error:   2.7994995e-02, w:   1.0872453e+00, b:   4.5663053e+00\n",
      "Epoch    23: Error:   2.2096629e-02, w:   1.0775113e+00, b:   4.6146930e+00\n",
      "Epoch    24: Error:   1.7441011e-02, w:   1.0688633e+00, b:   4.6576820e+00\n",
      "Epoch    25: Error:   1.3766302e-02, w:   1.0611802e+00, b:   4.6958747e+00\n",
      "Epoch    26: Error:   1.0865830e-02, w:   1.0543543e+00, b:   4.7298062e+00\n",
      "Epoch    27: Error:   8.5764693e-03, w:   1.0482899e+00, b:   4.7599520e+00\n",
      "Epoch    28: Error:   6.7694621e-03, w:   1.0429022e+00, b:   4.7867343e+00\n",
      "Epoch    29: Error:   5.3431798e-03, w:   1.0381155e+00, b:   4.8105285e+00\n",
      "Epoch    30: Error:   4.2174061e-03, w:   1.0338629e+00, b:   4.8316680e+00\n",
      "Epoch    31: Error:   3.3288256e-03, w:   1.0300848e+00, b:   4.8504490e+00\n",
      "Epoch    32: Error:   2.6274634e-03, w:   1.0267282e+00, b:   4.8671345e+00\n",
      "Epoch    33: Error:   2.0738737e-03, w:   1.0237462e+00, b:   4.8819584e+00\n",
      "Epoch    34: Error:   1.6369218e-03, w:   1.0210968e+00, b:   4.8951284e+00\n",
      "Epoch    35: Error:   1.2920329e-03, w:   1.0187430e+00, b:   4.9068290e+00\n",
      "Epoch    36: Error:   1.0198098e-03, w:   1.0166518e+00, b:   4.9172242e+00\n",
      "Epoch    37: Error:   8.0494242e-04, w:   1.0147940e+00, b:   4.9264595e+00\n",
      "Epoch    38: Error:   6.3534621e-04, w:   1.0131434e+00, b:   4.9346645e+00\n",
      "Epoch    39: Error:   5.0148284e-04, w:   1.0116770e+00, b:   4.9419540e+00\n",
      "Epoch    40: Error:   3.9582361e-04, w:   1.0103742e+00, b:   4.9484303e+00\n",
      "Epoch    41: Error:   3.1242612e-04, w:   1.0092167e+00, b:   4.9541840e+00\n",
      "Epoch    42: Error:   2.4659993e-04, w:   1.0081884e+00, b:   4.9592957e+00\n",
      "Epoch    43: Error:   1.9464291e-04, w:   1.0072748e+00, b:   4.9638371e+00\n",
      "Epoch    44: Error:   1.5363289e-04, w:   1.0064631e+00, b:   4.9678718e+00\n",
      "Epoch    45: Error:   1.2126343e-04, w:   1.0057421e+00, b:   4.9714564e+00\n",
      "Epoch    46: Error:   9.5714001e-05, w:   1.0051014e+00, b:   4.9746410e+00\n",
      "Epoch    47: Error:   7.5547674e-05, w:   1.0045322e+00, b:   4.9774704e+00\n",
      "Epoch    48: Error:   5.9630263e-05, w:   1.0040266e+00, b:   4.9799840e+00\n",
      "Epoch    49: Error:   4.7066549e-05, w:   1.0035773e+00, b:   4.9822172e+00\n",
      "Epoch    50: Error:   3.7149928e-05, w:   1.0031782e+00, b:   4.9842012e+00\n",
      "Epoch    51: Error:   2.9322677e-05, w:   1.0028236e+00, b:   4.9859639e+00\n",
      "Epoch    52: Error:   2.3144576e-05, w:   1.0025086e+00, b:   4.9875299e+00\n",
      "Epoch    53: Error:   1.8268162e-05, w:   1.0022287e+00, b:   4.9889212e+00\n",
      "Epoch    54: Error:   1.4419178e-05, w:   1.0019800e+00, b:   4.9901573e+00\n",
      "Epoch    55: Error:   1.1381149e-05, w:   1.0017591e+00, b:   4.9912555e+00\n",
      "Epoch    56: Error:   8.9832141e-06, w:   1.0015629e+00, b:   4.9922311e+00\n",
      "Epoch    57: Error:   7.0905084e-06, w:   1.0013885e+00, b:   4.9930979e+00\n",
      "Epoch    58: Error:   5.5965837e-06, w:   1.0012336e+00, b:   4.9938680e+00\n",
      "Epoch    59: Error:   4.4174194e-06, w:   1.0010959e+00, b:   4.9945521e+00\n",
      "Epoch    60: Error:   3.4866974e-06, w:   1.0009737e+00, b:   4.9951599e+00\n",
      "Epoch    61: Error:   2.7520726e-06, w:   1.0008650e+00, b:   4.9956999e+00\n",
      "Epoch    62: Error:   2.1722286e-06, w:   1.0007685e+00, b:   4.9961797e+00\n",
      "Epoch    63: Error:   1.7145539e-06, w:   1.0006828e+00, b:   4.9966059e+00\n",
      "Epoch    64: Error:   1.3533084e-06, w:   1.0006066e+00, b:   4.9969846e+00\n",
      "Epoch    65: Error:   1.0681750e-06, w:   1.0005389e+00, b:   4.9973210e+00\n",
      "Epoch    66: Error:   8.4311736e-07, w:   1.0004788e+00, b:   4.9976199e+00\n",
      "Epoch    67: Error:   6.6547793e-07, w:   1.0004254e+00, b:   4.9978855e+00\n",
      "Epoch    68: Error:   5.2526600e-07, w:   1.0003779e+00, b:   4.9981214e+00\n",
      "Epoch    69: Error:   4.1459582e-07, w:   1.0003357e+00, b:   4.9983310e+00\n",
      "Epoch    70: Error:   3.2724313e-07, w:   1.0002983e+00, b:   4.9985172e+00\n",
      "Epoch    71: Error:   2.5829510e-07, w:   1.0002650e+00, b:   4.9986826e+00\n",
      "Epoch    72: Error:   2.0387398e-07, w:   1.0002354e+00, b:   4.9988296e+00\n",
      "Epoch    73: Error:   1.6091904e-07, w:   1.0002092e+00, b:   4.9989602e+00\n",
      "Epoch    74: Error:   1.2701443e-07, w:   1.0001858e+00, b:   4.9990762e+00\n",
      "Epoch    75: Error:   1.0025330e-07, w:   1.0001651e+00, b:   4.9991793e+00\n",
      "Epoch    76: Error:   7.9130573e-08, w:   1.0001467e+00, b:   4.9992709e+00\n",
      "Epoch    77: Error:   6.2458269e-08, w:   1.0001303e+00, b:   4.9993522e+00\n",
      "Epoch    78: Error:   4.9298712e-08, w:   1.0001158e+00, b:   4.9994245e+00\n",
      "Epoch    79: Error:   3.8911789e-08, w:   1.0001029e+00, b:   4.9994887e+00\n",
      "Epoch    80: Error:   3.0713324e-08, w:   1.0000914e+00, b:   4.9995457e+00\n",
      "Epoch    81: Error:   2.4242224e-08, w:   1.0000812e+00, b:   4.9995964e+00\n",
      "Epoch    82: Error:   1.9134542e-08, w:   1.0000721e+00, b:   4.9996414e+00\n",
      "Epoch    83: Error:   1.5103017e-08, w:   1.0000641e+00, b:   4.9996815e+00\n",
      "Epoch    84: Error:   1.1920908e-08, w:   1.0000569e+00, b:   4.9997170e+00\n",
      "Epoch    85: Error:   9.4092491e-09, w:   1.0000506e+00, b:   4.9997486e+00\n",
      "Epoch    86: Error:   7.4267806e-09, w:   1.0000449e+00, b:   4.9997766e+00\n",
      "Epoch    87: Error:   5.8620055e-09, w:   1.0000399e+00, b:   4.9998015e+00\n",
      "Epoch    88: Error:   4.6269185e-09, w:   1.0000355e+00, b:   4.9998237e+00\n",
      "Epoch    89: Error:   3.6520564e-09, w:   1.0000315e+00, b:   4.9998434e+00\n",
      "Epoch    90: Error:   2.8825915e-09, w:   1.0000280e+00, b:   4.9998608e+00\n",
      "Epoch    91: Error:   2.2752480e-09, w:   1.0000249e+00, b:   4.9998764e+00\n",
      "Epoch    92: Error:   1.7958678e-09, w:   1.0000221e+00, b:   4.9998902e+00\n",
      "Epoch    93: Error:   1.4174900e-09, w:   1.0000196e+00, b:   4.9999024e+00\n",
      "Epoch    94: Error:   1.1188339e-09, w:   1.0000174e+00, b:   4.9999133e+00\n",
      "Epoch    95: Error:   8.8310277e-10, w:   1.0000155e+00, b:   4.9999230e+00\n",
      "Epoch    96: Error:   6.9703867e-10, w:   1.0000138e+00, b:   4.9999316e+00\n",
      "Epoch    97: Error:   5.5017709e-10, w:   1.0000122e+00, b:   4.9999392e+00\n",
      "Epoch    98: Error:   4.3425830e-10, w:   1.0000109e+00, b:   4.9999460e+00\n",
      "Epoch    99: Error:   3.4276286e-10, w:   1.0000097e+00, b:   4.9999520e+00\n",
      "\n",
      "\n",
      "x:  1.00000, z:  5.99996, z_target:  6.00000, error:  0.00000\n",
      "x:  2.00000, z:  6.99997, z_target:  7.00000, error:  0.00000\n",
      "x:  3.00000, z:  7.99998, z_target:  8.00000, error:  0.00000\n",
      "x:  4.00000, z:  8.99999, z_target:  9.00000, error:  0.00000\n"
     ]
    }
   ],
   "source": [
    "\n",
    "if __name__ == '__main__':\n",
    "    n = Neuron(5.0, -1.0)\n",
    "    d = Data()\n",
    "    for idx in range(d.numTrainData):\n",
    "        input = d.training_input_value[idx]\n",
    "        z = n.z(input)\n",
    "        z_target = d.training_z_target[idx]\n",
    "        error = n.squared_error(input, z_target)\n",
    "        print(\"x: {0:8.5f}, z: {1:8.5f}, z_target: {2:8.5f}, error: {3:8.5f}\".format(input, z, z_target, error))\n",
    "\n",
    "    # 파라미터 설정\n",
    "    alpha = 0.1 # Learning Rate\n",
    "    nEpochs = 100 # 반복 수\n",
    "    n.learning(alpha, nEpochs, d)\n",
    "    \n",
    "    print(\"\\n\")\n",
    "\n",
    "    for idx in range(d.numTrainData):\n",
    "        input = d.training_input_value[idx]\n",
    "        z = n.z(input)\n",
    "        z_target = d.training_z_target[idx]\n",
    "        error = n.squared_error(input, z_target)\n",
    "        print(\"x: {0:8.5f}, z: {1:8.5f}, z_target: {2:8.5f}, error: {3:8.5f}\".format(input, z, z_target, error))\n",
    "        "
   ]
  }
 ],
 "metadata": {
  "anaconda-cloud": {},
  "kernelspec": {
   "display_name": "tfkernel",
   "language": "python",
   "name": "tfkernel"
  },
  "language_info": {
   "codemirror_mode": {
    "name": "ipython",
    "version": 3
   },
   "file_extension": ".py",
   "mimetype": "text/x-python",
   "name": "python",
   "nbconvert_exporter": "python",
   "pygments_lexer": "ipython3",
   "version": "3.5.3"
  }
 },
 "nbformat": 4,
 "nbformat_minor": 0
}
