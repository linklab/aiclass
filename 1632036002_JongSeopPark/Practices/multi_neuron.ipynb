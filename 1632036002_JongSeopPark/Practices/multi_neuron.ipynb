{
 "cells": [
  {
   "cell_type": "markdown",
   "metadata": {
    "deletable": true,
    "editable": true
   },
   "source": [
    "### or_gate_linear_two_neurons.py"
   ]
  },
  {
   "cell_type": "code",
   "execution_count": 15,
   "metadata": {
    "collapsed": false,
    "deletable": true,
    "editable": true
   },
   "outputs": [],
   "source": [
    "from __future__ import print_function\n",
    "import numpy as np\n",
    "import random\n",
    "import math\n",
    "\n",
    "class Neuron1:\n",
    "    def __init__(self):\n",
    "        self.w1 = np.array([random.random(), random.random()])   # weight of one input\n",
    "        self.b1 = random.random()   # bias\n",
    "        print(\"Neuron1 - Initial w1: {0}, b1: {1}\".format(self.w1, self.b1))\n",
    "\n",
    "    def u1(self, input):\n",
    "        return np.dot(self.w1, input) + self.b1\n",
    "\n",
    "    def f(self, u1):\n",
    "        return max(0.0, u1)\n",
    "\n",
    "    def z1(self, input):\n",
    "        u1 = self.u1(input)\n",
    "        return self.f(u1)\n",
    "\n",
    "class Neuron2:\n",
    "    def __init__(self, n1):\n",
    "        self.w2 = random.random()   # weight of one input\n",
    "        self.b2 = random.random()   # bias\n",
    "        self.n1 = n1\n",
    "        print(\"Neuron2 - Initial w2: {0}, b2: {1}\".format(self.w2, self.b2))\n",
    "\n",
    "    def u2(self, input):\n",
    "        z1 = self.n1.z1(input)\n",
    "        return self.w2 * z1 + self.b2\n",
    "\n",
    "    def f(self, u2):\n",
    "        return max(0.0, u2)\n",
    "\n",
    "    def z2(self, input):\n",
    "        u2 = self.u2(input)\n",
    "        return self.f(u2)\n",
    "\n",
    "    def squared_error(self, input, z_target):\n",
    "        return 1.0 / 2.0 * math.pow(self.z2(input) - z_target, 2)\n",
    "\n",
    "    def d_E_over_d_w2(self, input, z_target):\n",
    "        u2 = self.u2(input)\n",
    "        if u2 >= 0.0:\n",
    "            z1 = self.n1.z1(input)\n",
    "            return (self.z2(input) - z_target) * z1\n",
    "        else:\n",
    "            return 0.0\n",
    "\n",
    "    def d_E_over_d_b2(self, input, z_target):\n",
    "        u2 = self.u2(input)\n",
    "        if u2 >= 0.0:\n",
    "            return self.z2(input) - z_target\n",
    "        else:\n",
    "            return 0.0\n",
    "\n",
    "    def d_E_over_d_w1(self, input, z_target):\n",
    "        u2 = self.u2(input)\n",
    "        u1 = self.n1.u1(input)\n",
    "        if u2 >= 0.0 and u1 >= 0.0:\n",
    "            return (self.f(u2) - z_target) * self.w2 * input\n",
    "        else:\n",
    "            return 0.0\n",
    "\n",
    "    def d_E_over_d_b1(self, input, z_target):\n",
    "        u2 = self.u2(input)\n",
    "        u1 = self.n1.u1(input)\n",
    "        if u2 >= 0.0 and u1 >= 0.0:\n",
    "            return (self.f(u2) - z_target) * self.w2\n",
    "        else:\n",
    "            return 0.0\n",
    "\n",
    "    def learning(self, alpha, maxEpoch, data):\n",
    "        for i in range(maxEpoch):\n",
    "            for idx in range(data.numTrainData):\n",
    "                input = data.training_input_value[idx]\n",
    "                z_target = data.training_z_target[idx]\n",
    "\n",
    "                self.n1.w1 = self.n1.w1 - alpha * self.d_E_over_d_w1(input, z_target)\n",
    "                self.n1.b1 = self.n1.b1 - alpha * self.d_E_over_d_b1(input, z_target)\n",
    "                self.w2 = self.w2 - alpha * self.d_E_over_d_w2(input, z_target)\n",
    "                self.b2 = self.b2 - alpha * self.d_E_over_d_b2(input, z_target)\n",
    "\n",
    "            sum = 0.0\n",
    "            for idx in range(data.numTrainData):\n",
    "                sum = sum + self.squared_error(data.training_input_value[idx], data.training_z_target[idx])\n",
    "            #print(\"Epoch {0}: Error: {1}, w1: {2}, b1: {3}, w2: {4}, b2: {5}\".format(i, sum / data.numTrainData, self.n1.w1, self.n1.b1, self.w2, self.b2))\n"
   ]
  },
  {
   "cell_type": "markdown",
   "metadata": {
    "deletable": true,
    "editable": true
   },
   "source": [
    "### main_1"
   ]
  },
  {
   "cell_type": "code",
   "execution_count": 10,
   "metadata": {
    "collapsed": false,
    "deletable": true,
    "editable": true
   },
   "outputs": [
    {
     "name": "stdout",
     "output_type": "stream",
     "text": [
      "Neuron1 - Initial w1: [ 0.34041623  0.5638293 ], b1: 0.8990689094266092\n",
      "Neuron2 - Initial w2: 0.04493674907237144, b2: 0.8998770477281108\n",
      "x: [ 0.  0.], z2: 0.940278281709785, z_target: 0.0\n",
      "x: [ 1.  0.], z2: 0.9555754805122089, z_target: 1.0\n",
      "x: [ 0.  1.], z2: 0.9656149373518614, z_target: 1.0\n",
      "x: [ 1.  1.], z2: 0.9809121361542853, z_target: 1.0\n"
     ]
    }
   ],
   "source": [
    "\n",
    "if __name__ == '__main__':\n",
    "    n1 = Neuron1()\n",
    "    n2 = Neuron2(n1)\n",
    "    d = Data()\n",
    "    for idx in range(d.numTrainData):\n",
    "        input = d.training_input_value[idx]\n",
    "        z2 = n2.z2(input)\n",
    "        z_target = d.training_z_target[idx]\n",
    "        print(\"x: {0}, z2: {1}, z_target: {2}\".format(input, z2, z_target))"
   ]
  },
  {
   "cell_type": "markdown",
   "metadata": {
    "deletable": true,
    "editable": true
   },
   "source": [
    "### or_gate_linear_two_neurons_target.py\n",
    "\n",
    "### main_2"
   ]
  },
  {
   "cell_type": "code",
   "execution_count": 11,
   "metadata": {
    "collapsed": false,
    "deletable": true,
    "editable": true
   },
   "outputs": [
    {
     "name": "stdout",
     "output_type": "stream",
     "text": [
      "Neuron1 - Initial w1: [ 0.11257649  0.0552502 ], b1: 0.6987906584959355\n",
      "Neuron2 - Initial w2: 0.11877381307805046, b2: 0.3948228370368686\n",
      "x: [ 0.  0.], z2: 0.47782086808975266, z_target: 0.0, error: 0.1141563909910224\n",
      "x: [ 1.  0.], z2: 0.4911920066948343, z_target: 1.0, error: 0.12944278702561476\n",
      "x: [ 0.  1.], z2: 0.4843831454049127, z_target: 1.0, error: 0.1329303703712657\n",
      "x: [ 1.  1.], z2: 0.4977542840099944, z_target: 1.0, error: 0.12612537961515666\n"
     ]
    }
   ],
   "source": [
    "if __name__ == '__main__':\n",
    "    n1 = Neuron1()\n",
    "    n2 = Neuron2(n1)\n",
    "    d = Data()\n",
    "    for idx in range(d.numTrainData):\n",
    "        input = d.training_input_value[idx]\n",
    "        z2 = n2.z2(input)\n",
    "        z_target = d.training_z_target[idx]\n",
    "        error = n2.squared_error(input, z_target)\n",
    "        print(\"x: {0}, z2: {1}, z_target: {2}, error: {3}\".format(input, z2, z_target, error))"
   ]
  },
  {
   "cell_type": "markdown",
   "metadata": {
    "deletable": true,
    "editable": true
   },
   "source": [
    "### or_gate_linear_two_neurons_target_learning.py\n"
   ]
  },
  {
   "cell_type": "code",
   "execution_count": 19,
   "metadata": {
    "collapsed": false,
    "deletable": true,
    "editable": true,
    "scrolled": true
   },
   "outputs": [
    {
     "name": "stdout",
     "output_type": "stream",
     "text": [
      "Neuron1 - Initial w1: [ 0.9437007   0.59940624], b1: 0.04081010965298115\n",
      "Neuron2 - Initial w2: 0.6888320134726411, b2: 0.9388543631189507\n",
      "x: [ 0.  0.], z2: 0.9669656731212529, z_target: 0.0, error: 0.4675113064974189\n",
      "x: [ 1.  0.], z2: 1.6170169272272794, z_target: 0.0, error: 1.3073718714697764\n",
      "x: [ 0.  1.], z2: 1.3798558792611946, z_target: 0.0, error: 0.9520011237658422\n",
      "x: [ 1.  1.], z2: 2.0299071333672214, z_target: 1.0, error: 0.5303543516803437\n",
      "\n",
      "x: [ 0.  0.], z2: 0.0, z_target: 0.0, error: 0.0\n",
      "x: [ 1.  0.], z2: 0.0031725718651611223, z_target: 0.0, error: 5.032606119805961e-06\n",
      "x: [ 0.  1.], z2: 0.0032512039694350126, z_target: 0.0, error: 5.285163625434991e-06\n",
      "x: [ 1.  1.], z2: 0.9958423659282667, z_target: 1.0, error: 8.64296053721884e-06\n"
     ]
    }
   ],
   "source": [
    "class Data:\n",
    "    def __init__(self):\n",
    "        self.training_input_value = np.array([(0.0, 0.0), (1.0, 0.0), (0.0, 1.0), (1.0, 1.0)])\n",
    "        self.training_z_target = np.array([0.0, 0.0, 0.0, 1.0]) # AND target\n",
    "        #self.training_z_target = np.array([0.0, 1.0, 1.0, 1.0]) # OR target\n",
    "        #self.training_z_target = np.array([0.0, 1.0, 1.0, 0.0]) # XOR target\n",
    "        self.numTrainData = len(self.training_input_value)\n",
    "\n",
    "if __name__ == '__main__':\n",
    "    n1 = Neuron1()\n",
    "    n2 = Neuron2(n1)\n",
    "    d = Data()\n",
    "    for idx in range(d.numTrainData):\n",
    "        input = d.training_input_value[idx]\n",
    "        z2 = n2.z2(input)\n",
    "        z_target = d.training_z_target[idx]\n",
    "        error = n2.squared_error(input, z_target)\n",
    "        print(\"x: {0}, z2: {1}, z_target: {2}, error: {3}\".format(input, z2, z_target, error))\n",
    "\n",
    "    n2.learning(0.01, 1000, d)\n",
    "    \n",
    "    print()\n",
    "\n",
    "    for idx in range(d.numTrainData):\n",
    "        input = d.training_input_value[idx]\n",
    "        z2 = n2.z2(input)\n",
    "        z_target = d.training_z_target[idx]\n",
    "        error = n2.squared_error(input, z_target)\n",
    "        print(\"x: {0}, z2: {1}, z_target: {2}, error: {3}\".format(input, z2, z_target, error))"
   ]
  },
  {
   "cell_type": "markdown",
   "metadata": {
    "deletable": true,
    "editable": true
   },
   "source": [
    "### or_gate_three_neurons_target_learning.py"
   ]
  },
  {
   "cell_type": "code",
   "execution_count": 3,
   "metadata": {
    "collapsed": false,
    "deletable": true,
    "editable": true
   },
   "outputs": [],
   "source": [
    "from __future__ import print_function\n",
    "import numpy as np\n",
    "import random\n",
    "import math\n",
    "\n",
    "class Neuron1:\n",
    "    def __init__(self):\n",
    "        self.w1 = np.array([random.random(), random.random()])   # weight of one input\n",
    "        self.b1 = random.random()   # bias\n",
    "        print(\"Neuron1 - Initial w1: {0}, b1: {1}\".format(self.w1, self.b1))\n",
    "\n",
    "    def u1(self, input):\n",
    "        return np.dot(self.w1, input) + self.b1\n",
    "\n",
    "    def f(self, u1):\n",
    "        return max(0.0, u1)\n",
    "\n",
    "    def z1(self, input):\n",
    "        u1 = self.u1(input)\n",
    "        return self.f(u1)\n",
    "\n",
    "class Neuron2:\n",
    "    def __init__(self):\n",
    "        self.w2 = np.array([random.random(), random.random()])   # weight of one input\n",
    "        self.b2 = random.random()   # bias\n",
    "        print(\"Neuron2 - Initial w2: {0}, b2: {1}\".format(self.w2, self.b2))\n",
    "\n",
    "    def u2(self, input):\n",
    "        return np.dot(self.w2, input) + self.b2\n",
    "\n",
    "    def f(self, u2):\n",
    "        return max(0.0, u2)\n",
    "\n",
    "    def z2(self, input):\n",
    "        u2 = self.u2(input)\n",
    "        return self.f(u2)\n",
    "\n",
    "class Neuron3:\n",
    "    def __init__(self, n1, n2):\n",
    "        self.w3 = np.array([random.random(), random.random()])   # weight of one input\n",
    "        self.b3 = random.random()   # bias\n",
    "        self.n1 = n1\n",
    "        self.n2 = n2\n",
    "        print(\"Neuron2 - Initial w3: {0}, b3: {1}\".format(self.w3, self.b3))\n",
    "\n",
    "    def u3(self, input):\n",
    "        z1 = self.n1.z1(input)\n",
    "        z2 = self.n2.z2(input)\n",
    "        z = np.array([z1, z2])\n",
    "        return np.dot(self.w3, z) + self.b3\n",
    "\n",
    "    def f(self, u3):\n",
    "        return max(0.0, u3)\n",
    "\n",
    "    def z3(self, input):\n",
    "        u3 = self.u3(input)\n",
    "        return self.f(u3)\n",
    "\n",
    "    def squared_error(self, input, z_target):\n",
    "        return 1.0 / 2.0 * math.pow(self.z3(input) - z_target, 2)\n",
    "\n",
    "    def d_E_over_d_w3(self, input, z_target):\n",
    "        u3 = self.u3(input)\n",
    "        if u3 >= 0.0:\n",
    "            z3 = self.z3(input)\n",
    "            z1 = self.n1.z1(input)\n",
    "            z2 = self.n2.z2(input)\n",
    "            z = np.array([z1, z2])\n",
    "            return (z3 - z_target) * z\n",
    "        else:\n",
    "            return 0.0\n",
    "\n",
    "    def d_E_over_d_b3(self, input, z_target):\n",
    "        u3 = self.u3(input)\n",
    "        if u3 >= 0.0:\n",
    "            z3 = self.z3(input)\n",
    "            return z3 - z_target\n",
    "        else:\n",
    "            return 0.0\n",
    "\n",
    "    def d_E_over_d_w2(self, input, z_target):\n",
    "        u3 = self.u3(input)\n",
    "        u2 = self.n2.u2(input)\n",
    "        if u3 >= 0.0 and u2 >= 0.0:\n",
    "            return (self.f(u3) - z_target) * self.w3[1] * input\n",
    "        else:\n",
    "            return 0.0\n",
    "\n",
    "    def d_E_over_d_b2(self, input, z_target):\n",
    "        u3 = self.u3(input)\n",
    "        u2 = self.n2.u2(input)\n",
    "        if u3 >= 0.0 and u2 >= 0.0:\n",
    "            return (self.f(u3) - z_target) * self.w3[1]\n",
    "        else:\n",
    "            return 0.0\n",
    "\n",
    "    def d_E_over_d_w1(self, input, z_target):\n",
    "        u3 = self.u3(input)\n",
    "        u1 = self.n1.u1(input)\n",
    "        if u3 >= 0.0 and u1 >= 0.0:\n",
    "            return (self.f(u3) - z_target) * self.w3[0] * input\n",
    "        else:\n",
    "            return 0.0\n",
    "\n",
    "    def d_E_over_d_b1(self, input, z_target):\n",
    "        u3 = self.u3(input)\n",
    "        u1 = self.n1.u1(input)\n",
    "        if u3 >= 0.0 and u1 >= 0.0:\n",
    "            return (self.f(u3) - z_target) * self.w3[0]\n",
    "        else:\n",
    "            return 0.0\n",
    "\n",
    "    def learning(self, alpha, maxEpoch, data):\n",
    "        for i in range(maxEpoch):\n",
    "            for idx in range(data.numTrainData):\n",
    "                input = data.training_input_value[idx]\n",
    "                z_target = data.training_z_target[idx]\n",
    "\n",
    "                self.n1.w1 = self.n1.w1 - alpha * self.d_E_over_d_w1(input, z_target)\n",
    "                self.n1.b1 = self.n1.b1 - alpha * self.d_E_over_d_b1(input, z_target)\n",
    "                self.n2.w2 = self.n2.w2 - alpha * self.d_E_over_d_w2(input, z_target)\n",
    "                self.n2.b2 = self.n2.b2 - alpha * self.d_E_over_d_b2(input, z_target)\n",
    "                self.w3 = self.w3 - alpha * self.d_E_over_d_w3(input, z_target)\n",
    "                self.b3 = self.b3 - alpha * self.d_E_over_d_b3(input, z_target)\n",
    "\n",
    "            sum = 0.0\n",
    "            for idx in range(data.numTrainData):\n",
    "                sum = sum + self.squared_error(data.training_input_value[idx], data.training_z_target[idx])\n",
    "            #print(\"Epoch {0}: Error: {1}, w1: {2}, b1: {3}, w2: {4}, b2: {5}, w3: {6}, b3: {7}\".format(i, sum / data.numTrainData, self.n1.w1, self.n1.b1, self.n2.w2, self.n2.b2, self.w3, self.b3))\n"
   ]
  },
  {
   "cell_type": "markdown",
   "metadata": {},
   "source": [
    "### OR-GATE TEST"
   ]
  },
  {
   "cell_type": "code",
   "execution_count": 4,
   "metadata": {
    "collapsed": false,
    "deletable": true,
    "editable": true
   },
   "outputs": [
    {
     "name": "stdout",
     "output_type": "stream",
     "text": [
      "Neuron1 - Initial w1: [ 0.32268505  0.82765639], b1: 0.07512414331489692\n",
      "Neuron2 - Initial w2: [ 0.39992912  0.30483486], b2: 0.31111354528003765\n",
      "Neuron2 - Initial w3: [ 0.16279585  0.41344941], b3: 0.26722926299580885\n",
      "x: [ 0.  0.], z3: 0.4080888751915597, z_target: 0.0, error: 0.08326826502755619\n",
      "x: [ 1.  0.], z3: 0.6259711224992905, z_target: 1.0, error: 0.06994880060222036\n",
      "x: [ 0.  1.], z3: 0.6688616991497447, z_target: 1.0, error: 0.0548262871449971\n",
      "x: [ 1.  1.], z3: 0.8867439464574755, z_target: 1.0, error: 0.006413466832013594\n",
      "\n",
      "x: [ 0.  0.], z3: 0.27486053857520176, z_target: 0.0, error: 0.03777415783292499\n",
      "x: [ 1.  0.], z3: 0.7540049426552062, z_target: 1.0, error: 0.030256784119034187\n",
      "x: [ 0.  1.], z3: 0.7146306642406481, z_target: 1.0, error: 0.04071782889586685\n",
      "x: [ 1.  1.], z3: 1.193775068320653, z_target: 1.0, error: 0.018774388551336858\n"
     ]
    }
   ],
   "source": [
    "class Data:\n",
    "    def __init__(self):\n",
    "        self.training_input_value = np.array([(0.0, 0.0), (1.0, 0.0), (0.0, 1.0), (1.0, 1.0)])\n",
    "        self.training_z_target = np.array([0.0, 1.0, 1.0, 1.0])\n",
    "        self.numTrainData = len(self.training_input_value)\n",
    "\n",
    "if __name__ == '__main__':\n",
    "    n1 = Neuron1()\n",
    "    n2 = Neuron2()\n",
    "    n3 = Neuron3(n1, n2)\n",
    "    d = Data()\n",
    "    for idx in range(d.numTrainData):\n",
    "        input = d.training_input_value[idx]\n",
    "        z3 = n3.z3(input)\n",
    "        z_target = d.training_z_target[idx]\n",
    "        error = n3.squared_error(input, z_target)\n",
    "        print(\"x: {0}, z3: {1}, z_target: {2}, error: {3}\".format(input, z3, z_target, error))\n",
    "\n",
    "    n3.learning(0.05, 1000, d)\n",
    "    \n",
    "    print()\n",
    "\n",
    "    for idx in range(d.numTrainData):\n",
    "        input = d.training_input_value[idx]\n",
    "        z3 = n3.z3(input)\n",
    "        z_target = d.training_z_target[idx]\n",
    "        error = n3.squared_error(input, z_target)\n",
    "        print(\"x: {0}, z3: {1}, z_target: {2}, error: {3}\".format(input, z3, z_target, error))"
   ]
  },
  {
   "cell_type": "markdown",
   "metadata": {},
   "source": [
    "### XOR-GATE TEST"
   ]
  },
  {
   "cell_type": "code",
   "execution_count": 14,
   "metadata": {
    "collapsed": false
   },
   "outputs": [
    {
     "name": "stdout",
     "output_type": "stream",
     "text": [
      "Neuron1 - Initial w1: [ 0.67304229  0.9735231 ], b1: 0.10348236280695178\n",
      "Neuron2 - Initial w2: [ 0.13119163  0.20335142], b2: 0.6453374098779896\n",
      "Neuron2 - Initial w3: [ 0.88268362  0.15535631], b3: 0.5878637508747094\n",
      "x: [ 0.  0.], z3: 0.7794632, z_target: 0.0000000, error: 0.3037814\n",
      "x: [ 1.  0.], z3: 1.3939280, z_target: 1.0000000, error: 0.0775896\n",
      "x: [ 0.  1.], z3: 1.6703680, z_target: 1.0000000, error: 0.2246966\n",
      "x: [ 1.  1.], z3: 2.2848328, z_target: 0.0000000, error: 2.6102306\n",
      "\n",
      "x: [ 0.  0.], z3: 0.0092494, z_target: 0.0000000, error: 0.0000428\n",
      "x: [ 1.  0.], z3: 0.9770241, z_target: 1.0000000, error: 0.0002639\n",
      "x: [ 0.  1.], z3: 0.9868157, z_target: 1.0000000, error: 0.0000869\n",
      "x: [ 1.  1.], z3: 0.0092479, z_target: 0.0000000, error: 0.0000428\n"
     ]
    }
   ],
   "source": [
    "class Data:\n",
    "    def __init__(self):\n",
    "        self.training_input_value = np.array([(0.0, 0.0), (1.0, 0.0), (0.0, 1.0), (1.0, 1.0)])\n",
    "        self.training_z_target = np.array([0.0, 1.0, 1.0, 0.0])\n",
    "        self.numTrainData = len(self.training_input_value)\n",
    "\n",
    "if __name__ == '__main__':\n",
    "    n1 = Neuron1()\n",
    "    n2 = Neuron2()\n",
    "    n3 = Neuron3(n1, n2)\n",
    "    d = Data()\n",
    "    for idx in range(d.numTrainData):\n",
    "        input = d.training_input_value[idx]\n",
    "        z3 = n3.z3(input)\n",
    "        z_target = d.training_z_target[idx]\n",
    "        error = n3.squared_error(input, z_target)\n",
    "        print(\"x: {0}, z3: {1:9.7f}, z_target: {2:9.7f}, error: {3:9.7f}\".format(input, z3, z_target, error))\n",
    "\n",
    "    n3.learning(0.05, 1000, d)\n",
    "    \n",
    "    print()\n",
    "\n",
    "    for idx in range(d.numTrainData):\n",
    "        input = d.training_input_value[idx]\n",
    "        z3 = n3.z3(input)\n",
    "        z_target = d.training_z_target[idx]\n",
    "        error = n3.squared_error(input, z_target)\n",
    "        print(\"x: {0}, z3: {1:9.7f}, z_target: {2:9.7f}, error: {3:9.7f}\".format(input, z3, z_target, error))"
   ]
  },
  {
   "cell_type": "code",
   "execution_count": null,
   "metadata": {
    "collapsed": true
   },
   "outputs": [],
   "source": []
  }
 ],
 "metadata": {
  "kernelspec": {
   "display_name": "tfkernel",
   "language": "python",
   "name": "tfkernel"
  },
  "language_info": {
   "codemirror_mode": {
    "name": "ipython",
    "version": 3
   },
   "file_extension": ".py",
   "mimetype": "text/x-python",
   "name": "python",
   "nbconvert_exporter": "python",
   "pygments_lexer": "ipython3",
   "version": "3.5.3"
  }
 },
 "nbformat": 4,
 "nbformat_minor": 2
}
