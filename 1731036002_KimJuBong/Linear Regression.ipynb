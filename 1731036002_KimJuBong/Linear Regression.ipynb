{
 "cells": [
  {
   "cell_type": "code",
   "execution_count": 1,
   "metadata": {
    "collapsed": false
   },
   "outputs": [
    {
     "name": "stdout",
     "output_type": "stream",
     "text": [
      "(<type 'numpy.ndarray'>, (2, 100))\n",
      "(<type 'numpy.ndarray'>, (100,))\n"
     ]
    }
   ],
   "source": [
    "import tensorflow as tf\n",
    "import numpy as np\n",
    "\n",
    "# Numpy 랜덤으로 100개의 가짜 데이터 채우기.\n",
    "x = np.float32(np.random.rand(2, 100))\n",
    "\n",
    "# 학습 레이블(목표값)은 아래의 식으로 산출. (W = [0.1, 0.2], b = 0.3)\n",
    "y_target = np.dot([0.100, 0.200], x) + 0.300\n",
    "\n",
    "print(type(x), x.shape)\n",
    "#print(x)\n",
    "print(type(y_target), y_target.shape)\n",
    "#print(y_target)"
   ]
  },
  {
   "cell_type": "code",
   "execution_count": 2,
   "metadata": {
    "collapsed": false
   },
   "outputs": [
    {
     "name": "stdout",
     "output_type": "stream",
     "text": [
      "(1,)\n",
      "(1, 2)\n",
      "(1, 100)\n"
     ]
    }
   ],
   "source": [
    "# b는 0 으로 초기화\n",
    "b = tf.Variable(tf.zeros([1]))\n",
    "\n",
    "# W는 1x2 형태의 가중치 변수, 역시 0으로 초기화\n",
    "W = tf.Variable(tf.zeros([1, 2]))\n",
    "\n",
    "# 모델 생성 --> Tenforflow Graph 완성\n",
    "y = tf.matmul(W, x) + b\n",
    "\n",
    "print(b.get_shape())\n",
    "print(W.get_shape())\n",
    "print(y.get_shape())"
   ]
  },
  {
   "cell_type": "code",
   "execution_count": 3,
   "metadata": {
    "collapsed": true
   },
   "outputs": [],
   "source": [
    "# 손실 함수 정의\n",
    "loss = tf.reduce_mean(tf.square(y - y_target))\n",
    "\n",
    "# 경사하강법으로 Backpropagation 적용 (0.0005는 learning rate) --> W와 b 변수 변경\n",
    "optimizer = tf.train.GradientDescentOptimizer(0.0005)\n",
    "\n",
    "# optimizer의 학습 목표 정의\n",
    "train = optimizer.minimize(loss)"
   ]
  },
  {
   "cell_type": "code",
   "execution_count": 4,
   "metadata": {
    "collapsed": false
   },
   "outputs": [
    {
     "name": "stdout",
     "output_type": "stream",
     "text": [
      "step: 0, loss: 0.204122081399, w: [[ 0.00021827  0.00024202]], b: [ 0.00044835]\n",
      "step: 10000, loss: 5.23014823557e-05, w: [[ 0.1174817   0.18629307]], b: [ 0.29855156]\n",
      "step: 20000, loss: 6.31542980045e-06, w: [[ 0.10652203  0.19578707]], b: [ 0.29897758]\n",
      "step: 30000, loss: 8.02407441824e-07, w: [[ 0.10258974  0.198893  ]], b: [ 0.29929161]\n",
      "step: 40000, loss: 1.14067240986e-07, w: [[ 0.10108374  0.19980536]], b: [ 0.29956788]\n",
      "step: 50000, loss: 2.10700097369e-08, w: [[ 0.10049638  0.20005167]], b: [ 0.29972306]\n",
      "step: 60000, loss: 6.30365315502e-09, w: [[ 0.1002675   0.20008717]], b: [ 0.29981399]\n",
      "step: 70000, loss: 2.95758417757e-09, w: [[ 0.10017272  0.20008717]], b: [ 0.29985905]\n",
      "step: 80000, loss: 2.2062942584e-09, w: [[ 0.10014182  0.20008717]], b: [ 0.29987374]\n",
      "step: 90000, loss: 2.2062942584e-09, w: [[ 0.10014182  0.20008717]], b: [ 0.29987374]\n",
      "step: 100000, loss: 2.2062942584e-09, w: [[ 0.10014182  0.20008717]], b: [ 0.29987374]\n",
      "\n",
      "sample_x: [[0.5606873], [0.44035059]], sample_y: [[ 0.44413048]], sample_y_target: 0.444138848782\n",
      "sample_x: [[0.690476], [0.83588076]], sample_y: [[ 0.53626829]], sample_y_target: 0.536223751307\n",
      "sample_x: [[0.13316837], [0.99300528]], sample_y: [[ 0.51189709]], sample_y_target: 0.511917892098\n",
      "\n",
      "new_x: [[1.5], [1.5]], y_value: [[ 0.7502172]]\n"
     ]
    }
   ],
   "source": [
    "# 세션 시작\n",
    "with tf.Session() as sess:\n",
    "    # 모든 변수를 초기화.\n",
    "    init = tf.global_variables_initializer()\n",
    "    sess.run(init)\n",
    "\n",
    "    # 100000번 학습.\n",
    "    for step in xrange(0, 100001):\n",
    "        sess.run(train)\n",
    "        if step % 10000 == 0:\n",
    "            loss_value = sess.run(loss)\n",
    "            w_value = sess.run(W)\n",
    "            b_value = sess.run(b)\n",
    "            print(\"step: {0}, loss: {1}, w: {2}, b: {3}\".format(step, loss_value, w_value, b_value))\n",
    "    \n",
    "    print\n",
    "    \n",
    "    # 학습된 모델을 활용한 값과 실제 값 비교\n",
    "    sample_x = [[x[0][0]], [x[1][0]]] # 0번째 데이터\n",
    "    sample_y = sess.run(tf.matmul(W, sample_x) + b)\n",
    "    sample_y_target = y_target[0]\n",
    "    print(\"sample_x: {0}, sample_y: {1}, sample_y_target: {2}\".format(sample_x, sample_y, sample_y_target))\n",
    "    \n",
    "    sample_x = [[x[0][1]], [x[1][1]]] # 1번째 데이터\n",
    "    sample_y = sess.run(tf.matmul(W, sample_x) + b)\n",
    "    sample_y_target = y_target[1]\n",
    "    print(\"sample_x: {0}, sample_y: {1}, sample_y_target: {2}\".format(sample_x, sample_y, sample_y_target))\n",
    "    \n",
    "    sample_x = [[x[0][2]], [x[1][2]]] # 2번째 데이터\n",
    "    sample_y = sess.run(tf.matmul(W, sample_x) + b)\n",
    "    sample_y_target = y_target[2]\n",
    "    print(\"sample_x: {0}, sample_y: {1}, sample_y_target: {2}\".format(sample_x, sample_y, sample_y_target))\n",
    "    \n",
    "    print\n",
    "    \n",
    "    # 학습된 모델을 활용한 새로운 데이터 값에 대한 y 값 예측\n",
    "    new_x = [[1.5], [1.5]]\n",
    "    y_value = sess.run(tf.matmul(W, new_x) + b)\n",
    "    print(\"new_x: {0}, y_value: {1}\".format(new_x, y_value))"
   ]
  },
  {
   "cell_type": "code",
   "execution_count": null,
   "metadata": {
    "collapsed": true
   },
   "outputs": [],
   "source": []
  }
 ],
 "metadata": {
  "kernelspec": {
   "display_name": "Tensorflow",
   "language": "python",
   "name": "tfkernel"
  },
  "language_info": {
   "codemirror_mode": {
    "name": "ipython",
    "version": 2
   },
   "file_extension": ".py",
   "mimetype": "text/x-python",
   "name": "python",
   "nbconvert_exporter": "python",
   "pygments_lexer": "ipython2",
   "version": "2.7.13"
  }
 },
 "nbformat": 4,
 "nbformat_minor": 2
}
