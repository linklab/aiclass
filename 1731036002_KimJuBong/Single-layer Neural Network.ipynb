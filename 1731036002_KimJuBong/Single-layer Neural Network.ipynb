{
 "cells": [
  {
   "cell_type": "code",
   "execution_count": 1,
   "metadata": {
    "collapsed": false
   },
   "outputs": [
    {
     "name": "stdout",
     "output_type": "stream",
     "text": [
      "1.0.0\n"
     ]
    }
   ],
   "source": [
    "import numpy as np\n",
    "import matplotlib.pyplot as plt\n",
    "from tensorflow.examples.tutorials.mnist import input_data\n",
    "import math\n",
    "import tensorflow as tf\n",
    "print(tf.__version__)\n",
    "\n",
    "%matplotlib inline"
   ]
  },
  {
   "cell_type": "code",
   "execution_count": 2,
   "metadata": {
    "collapsed": false
   },
   "outputs": [
    {
     "name": "stdout",
     "output_type": "stream",
     "text": [
      "Successfully downloaded train-images-idx3-ubyte.gz 9912422 bytes.\n",
      "Extracting MNIST_data/train-images-idx3-ubyte.gz\n",
      "Successfully downloaded train-labels-idx1-ubyte.gz 28881 bytes.\n",
      "Extracting MNIST_data/train-labels-idx1-ubyte.gz\n",
      "Successfully downloaded t10k-images-idx3-ubyte.gz 1648877 bytes.\n",
      "Extracting MNIST_data/t10k-images-idx3-ubyte.gz\n",
      "Successfully downloaded t10k-labels-idx1-ubyte.gz 4542 bytes.\n",
      "Extracting MNIST_data/t10k-labels-idx1-ubyte.gz\n"
     ]
    }
   ],
   "source": [
    "mnist = input_data.read_data_sets(\"MNIST_data/\", one_hot=True)"
   ]
  },
  {
   "cell_type": "code",
   "execution_count": 3,
   "metadata": {
    "collapsed": false
   },
   "outputs": [
    {
     "name": "stdout",
     "output_type": "stream",
     "text": [
      "(<type 'numpy.ndarray'>, (55000, 784))\n",
      "(<type 'numpy.ndarray'>, (55000, 10))\n"
     ]
    }
   ],
   "source": [
    "print(type(mnist.train.images), mnist.train.images.shape)\n",
    "print(type(mnist.train.labels), mnist.train.labels.shape)"
   ]
  },
  {
   "cell_type": "code",
   "execution_count": 4,
   "metadata": {
    "collapsed": false
   },
   "outputs": [
    {
     "data": {
      "image/png": "[encoded data removed]",
      "text/plain": [
       "<matplotlib.figure.Figure at 0x119955c90>"
      ]
     },
     "metadata": {},
     "output_type": "display_data"
    }
   ],
   "source": [
    "fig = plt.figure(figsize=(20, 5))\n",
    "for i in range(5):\n",
    "    img = np.array(mnist.train.images[i])\n",
    "    img.shape = (28, 28)\n",
    "    plt.subplot(150 + (i+1))\n",
    "    plt.imshow(img, cmap='gray')"
   ]
  },
  {
   "cell_type": "code",
   "execution_count": 5,
   "metadata": {
    "collapsed": false
   },
   "outputs": [
    {
     "name": "stdout",
     "output_type": "stream",
     "text": [
      "(<type 'numpy.ndarray'>, (5000, 784))\n",
      "(<type 'numpy.ndarray'>, (5000, 10))\n"
     ]
    }
   ],
   "source": [
    "print(type(mnist.validation.images), mnist.validation.images.shape)\n",
    "print(type(mnist.validation.labels), mnist.validation.labels.shape)"
   ]
  },
  {
   "cell_type": "code",
   "execution_count": 6,
   "metadata": {
    "collapsed": false
   },
   "outputs": [
    {
     "name": "stdout",
     "output_type": "stream",
     "text": [
      "(<type 'numpy.ndarray'>, (10000, 784))\n",
      "(<type 'numpy.ndarray'>, (10000, 10))\n"
     ]
    }
   ],
   "source": [
    "print(type(mnist.test.images), mnist.test.images.shape)\n",
    "print(type(mnist.test.labels), mnist.test.labels.shape)"
   ]
  },
  {
   "cell_type": "code",
   "execution_count": 7,
   "metadata": {
    "collapsed": false
   },
   "outputs": [
    {
     "name": "stdout",
     "output_type": "stream",
     "text": [
      "((2, 3), (1, 2), (1, 3))\n",
      "[[ 9 12 15]]\n",
      "()\n",
      "((3,), (1, 3))\n",
      "[[19 32 45]]\n"
     ]
    }
   ],
   "source": [
    "W_ = np.array([[1, 2, 3], [4, 5, 6]])  #shape of W: (2, 3)\n",
    "x_ = np.array([[1, 2]])                #shape of x: (1, 2)\n",
    "xW_ = np.dot(x_, W_)                     #shape of xW: (1, 3)\n",
    "print(W_.shape, x_.shape, xW_.shape)\n",
    "print(xW_)\n",
    "\n",
    "print()\n",
    "\n",
    "b_ = np.array([10, 20, 30])            #shape of b: (3,)\n",
    "u_ = xW_ + b_                            #shape of u: (1, 3) \n",
    "print(b_.shape, u_.shape)\n",
    "print(u_)"
   ]
  },
  {
   "cell_type": "code",
   "execution_count": 8,
   "metadata": {
    "collapsed": false
   },
   "outputs": [
    {
     "name": "stdout",
     "output_type": "stream",
     "text": [
      "(100, 784)\n",
      "\n",
      "(100, 10)\n"
     ]
    }
   ],
   "source": [
    "batch_images, batch_labels = mnist.train.next_batch(100)\n",
    "print(batch_images.shape)\n",
    "#print batch_images\n",
    "print\n",
    "\n",
    "print(batch_labels.shape)\n",
    "#print batch_labels"
   ]
  },
  {
   "cell_type": "code",
   "execution_count": 9,
   "metadata": {
    "collapsed": false
   },
   "outputs": [
    {
     "name": "stdout",
     "output_type": "stream",
     "text": [
      "((2, 3), (5, 2), (5, 3))\n",
      "[[ 9 12 15]\n",
      " [ 9 12 15]\n",
      " [ 9 12 15]\n",
      " [ 9 12 15]\n",
      " [ 9 12 15]]\n",
      "()\n",
      "((3,), (5, 3))\n",
      "[[19 32 45]\n",
      " [19 32 45]\n",
      " [19 32 45]\n",
      " [19 32 45]\n",
      " [19 32 45]]\n"
     ]
    }
   ],
   "source": [
    "W_ = np.array([[1, 2, 3], [4, 5, 6]])                    #shape of W: (2, 3)\n",
    "x_ = np.array([[1, 2], [1, 2], [1, 2], [1, 2], [1, 2]])  #shape of x: (5, 2)\n",
    "xW_ = np.dot(x_, W_)                                       #shape of xW: (5, 3)\n",
    "print(W_.shape, x_.shape, xW_.shape)\n",
    "print(xW_)\n",
    "\n",
    "print()\n",
    "\n",
    "b_ = np.array([10, 20, 30])            #shape of b: (3,)\n",
    "u_ = xW_ + b_                            #shape of u: (1, 3) \n",
    "print(b_.shape, u_.shape)\n",
    "print(u_)"
   ]
  },
  {
   "cell_type": "code",
   "execution_count": 10,
   "metadata": {
    "collapsed": false
   },
   "outputs": [
    {
     "name": "stdout",
     "output_type": "stream",
     "text": [
      "('x -', TensorShape([Dimension(None), Dimension(784)]))\n"
     ]
    }
   ],
   "source": [
    "x = tf.placeholder(tf.float32, [None, 784])\n",
    "print(\"x -\", x.get_shape())"
   ]
  },
  {
   "cell_type": "code",
   "execution_count": 11,
   "metadata": {
    "collapsed": true
   },
   "outputs": [],
   "source": [
    "y_target = tf.placeholder(tf.float32, [None, 10])"
   ]
  },
  {
   "cell_type": "code",
   "execution_count": 12,
   "metadata": {
    "collapsed": false
   },
   "outputs": [
    {
     "name": "stdout",
     "output_type": "stream",
     "text": [
      "('W -', TensorShape([Dimension(784), Dimension(10)]))\n",
      "('b -', TensorShape([Dimension(10)]))\n"
     ]
    }
   ],
   "source": [
    "W = tf.Variable(tf.zeros([784, 10]))\n",
    "b = tf.Variable(tf.zeros([10]))\n",
    "print(\"W -\", W.get_shape())\n",
    "print(\"b -\", b.get_shape())"
   ]
  },
  {
   "cell_type": "code",
   "execution_count": 13,
   "metadata": {
    "collapsed": false
   },
   "outputs": [
    {
     "name": "stdout",
     "output_type": "stream",
     "text": [
      "('u -', TensorShape([Dimension(None), Dimension(10)]))\n"
     ]
    }
   ],
   "source": [
    "u = tf.matmul(x, W) + b\n",
    "print(\"u -\", u.get_shape())"
   ]
  },
  {
   "cell_type": "code",
   "execution_count": 14,
   "metadata": {
    "collapsed": true
   },
   "outputs": [],
   "source": [
    "learning_rate = 0.05\n",
    "error = tf.reduce_mean(tf.nn.softmax_cross_entropy_with_logits(logits=u, labels=y_target))\n",
    "optimizer = tf.train.GradientDescentOptimizer(0.05).minimize(error)"
   ]
  },
  {
   "cell_type": "code",
   "execution_count": 15,
   "metadata": {
    "collapsed": false
   },
   "outputs": [
    {
     "name": "stdout",
     "output_type": "stream",
     "text": [
      "Total batch: 550\n",
      "Epoch:  0, Train Error: 2.30271, Validation Error: 2.30257, Test Accuracy: 0.09800\n",
      "Epoch:  1, Train Error: 0.45271, Validation Error: 0.43114, Test Accuracy: 0.88960\n",
      "Epoch:  2, Train Error: 0.38855, Validation Error: 0.36682, Test Accuracy: 0.90180\n",
      "Epoch:  3, Train Error: 0.36037, Validation Error: 0.33954, Test Accuracy: 0.90810\n",
      "Epoch:  4, Train Error: 0.34387, Validation Error: 0.32491, Test Accuracy: 0.91210\n",
      "Epoch:  5, Train Error: 0.33241, Validation Error: 0.31397, Test Accuracy: 0.91300\n",
      "Epoch:  6, Train Error: 0.32468, Validation Error: 0.30752, Test Accuracy: 0.91400\n",
      "Epoch:  7, Train Error: 0.31827, Validation Error: 0.30083, Test Accuracy: 0.91690\n",
      "Epoch:  8, Train Error: 0.31255, Validation Error: 0.29692, Test Accuracy: 0.91810\n",
      "Epoch:  9, Train Error: 0.30793, Validation Error: 0.29230, Test Accuracy: 0.91740\n",
      "Epoch: 10, Train Error: 0.30397, Validation Error: 0.28992, Test Accuracy: 0.91880\n",
      "Epoch: 11, Train Error: 0.30131, Validation Error: 0.28746, Test Accuracy: 0.91990\n",
      "Epoch: 12, Train Error: 0.29773, Validation Error: 0.28436, Test Accuracy: 0.91950\n",
      "Epoch: 13, Train Error: 0.29541, Validation Error: 0.28271, Test Accuracy: 0.92030\n",
      "Epoch: 14, Train Error: 0.29335, Validation Error: 0.28120, Test Accuracy: 0.91960\n",
      "Epoch: 15, Train Error: 0.29138, Validation Error: 0.27971, Test Accuracy: 0.92000\n",
      "Epoch: 16, Train Error: 0.28926, Validation Error: 0.27815, Test Accuracy: 0.92150\n",
      "Epoch: 17, Train Error: 0.28733, Validation Error: 0.27635, Test Accuracy: 0.92020\n",
      "Epoch: 18, Train Error: 0.28612, Validation Error: 0.27549, Test Accuracy: 0.92250\n",
      "Epoch: 19, Train Error: 0.28448, Validation Error: 0.27436, Test Accuracy: 0.92200\n",
      "Epoch: 20, Train Error: 0.28325, Validation Error: 0.27397, Test Accuracy: 0.92050\n",
      "Epoch: 21, Train Error: 0.28201, Validation Error: 0.27306, Test Accuracy: 0.92280\n",
      "Epoch: 22, Train Error: 0.28079, Validation Error: 0.27230, Test Accuracy: 0.92300\n",
      "Epoch: 23, Train Error: 0.27937, Validation Error: 0.27107, Test Accuracy: 0.92140\n",
      "Epoch: 24, Train Error: 0.27827, Validation Error: 0.27067, Test Accuracy: 0.92340\n",
      "Epoch: 25, Train Error: 0.27726, Validation Error: 0.26993, Test Accuracy: 0.92300\n",
      "Epoch: 26, Train Error: 0.27662, Validation Error: 0.26887, Test Accuracy: 0.92160\n",
      "Epoch: 27, Train Error: 0.27568, Validation Error: 0.26872, Test Accuracy: 0.92250\n",
      "Epoch: 28, Train Error: 0.27488, Validation Error: 0.26819, Test Accuracy: 0.92300\n",
      "Epoch: 29, Train Error: 0.27422, Validation Error: 0.26853, Test Accuracy: 0.92250\n"
     ]
    },
    {
     "data": {
      "image/png": "[encoded data removed]",
      "text/plain": [
       "<matplotlib.figure.Figure at 0x11a6d2610>"
      ]
     },
     "metadata": {},
     "output_type": "display_data"
    },
    {
     "name": "stdout",
     "output_type": "stream",
     "text": [
      "[7 2 1 ..., 4 5 6]\n",
      "[7 2 1 ..., 4 5 6]\n",
      "('Number of False Prediction:', 789)\n",
      "False Prediction Index: 8, Prediction: 6, Ground Truth: 5\n",
      "False Prediction Index: 33, Prediction: 6, Ground Truth: 4\n",
      "False Prediction Index: 63, Prediction: 2, Ground Truth: 3\n",
      "False Prediction Index: 66, Prediction: 7, Ground Truth: 6\n",
      "False Prediction Index: 77, Prediction: 7, Ground Truth: 2\n"
     ]
    },
    {
     "data": {
      "image/png": "[encoded data removed]",
      "text/plain": [
       "<matplotlib.figure.Figure at 0x11a7b2950>"
      ]
     },
     "metadata": {},
     "output_type": "display_data"
    }
   ],
   "source": [
    "prediction_and_ground_truth = tf.equal(tf.argmax(u, 1), tf.argmax(y_target, 1))\n",
    "accuracy = tf.reduce_mean(tf.cast(prediction_and_ground_truth, tf.float32))\n",
    "\n",
    "def draw_error_values_and_accuracy(epoch_list, train_error_list, validation_error_list, test_accuracy_list):\n",
    "    # Draw Error Values and Accuracy\n",
    "    fig = plt.figure(figsize=(20, 5))\n",
    "    plt.subplot(121)\n",
    "    plt.plot(epoch_list[1:], train_error_list[1:], 'r', label='Train')\n",
    "    plt.plot(epoch_list[1:], validation_error_list[1:], 'g', label='Validation')\n",
    "    plt.ylabel('Total Error')\n",
    "    plt.xlabel('Epochs')\n",
    "    plt.grid(True)\n",
    "    plt.legend(loc='upper right')\n",
    "\n",
    "    plt.subplot(122)\n",
    "    plt.plot(epoch_list[1:], test_accuracy_list[1:], 'b', label='Test')\n",
    "    plt.ylabel('Accuracy')\n",
    "    plt.xlabel('Epochs')\n",
    "    plt.yticks(np.arange(0.0, 1.0, 0.05))\n",
    "    plt.grid(True)\n",
    "    plt.legend(loc='lower right')\n",
    "    plt.show()\n",
    "    \n",
    "def draw_false_prediction(diff_index_list):\n",
    "    fig = plt.figure(figsize=(20, 5))\n",
    "    for i in range(5):\n",
    "        j = diff_index_list[i]\n",
    "        print(\"False Prediction Index: %s, Prediction: %s, Ground Truth: %s\" % (j, prediction[j], ground_truth[j]))\n",
    "        img = np.array(mnist.test.images[j])\n",
    "        img.shape = (28, 28)\n",
    "        plt.subplot(150 + (i+1))\n",
    "        plt.imshow(img, cmap='gray')\n",
    "    \n",
    "with tf.Session() as sess:\n",
    "    init = tf.global_variables_initializer()\n",
    "    sess.run(init)\n",
    "    \n",
    "    batch_size = 100\n",
    "    total_batch = int(math.ceil(mnist.train.num_examples/float(batch_size)))\n",
    "    print(\"Total batch: %d\" % total_batch)    \n",
    "\n",
    "    training_epochs = 30\n",
    "    epoch_list = []\n",
    "    train_error_list = []\n",
    "    validation_error_list = []\n",
    "    test_accuracy_list = []\n",
    "    for epoch in range(training_epochs):\n",
    "        epoch_list.append(epoch)\n",
    "        # Train Error Value\n",
    "        train_error_value = sess.run(error, feed_dict={x: mnist.train.images, y_target: mnist.train.labels})\n",
    "        train_error_list.append(train_error_value)\n",
    "        \n",
    "        validation_error_value = sess.run(error, feed_dict={x: mnist.validation.images, y_target: mnist.validation.labels})\n",
    "        validation_error_list.append(validation_error_value)\n",
    "        \n",
    "        test_accuracy_value = sess.run(accuracy, feed_dict={x: mnist.test.images, y_target: mnist.test.labels})\n",
    "        test_accuracy_list.append(test_accuracy_value) \n",
    "        print(\"Epoch: {0:2d}, Train Error: {1:0.5f}, Validation Error: {2:0.5f}, Test Accuracy: {3:0.5f}\".format(epoch, train_error_value, validation_error_value, test_accuracy_value))\n",
    "        \n",
    "        for i in range(total_batch):\n",
    "            batch_images, batch_labels = mnist.train.next_batch(batch_size)\n",
    "            sess.run(optimizer, feed_dict={x: batch_images, y_target: batch_labels})\n",
    "    \n",
    "\n",
    "    # Draw Graph about Error Values & Accuracy Values\n",
    "    draw_error_values_and_accuracy(epoch_list, train_error_list, validation_error_list, test_accuracy_list)\n",
    "    \n",
    "    # False Prediction Profile\n",
    "    prediction = sess.run(tf.argmax(u, 1), feed_dict={x:mnist.test.images})\n",
    "    ground_truth = sess.run(tf.argmax(y_target, 1), feed_dict={y_target:mnist.test.labels})\n",
    "\n",
    "    print(prediction)\n",
    "    print(ground_truth)\n",
    "\n",
    "    diff_index_list = []\n",
    "    for i in range(mnist.test.num_examples):\n",
    "        if (prediction[i] != ground_truth[i]):\n",
    "            diff_index_list.append(i)\n",
    "            \n",
    "    print(\"Number of False Prediction:\", len(diff_index_list))\n",
    "    draw_false_prediction(diff_index_list)"
   ]
  },
  {
   "cell_type": "code",
   "execution_count": null,
   "metadata": {
    "collapsed": true
   },
   "outputs": [],
   "source": []
  }
 ],
 "metadata": {
  "kernelspec": {
   "display_name": "Tensorflow",
   "language": "python",
   "name": "tfkernel"
  },
  "language_info": {
   "codemirror_mode": {
    "name": "ipython",
    "version": 2
   },
   "file_extension": ".py",
   "mimetype": "text/x-python",
   "name": "python",
   "nbconvert_exporter": "python",
   "pygments_lexer": "ipython2",
   "version": "2.7.13"
  }
 },
 "nbformat": 4,
 "nbformat_minor": 2
}
