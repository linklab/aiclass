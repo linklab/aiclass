{
 "cells": [
  {
   "cell_type": "code",
   "execution_count": 1,
   "metadata": {
    "collapsed": true
   },
   "outputs": [],
   "source": [
    "import tensorflow as tf"
   ]
  },
  {
   "cell_type": "code",
   "execution_count": 1,
   "metadata": {
    "collapsed": false
   },
   "outputs": [
    {
     "name": "stdout",
     "output_type": "stream",
     "text": [
      "Initial w: 5.0, b: -1.0\n",
      "x: 1.0, z: 4.0, z_target: 6.0, error: 2.0\n",
      "x: 2.0, z: 9.0, z_target: 7.0, error: 2.0\n",
      "x: 3.0, z: 14.0, z_target: 8.0, error: 18.0\n",
      "Epoch 0: Error: 3.00803380903, w: 3.16084, b: -1.025572\n",
      "Epoch 1: Error: 2.80693023816, w: 2.95922139544, b: -0.666249461752\n",
      "Epoch 2: Error: 2.47437554196, w: 2.83412303801, b: -0.313262652899\n",
      "Epoch 3: Error: 2.17538508246, w: 2.71951785839, b: 0.0183661324621\n",
      "Epoch 4: Error: 1.91229315544, w: 2.61217914296, b: 0.329322736505\n",
      "Epoch 5: Error: 1.6810106192, w: 2.51154533434, b: 0.620870354537\n",
      "Epoch 6: Error: 1.47770022212, w: 2.41719337284, b: 0.894219370867\n",
      "Epoch 7: Error: 1.29897925566, w: 2.32873094982, b: 1.15050570987\n",
      "Epoch 8: Error: 1.14187375799, w: 2.24579042728, b: 1.39079443644\n",
      "Epoch 9: Error: 1.00376943933, w: 2.16802712312, b: 1.61608413515\n",
      "Epoch 10: Error: 0.882368195505, w: 2.09511787092, b: 1.82731105815\n",
      "Epoch 11: Error: 0.775649867324, w: 2.02675967662, b: 2.02535301592\n",
      "Epoch 12: Error: 0.681838624448, w: 1.96266845928, b: 2.21103302528\n",
      "Epoch 13: Error: 0.599373414957, w: 1.90257787056, b: 2.38512272961\n",
      "Epoch 14: Error: 0.526881988899, w: 1.84623818778, b: 2.54834560568\n",
      "Epoch 15: Error: 0.463158063569, w: 1.7934152762, b: 2.7013799702\n",
      "Epoch 16: Error: 0.407141250543, w: 1.74388961595, b: 2.84486179878\n",
      "Epoch 17: Error: 0.357899410444, w: 1.69745538977, b: 2.97938736888\n",
      "Epoch 18: Error: 0.314613141816, w: 1.65391962771, b: 3.10551573781\n",
      "Epoch 19: Error: 0.276562145996, w: 1.61310140517, b: 3.22377106606\n",
      "Epoch 20: Error: 0.243113241096, w: 1.57483109099, b: 3.33464479556\n",
      "Epoch 21: Error: 0.213709825627, w: 1.53894964256, b: 3.43859769202\n",
      "Epoch 22: Error: 0.187862616466, w: 1.50530794484, b: 3.53606175976\n",
      "Epoch 23: Error: 0.165141507002, w: 1.47376619066, b: 3.62744203702\n",
      "Epoch 24: Error: 0.145168410023, w: 1.44419329977, b: 3.7131182792\n",
      "Epoch 25: Error: 0.127610966201, w: 1.41646637402, b: 3.79344653705\n",
      "Epoch 26: Error: 0.112177013527, w: 1.39047018669, b: 3.86876063634\n",
      "Epoch 27: Error: 0.0986097256253, w: 1.36609670362, b: 3.93937356512\n",
      "Epoch 28: Error: 0.0866833380756, w: 1.34324463421, b: 4.00557877448\n",
      "Epoch 29: Error: 0.0761993916146, w: 1.32181901052, b: 4.06765139803\n",
      "Epoch 30: Error: 0.0669834297033, w: 1.30173079259, b: 4.12584939533\n",
      "Epoch 31: Error: 0.0588820955095, w: 1.2828964984, b: 4.18041462385\n",
      "Epoch 32: Error: 0.0517605799963, w: 1.26523785697, b: 4.23157384413\n",
      "Epoch 33: Error: 0.0455003786529, w: 1.24868148305, b: 4.27953966212\n",
      "Epoch 34: Error: 0.0399973195375, w: 1.23315857215, b: 4.32451141271\n",
      "Epoch 35: Error: 0.03515982982, w: 1.21860461462, b: 4.36667598817\n",
      "Epoch 36: Error: 0.0309074119783, w: 1.20495912757, b: 4.40620861475\n",
      "Epoch 37: Error: 0.0271693042909, w: 1.1921654035, b: 4.44327358097\n",
      "Epoch 38: Error: 0.0238833033374, w: 1.18017027463, b: 4.47802492029\n",
      "Epoch 39: Error: 0.0209947289117, w: 1.16892389196, b: 4.51060705128\n",
      "Epoch 40: Error: 0.0184555141242, w: 1.15837951813, b: 4.54115537778\n",
      "Epoch 41: Error: 0.0162234055519, w: 1.14849333312, b: 4.56979685161\n",
      "Epoch 42: Error: 0.014261260127, w: 1.13922425224, b: 4.59665050014\n",
      "Epoch 43: Error: 0.0125364270627, w: 1.13053375532, b: 4.62182792096\n",
      "Epoch 44: Error: 0.011020204533, w: 1.12238572665, b: 4.64543374564\n",
      "Epoch 45: Error: 0.00968736206434, w: 1.1147463049, b: 4.66756607454\n",
      "Epoch 46: Error: 0.00851572069143, w: 1.10758374239, b: 4.68831688454\n",
      "Epoch 47: Error: 0.00748578389172, w: 1.10086827316, b: 4.70777241123\n",
      "Epoch 48: Error: 0.00658041315633, w: 1.09457198926, b: 4.72601350731\n",
      "Epoch 49: Error: 0.0057845427993, w: 1.08866872479, b: 4.74311597856\n",
      "Epoch 50: Error: 0.00508492925931, w: 1.08313394714, b: 4.75915089892\n",
      "Epoch 51: Error: 0.00446993072215, w: 1.07794465504, b: 4.77418490584\n",
      "Epoch 52: Error: 0.00392931339689, w: 1.073079283, b: 4.78828047719\n",
      "Epoch 53: Error: 0.00345408122198, w: 1.06851761164, b: 4.80149619091\n",
      "Epoch 54: Error: 0.0030363261677, w: 1.06424068371, b: 4.81388696848\n",
      "Epoch 55: Error: 0.0026690966437, w: 1.06023072528, b: 4.82550430312\n",
      "Epoch 56: Error: 0.00234628182215, w: 1.05647107188, b: 4.83639647379\n",
      "Epoch 57: Error: 0.00206250995143, w: 1.05294609927, b: 4.84660874585\n",
      "Epoch 58: Error: 0.00181305896828, w: 1.04964115846, b: 4.85618355915\n",
      "Epoch 59: Error: 0.00159377792101, w: 1.04654251489, b: 4.86516070441\n",
      "Epoch 60: Error: 0.00140101789624, w: 1.04363729129, b: 4.87357748859\n",
      "Epoch 61: Error: 0.00123157129968, w: 1.04091341424, b: 4.88146888989\n",
      "Epoch 62: Error: 0.00108261848066, w: 1.03835956393, b: 4.88886770318\n",
      "Epoch 63: Error: 0.000951680812116, w: 1.03596512713, b: 4.89580467622\n",
      "Epoch 64: Error: 0.000836579445421, w: 1.03372015313, b: 4.90230863746\n",
      "Epoch 65: Error: 0.000735399053538, w: 1.03161531233, b: 4.90840661588\n",
      "Epoch 66: Error: 0.000646455959329, w: 1.02964185749, b: 4.91412395327\n",
      "Epoch 67: Error: 0.000568270118573, w: 1.02779158739, b: 4.91948440956\n",
      "Epoch 68: Error: 0.00049954049151, w: 1.02605681273, b: 4.9245102616\n",
      "Epoch 69: Error: 0.000439123393087, w: 1.02443032419, b: 4.92922239564\n",
      "Epoch 70: Error: 0.000386013461639, w: 1.02290536245, b: 4.93364039425\n",
      "Epoch 71: Error: 0.000339326929314, w: 1.02147559013, b: 4.93778261761\n",
      "Epoch 72: Error: 0.000298286915874, w: 1.02013506543, b: 4.94166627984\n",
      "Epoch 73: Error: 0.000262210501127, w: 1.01887821742, b: 4.94530752055\n",
      "Epoch 74: Error: 0.000230497360905, w: 1.01769982294, b: 4.94872147191\n",
      "Epoch 75: Error: 0.000202619777452, w: 1.01659498485, b: 4.9519223215\n",
      "Epoch 76: Error: 0.000178113858023, w: 1.0155591117, b: 4.95492337132\n",
      "Epoch 77: Error: 0.000156571815539, w: 1.01458789864, b: 4.95773709304\n",
      "Epoch 78: Error: 0.000137635182873, w: 1.01367730953, b: 4.96037517984\n",
      "Epoch 79: Error: 0.000120988847828, w: 1.01282356016, b: 4.96284859501\n",
      "Epoch 80: Error: 0.000106355809563, w: 1.01202310257, b: 4.96516761749\n",
      "Epoch 81: Error: 9.34925691983e-05, w: 1.01127261022, b: 4.96734188461\n",
      "Epoch 82: Error: 8.21850779118e-05, w: 1.01056896425, b: 4.96938043211\n",
      "Epoch 83: Error: 7.22451750902e-05, w: 1.00990924046, b: 4.97129173173\n",
      "Epoch 84: Error: 6.35074572712e-05, w: 1.00929069719, b: 4.97308372639\n",
      "Epoch 85: Error: 5.58265257717e-05, w: 1.00871076393, b: 4.97476386321\n",
      "Epoch 86: Error: 4.90745672028e-05, w: 1.00816703059, b: 4.97633912446\n",
      "Epoch 87: Error: 4.31392266106e-05, w: 1.00765723756, b: 4.97781605655\n",
      "Epoch 88: Error: 3.79217378498e-05, w: 1.00717926624, b: 4.97920079728\n",
      "Epoch 89: Error: 3.33352800812e-05, w: 1.0067311303, b: 4.98049910131\n",
      "Epoch 90: Error: 2.9303533042e-05, w: 1.00631096739, b: 4.98171636408\n",
      "Epoch 91: Error: 2.57594070502e-05, w: 1.0059170314, b: 4.98285764428\n",
      "Epoch 92: Error: 2.26439266086e-05, w: 1.00554768524, b: 4.98392768479\n",
      "Epoch 93: Error: 1.99052490323e-05, w: 1.00520139398, b: 4.98493093245\n",
      "Epoch 94: Error: 1.74978017675e-05, w: 1.00487671852, b: 4.98587155654\n",
      "Epoch 95: Error: 1.53815240493e-05, w: 1.00457230958, b: 4.98675346606\n",
      "Epoch 96: Error: 1.35212002754e-05, w: 1.0042869021, b: 4.98758032604\n",
      "Epoch 97: Error: 1.18858740071e-05, w: 1.00401931001, b: 4.98835557272\n",
      "Epoch 98: Error: 1.04483328429e-05, w: 1.00376842124, b: 4.98908242783\n",
      "Epoch 99: Error: 9.18465559463e-06, w: 1.00353319316, b: 4.98976391202\n",
      "x: 1.0, z: 5.99329710518, z_target: 6.0, error: 2.24643994565e-05\n",
      "x: 2.0, z: 6.99683029835, z_target: 7.0, error: 5.02350428973e-06\n",
      "x: 3.0, z: 8.00036349151, z_target: 8.0, error: 6.60630376868e-08\n"
     ]
    }
   ],
   "source": [
    "from __future__ import print_function\n",
    "import math\n",
    "\n",
    "class Neuron:\n",
    "    def __init__(self, init_w = 0.0, init_b = 0.0):\n",
    "        self.w = init_w   # weight of one input\n",
    "        self.b = init_b   # bias\n",
    "        print(\"Initial w: {0}, b: {1}\".format(self.w, self.b))\n",
    "\n",
    "    def u(self, input):\n",
    "        return self.w * input + self.b\n",
    "\n",
    "    def f(self, u):\n",
    "        return max(0.0, u)\n",
    "\n",
    "    def z(self, input):\n",
    "        u = self.u(input)\n",
    "        return self.f(u)\n",
    "\n",
    "    def squared_error(self, input, z_target):\n",
    "        return 1.0 / 2.0 * math.pow(self.z(input) - z_target, 2)\n",
    "\n",
    "    def f_derivative(self, u):\n",
    "        if u >= 0:\n",
    "            return 1\n",
    "        else:\n",
    "            return 0\n",
    "\n",
    "    # def numerical_f_derivative(self, u):\n",
    "    #     delta = 0.00000001\n",
    "    #     return (self.f(u + delta) - self.f(u)) / delta\n",
    "\n",
    "    def d_E_over_d_w(self, input, z_target):\n",
    "        u = self.u(input)\n",
    "        z = self.f(u)\n",
    "        error = z - z_target\n",
    "        return error * self.f_derivative(u) * input\n",
    "\n",
    "    def d_E_over_d_b(self, input, z_target):\n",
    "        u = self.u(input)\n",
    "        z = self.f(u)\n",
    "        error = z - z_target\n",
    "        return error * self.f_derivative(u)\n",
    "\n",
    "    def learning(self, alpha, maxEpoch, data):\n",
    "        for i in xrange(maxEpoch):\n",
    "            for idx in xrange(data.numTrainData):\n",
    "                input = data.training_input_value[idx]\n",
    "                z_target = data.training_z_target[idx]\n",
    "\n",
    "                self.w = self.w - alpha * self.d_E_over_d_w(input, z_target)\n",
    "                self.b = self.b - alpha * self.d_E_over_d_b(input, z_target)\n",
    "\n",
    "            sum = 0.0\n",
    "            for idx in xrange(data.numTrainData):\n",
    "                sum = sum + self.squared_error(data.training_input_value[idx], data.training_z_target[idx])\n",
    "            print(\"Epoch {0}: Error: {1}, w: {2}, b: {3}\".format(i, sum / data.numTrainData, self.w, self.b))\n",
    "\n",
    "class Data:\n",
    "    def __init__(self):\n",
    "        self.training_input_value = [1.0, 2.0, 3.0]\n",
    "        self.training_z_target = [6.0, 7.0, 8.0]\n",
    "        self.numTrainData = len(self.training_input_value)\n",
    "\n",
    "if __name__ == '__main__':\n",
    "    n = Neuron(5.0, -1.0)\n",
    "    d = Data()\n",
    "    for idx in xrange(d.numTrainData):\n",
    "        input = d.training_input_value[idx]\n",
    "        z = n.z(input)\n",
    "        z_target = d.training_z_target[idx]\n",
    "        error = n.squared_error(input, z_target)\n",
    "        print(\"x: {0}, z: {1}, z_target: {2}, error: {3}\".format(input, z, z_target, error))\n",
    "\n",
    "    n.learning(0.1, 100, d)\n",
    "\n",
    "    for idx in xrange(d.numTrainData):\n",
    "        input = d.training_input_value[idx]\n",
    "        z = n.z(input)\n",
    "        z_target = d.training_z_target[idx]\n",
    "        error = n.squared_error(input, z_target)\n",
    "        print(\"x: {0}, z: {1}, z_target: {2}, error: {3}\".format(input, z, z_target, error))\n"
   ]
  },
  {
   "cell_type": "code",
   "execution_count": 27,
   "metadata": {
    "collapsed": false
   },
   "outputs": [
    {
     "name": "stdout",
     "output_type": "stream",
     "text": [
      "0\n"
     ]
    }
   ],
   "source": [
    "x = 0\n",
    "def a():\n",
    "    global x\n",
    "    x += 1\n",
    "    return x\n",
    "print x"
   ]
  },
  {
   "cell_type": "code",
   "execution_count": 28,
   "metadata": {
    "collapsed": false
   },
   "outputs": [
    {
     "data": {
      "text/plain": [
       "1"
      ]
     },
     "execution_count": 28,
     "metadata": {},
     "output_type": "execute_result"
    }
   ],
   "source": [
    "a()"
   ]
  },
  {
   "cell_type": "code",
   "execution_count": 29,
   "metadata": {
    "collapsed": false
   },
   "outputs": [
    {
     "name": "stdout",
     "output_type": "stream",
     "text": [
      "1\n"
     ]
    }
   ],
   "source": [
    "print x"
   ]
  },
  {
   "cell_type": "code",
   "execution_count": 30,
   "metadata": {
    "collapsed": false
   },
   "outputs": [
    {
     "data": {
      "text/plain": [
       "2"
      ]
     },
     "execution_count": 30,
     "metadata": {},
     "output_type": "execute_result"
    }
   ],
   "source": [
    "a()"
   ]
  },
  {
   "cell_type": "code",
   "execution_count": 23,
   "metadata": {
    "collapsed": true
   },
   "outputs": [],
   "source": [
    "def b():\n",
    "    global c\n",
    "    c += 1\n",
    "    return c"
   ]
  },
  {
   "cell_type": "code",
   "execution_count": 26,
   "metadata": {
    "collapsed": false
   },
   "outputs": [
    {
     "ename": "NameError",
     "evalue": "global name 'c' is not defined",
     "output_type": "error",
     "traceback": [
      "\u001b[0;31m---------------------------------------------------------------------------\u001b[0m",
      "\u001b[0;31mNameError\u001b[0m                                 Traceback (most recent call last)",
      "\u001b[0;32m<ipython-input-26-9c619ddbd09b>\u001b[0m in \u001b[0;36m<module>\u001b[0;34m()\u001b[0m\n\u001b[0;32m----> 1\u001b[0;31m \u001b[0mb\u001b[0m\u001b[0;34m(\u001b[0m\u001b[0;34m)\u001b[0m\u001b[0;34m\u001b[0m\u001b[0m\n\u001b[0m",
      "\u001b[0;32m<ipython-input-23-f4a94f68d463>\u001b[0m in \u001b[0;36mb\u001b[0;34m()\u001b[0m\n\u001b[1;32m      1\u001b[0m \u001b[0;32mdef\u001b[0m \u001b[0mb\u001b[0m\u001b[0;34m(\u001b[0m\u001b[0;34m)\u001b[0m\u001b[0;34m:\u001b[0m\u001b[0;34m\u001b[0m\u001b[0m\n\u001b[1;32m      2\u001b[0m     \u001b[0;32mglobal\u001b[0m \u001b[0mc\u001b[0m\u001b[0;34m\u001b[0m\u001b[0m\n\u001b[0;32m----> 3\u001b[0;31m     \u001b[0mc\u001b[0m \u001b[0;34m+=\u001b[0m \u001b[0;36m1\u001b[0m\u001b[0;34m\u001b[0m\u001b[0m\n\u001b[0m\u001b[1;32m      4\u001b[0m     \u001b[0;32mreturn\u001b[0m \u001b[0mc\u001b[0m\u001b[0;34m\u001b[0m\u001b[0m\n",
      "\u001b[0;31mNameError\u001b[0m: global name 'c' is not defined"
     ]
    }
   ],
   "source": [
    "b()"
   ]
  },
  {
   "cell_type": "code",
   "execution_count": 20,
   "metadata": {
    "collapsed": false
   },
   "outputs": [
    {
     "name": "stdout",
     "output_type": "stream",
     "text": [
      "<function b at 0x10da00320>\n"
     ]
    }
   ],
   "source": [
    "print b"
   ]
  },
  {
   "cell_type": "code",
   "execution_count": 17,
   "metadata": {
    "collapsed": false
   },
   "outputs": [
    {
     "ename": "TypeError",
     "evalue": "unsupported operand type(s) for +=: 'function' and 'int'",
     "output_type": "error",
     "traceback": [
      "\u001b[0;31m---------------------------------------------------------------------------\u001b[0m",
      "\u001b[0;31mTypeError\u001b[0m                                 Traceback (most recent call last)",
      "\u001b[0;32m<ipython-input-17-9c619ddbd09b>\u001b[0m in \u001b[0;36m<module>\u001b[0;34m()\u001b[0m\n\u001b[0;32m----> 1\u001b[0;31m \u001b[0mb\u001b[0m\u001b[0;34m(\u001b[0m\u001b[0;34m)\u001b[0m\u001b[0;34m\u001b[0m\u001b[0m\n\u001b[0m",
      "\u001b[0;32m<ipython-input-14-90635a762d25>\u001b[0m in \u001b[0;36mb\u001b[0;34m()\u001b[0m\n\u001b[1;32m      1\u001b[0m \u001b[0;32mdef\u001b[0m \u001b[0mb\u001b[0m\u001b[0;34m(\u001b[0m\u001b[0;34m)\u001b[0m\u001b[0;34m:\u001b[0m\u001b[0;34m\u001b[0m\u001b[0m\n\u001b[1;32m      2\u001b[0m     \u001b[0;32mglobal\u001b[0m \u001b[0mb\u001b[0m\u001b[0;34m\u001b[0m\u001b[0m\n\u001b[0;32m----> 3\u001b[0;31m     \u001b[0mb\u001b[0m \u001b[0;34m+=\u001b[0m \u001b[0;36m1\u001b[0m\u001b[0;34m\u001b[0m\u001b[0m\n\u001b[0m\u001b[1;32m      4\u001b[0m     \u001b[0;32mreturn\u001b[0m \u001b[0mb\u001b[0m\u001b[0;34m\u001b[0m\u001b[0m\n",
      "\u001b[0;31mTypeError\u001b[0m: unsupported operand type(s) for +=: 'function' and 'int'"
     ]
    }
   ],
   "source": [
    "b()"
   ]
  },
  {
   "cell_type": "code",
   "execution_count": 13,
   "metadata": {
    "collapsed": false
   },
   "outputs": [
    {
     "ename": "TypeError",
     "evalue": "'int' object is not callable",
     "output_type": "error",
     "traceback": [
      "\u001b[0;31m---------------------------------------------------------------------------\u001b[0m",
      "\u001b[0;31mTypeError\u001b[0m                                 Traceback (most recent call last)",
      "\u001b[0;32m<ipython-input-13-8104896e3ced>\u001b[0m in \u001b[0;36m<module>\u001b[0;34m()\u001b[0m\n\u001b[0;32m----> 1\u001b[0;31m \u001b[0;32mprint\u001b[0m \u001b[0mb\u001b[0m\u001b[0;34m(\u001b[0m\u001b[0;34m)\u001b[0m\u001b[0;34m\u001b[0m\u001b[0m\n\u001b[0m",
      "\u001b[0;31mTypeError\u001b[0m: 'int' object is not callable"
     ]
    }
   ],
   "source": [
    "print b()"
   ]
  },
  {
   "cell_type": "code",
   "execution_count": null,
   "metadata": {
    "collapsed": true
   },
   "outputs": [],
   "source": []
  }
 ],
 "metadata": {
  "kernelspec": {
   "display_name": "Tensorflow",
   "language": "python",
   "name": "tfkernel"
  },
  "language_info": {
   "codemirror_mode": {
    "name": "ipython",
    "version": 2
   },
   "file_extension": ".py",
   "mimetype": "text/x-python",
   "name": "python",
   "nbconvert_exporter": "python",
   "pygments_lexer": "ipython2",
   "version": "2.7.13"
  }
 },
 "nbformat": 4,
 "nbformat_minor": 2
}
