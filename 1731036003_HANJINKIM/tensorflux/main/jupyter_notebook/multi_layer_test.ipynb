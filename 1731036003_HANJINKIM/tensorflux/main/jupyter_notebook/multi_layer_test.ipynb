{
 "cells": [
  {
   "cell_type": "code",
   "execution_count": 9,
   "metadata": {
    "collapsed": true,
    "scrolled": true
   },
   "outputs": [],
   "source": [
    "import sys\n",
    "sys.path.insert(0, \"/home/ubuntu/aiclass/1731036003_HANJINKIM/\")\n",
    "\n",
    "import tensorflux.graph as tfg\n",
    "import tensorflux.deep_learning_networks as tfn\n",
    "import tensorflux.enums as tfe\n",
    "import datasource.mnist as mnist\n",
    "import tensorflux.functions as tff\n",
    "import math\n",
    "from timeit import default_timer as timer\n",
    "%matplotlib inline\n",
    "# pip install pygraphviz"
   ]
  },
  {
   "cell_type": "code",
   "execution_count": 10,
   "metadata": {
    "collapsed": true
   },
   "outputs": [],
   "source": [
    "input_size = 784\n",
    "hidden_layer1_size = 128\n",
    "hidden_layer2_size = 128\n",
    "output_size = 10\n",
    "\n",
    "x = tfg.Placeholder(name=\"x\")\n",
    "target = tfg.Placeholder(name=\"target\")\n",
    "\n",
    "n = tfn.Multi_Layer_Network(\n",
    "    input_size=input_size,\n",
    "    hidden_size_list=[hidden_layer1_size, hidden_layer2_size],\n",
    "    output_size=output_size,\n",
    "    input_node=x,\n",
    "    target_node=target,\n",
    "    init_mean=0.0,\n",
    "    init_sd=0.01,\n",
    "    activator=tfe.Activator.ReLU.value,\n",
    "    optimizer=tfe.Optimizer.SGD.value,\n",
    "    learning_rate=0.01\n",
    ")"
   ]
  },
  {
   "cell_type": "code",
   "execution_count": 11,
   "metadata": {
    "collapsed": true
   },
   "outputs": [],
   "source": [
    "#n.draw_and_show(figsize=(20, 10))"
   ]
  },
  {
   "cell_type": "code",
   "execution_count": 12,
   "metadata": {
    "collapsed": true,
    "scrolled": false
   },
   "outputs": [],
   "source": [
    "#data = mnist.MNIST_Data()\n",
    "data = mnist.MNIST_Data()"
   ]
  },
  {
   "cell_type": "code",
   "execution_count": 13,
   "metadata": {
    "scrolled": false
   },
   "outputs": [
    {
     "name": "stdout",
     "output_type": "stream",
     "text": [
      "Initial Accuracy 0.1015\n",
      "Epoch   0 Completed - Train Error: 2.319949 - Validation Error: 2.313531 - Test Accuracy: 0.101500\n",
      "Epoch   1 Completed - Train Error: 0.424003 - Validation Error: 0.405478 - Test Accuracy: 0.879300\n",
      "Epoch   2 Completed - Train Error: 0.287941 - Validation Error: 0.269438 - Test Accuracy: 0.919000\n",
      "Epoch   3 Completed - Train Error: 0.230712 - Validation Error: 0.216039 - Test Accuracy: 0.933800\n",
      "Epoch   4 Completed - Train Error: 0.168661 - Validation Error: 0.184542 - Test Accuracy: 0.942500\n",
      "Epoch   5 Completed - Train Error: 0.148807 - Validation Error: 0.162662 - Test Accuracy: 0.949900\n",
      "Epoch   6 Completed - Train Error: 0.157379 - Validation Error: 0.146448 - Test Accuracy: 0.954000\n",
      "Epoch   7 Completed - Train Error: 0.109438 - Validation Error: 0.134082 - Test Accuracy: 0.957300\n",
      "Epoch   8 Completed - Train Error: 0.110408 - Validation Error: 0.124217 - Test Accuracy: 0.960100\n",
      "Epoch   9 Completed - Train Error: 0.120460 - Validation Error: 0.116300 - Test Accuracy: 0.962000\n",
      "Epoch  10 Completed - Train Error: 0.115027 - Validation Error: 0.109884 - Test Accuracy: 0.963900\n",
      "Epoch  11 Completed - Train Error: 0.105887 - Validation Error: 0.104460 - Test Accuracy: 0.965500\n",
      "Epoch  12 Completed - Train Error: 0.086056 - Validation Error: 0.099934 - Test Accuracy: 0.966800\n",
      "Epoch  13 Completed - Train Error: 0.080097 - Validation Error: 0.096002 - Test Accuracy: 0.968100\n",
      "Epoch  14 Completed - Train Error: 0.056440 - Validation Error: 0.092769 - Test Accuracy: 0.969000\n",
      "Epoch  15 Completed - Train Error: 0.060726 - Validation Error: 0.090178 - Test Accuracy: 0.969700\n",
      "Epoch  16 Completed - Train Error: 0.079066 - Validation Error: 0.087873 - Test Accuracy: 0.970100\n",
      "Epoch  17 Completed - Train Error: 0.087861 - Validation Error: 0.085841 - Test Accuracy: 0.970800\n",
      "Epoch  18 Completed - Train Error: 0.074950 - Validation Error: 0.083968 - Test Accuracy: 0.971200\n",
      "Epoch  19 Completed - Train Error: 0.055713 - Validation Error: 0.082495 - Test Accuracy: 0.971400\n",
      "Epoch  20 Completed - Train Error: 0.059742 - Validation Error: 0.081162 - Test Accuracy: 0.971900\n",
      "Epoch  21 Completed - Train Error: 0.051242 - Validation Error: 0.080036 - Test Accuracy: 0.973000\n",
      "Epoch  22 Completed - Train Error: 0.055565 - Validation Error: 0.079199 - Test Accuracy: 0.973200\n",
      "Epoch  23 Completed - Train Error: 0.039746 - Validation Error: 0.078511 - Test Accuracy: 0.973200\n",
      "Epoch  24 Completed - Train Error: 0.037666 - Validation Error: 0.077737 - Test Accuracy: 0.973300\n",
      "Epoch  25 Completed - Train Error: 0.035127 - Validation Error: 0.077104 - Test Accuracy: 0.973400\n",
      "Epoch  26 Completed - Train Error: 0.026683 - Validation Error: 0.076675 - Test Accuracy: 0.973600\n",
      "Epoch  27 Completed - Train Error: 0.031624 - Validation Error: 0.076196 - Test Accuracy: 0.973800\n",
      "Epoch  28 Completed - Train Error: 0.028336 - Validation Error: 0.075707 - Test Accuracy: 0.974300\n",
      "Epoch  29 Completed - Train Error: 0.036790 - Validation Error: 0.075459 - Test Accuracy: 0.974700\n",
      "Epoch  30 Completed - Train Error: 0.021967 - Validation Error: 0.075255 - Test Accuracy: 0.974600\n",
      "Epoch  31 Completed - Train Error: 0.030159 - Validation Error: 0.075025 - Test Accuracy: 0.975000\n",
      "Epoch  32 Completed - Train Error: 0.030156 - Validation Error: 0.074973 - Test Accuracy: 0.974700\n",
      "Epoch  33 Completed - Train Error: 0.024801 - Validation Error: 0.074795 - Test Accuracy: 0.975000\n",
      "Epoch  34 Completed - Train Error: 0.042543 - Validation Error: 0.074999 - Test Accuracy: 0.975000\n",
      "Epoch  35 Completed - Train Error: 0.029067 - Validation Error: 0.075153 - Test Accuracy: 0.975100\n",
      "Epoch  36 Completed - Train Error: 0.019928 - Validation Error: 0.075257 - Test Accuracy: 0.975400\n",
      "Epoch  37 Completed - Train Error: 0.015888 - Validation Error: 0.075422 - Test Accuracy: 0.975800\n",
      "Epoch  38 Completed - Train Error: 0.014842 - Validation Error: 0.075582 - Test Accuracy: 0.975700\n",
      "Epoch  39 Completed - Train Error: 0.015079 - Validation Error: 0.075895 - Test Accuracy: 0.975800\n",
      "Epoch  40 Completed - Train Error: 0.027180 - Validation Error: 0.076184 - Test Accuracy: 0.975900\n",
      "Epoch  41 Completed - Train Error: 0.022499 - Validation Error: 0.076390 - Test Accuracy: 0.976000\n",
      "Epoch  42 Completed - Train Error: 0.015507 - Validation Error: 0.076717 - Test Accuracy: 0.975600\n",
      "Epoch  43 Completed - Train Error: 0.011963 - Validation Error: 0.076944 - Test Accuracy: 0.975600\n",
      "Epoch  44 Completed - Train Error: 0.021421 - Validation Error: 0.077366 - Test Accuracy: 0.975800\n",
      "Epoch  45 Completed - Train Error: 0.016301 - Validation Error: 0.077703 - Test Accuracy: 0.975800\n",
      "Epoch  46 Completed - Train Error: 0.011253 - Validation Error: 0.078040 - Test Accuracy: 0.975900\n",
      "Epoch  47 Completed - Train Error: 0.009427 - Validation Error: 0.078388 - Test Accuracy: 0.976300\n",
      "Epoch  48 Completed - Train Error: 0.022849 - Validation Error: 0.078763 - Test Accuracy: 0.976300\n",
      "Epoch  49 Completed - Train Error: 0.013426 - Validation Error: 0.079057 - Test Accuracy: 0.976300\n",
      "Epoch  50 Completed - Train Error: 0.008998 - Validation Error: 0.079570 - Test Accuracy: 0.976400\n",
      "Epoch  51 Completed - Train Error: 0.007025 - Validation Error: 0.079757 - Test Accuracy: 0.976500\n",
      "Epoch  52 Completed - Train Error: 0.021167 - Validation Error: 0.080268 - Test Accuracy: 0.976300\n",
      "Epoch  53 Completed - Train Error: 0.011608 - Validation Error: 0.080674 - Test Accuracy: 0.976600\n",
      "Epoch  54 Completed - Train Error: 0.011089 - Validation Error: 0.080966 - Test Accuracy: 0.976400\n",
      "Epoch  55 Completed - Train Error: 0.009511 - Validation Error: 0.081312 - Test Accuracy: 0.976400\n",
      "Epoch  56 Completed - Train Error: 0.011315 - Validation Error: 0.081867 - Test Accuracy: 0.976500\n",
      "Epoch  57 Completed - Train Error: 0.009370 - Validation Error: 0.082062 - Test Accuracy: 0.976500\n",
      "Epoch  58 Completed - Train Error: 0.005692 - Validation Error: 0.082584 - Test Accuracy: 0.976200\n",
      "Epoch  59 Completed - Train Error: 0.009231 - Validation Error: 0.082799 - Test Accuracy: 0.976300\n",
      "Epoch  60 Completed - Train Error: 0.007913 - Validation Error: 0.083303 - Test Accuracy: 0.976200\n",
      "Epoch  61 Completed - Train Error: 0.007796 - Validation Error: 0.083534 - Test Accuracy: 0.976000\n",
      "Epoch  62 Completed - Train Error: 0.006700 - Validation Error: 0.084017 - Test Accuracy: 0.976100\n",
      "Epoch  63 Completed - Train Error: 0.005945 - Validation Error: 0.084132 - Test Accuracy: 0.976000\n",
      "Epoch  64 Completed - Train Error: 0.006541 - Validation Error: 0.084650 - Test Accuracy: 0.975800\n",
      "Epoch  65 Completed - Train Error: 0.008306 - Validation Error: 0.084847 - Test Accuracy: 0.975900\n",
      "Epoch  66 Completed - Train Error: 0.005645 - Validation Error: 0.085195 - Test Accuracy: 0.976100\n",
      "Epoch  67 Completed - Train Error: 0.005237 - Validation Error: 0.085532 - Test Accuracy: 0.975900\n",
      "Epoch  68 Completed - Train Error: 0.003909 - Validation Error: 0.085759 - Test Accuracy: 0.976000\n",
      "Epoch  69 Completed - Train Error: 0.005626 - Validation Error: 0.086118 - Test Accuracy: 0.976200\n",
      "Epoch  70 Completed - Train Error: 0.006515 - Validation Error: 0.086510 - Test Accuracy: 0.976400\n",
      "Epoch  71 Completed - Train Error: 0.007804 - Validation Error: 0.086616 - Test Accuracy: 0.976700\n",
      "Epoch  72 Completed - Train Error: 0.004706 - Validation Error: 0.087032 - Test Accuracy: 0.976600\n",
      "Epoch  73 Completed - Train Error: 0.005237 - Validation Error: 0.087098 - Test Accuracy: 0.976700\n",
      "Epoch  74 Completed - Train Error: 0.005075 - Validation Error: 0.087398 - Test Accuracy: 0.976700\n",
      "Epoch  75 Completed - Train Error: 0.003612 - Validation Error: 0.087725 - Test Accuracy: 0.976600\n",
      "Epoch  76 Completed - Train Error: 0.004142 - Validation Error: 0.088073 - Test Accuracy: 0.976700\n",
      "Epoch  77 Completed - Train Error: 0.006660 - Validation Error: 0.088177 - Test Accuracy: 0.976600\n",
      "Epoch  78 Completed - Train Error: 0.003919 - Validation Error: 0.088481 - Test Accuracy: 0.976600\n",
      "Epoch  79 Completed - Train Error: 0.004341 - Validation Error: 0.088855 - Test Accuracy: 0.976700\n",
      "Epoch  80 Completed - Train Error: 0.005360 - Validation Error: 0.089022 - Test Accuracy: 0.976900\n",
      "Epoch  81 Completed - Train Error: 0.004547 - Validation Error: 0.089190 - Test Accuracy: 0.976800\n",
      "Epoch  82 Completed - Train Error: 0.005781 - Validation Error: 0.089604 - Test Accuracy: 0.976900\n"
     ]
    },
    {
     "name": "stdout",
     "output_type": "stream",
     "text": [
      "Epoch  83 Completed - Train Error: 0.002687 - Validation Error: 0.089711 - Test Accuracy: 0.977000\n",
      "Epoch  84 Completed - Train Error: 0.006275 - Validation Error: 0.089981 - Test Accuracy: 0.976800\n",
      "Epoch  85 Completed - Train Error: 0.003597 - Validation Error: 0.090241 - Test Accuracy: 0.976900\n",
      "Epoch  86 Completed - Train Error: 0.003570 - Validation Error: 0.090544 - Test Accuracy: 0.976900\n",
      "Epoch  87 Completed - Train Error: 0.003114 - Validation Error: 0.090604 - Test Accuracy: 0.976700\n",
      "Epoch  88 Completed - Train Error: 0.002965 - Validation Error: 0.090884 - Test Accuracy: 0.976800\n",
      "Epoch  89 Completed - Train Error: 0.004058 - Validation Error: 0.091244 - Test Accuracy: 0.976800\n",
      "Epoch  90 Completed - Train Error: 0.002133 - Validation Error: 0.091265 - Test Accuracy: 0.976600\n",
      "Epoch  91 Completed - Train Error: 0.003305 - Validation Error: 0.091447 - Test Accuracy: 0.976600\n",
      "Epoch  92 Completed - Train Error: 0.002526 - Validation Error: 0.091723 - Test Accuracy: 0.976500\n",
      "Epoch  93 Completed - Train Error: 0.002125 - Validation Error: 0.091910 - Test Accuracy: 0.976500\n",
      "Epoch  94 Completed - Train Error: 0.003580 - Validation Error: 0.092105 - Test Accuracy: 0.976400\n",
      "Epoch  95 Completed - Train Error: 0.003522 - Validation Error: 0.092274 - Test Accuracy: 0.976500\n",
      "Epoch  96 Completed - Train Error: 0.001398 - Validation Error: 0.092411 - Test Accuracy: 0.976500\n",
      "Epoch  97 Completed - Train Error: 0.001847 - Validation Error: 0.092589 - Test Accuracy: 0.976500\n",
      "Epoch  98 Completed - Train Error: 0.002226 - Validation Error: 0.092829 - Test Accuracy: 0.976400\n",
      "Epoch  99 Completed - Train Error: 0.002588 - Validation Error: 0.092987 - Test Accuracy: 0.976700\n",
      "Epoch 100 Completed - Train Error: 0.001905 - Validation Error: 0.093209 - Test Accuracy: 0.976700\n",
      "97.63247941600002\n"
     ]
    },
    {
     "ename": "TypeError",
     "evalue": "unsupported operand type(s) for *: 'NoneType' and 'int'",
     "output_type": "error",
     "traceback": [
      "\u001b[0;31m---------------------------------------------------------------------------\u001b[0m",
      "\u001b[0;31mTypeError\u001b[0m                                 Traceback (most recent call last)",
      "\u001b[0;32m<ipython-input-13-73e4b5ffd261>\u001b[0m in \u001b[0;36m<module>\u001b[0;34m()\u001b[0m\n\u001b[1;32m      8\u001b[0m \u001b[0me\u001b[0m \u001b[0;34m=\u001b[0m \u001b[0mtimer\u001b[0m\u001b[0;34m(\u001b[0m\u001b[0;34m)\u001b[0m\u001b[0;34m\u001b[0m\u001b[0m\n\u001b[1;32m      9\u001b[0m \u001b[0;34m\u001b[0m\u001b[0m\n\u001b[0;32m---> 10\u001b[0;31m \u001b[0mprint\u001b[0m\u001b[0;34m(\u001b[0m\u001b[0me\u001b[0m \u001b[0;34m-\u001b[0m \u001b[0ms\u001b[0m\u001b[0;34m)\u001b[0m \u001b[0;34m*\u001b[0m \u001b[0;36m1000\u001b[0m\u001b[0;34m\u001b[0m\u001b[0m\n\u001b[0m\u001b[1;32m     11\u001b[0m \u001b[0;34m\u001b[0m\u001b[0m\n\u001b[1;32m     12\u001b[0m \u001b[0mforward_final_output\u001b[0m \u001b[0;34m=\u001b[0m \u001b[0mn\u001b[0m\u001b[0;34m.\u001b[0m\u001b[0mfeed_forward\u001b[0m\u001b[0;34m(\u001b[0m\u001b[0minput_data\u001b[0m\u001b[0;34m=\u001b[0m\u001b[0mdata\u001b[0m\u001b[0;34m.\u001b[0m\u001b[0mtest_input\u001b[0m\u001b[0;34m)\u001b[0m\u001b[0;34m\u001b[0m\u001b[0m\n",
      "\u001b[0;31mTypeError\u001b[0m: unsupported operand type(s) for *: 'NoneType' and 'int'"
     ]
    }
   ],
   "source": [
    "forward_final_output = n.feed_forward(input_data=data.test_input)\n",
    "#print(forward_final_output.shape)\n",
    "print(\"Initial Accuracy\", tff.accuracy(forward_final_output, data.test_target))\n",
    "\n",
    "batch_size = 1000\n",
    "s = timer()\n",
    "n.learning(max_epoch=100, data=data, batch_size=batch_size, print_period=1, verbose=False)\n",
    "e = timer()\n",
    "\n",
    "print(e - s) * 1000\n",
    "\n",
    "forward_final_output = n.feed_forward(input_data=data.test_input)\n",
    "print(\"Post-learning Accuracy\", tff.accuracy(forward_final_output, data.test_target))"
   ]
  },
  {
   "cell_type": "code",
   "execution_count": 6,
   "metadata": {
    "scrolled": true
   },
   "outputs": [
    {
     "data": {
      "image/png": "[encoded data removed]",
      "text/plain": [
       "<matplotlib.figure.Figure at 0x7f7d5cd1b5f8>"
      ]
     },
     "metadata": {},
     "output_type": "display_data"
    }
   ],
   "source": [
    "n.draw_error_values_and_accuracy(figsize=(20, 5))"
   ]
  },
  {
   "cell_type": "code",
   "execution_count": 7,
   "metadata": {},
   "outputs": [
    {
     "name": "stdout",
     "output_type": "stream",
     "text": [
      "False Prediction Index: 115, Prediction: Nine, Ground Truth: Four\n",
      "False Prediction Index: 149, Prediction: Four, Ground Truth: Two\n",
      "False Prediction Index: 247, Prediction: Two, Ground Truth: Four\n",
      "False Prediction Index: 259, Prediction: Zero, Ground Truth: Six\n",
      "False Prediction Index: 321, Prediction: Seven, Ground Truth: Two\n"
     ]
    },
    {
     "data": {
      "image/png": "[encoded data removed]",
      "text/plain": [
       "<matplotlib.figure.Figure at 0x7f7d592d7438>"
      ]
     },
     "metadata": {},
     "output_type": "display_data"
    }
   ],
   "source": [
    "n.draw_false_prediction(data.test_input, data.test_target, data.labels, num=5, figsize=(20, 5))"
   ]
  },
  {
   "cell_type": "code",
   "execution_count": null,
   "metadata": {},
   "outputs": [],
   "source": [
    "n.draw_param_description(figsize=(20, 10))"
   ]
  },
  {
   "cell_type": "code",
   "execution_count": null,
   "metadata": {},
   "outputs": [],
   "source": [
    "import numpy\n",
    "numpy.version.version"
   ]
  },
  {
   "cell_type": "code",
   "execution_count": null,
   "metadata": {
    "collapsed": true
   },
   "outputs": [],
   "source": []
  }
 ],
 "metadata": {
  "kernelspec": {
   "display_name": "Python 3",
   "language": "python",
   "name": "python3"
  },
  "language_info": {
   "codemirror_mode": {
    "name": "ipython",
    "version": 3
   },
   "file_extension": ".py",
   "mimetype": "text/x-python",
   "name": "python",
   "nbconvert_exporter": "python",
   "pygments_lexer": "ipython3",
   "version": "3.6.1"
  }
 },
 "nbformat": 4,
 "nbformat_minor": 2
}
