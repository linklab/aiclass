{
 "cells": [
  {
   "cell_type": "code",
   "execution_count": 2,
   "metadata": {
    "collapsed": false
   },
   "outputs": [
    {
     "name": "stdout",
     "output_type": "stream",
     "text": [
      "8124\n"
     ]
    }
   ],
   "source": [
    "import urllib\n",
    "from scipy import stats\n",
    "from pandas import Series, DataFrame\n",
    "import pandas as pd                       #pandas 유명한 라이브러리 한번 해볼 것\n",
    "import matplotlib.pyplot as plt\n",
    "import numpy as np\n",
    "%matplotlib inline\n",
    "\n",
    "# path에 들어가보면 8124개의 데이터가 출력됨\n",
    "path = 'http://archive.ics.uci.edu/ml/machine-learning-databases/mushroom/agaricus-lepiota.data' \n",
    "raw_csv = urllib.request.urlopen(path) # comma-seperated values \n",
    "col_names = range(23)\n",
    "df = pd.read_csv(raw_csv, names = col_names)   #어떤 테이블안에 데이터를 넣는 것\n",
    "print(len(df))"
   ]
  },
  {
   "cell_type": "code",
   "execution_count": 3,
   "metadata": {
    "collapsed": false
   },
   "outputs": [
    {
     "data": {
      "text/html": [
       "<div>\n",
       "<table border=\"1\" class=\"dataframe\">\n",
       "  <thead>\n",
       "    <tr style=\"text-align: right;\">\n",
       "      <th></th>\n",
       "      <th>0</th>\n",
       "      <th>1</th>\n",
       "      <th>2</th>\n",
       "      <th>3</th>\n",
       "      <th>4</th>\n",
       "      <th>5</th>\n",
       "      <th>6</th>\n",
       "      <th>7</th>\n",
       "      <th>8</th>\n",
       "      <th>9</th>\n",
       "      <th>...</th>\n",
       "      <th>13</th>\n",
       "      <th>14</th>\n",
       "      <th>15</th>\n",
       "      <th>16</th>\n",
       "      <th>17</th>\n",
       "      <th>18</th>\n",
       "      <th>19</th>\n",
       "      <th>20</th>\n",
       "      <th>21</th>\n",
       "      <th>22</th>\n",
       "    </tr>\n",
       "  </thead>\n",
       "  <tbody>\n",
       "    <tr>\n",
       "      <th>0</th>\n",
       "      <td>p</td>\n",
       "      <td>x</td>\n",
       "      <td>s</td>\n",
       "      <td>n</td>\n",
       "      <td>t</td>\n",
       "      <td>p</td>\n",
       "      <td>f</td>\n",
       "      <td>c</td>\n",
       "      <td>n</td>\n",
       "      <td>k</td>\n",
       "      <td>...</td>\n",
       "      <td>s</td>\n",
       "      <td>w</td>\n",
       "      <td>w</td>\n",
       "      <td>p</td>\n",
       "      <td>w</td>\n",
       "      <td>o</td>\n",
       "      <td>p</td>\n",
       "      <td>k</td>\n",
       "      <td>s</td>\n",
       "      <td>u</td>\n",
       "    </tr>\n",
       "    <tr>\n",
       "      <th>1</th>\n",
       "      <td>e</td>\n",
       "      <td>x</td>\n",
       "      <td>s</td>\n",
       "      <td>y</td>\n",
       "      <td>t</td>\n",
       "      <td>a</td>\n",
       "      <td>f</td>\n",
       "      <td>c</td>\n",
       "      <td>b</td>\n",
       "      <td>k</td>\n",
       "      <td>...</td>\n",
       "      <td>s</td>\n",
       "      <td>w</td>\n",
       "      <td>w</td>\n",
       "      <td>p</td>\n",
       "      <td>w</td>\n",
       "      <td>o</td>\n",
       "      <td>p</td>\n",
       "      <td>n</td>\n",
       "      <td>n</td>\n",
       "      <td>g</td>\n",
       "    </tr>\n",
       "    <tr>\n",
       "      <th>2</th>\n",
       "      <td>e</td>\n",
       "      <td>b</td>\n",
       "      <td>s</td>\n",
       "      <td>w</td>\n",
       "      <td>t</td>\n",
       "      <td>l</td>\n",
       "      <td>f</td>\n",
       "      <td>c</td>\n",
       "      <td>b</td>\n",
       "      <td>n</td>\n",
       "      <td>...</td>\n",
       "      <td>s</td>\n",
       "      <td>w</td>\n",
       "      <td>w</td>\n",
       "      <td>p</td>\n",
       "      <td>w</td>\n",
       "      <td>o</td>\n",
       "      <td>p</td>\n",
       "      <td>n</td>\n",
       "      <td>n</td>\n",
       "      <td>m</td>\n",
       "    </tr>\n",
       "    <tr>\n",
       "      <th>3</th>\n",
       "      <td>p</td>\n",
       "      <td>x</td>\n",
       "      <td>y</td>\n",
       "      <td>w</td>\n",
       "      <td>t</td>\n",
       "      <td>p</td>\n",
       "      <td>f</td>\n",
       "      <td>c</td>\n",
       "      <td>n</td>\n",
       "      <td>n</td>\n",
       "      <td>...</td>\n",
       "      <td>s</td>\n",
       "      <td>w</td>\n",
       "      <td>w</td>\n",
       "      <td>p</td>\n",
       "      <td>w</td>\n",
       "      <td>o</td>\n",
       "      <td>p</td>\n",
       "      <td>k</td>\n",
       "      <td>s</td>\n",
       "      <td>u</td>\n",
       "    </tr>\n",
       "    <tr>\n",
       "      <th>4</th>\n",
       "      <td>e</td>\n",
       "      <td>x</td>\n",
       "      <td>s</td>\n",
       "      <td>g</td>\n",
       "      <td>f</td>\n",
       "      <td>n</td>\n",
       "      <td>f</td>\n",
       "      <td>w</td>\n",
       "      <td>b</td>\n",
       "      <td>k</td>\n",
       "      <td>...</td>\n",
       "      <td>s</td>\n",
       "      <td>w</td>\n",
       "      <td>w</td>\n",
       "      <td>p</td>\n",
       "      <td>w</td>\n",
       "      <td>o</td>\n",
       "      <td>e</td>\n",
       "      <td>n</td>\n",
       "      <td>a</td>\n",
       "      <td>g</td>\n",
       "    </tr>\n",
       "  </tbody>\n",
       "</table>\n",
       "<p>5 rows × 23 columns</p>\n",
       "</div>"
      ],
      "text/plain": [
       "  0  1  2  3  4  5  6  7  8  9  ... 13 14 15 16 17 18 19 20 21 22\n",
       "0  p  x  s  n  t  p  f  c  n  k ...  s  w  w  p  w  o  p  k  s  u\n",
       "1  e  x  s  y  t  a  f  c  b  k ...  s  w  w  p  w  o  p  n  n  g\n",
       "2  e  b  s  w  t  l  f  c  b  n ...  s  w  w  p  w  o  p  n  n  m\n",
       "3  p  x  y  w  t  p  f  c  n  n ...  s  w  w  p  w  o  p  k  s  u\n",
       "4  e  x  s  g  f  n  f  w  b  k ...  s  w  w  p  w  o  e  n  a  g\n",
       "\n",
       "[5 rows x 23 columns]"
      ]
     },
     "execution_count": 3,
     "metadata": {},
     "output_type": "execute_result"
    }
   ],
   "source": [
    "df.head() #상위 5개 데이터만 보여줌"
   ]
  },
  {
   "cell_type": "code",
   "execution_count": 4,
   "metadata": {
    "collapsed": true
   },
   "outputs": [],
   "source": [
    "num_columns = df.shape[1] # dim 튜플에서 두번째 값\n",
    "map_dic = {}\n",
    "for i in range(num_columns):\n",
    "    unique_array = df[i].unique()    #df[0]이면 p, e의 값을 갖는 8124개의 데이터 (첫번째 열의 데이터)  unique()가 데이터 종류 갯수 만큼 배열 생성\n",
    "    N = len(unique_array)\n",
    "    map_dic[i] = {}\n",
    "    for j in range(N):\n",
    "        map_dic[i][unique_array[j]] = j\n",
    "    df[i] = df[i].map(map_dic[i])"
   ]
  },
  {
   "cell_type": "code",
   "execution_count": 5,
   "metadata": {
    "collapsed": false
   },
   "outputs": [
    {
     "data": {
      "text/html": [
       "<div>\n",
       "<table border=\"1\" class=\"dataframe\">\n",
       "  <thead>\n",
       "    <tr style=\"text-align: right;\">\n",
       "      <th></th>\n",
       "      <th>0</th>\n",
       "      <th>1</th>\n",
       "      <th>2</th>\n",
       "      <th>3</th>\n",
       "      <th>4</th>\n",
       "      <th>5</th>\n",
       "      <th>6</th>\n",
       "      <th>7</th>\n",
       "      <th>8</th>\n",
       "      <th>9</th>\n",
       "      <th>...</th>\n",
       "      <th>13</th>\n",
       "      <th>14</th>\n",
       "      <th>15</th>\n",
       "      <th>16</th>\n",
       "      <th>17</th>\n",
       "      <th>18</th>\n",
       "      <th>19</th>\n",
       "      <th>20</th>\n",
       "      <th>21</th>\n",
       "      <th>22</th>\n",
       "    </tr>\n",
       "  </thead>\n",
       "  <tbody>\n",
       "    <tr>\n",
       "      <th>0</th>\n",
       "      <td>0</td>\n",
       "      <td>0</td>\n",
       "      <td>0</td>\n",
       "      <td>0</td>\n",
       "      <td>0</td>\n",
       "      <td>0</td>\n",
       "      <td>0</td>\n",
       "      <td>0</td>\n",
       "      <td>0</td>\n",
       "      <td>0</td>\n",
       "      <td>...</td>\n",
       "      <td>0</td>\n",
       "      <td>0</td>\n",
       "      <td>0</td>\n",
       "      <td>0</td>\n",
       "      <td>0</td>\n",
       "      <td>0</td>\n",
       "      <td>0</td>\n",
       "      <td>0</td>\n",
       "      <td>0</td>\n",
       "      <td>0</td>\n",
       "    </tr>\n",
       "    <tr>\n",
       "      <th>1</th>\n",
       "      <td>1</td>\n",
       "      <td>0</td>\n",
       "      <td>0</td>\n",
       "      <td>1</td>\n",
       "      <td>0</td>\n",
       "      <td>1</td>\n",
       "      <td>0</td>\n",
       "      <td>0</td>\n",
       "      <td>1</td>\n",
       "      <td>0</td>\n",
       "      <td>...</td>\n",
       "      <td>0</td>\n",
       "      <td>0</td>\n",
       "      <td>0</td>\n",
       "      <td>0</td>\n",
       "      <td>0</td>\n",
       "      <td>0</td>\n",
       "      <td>0</td>\n",
       "      <td>1</td>\n",
       "      <td>1</td>\n",
       "      <td>1</td>\n",
       "    </tr>\n",
       "    <tr>\n",
       "      <th>2</th>\n",
       "      <td>1</td>\n",
       "      <td>1</td>\n",
       "      <td>0</td>\n",
       "      <td>2</td>\n",
       "      <td>0</td>\n",
       "      <td>2</td>\n",
       "      <td>0</td>\n",
       "      <td>0</td>\n",
       "      <td>1</td>\n",
       "      <td>1</td>\n",
       "      <td>...</td>\n",
       "      <td>0</td>\n",
       "      <td>0</td>\n",
       "      <td>0</td>\n",
       "      <td>0</td>\n",
       "      <td>0</td>\n",
       "      <td>0</td>\n",
       "      <td>0</td>\n",
       "      <td>1</td>\n",
       "      <td>1</td>\n",
       "      <td>2</td>\n",
       "    </tr>\n",
       "    <tr>\n",
       "      <th>3</th>\n",
       "      <td>0</td>\n",
       "      <td>0</td>\n",
       "      <td>1</td>\n",
       "      <td>2</td>\n",
       "      <td>0</td>\n",
       "      <td>0</td>\n",
       "      <td>0</td>\n",
       "      <td>0</td>\n",
       "      <td>0</td>\n",
       "      <td>1</td>\n",
       "      <td>...</td>\n",
       "      <td>0</td>\n",
       "      <td>0</td>\n",
       "      <td>0</td>\n",
       "      <td>0</td>\n",
       "      <td>0</td>\n",
       "      <td>0</td>\n",
       "      <td>0</td>\n",
       "      <td>0</td>\n",
       "      <td>0</td>\n",
       "      <td>0</td>\n",
       "    </tr>\n",
       "    <tr>\n",
       "      <th>4</th>\n",
       "      <td>1</td>\n",
       "      <td>0</td>\n",
       "      <td>0</td>\n",
       "      <td>3</td>\n",
       "      <td>1</td>\n",
       "      <td>3</td>\n",
       "      <td>0</td>\n",
       "      <td>1</td>\n",
       "      <td>1</td>\n",
       "      <td>0</td>\n",
       "      <td>...</td>\n",
       "      <td>0</td>\n",
       "      <td>0</td>\n",
       "      <td>0</td>\n",
       "      <td>0</td>\n",
       "      <td>0</td>\n",
       "      <td>0</td>\n",
       "      <td>1</td>\n",
       "      <td>1</td>\n",
       "      <td>2</td>\n",
       "      <td>1</td>\n",
       "    </tr>\n",
       "  </tbody>\n",
       "</table>\n",
       "<p>5 rows × 23 columns</p>\n",
       "</div>"
      ],
      "text/plain": [
       "   0   1   2   3   4   5   6   7   8   9  ...  13  14  15  16  17  18  19  20  \\\n",
       "0   0   0   0   0   0   0   0   0   0   0 ...   0   0   0   0   0   0   0   0   \n",
       "1   1   0   0   1   0   1   0   0   1   0 ...   0   0   0   0   0   0   0   1   \n",
       "2   1   1   0   2   0   2   0   0   1   1 ...   0   0   0   0   0   0   0   1   \n",
       "3   0   0   1   2   0   0   0   0   0   1 ...   0   0   0   0   0   0   0   0   \n",
       "4   1   0   0   3   1   3   0   1   1   0 ...   0   0   0   0   0   0   1   1   \n",
       "\n",
       "   21  22  \n",
       "0   0   0  \n",
       "1   1   1  \n",
       "2   1   2  \n",
       "3   0   0  \n",
       "4   2   1  \n",
       "\n",
       "[5 rows x 23 columns]"
      ]
     },
     "execution_count": 5,
     "metadata": {},
     "output_type": "execute_result"
    }
   ],
   "source": [
    "df.head()"
   ]
  },
  {
   "cell_type": "code",
   "execution_count": 6,
   "metadata": {
    "collapsed": true
   },
   "outputs": [],
   "source": [
    "for i in range(1, num_columns):\n",
    "    unique_array = df[i].unique()\n",
    "    N = len(unique_array)\n",
    "    map_dic_sub = {}\n",
    "    for j in range(N):\n",
    "        if j == 0:\n",
    "            map_dic_sub[j] = 0\n",
    "        else:\n",
    "            map_dic_sub[j] = j / float(N - 1)        \n",
    "    df[i] = df[i].map(map_dic_sub)"
   ]
  },
  {
   "cell_type": "code",
   "execution_count": 7,
   "metadata": {
    "collapsed": false
   },
   "outputs": [
    {
     "data": {
      "text/html": [
       "<div>\n",
       "<table border=\"1\" class=\"dataframe\">\n",
       "  <thead>\n",
       "    <tr style=\"text-align: right;\">\n",
       "      <th></th>\n",
       "      <th>0</th>\n",
       "      <th>1</th>\n",
       "      <th>2</th>\n",
       "      <th>3</th>\n",
       "      <th>4</th>\n",
       "      <th>5</th>\n",
       "      <th>6</th>\n",
       "      <th>7</th>\n",
       "      <th>8</th>\n",
       "      <th>9</th>\n",
       "      <th>...</th>\n",
       "      <th>13</th>\n",
       "      <th>14</th>\n",
       "      <th>15</th>\n",
       "      <th>16</th>\n",
       "      <th>17</th>\n",
       "      <th>18</th>\n",
       "      <th>19</th>\n",
       "      <th>20</th>\n",
       "      <th>21</th>\n",
       "      <th>22</th>\n",
       "    </tr>\n",
       "  </thead>\n",
       "  <tbody>\n",
       "    <tr>\n",
       "      <th>0</th>\n",
       "      <td>0</td>\n",
       "      <td>0.0</td>\n",
       "      <td>0.000000</td>\n",
       "      <td>0.000000</td>\n",
       "      <td>0.0</td>\n",
       "      <td>0.000</td>\n",
       "      <td>0.0</td>\n",
       "      <td>0.0</td>\n",
       "      <td>0.0</td>\n",
       "      <td>0.000000</td>\n",
       "      <td>...</td>\n",
       "      <td>0.0</td>\n",
       "      <td>0.0</td>\n",
       "      <td>0.0</td>\n",
       "      <td>0</td>\n",
       "      <td>0.0</td>\n",
       "      <td>0.0</td>\n",
       "      <td>0.00</td>\n",
       "      <td>0.000</td>\n",
       "      <td>0.0</td>\n",
       "      <td>0.000000</td>\n",
       "    </tr>\n",
       "    <tr>\n",
       "      <th>1</th>\n",
       "      <td>1</td>\n",
       "      <td>0.0</td>\n",
       "      <td>0.000000</td>\n",
       "      <td>0.111111</td>\n",
       "      <td>0.0</td>\n",
       "      <td>0.125</td>\n",
       "      <td>0.0</td>\n",
       "      <td>0.0</td>\n",
       "      <td>1.0</td>\n",
       "      <td>0.000000</td>\n",
       "      <td>...</td>\n",
       "      <td>0.0</td>\n",
       "      <td>0.0</td>\n",
       "      <td>0.0</td>\n",
       "      <td>0</td>\n",
       "      <td>0.0</td>\n",
       "      <td>0.0</td>\n",
       "      <td>0.00</td>\n",
       "      <td>0.125</td>\n",
       "      <td>0.2</td>\n",
       "      <td>0.166667</td>\n",
       "    </tr>\n",
       "    <tr>\n",
       "      <th>2</th>\n",
       "      <td>1</td>\n",
       "      <td>0.2</td>\n",
       "      <td>0.000000</td>\n",
       "      <td>0.222222</td>\n",
       "      <td>0.0</td>\n",
       "      <td>0.250</td>\n",
       "      <td>0.0</td>\n",
       "      <td>0.0</td>\n",
       "      <td>1.0</td>\n",
       "      <td>0.090909</td>\n",
       "      <td>...</td>\n",
       "      <td>0.0</td>\n",
       "      <td>0.0</td>\n",
       "      <td>0.0</td>\n",
       "      <td>0</td>\n",
       "      <td>0.0</td>\n",
       "      <td>0.0</td>\n",
       "      <td>0.00</td>\n",
       "      <td>0.125</td>\n",
       "      <td>0.2</td>\n",
       "      <td>0.333333</td>\n",
       "    </tr>\n",
       "    <tr>\n",
       "      <th>3</th>\n",
       "      <td>0</td>\n",
       "      <td>0.0</td>\n",
       "      <td>0.333333</td>\n",
       "      <td>0.222222</td>\n",
       "      <td>0.0</td>\n",
       "      <td>0.000</td>\n",
       "      <td>0.0</td>\n",
       "      <td>0.0</td>\n",
       "      <td>0.0</td>\n",
       "      <td>0.090909</td>\n",
       "      <td>...</td>\n",
       "      <td>0.0</td>\n",
       "      <td>0.0</td>\n",
       "      <td>0.0</td>\n",
       "      <td>0</td>\n",
       "      <td>0.0</td>\n",
       "      <td>0.0</td>\n",
       "      <td>0.00</td>\n",
       "      <td>0.000</td>\n",
       "      <td>0.0</td>\n",
       "      <td>0.000000</td>\n",
       "    </tr>\n",
       "    <tr>\n",
       "      <th>4</th>\n",
       "      <td>1</td>\n",
       "      <td>0.0</td>\n",
       "      <td>0.000000</td>\n",
       "      <td>0.333333</td>\n",
       "      <td>1.0</td>\n",
       "      <td>0.375</td>\n",
       "      <td>0.0</td>\n",
       "      <td>1.0</td>\n",
       "      <td>1.0</td>\n",
       "      <td>0.000000</td>\n",
       "      <td>...</td>\n",
       "      <td>0.0</td>\n",
       "      <td>0.0</td>\n",
       "      <td>0.0</td>\n",
       "      <td>0</td>\n",
       "      <td>0.0</td>\n",
       "      <td>0.0</td>\n",
       "      <td>0.25</td>\n",
       "      <td>0.125</td>\n",
       "      <td>0.4</td>\n",
       "      <td>0.166667</td>\n",
       "    </tr>\n",
       "  </tbody>\n",
       "</table>\n",
       "<p>5 rows × 23 columns</p>\n",
       "</div>"
      ],
      "text/plain": [
       "   0    1         2         3    4      5    6    7    8         9     ...     \\\n",
       "0   0  0.0  0.000000  0.000000  0.0  0.000  0.0  0.0  0.0  0.000000    ...      \n",
       "1   1  0.0  0.000000  0.111111  0.0  0.125  0.0  0.0  1.0  0.000000    ...      \n",
       "2   1  0.2  0.000000  0.222222  0.0  0.250  0.0  0.0  1.0  0.090909    ...      \n",
       "3   0  0.0  0.333333  0.222222  0.0  0.000  0.0  0.0  0.0  0.090909    ...      \n",
       "4   1  0.0  0.000000  0.333333  1.0  0.375  0.0  1.0  1.0  0.000000    ...      \n",
       "\n",
       "    13   14   15  16   17   18    19     20   21        22  \n",
       "0  0.0  0.0  0.0   0  0.0  0.0  0.00  0.000  0.0  0.000000  \n",
       "1  0.0  0.0  0.0   0  0.0  0.0  0.00  0.125  0.2  0.166667  \n",
       "2  0.0  0.0  0.0   0  0.0  0.0  0.00  0.125  0.2  0.333333  \n",
       "3  0.0  0.0  0.0   0  0.0  0.0  0.00  0.000  0.0  0.000000  \n",
       "4  0.0  0.0  0.0   0  0.0  0.0  0.25  0.125  0.4  0.166667  \n",
       "\n",
       "[5 rows x 23 columns]"
      ]
     },
     "execution_count": 7,
     "metadata": {},
     "output_type": "execute_result"
    }
   ],
   "source": [
    "df.head()"
   ]
  },
  {
   "cell_type": "code",
   "execution_count": 8,
   "metadata": {
    "collapsed": true
   },
   "outputs": [],
   "source": [
    "data_df = df.iloc[:, 1:] # :의 의미는 전체를 뜻함 이작업을 함으로써 레이블과 데이터를 구분  1:은 1이상을 의미"
   ]
  },
  {
   "cell_type": "code",
   "execution_count": 9,
   "metadata": {
    "collapsed": false
   },
   "outputs": [
    {
     "data": {
      "text/html": [
       "<div>\n",
       "<table border=\"1\" class=\"dataframe\">\n",
       "  <thead>\n",
       "    <tr style=\"text-align: right;\">\n",
       "      <th></th>\n",
       "      <th>1</th>\n",
       "      <th>2</th>\n",
       "      <th>3</th>\n",
       "      <th>4</th>\n",
       "      <th>5</th>\n",
       "      <th>6</th>\n",
       "      <th>7</th>\n",
       "      <th>8</th>\n",
       "      <th>9</th>\n",
       "      <th>10</th>\n",
       "      <th>...</th>\n",
       "      <th>13</th>\n",
       "      <th>14</th>\n",
       "      <th>15</th>\n",
       "      <th>16</th>\n",
       "      <th>17</th>\n",
       "      <th>18</th>\n",
       "      <th>19</th>\n",
       "      <th>20</th>\n",
       "      <th>21</th>\n",
       "      <th>22</th>\n",
       "    </tr>\n",
       "  </thead>\n",
       "  <tbody>\n",
       "    <tr>\n",
       "      <th>0</th>\n",
       "      <td>0.0</td>\n",
       "      <td>0.000000</td>\n",
       "      <td>0.000000</td>\n",
       "      <td>0.0</td>\n",
       "      <td>0.000</td>\n",
       "      <td>0.0</td>\n",
       "      <td>0.0</td>\n",
       "      <td>0.0</td>\n",
       "      <td>0.000000</td>\n",
       "      <td>0.0</td>\n",
       "      <td>...</td>\n",
       "      <td>0.0</td>\n",
       "      <td>0.0</td>\n",
       "      <td>0.0</td>\n",
       "      <td>0</td>\n",
       "      <td>0.0</td>\n",
       "      <td>0.0</td>\n",
       "      <td>0.00</td>\n",
       "      <td>0.000</td>\n",
       "      <td>0.0</td>\n",
       "      <td>0.000000</td>\n",
       "    </tr>\n",
       "    <tr>\n",
       "      <th>1</th>\n",
       "      <td>0.0</td>\n",
       "      <td>0.000000</td>\n",
       "      <td>0.111111</td>\n",
       "      <td>0.0</td>\n",
       "      <td>0.125</td>\n",
       "      <td>0.0</td>\n",
       "      <td>0.0</td>\n",
       "      <td>1.0</td>\n",
       "      <td>0.000000</td>\n",
       "      <td>0.0</td>\n",
       "      <td>...</td>\n",
       "      <td>0.0</td>\n",
       "      <td>0.0</td>\n",
       "      <td>0.0</td>\n",
       "      <td>0</td>\n",
       "      <td>0.0</td>\n",
       "      <td>0.0</td>\n",
       "      <td>0.00</td>\n",
       "      <td>0.125</td>\n",
       "      <td>0.2</td>\n",
       "      <td>0.166667</td>\n",
       "    </tr>\n",
       "    <tr>\n",
       "      <th>2</th>\n",
       "      <td>0.2</td>\n",
       "      <td>0.000000</td>\n",
       "      <td>0.222222</td>\n",
       "      <td>0.0</td>\n",
       "      <td>0.250</td>\n",
       "      <td>0.0</td>\n",
       "      <td>0.0</td>\n",
       "      <td>1.0</td>\n",
       "      <td>0.090909</td>\n",
       "      <td>0.0</td>\n",
       "      <td>...</td>\n",
       "      <td>0.0</td>\n",
       "      <td>0.0</td>\n",
       "      <td>0.0</td>\n",
       "      <td>0</td>\n",
       "      <td>0.0</td>\n",
       "      <td>0.0</td>\n",
       "      <td>0.00</td>\n",
       "      <td>0.125</td>\n",
       "      <td>0.2</td>\n",
       "      <td>0.333333</td>\n",
       "    </tr>\n",
       "    <tr>\n",
       "      <th>3</th>\n",
       "      <td>0.0</td>\n",
       "      <td>0.333333</td>\n",
       "      <td>0.222222</td>\n",
       "      <td>0.0</td>\n",
       "      <td>0.000</td>\n",
       "      <td>0.0</td>\n",
       "      <td>0.0</td>\n",
       "      <td>0.0</td>\n",
       "      <td>0.090909</td>\n",
       "      <td>0.0</td>\n",
       "      <td>...</td>\n",
       "      <td>0.0</td>\n",
       "      <td>0.0</td>\n",
       "      <td>0.0</td>\n",
       "      <td>0</td>\n",
       "      <td>0.0</td>\n",
       "      <td>0.0</td>\n",
       "      <td>0.00</td>\n",
       "      <td>0.000</td>\n",
       "      <td>0.0</td>\n",
       "      <td>0.000000</td>\n",
       "    </tr>\n",
       "    <tr>\n",
       "      <th>4</th>\n",
       "      <td>0.0</td>\n",
       "      <td>0.000000</td>\n",
       "      <td>0.333333</td>\n",
       "      <td>1.0</td>\n",
       "      <td>0.375</td>\n",
       "      <td>0.0</td>\n",
       "      <td>1.0</td>\n",
       "      <td>1.0</td>\n",
       "      <td>0.000000</td>\n",
       "      <td>1.0</td>\n",
       "      <td>...</td>\n",
       "      <td>0.0</td>\n",
       "      <td>0.0</td>\n",
       "      <td>0.0</td>\n",
       "      <td>0</td>\n",
       "      <td>0.0</td>\n",
       "      <td>0.0</td>\n",
       "      <td>0.25</td>\n",
       "      <td>0.125</td>\n",
       "      <td>0.4</td>\n",
       "      <td>0.166667</td>\n",
       "    </tr>\n",
       "  </tbody>\n",
       "</table>\n",
       "<p>5 rows × 22 columns</p>\n",
       "</div>"
      ],
      "text/plain": [
       "    1         2         3    4      5    6    7    8         9    10  \\\n",
       "0  0.0  0.000000  0.000000  0.0  0.000  0.0  0.0  0.0  0.000000  0.0   \n",
       "1  0.0  0.000000  0.111111  0.0  0.125  0.0  0.0  1.0  0.000000  0.0   \n",
       "2  0.2  0.000000  0.222222  0.0  0.250  0.0  0.0  1.0  0.090909  0.0   \n",
       "3  0.0  0.333333  0.222222  0.0  0.000  0.0  0.0  0.0  0.090909  0.0   \n",
       "4  0.0  0.000000  0.333333  1.0  0.375  0.0  1.0  1.0  0.000000  1.0   \n",
       "\n",
       "     ...      13   14   15  16   17   18    19     20   21        22  \n",
       "0    ...     0.0  0.0  0.0   0  0.0  0.0  0.00  0.000  0.0  0.000000  \n",
       "1    ...     0.0  0.0  0.0   0  0.0  0.0  0.00  0.125  0.2  0.166667  \n",
       "2    ...     0.0  0.0  0.0   0  0.0  0.0  0.00  0.125  0.2  0.333333  \n",
       "3    ...     0.0  0.0  0.0   0  0.0  0.0  0.00  0.000  0.0  0.000000  \n",
       "4    ...     0.0  0.0  0.0   0  0.0  0.0  0.25  0.125  0.4  0.166667  \n",
       "\n",
       "[5 rows x 22 columns]"
      ]
     },
     "execution_count": 9,
     "metadata": {},
     "output_type": "execute_result"
    }
   ],
   "source": [
    "data_df.head()"
   ]
  },
  {
   "cell_type": "code",
   "execution_count": 10,
   "metadata": {
    "collapsed": true
   },
   "outputs": [],
   "source": [
    "data_array = data_df.as_matrix()"
   ]
  },
  {
   "cell_type": "code",
   "execution_count": 11,
   "metadata": {
    "collapsed": false
   },
   "outputs": [
    {
     "name": "stdout",
     "output_type": "stream",
     "text": [
      "<class 'numpy.ndarray'> (8124, 22)\n"
     ]
    }
   ],
   "source": [
    "print(type(data_array), data_array.shape)"
   ]
  },
  {
   "cell_type": "code",
   "execution_count": 12,
   "metadata": {
    "collapsed": true
   },
   "outputs": [],
   "source": [
    "label_df = df.iloc[:, 0:1]"
   ]
  },
  {
   "cell_type": "code",
   "execution_count": 13,
   "metadata": {
    "collapsed": false
   },
   "outputs": [
    {
     "data": {
      "text/html": [
       "<div>\n",
       "<table border=\"1\" class=\"dataframe\">\n",
       "  <thead>\n",
       "    <tr style=\"text-align: right;\">\n",
       "      <th></th>\n",
       "      <th>0</th>\n",
       "    </tr>\n",
       "  </thead>\n",
       "  <tbody>\n",
       "    <tr>\n",
       "      <th>0</th>\n",
       "      <td>0</td>\n",
       "    </tr>\n",
       "    <tr>\n",
       "      <th>1</th>\n",
       "      <td>1</td>\n",
       "    </tr>\n",
       "    <tr>\n",
       "      <th>2</th>\n",
       "      <td>1</td>\n",
       "    </tr>\n",
       "    <tr>\n",
       "      <th>3</th>\n",
       "      <td>0</td>\n",
       "    </tr>\n",
       "    <tr>\n",
       "      <th>4</th>\n",
       "      <td>1</td>\n",
       "    </tr>\n",
       "  </tbody>\n",
       "</table>\n",
       "</div>"
      ],
      "text/plain": [
       "   0\n",
       "0  0\n",
       "1  1\n",
       "2  1\n",
       "3  0\n",
       "4  1"
      ]
     },
     "execution_count": 13,
     "metadata": {},
     "output_type": "execute_result"
    }
   ],
   "source": [
    "label_df.head()"
   ]
  },
  {
   "cell_type": "code",
   "execution_count": 14,
   "metadata": {
    "collapsed": true
   },
   "outputs": [],
   "source": [
    "label_array = label_df.as_matrix()"
   ]
  },
  {
   "cell_type": "code",
   "execution_count": 15,
   "metadata": {
    "collapsed": false
   },
   "outputs": [
    {
     "name": "stdout",
     "output_type": "stream",
     "text": [
      "<class 'numpy.ndarray'> (8124, 1)\n"
     ]
    }
   ],
   "source": [
    "print(type(label_array), label_array.shape)"
   ]
  },
  {
   "cell_type": "code",
   "execution_count": 16,
   "metadata": {
    "collapsed": true
   },
   "outputs": [],
   "source": [
    "label_array_one_hot = []\n",
    "for i in label_array:\n",
    "    if i == 0:\n",
    "        one_hot = [1, 0]\n",
    "    else:\n",
    "        one_hot = [0, 1]\n",
    "    label_array_one_hot.append(one_hot)    "
   ]
  },
  {
   "cell_type": "code",
   "execution_count": 17,
   "metadata": {
    "collapsed": true
   },
   "outputs": [],
   "source": [
    "label_array_one_hot =  np.array(label_array_one_hot)"
   ]
  },
  {
   "cell_type": "code",
   "execution_count": 18,
   "metadata": {
    "collapsed": false
   },
   "outputs": [
    {
     "name": "stdout",
     "output_type": "stream",
     "text": [
      "<class 'numpy.ndarray'> (8124, 2)\n"
     ]
    }
   ],
   "source": [
    "print(type(label_array_one_hot), label_array_one_hot.shape)"
   ]
  },
  {
   "cell_type": "code",
   "execution_count": 19,
   "metadata": {
    "collapsed": false
   },
   "outputs": [
    {
     "data": {
      "text/plain": [
       "array([[1, 0],\n",
       "       [0, 1],\n",
       "       [0, 1],\n",
       "       ..., \n",
       "       [0, 1],\n",
       "       [1, 0],\n",
       "       [0, 1]])"
      ]
     },
     "execution_count": 19,
     "metadata": {},
     "output_type": "execute_result"
    }
   ],
   "source": [
    "label_array_one_hot"
   ]
  },
  {
   "cell_type": "code",
   "execution_count": 20,
   "metadata": {
    "collapsed": false
   },
   "outputs": [],
   "source": [
    "train = {'data': None, 'labels': None}\n",
    "validation = {'data': None, 'labels': None}\n",
    "test = {'data': None, 'labels': None}"
   ]
  },
  {
   "cell_type": "code",
   "execution_count": 27,
   "metadata": {
    "collapsed": false
   },
   "outputs": [],
   "source": [
    "import random\n",
    "pick = random.random()\n",
    "train_data = []\n",
    "train_labels = []\n",
    "validation_data = []\n",
    "validation_labels = []\n",
    "test_data = []\n",
    "test_labels = []\n",
    "for i in range(len(data_array)):\n",
    "    pick = random.random()\n",
    "    if pick < 0.80:\n",
    "        train_data.append(data_array[i])\n",
    "        train_labels.append(label_array_one_hot[i])\n",
    "    elif pick >= 0.80 and pick < 0.85:\n",
    "        validation_data.append(data_array[i])\n",
    "        validation_labels.append(label_array_one_hot[i])\n",
    "    elif pick >= 0.85:\n",
    "        test_data.append(data_array[i])\n",
    "        test_labels.append(label_array_one_hot[i])\n",
    "        \n",
    "train['data'] = np.array(train_data)\n",
    "train['labels'] = np.array(train_labels)\n",
    "validation['data'] = np.array(validation_data)\n",
    "validation['labels'] = np.array(validation_labels)\n",
    "test['data'] = np.array(test_data)\n",
    "test['labels'] = np.array(test_labels)"
   ]
  },
  {
   "cell_type": "code",
   "execution_count": 29,
   "metadata": {
    "collapsed": false
   },
   "outputs": [
    {
     "name": "stdout",
     "output_type": "stream",
     "text": [
      "(6531, 22) (6531, 2)\n"
     ]
    }
   ],
   "source": [
    "print(train['data'].shape, train['labels'].shape)"
   ]
  },
  {
   "cell_type": "code",
   "execution_count": 30,
   "metadata": {
    "collapsed": false
   },
   "outputs": [
    {
     "name": "stdout",
     "output_type": "stream",
     "text": [
      "(437, 22) (437, 2)\n"
     ]
    }
   ],
   "source": [
    "print(validation['data'].shape, validation['labels'].shape)"
   ]
  },
  {
   "cell_type": "code",
   "execution_count": 31,
   "metadata": {
    "collapsed": false
   },
   "outputs": [
    {
     "name": "stdout",
     "output_type": "stream",
     "text": [
      "(1156, 22) (1156, 2)\n"
     ]
    }
   ],
   "source": [
    "print(test['data'].shape, test['labels'].shape)"
   ]
  },
  {
   "cell_type": "code",
   "execution_count": 32,
   "metadata": {
    "collapsed": false
   },
   "outputs": [
    {
     "data": {
      "text/plain": [
       "6531"
      ]
     },
     "execution_count": 32,
     "metadata": {},
     "output_type": "execute_result"
    }
   ],
   "source": [
    "train['data'].shape[0]"
   ]
  },
  {
   "cell_type": "code",
   "execution_count": 33,
   "metadata": {
    "collapsed": false
   },
   "outputs": [
    {
     "data": {
      "text/plain": [
       "array([[ 0.        ,  0.        ,  0.        , ...,  0.        ,\n",
       "         0.        ,  0.        ],\n",
       "       [ 0.2       ,  0.        ,  0.22222222, ...,  0.125     ,\n",
       "         0.2       ,  0.33333333],\n",
       "       [ 0.        ,  0.33333333,  0.22222222, ...,  0.        ,\n",
       "         0.        ,  0.        ],\n",
       "       ..., \n",
       "       [ 0.2       ,  0.33333333,  0.11111111, ...,  0.125     ,\n",
       "         0.2       ,  0.33333333],\n",
       "       [ 0.6       ,  0.        ,  0.        , ...,  0.        ,\n",
       "         0.4       ,  0.16666667],\n",
       "       [ 0.        ,  0.        ,  0.22222222, ...,  0.        ,\n",
       "         0.        ,  0.16666667]])"
      ]
     },
     "execution_count": 33,
     "metadata": {},
     "output_type": "execute_result"
    }
   ],
   "source": [
    "train['data'][0:50]"
   ]
  },
  {
   "cell_type": "code",
   "execution_count": 41,
   "metadata": {
    "collapsed": false
   },
   "outputs": [
    {
     "name": "stdout",
     "output_type": "stream",
     "text": [
      "Total batch: 131\n",
      "Epoch:  0, Train Error: 15.45326, Validation Error: 15.20887, Test Accuracy: 0.48616\n",
      "Epoch:  1, Train Error: 1.38557, Validation Error: 1.40184, Test Accuracy: 0.65917\n",
      "Epoch:  2, Train Error: 0.64156, Validation Error: 0.68693, Test Accuracy: 0.74048\n",
      "Epoch:  3, Train Error: 0.23624, Validation Error: 0.26561, Test Accuracy: 0.90225\n",
      "Epoch:  4, Train Error: 0.16273, Validation Error: 0.19728, Test Accuracy: 0.94118\n",
      "Epoch:  5, Train Error: 0.12519, Validation Error: 0.15467, Test Accuracy: 0.95415\n",
      "Epoch:  6, Train Error: 0.10043, Validation Error: 0.12581, Test Accuracy: 0.95848\n",
      "Epoch:  7, Train Error: 0.08328, Validation Error: 0.10801, Test Accuracy: 0.96540\n",
      "Epoch:  8, Train Error: 0.07138, Validation Error: 0.09490, Test Accuracy: 0.97318\n",
      "Epoch:  9, Train Error: 0.06266, Validation Error: 0.08571, Test Accuracy: 0.97578\n",
      "Epoch: 10, Train Error: 0.05600, Validation Error: 0.07875, Test Accuracy: 0.97664\n",
      "Epoch: 11, Train Error: 0.05000, Validation Error: 0.07288, Test Accuracy: 0.98097\n",
      "Epoch: 12, Train Error: 0.04525, Validation Error: 0.06784, Test Accuracy: 0.98097\n",
      "Epoch: 13, Train Error: 0.04125, Validation Error: 0.06375, Test Accuracy: 0.98356\n",
      "Epoch: 14, Train Error: 0.03747, Validation Error: 0.05997, Test Accuracy: 0.98616\n",
      "Epoch: 15, Train Error: 0.03431, Validation Error: 0.05681, Test Accuracy: 0.98875\n",
      "Epoch: 16, Train Error: 0.03155, Validation Error: 0.05444, Test Accuracy: 0.99048\n",
      "Epoch: 17, Train Error: 0.02885, Validation Error: 0.05169, Test Accuracy: 0.99135\n",
      "Epoch: 18, Train Error: 0.02630, Validation Error: 0.04926, Test Accuracy: 0.99567\n",
      "Epoch: 19, Train Error: 0.02410, Validation Error: 0.04723, Test Accuracy: 0.99654\n",
      "Epoch: 20, Train Error: 0.02189, Validation Error: 0.04488, Test Accuracy: 0.99654\n",
      "Epoch: 21, Train Error: 0.02013, Validation Error: 0.04326, Test Accuracy: 0.99740\n",
      "Epoch: 22, Train Error: 0.01843, Validation Error: 0.04157, Test Accuracy: 0.99740\n",
      "Epoch: 23, Train Error: 0.01693, Validation Error: 0.03998, Test Accuracy: 0.99827\n",
      "Epoch: 24, Train Error: 0.01566, Validation Error: 0.03874, Test Accuracy: 0.99827\n",
      "Epoch: 25, Train Error: 0.01452, Validation Error: 0.03759, Test Accuracy: 0.99827\n",
      "Epoch: 26, Train Error: 0.01350, Validation Error: 0.03656, Test Accuracy: 0.99913\n",
      "Epoch: 27, Train Error: 0.01259, Validation Error: 0.03562, Test Accuracy: 0.99913\n",
      "Epoch: 28, Train Error: 0.01174, Validation Error: 0.03472, Test Accuracy: 1.00000\n",
      "Epoch: 29, Train Error: 0.01095, Validation Error: 0.03383, Test Accuracy: 1.00000\n",
      "Epoch: 30, Train Error: 0.01022, Validation Error: 0.03295, Test Accuracy: 1.00000\n",
      "Epoch: 31, Train Error: 0.00954, Validation Error: 0.03204, Test Accuracy: 1.00000\n",
      "Epoch: 32, Train Error: 0.00893, Validation Error: 0.03125, Test Accuracy: 1.00000\n",
      "Epoch: 33, Train Error: 0.00829, Validation Error: 0.03036, Test Accuracy: 1.00000\n",
      "Epoch: 34, Train Error: 0.00768, Validation Error: 0.02948, Test Accuracy: 1.00000\n",
      "Epoch: 35, Train Error: 0.00713, Validation Error: 0.02868, Test Accuracy: 1.00000\n",
      "Epoch: 36, Train Error: 0.00664, Validation Error: 0.02792, Test Accuracy: 1.00000\n",
      "Epoch: 37, Train Error: 0.00619, Validation Error: 0.02717, Test Accuracy: 1.00000\n",
      "Epoch: 38, Train Error: 0.00576, Validation Error: 0.02641, Test Accuracy: 1.00000\n",
      "Epoch: 39, Train Error: 0.00536, Validation Error: 0.02570, Test Accuracy: 1.00000\n",
      "Epoch: 40, Train Error: 0.00499, Validation Error: 0.02498, Test Accuracy: 1.00000\n",
      "Epoch: 41, Train Error: 0.00467, Validation Error: 0.02421, Test Accuracy: 1.00000\n",
      "Epoch: 42, Train Error: 0.00434, Validation Error: 0.02353, Test Accuracy: 1.00000\n",
      "Epoch: 43, Train Error: 0.00405, Validation Error: 0.02286, Test Accuracy: 1.00000\n",
      "Epoch: 44, Train Error: 0.00377, Validation Error: 0.02222, Test Accuracy: 1.00000\n",
      "Epoch: 45, Train Error: 0.00351, Validation Error: 0.02162, Test Accuracy: 1.00000\n",
      "Epoch: 46, Train Error: 0.00327, Validation Error: 0.02106, Test Accuracy: 1.00000\n",
      "Epoch: 47, Train Error: 0.00305, Validation Error: 0.02062, Test Accuracy: 1.00000\n",
      "Epoch: 48, Train Error: 0.00284, Validation Error: 0.02010, Test Accuracy: 1.00000\n",
      "Epoch: 49, Train Error: 0.00266, Validation Error: 0.01977, Test Accuracy: 1.00000\n",
      "Epoch: 50, Train Error: 0.00248, Validation Error: 0.01938, Test Accuracy: 1.00000\n",
      "Epoch: 51, Train Error: 0.00232, Validation Error: 0.01910, Test Accuracy: 1.00000\n",
      "Epoch: 52, Train Error: 0.00218, Validation Error: 0.01884, Test Accuracy: 1.00000\n",
      "Epoch: 53, Train Error: 0.00204, Validation Error: 0.01847, Test Accuracy: 1.00000\n",
      "Epoch: 54, Train Error: 0.00191, Validation Error: 0.01825, Test Accuracy: 1.00000\n",
      "Epoch: 55, Train Error: 0.00179, Validation Error: 0.01792, Test Accuracy: 1.00000\n",
      "Epoch: 56, Train Error: 0.00169, Validation Error: 0.01774, Test Accuracy: 1.00000\n",
      "Epoch: 57, Train Error: 0.00159, Validation Error: 0.01745, Test Accuracy: 1.00000\n",
      "Epoch: 58, Train Error: 0.00151, Validation Error: 0.01728, Test Accuracy: 1.00000\n",
      "Epoch: 59, Train Error: 0.00143, Validation Error: 0.01705, Test Accuracy: 1.00000\n",
      "Epoch: 60, Train Error: 0.00136, Validation Error: 0.01695, Test Accuracy: 1.00000\n",
      "Epoch: 61, Train Error: 0.00129, Validation Error: 0.01674, Test Accuracy: 1.00000\n",
      "Epoch: 62, Train Error: 0.00123, Validation Error: 0.01665, Test Accuracy: 1.00000\n",
      "Epoch: 63, Train Error: 0.00118, Validation Error: 0.01655, Test Accuracy: 1.00000\n",
      "Epoch: 64, Train Error: 0.00113, Validation Error: 0.01635, Test Accuracy: 1.00000\n",
      "Epoch: 65, Train Error: 0.00108, Validation Error: 0.01628, Test Accuracy: 1.00000\n",
      "Epoch: 66, Train Error: 0.00104, Validation Error: 0.01610, Test Accuracy: 1.00000\n",
      "Epoch: 67, Train Error: 0.00100, Validation Error: 0.01598, Test Accuracy: 1.00000\n",
      "Epoch: 68, Train Error: 0.00096, Validation Error: 0.01592, Test Accuracy: 1.00000\n",
      "Epoch: 69, Train Error: 0.00093, Validation Error: 0.01577, Test Accuracy: 1.00000\n",
      "Epoch: 70, Train Error: 0.00090, Validation Error: 0.01572, Test Accuracy: 1.00000\n",
      "Epoch: 71, Train Error: 0.00087, Validation Error: 0.01566, Test Accuracy: 1.00000\n",
      "Epoch: 72, Train Error: 0.00084, Validation Error: 0.01552, Test Accuracy: 1.00000\n",
      "Epoch: 73, Train Error: 0.00081, Validation Error: 0.01550, Test Accuracy: 1.00000\n",
      "Epoch: 74, Train Error: 0.00079, Validation Error: 0.01541, Test Accuracy: 1.00000\n",
      "Epoch: 75, Train Error: 0.00077, Validation Error: 0.01537, Test Accuracy: 1.00000\n",
      "Epoch: 76, Train Error: 0.00074, Validation Error: 0.01528, Test Accuracy: 1.00000\n",
      "Epoch: 77, Train Error: 0.00072, Validation Error: 0.01521, Test Accuracy: 1.00000\n",
      "Epoch: 78, Train Error: 0.00071, Validation Error: 0.01518, Test Accuracy: 1.00000\n",
      "Epoch: 79, Train Error: 0.00069, Validation Error: 0.01510, Test Accuracy: 1.00000\n",
      "Epoch: 80, Train Error: 0.00067, Validation Error: 0.01509, Test Accuracy: 1.00000\n",
      "Epoch: 81, Train Error: 0.00065, Validation Error: 0.01500, Test Accuracy: 1.00000\n",
      "Epoch: 82, Train Error: 0.00064, Validation Error: 0.01493, Test Accuracy: 1.00000\n",
      "Epoch: 83, Train Error: 0.00062, Validation Error: 0.01490, Test Accuracy: 1.00000\n",
      "Epoch: 84, Train Error: 0.00061, Validation Error: 0.01482, Test Accuracy: 1.00000\n",
      "Epoch: 85, Train Error: 0.00059, Validation Error: 0.01478, Test Accuracy: 1.00000\n",
      "Epoch: 86, Train Error: 0.00058, Validation Error: 0.01475, Test Accuracy: 1.00000\n",
      "Epoch: 87, Train Error: 0.00057, Validation Error: 0.01471, Test Accuracy: 1.00000\n",
      "Epoch: 88, Train Error: 0.00056, Validation Error: 0.01465, Test Accuracy: 1.00000\n",
      "Epoch: 89, Train Error: 0.00055, Validation Error: 0.01458, Test Accuracy: 1.00000\n",
      "Epoch: 90, Train Error: 0.00053, Validation Error: 0.01451, Test Accuracy: 1.00000\n",
      "Epoch: 91, Train Error: 0.00052, Validation Error: 0.01449, Test Accuracy: 1.00000\n",
      "Epoch: 92, Train Error: 0.00051, Validation Error: 0.01445, Test Accuracy: 1.00000\n",
      "Epoch: 93, Train Error: 0.00050, Validation Error: 0.01442, Test Accuracy: 1.00000\n",
      "Epoch: 94, Train Error: 0.00049, Validation Error: 0.01439, Test Accuracy: 1.00000\n",
      "Epoch: 95, Train Error: 0.00049, Validation Error: 0.01434, Test Accuracy: 1.00000\n",
      "Epoch: 96, Train Error: 0.00048, Validation Error: 0.01430, Test Accuracy: 1.00000\n",
      "Epoch: 97, Train Error: 0.00047, Validation Error: 0.01423, Test Accuracy: 1.00000\n",
      "Epoch: 98, Train Error: 0.00046, Validation Error: 0.01421, Test Accuracy: 1.00000\n",
      "Epoch: 99, Train Error: 0.00045, Validation Error: 0.01417, Test Accuracy: 1.00000\n"
     ]
    },
    {
     "data": {
      "image/png": "[encoded data removed]",
      "text/plain": [
       "<matplotlib.figure.Figure at 0x147b2b7fb38>"
      ]
     },
     "metadata": {},
     "output_type": "display_data"
    },
    {
     "name": "stdout",
     "output_type": "stream",
     "text": [
      "[1 1 1 ..., 1 0 1]\n",
      "[1 1 1 ..., 1 0 1]\n",
      "Number of False Prediction: 0\n"
     ]
    }
   ],
   "source": [
    "import numpy as np\n",
    "import matplotlib.pyplot as plt\n",
    "import math\n",
    "import tensorflow as tf\n",
    "\n",
    "batch_size = 50  #배치사이즈가 트레이닝 데이터랑 딱 맞아 떨어지지 않을 때 어떻게 하지? - 자동으로 나머지 것만 들어감 31개가 마지막 배치에 있음\n",
    "training_epochs = 100\n",
    "learning_rate = 0.05\n",
    "\n",
    "epoch_list = []\n",
    "train_error_list = []\n",
    "validation_error_list = []\n",
    "test_accuracy_list = []\n",
    "diff_index_list = []\n",
    "\n",
    "# Network Parameters\n",
    "n_input = 22 \n",
    "n_hidden_1 = 22 \n",
    "n_hidden_2 = 22 \n",
    "n_classes = 2 \n",
    "    \n",
    "# Data Preparation\n",
    "x = tf.placeholder(tf.float32, [None, n_input])\n",
    "y_target = tf.placeholder(tf.float32, [None, n_classes])\n",
    "\n",
    "# Model Construction\n",
    "# Store layers weight & bias\n",
    "weights = {\n",
    "    'W1': tf.Variable(tf.random_normal([n_input, n_hidden_1])),\n",
    "    'W2': tf.Variable(tf.random_normal([n_hidden_1, n_hidden_2])),\n",
    "    'out': tf.Variable(tf.random_normal([n_hidden_2, n_classes]))\n",
    "}\n",
    "\n",
    "biases = {\n",
    "    'b1': tf.Variable(tf.random_normal([n_hidden_1])),\n",
    "    'b2': tf.Variable(tf.random_normal([n_hidden_2])),\n",
    "    'out': tf.Variable(tf.random_normal([n_classes]))\n",
    "}\n",
    "\n",
    "# 1st Hidden layer with RELU activation\n",
    "u2 = tf.matmul(x, weights['W1']) + biases['b1']\n",
    "z2 = tf.nn.relu(u2)\n",
    "\n",
    "# 2ndHidden layer with RELU activation\n",
    "u3 = tf.matmul(z2, weights['W2']) + biases['b2']\n",
    "z3 = tf.nn.relu(u3)\n",
    "\n",
    "# Output layer with linear activation\n",
    "u_out = tf.matmul(z3, weights['out']) + biases['out']\n",
    "\n",
    "# Target Setup\n",
    "error = tf.reduce_mean(tf.nn.softmax_cross_entropy_with_logits(logits=u_out, labels=y_target))\n",
    "optimizer = tf.train.GradientDescentOptimizer(learning_rate).minimize(error)\n",
    "\n",
    "# Accuracy   \n",
    "prediction_and_ground_truth = tf.equal(tf.argmax(u_out, 1), tf.argmax(y_target, 1))\n",
    "accuracy = tf.reduce_mean(tf.cast(prediction_and_ground_truth, tf.float32))\n",
    "\n",
    "def draw_error_values_and_accuracy():\n",
    "    # Draw Error Values and Accuracy\n",
    "    fig = plt.figure(figsize=(20, 5))\n",
    "    plt.subplot(121)\n",
    "    plt.plot(epoch_list[1:], train_error_list[1:], 'r', label='Train')\n",
    "    plt.plot(epoch_list[1:], validation_error_list[1:], 'g', label='Validation')\n",
    "    plt.ylabel('Total Error')\n",
    "    plt.xlabel('Epochs')\n",
    "    plt.grid(True)\n",
    "    plt.legend(loc='upper right')\n",
    "\n",
    "    plt.subplot(122)\n",
    "    plt.plot(epoch_list[1:], test_accuracy_list[1:], 'b', label='Test')\n",
    "    plt.ylabel('Accuracy')\n",
    "    plt.xlabel('Epochs')\n",
    "    plt.yticks(np.arange(0.0, 1.0, 0.05))\n",
    "    plt.grid(True)\n",
    "    plt.legend(loc='lower right')\n",
    "    plt.show()\n",
    "    \n",
    "def draw_false_prediction():\n",
    "    for i in range(5):\n",
    "        j = diff_index_list[i]\n",
    "        print(\"False Prediction Index: %s, Prediction: %s, Ground Truth: %s\" % (j, prediction[j], ground_truth[j]))\n",
    "        \n",
    "\n",
    "\n",
    "with tf.Session() as sess:\n",
    "    init = tf.global_variables_initializer()\n",
    "    sess.run(init)\n",
    "    \n",
    "    total_batch = int(math.ceil(train['data'].shape[0]/float(batch_size)))\n",
    "    print(\"Total batch: %d\" % total_batch)    \n",
    "\n",
    "    for epoch in range(training_epochs):\n",
    "        epoch_list.append(epoch)\n",
    "        # Train Error Value\n",
    "        train_error_value = sess.run(error, feed_dict={x: train['data'], y_target: train['labels']})\n",
    "        train_error_list.append(train_error_value)\n",
    "        \n",
    "        validation_error_value = sess.run(error, feed_dict={x: validation['data'], y_target:  validation['labels']})\n",
    "        validation_error_list.append(validation_error_value)\n",
    "        \n",
    "        test_accuracy_value = sess.run(accuracy, feed_dict={x: test['data'], y_target: test['labels']})\n",
    "        test_accuracy_list.append(test_accuracy_value) \n",
    "        print(\"Epoch: {0:2d}, Train Error: {1:0.5f}, Validation Error: {2:0.5f}, Test Accuracy: {3:0.5f}\".format(epoch, train_error_value, validation_error_value, test_accuracy_value))\n",
    "        \n",
    "        \n",
    "        for i in range(total_batch):   # 토탈 train 개수가 소수라면 어떻게 처리?\n",
    "            #버섯 데이터에는 batch_next함수가 없다. 따라서 이런식으로 했다.\n",
    "            #처음에는 잘몰라서 그냥 모든 데이터를 130번씩 돌렸는데, 그냥 전체를 돌린거랑 현재꺼랑 얼마나 속도차이가 나는지  - 엄청나다 ! \n",
    "            batch_images = train['data'][i*batch_size:(i+1)*batch_size] \n",
    "            batch_labels = train['labels'][i*batch_size:(i+1)*batch_size]\n",
    "            sess.run(optimizer, feed_dict={x: batch_images, y_target: batch_labels})\n",
    "\n",
    "\n",
    "    # Draw Graph about Error Values & Accuracy Values\n",
    "    draw_error_values_and_accuracy()\n",
    "    \n",
    "    # False Prediction Profile\n",
    "    prediction = sess.run(tf.argmax(u_out, 1), feed_dict={x:test['data']})\n",
    "    ground_truth = sess.run(tf.argmax(y_target, 1), feed_dict={y_target:test['labels']})\n",
    "\n",
    "    print(prediction)\n",
    "    print(ground_truth)\n",
    "\n",
    "    for i in range(test['data'].shape[0]):\n",
    "        if (prediction[i] != ground_truth[i]):\n",
    "            diff_index_list.append(i)\n",
    "            \n",
    "    print(\"Number of False Prediction:\", len(diff_index_list))\n",
    "    if(diff_index_list == 0):\n",
    "        draw_false_prediction()"
   ]
  }
 ],
 "metadata": {
  "anaconda-cloud": {},
  "kernelspec": {
   "display_name": "Python [conda root]",
   "language": "python",
   "name": "conda-root-py"
  },
  "language_info": {
   "codemirror_mode": {
    "name": "ipython",
    "version": 3
   },
   "file_extension": ".py",
   "mimetype": "text/x-python",
   "name": "python",
   "nbconvert_exporter": "python",
   "pygments_lexer": "ipython3",
   "version": "3.5.2"
  }
 },
 "nbformat": 4,
 "nbformat_minor": 1
}
