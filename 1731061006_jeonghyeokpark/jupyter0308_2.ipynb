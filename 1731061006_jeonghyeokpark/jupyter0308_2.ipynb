{
 "cells": [
  {
   "cell_type": "code",
   "execution_count": 6,
   "metadata": {
    "collapsed": false
   },
   "outputs": [
    {
     "name": "stdout",
     "output_type": "stream",
     "text": [
      "NOTE: Enter 'c' at the ipdb>  prompt to continue execution.\n",
      "\u001b[0;31m---------------------------------------------------------------------------\u001b[0m\n",
      "\u001b[0;31mSyntaxError\u001b[0m                               Traceback (most recent call last)\n",
      "\u001b[0;31mSyntaxError\u001b[0m: invalid syntax (<string>, line 10)\n"
     ]
    }
   ],
   "source": [
    "%%debug\n",
    "#피보나치 수열 함수\n",
    "def fibonacci(n):\n",
    "    if n <1:\n",
    "        return 1\n",
    "    else:\n",
    "        return fibonacci(n-1)+fibonacci(n-2)\n",
    "    \n",
    "#피보나치 실행부 출력\n",
    "print '피보나치 f(10)=', fibonacci(10)"
   ]
  },
  {
   "cell_type": "code",
   "execution_count": 1,
   "metadata": {
    "collapsed": false
   },
   "outputs": [
    {
     "name": "stdout",
     "output_type": "stream",
     "text": [
      "NOTE: Enter 'c' at the ipdb>  prompt to continue execution.\n",
      "\u001b[0;31m---------------------------------------------------------------------------\u001b[0m\n",
      "\u001b[0;31mSyntaxError\u001b[0m                               Traceback (most recent call last)\n",
      "\u001b[0;31mSyntaxError\u001b[0m: invalid syntax (<string>, line 10)\n"
     ]
    }
   ],
   "source": [
    "%%debug\n",
    "#피보나치 수열 함수\n",
    "def fibonacci(n):\n",
    "    if n <1:\n",
    "        return 1\n",
    "    else:\n",
    "        return fibonacci(n-1)+fibonacci(n-2)\n",
    "    \n",
    "#피보나치 실행부 출력\n",
    "print '피보나치 f(10)=', fibonacci(10)"
   ]
  },
  {
   "cell_type": "code",
   "execution_count": 7,
   "metadata": {
    "collapsed": false,
    "scrolled": true
   },
   "outputs": [
    {
     "ename": "SyntaxError",
     "evalue": "Missing parentheses in call to 'print' (<ipython-input-7-c7a559c3b1ab>, line 2)",
     "output_type": "error",
     "traceback": [
      "\u001b[0;36m  File \u001b[0;32m\"<ipython-input-7-c7a559c3b1ab>\"\u001b[0;36m, line \u001b[0;32m2\u001b[0m\n\u001b[0;31m    print 'world'\u001b[0m\n\u001b[0m                ^\u001b[0m\n\u001b[0;31mSyntaxError\u001b[0m\u001b[0;31m:\u001b[0m Missing parentheses in call to 'print'\n"
     ]
    }
   ],
   "source": [
    "def A():\n",
    "    print 'world'\n",
    "def B():\n",
    "    print 'hello'\n",
    "    A()\n"
   ]
  },
  {
   "cell_type": "code",
   "execution_count": 6,
   "metadata": {
    "collapsed": false
   },
   "outputs": [
    {
     "name": "stdout",
     "output_type": "stream",
     "text": [
      "NOTE: Enter 'c' at the ipdb>  prompt to continue execution.\n",
      "> \u001b[0;32m<string>\u001b[0m(1)\u001b[0;36m<module>\u001b[0;34m()\u001b[0m\n",
      "\n",
      "ipdb> b 5\n",
      "End of file\n",
      "ipdb> b4\n",
      "*** NameError: name 'b4' is not defined\n",
      "ipdb> b 4\n",
      "End of file\n",
      "ipdb> b 3\n",
      "End of file\n",
      "ipdb> b 1\n",
      "End of file\n",
      "ipdb> c\n",
      "\u001b[0;31m---------------------------------------------------------------------------\u001b[0m\n",
      "\u001b[0;31mNameError\u001b[0m                                 Traceback (most recent call last)\n",
      "\u001b[0;31mNameError\u001b[0m: name 'B' is not defined\n"
     ]
    }
   ],
   "source": [
    "%debug B()"
   ]
  }
 ],
 "metadata": {
  "anaconda-cloud": {},
  "kernelspec": {
   "display_name": "Python [conda root]",
   "language": "python",
   "name": "conda-root-py"
  },
  "language_info": {
   "codemirror_mode": {
    "name": "ipython",
    "version": 3
   },
   "file_extension": ".py",
   "mimetype": "text/x-python",
   "name": "python",
   "nbconvert_exporter": "python",
   "pygments_lexer": "ipython3",
   "version": "3.5.2"
  }
 },
 "nbformat": 4,
 "nbformat_minor": 1
}
