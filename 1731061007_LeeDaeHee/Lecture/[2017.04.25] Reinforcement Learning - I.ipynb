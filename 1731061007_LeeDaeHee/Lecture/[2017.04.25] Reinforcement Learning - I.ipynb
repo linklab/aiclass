{
 "cells": [
  {
   "cell_type": "markdown",
   "metadata": {},
   "source": [
    "# Dummy Q-Learning Algorithm"
   ]
  },
  {
   "cell_type": "code",
   "execution_count": 1,
   "metadata": {
    "collapsed": true
   },
   "outputs": [],
   "source": [
    "import gym"
   ]
  },
  {
   "cell_type": "code",
   "execution_count": 2,
   "metadata": {
    "collapsed": false
   },
   "outputs": [
    {
     "name": "stderr",
     "output_type": "stream",
     "text": [
      "[2017-04-25 21:24:38,368] Making new env: FrozenLake-v3\n"
     ]
    },
    {
     "name": "stdout",
     "output_type": "stream",
     "text": [
      "\n",
      "\u001b[41mS\u001b[0mFFF\n",
      "FHFH\n",
      "FFFH\n",
      "HFFG\n",
      "env.observation_space.n: 16\n",
      "env.action_space.n: 4\n",
      "Success rate: 0.823\n",
      "Final Q-Table Values\n",
      "LEFT DOWN RIGHT UP\n",
      "[[ 0.  1.  0.  0.]\n",
      " [ 0.  0.  0.  0.]\n",
      " [ 0.  0.  0.  0.]\n",
      " [ 0.  0.  0.  0.]\n",
      " [ 0.  1.  0.  0.]\n",
      " [ 0.  0.  0.  0.]\n",
      " [ 0.  0.  0.  0.]\n",
      " [ 0.  0.  0.  0.]\n",
      " [ 0.  0.  1.  0.]\n",
      " [ 0.  0.  1.  0.]\n",
      " [ 0.  1.  0.  0.]\n",
      " [ 0.  0.  0.  0.]\n",
      " [ 0.  0.  0.  0.]\n",
      " [ 0.  0.  0.  0.]\n",
      " [ 0.  0.  1.  0.]\n",
      " [ 0.  0.  0.  0.]]\n"
     ]
    },
    {
     "data": {
      "image/png": "[encoded data removed]",
      "text/plain": [
       "<matplotlib.figure.Figure at 0x1c07ec5af28>"
      ]
     },
     "metadata": {},
     "output_type": "display_data"
    }
   ],
   "source": [
    "# Dummy Q-Table learning algorithm\n",
    "from __future__ import print_function\n",
    "\n",
    "import gym\n",
    "from gym.envs.registration import register #register 임폴트하기\n",
    "import numpy as np\n",
    "import random\n",
    "import matplotlib.pyplot as plt\n",
    "\n",
    "register(\n",
    "    id = 'FrozenLake-v3',\n",
    "    entry_point = 'gym.envs.toy_text:FrozenLakeEnv',\n",
    "    kwargs={\n",
    "        'map_name': '4x4',\n",
    "        'is_slippery': False\n",
    "    }\n",
    ")\n",
    "\n",
    "def rargmax(vector):\n",
    "    # vector: [ 0.  1.  1.  0.]\n",
    "    # Return the maximum number of an array element.\n",
    "    m = np.amax(vector)     # m = 1.\n",
    "    # Return the list of indices of the elements that are non-zero and the given condition is True\n",
    "    indices = np.nonzero(vector == m)[0]   # indices = [1, 2] vector==m을 true로 만들어주는 index 값을 불러옴\n",
    "    return random.choice(indices)\n",
    "\n",
    "env = gym.make(\"FrozenLake-v3\")\n",
    "env.render()\n",
    "\n",
    "print(\"env.observation_space.n:\", env.observation_space.n) \n",
    "print(\"env.action_space.n:\", env.action_space.n)\n",
    "Q = np.zeros([env.observation_space.n, env.action_space.n]) # Q=np.zero([16,4]), 16x4를 0으로 채움\n",
    "num_episodes = 2000 \n",
    "\n",
    "# list to contain total rewards and steps per episode\n",
    "rList = []\n",
    "\n",
    "for i in range(num_episodes): # 2000번 반복\n",
    "    # Reset environment and get first new observation\n",
    "    state = env.reset()\n",
    "    rAll = 0\n",
    "    done = False # flag 변수\n",
    "\n",
    "    # The Q-Table learning algorithm\n",
    "    while not done:\n",
    "        action = rargmax(Q[state, :]) # \n",
    "\n",
    "        # Get new state and reward from environment\n",
    "        new_state, reward, done, info = env.step(action)\n",
    "\n",
    "        # Update Q-Table with new knowledge using learning rate\n",
    "        Q[state, action] = reward + np.max(Q[new_state, :]) # 다음 state에서 가장 큰 값 출력\n",
    "\n",
    "        rAll += reward # 2000번의 반복동안 발생하는 보상들의 합\n",
    "        state = new_state\n",
    "\n",
    "    rList.append(rAll) \n",
    "\n",
    "print(\"Success rate: \" + str(sum(rList)/num_episodes)) #2000번의 반복들의 보상들의 합을 에피소드 횟수로 나눔.\n",
    "print(\"Final Q-Table Values\")\n",
    "print(\"LEFT DOWN RIGHT UP\")\n",
    "print(Q)\n",
    "plt.plot(rList)\n",
    "plt.ylim(-0.5, 1.5)\n",
    "plt.show()"
   ]
  },
  {
   "cell_type": "code",
   "execution_count": null,
   "metadata": {
    "collapsed": true
   },
   "outputs": [],
   "source": []
  }
 ],
 "metadata": {
  "anaconda-cloud": {},
  "kernelspec": {
   "display_name": "Python [conda root]",
   "language": "python",
   "name": "conda-root-py"
  },
  "language_info": {
   "codemirror_mode": {
    "name": "ipython",
    "version": 3
   },
   "file_extension": ".py",
   "mimetype": "text/x-python",
   "name": "python",
   "nbconvert_exporter": "python",
   "pygments_lexer": "ipython3",
   "version": "3.5.2"
  }
 },
 "nbformat": 4,
 "nbformat_minor": 1
}
