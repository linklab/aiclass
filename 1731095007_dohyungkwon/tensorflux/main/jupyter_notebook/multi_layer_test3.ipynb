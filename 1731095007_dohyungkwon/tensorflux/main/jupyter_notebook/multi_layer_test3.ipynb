{
 "cells": [
  {
   "cell_type": "code",
   "execution_count": 1,
   "metadata": {
    "collapsed": true,
    "scrolled": true
   },
   "outputs": [],
   "source": [
    "import sys\n",
    "sys.path.insert(0, \"/Users/do-hyungkwon/GoogleDrive/git/aiclass/1731095007_dohyungkwon/\")\n",
    "\n",
    "import tensorflux.graph as tfg\n",
    "import tensorflux.deep_learning_networks as tfn\n",
    "import tensorflux.enums as tfe\n",
    "import datasource.mnist as mnist\n",
    "import tensorflux.functions as tff\n",
    "import math\n",
    "%matplotlib inline\n",
    "# pip install pygraphviz"
   ]
  },
  {
   "cell_type": "code",
   "execution_count": 2,
   "metadata": {
    "collapsed": true
   },
   "outputs": [],
   "source": [
    "input_size = 784\n",
    "hidden_layer1_size = 128\n",
    "hidden_layer2_size = 128\n",
    "output_size = 10\n",
    "\n",
    "x = tfg.Placeholder(name=\"x\")\n",
    "target = tfg.Placeholder(name=\"target\")\n",
    "\n",
    "n = tfn.Multi_Layer_Network(\n",
    "    input_size=input_size,\n",
    "    hidden_size_list=[hidden_layer1_size, hidden_layer2_size],\n",
    "    output_size=output_size,\n",
    "    input_node=x,\n",
    "    target_node=target,\n",
    "    init_mean=0.0,\n",
    "    init_sd=0.01,# 값을 크게 준다는 것은 값들이 더 넓게 분포한다는 것을 의미. 0.1로 주면 수행 잘 안됨.\n",
    "    # 왜 특정 초기값을 주어야 학습이 잘 이루어지는것인지 연구가 필요\n",
    "    # 기준이 뚜렷하지 않음\n",
    "    # /Users/do-hyungkwon/GoogleDrive/git/aiclass/0.Professor/tensorflux/main/vanilla_multi_layer_test\n",
    "    # cost function을 벗어나거나 local optima에 빠지거나 하는 등.. \n",
    "    # 함수를 설계하기 나름 아닌가? \n",
    "    # 시각화할 수 있으면 도움이 좀 되나?\n",
    "    activator=tfe.Activator.ReLU.value,\n",
    "    optimizer=tfe.Optimizer.SGD.value,\n",
    "    learning_rate=0.01\n",
    ")"
   ]
  },
  {
   "cell_type": "code",
   "execution_count": 3,
   "metadata": {
    "collapsed": true
   },
   "outputs": [],
   "source": [
    "# pip install pygraphviz\n",
    "# n.draw_and_show(figsize=(20, 10))"
   ]
  },
  {
   "cell_type": "code",
   "execution_count": 4,
   "metadata": {
    "collapsed": true,
    "scrolled": false
   },
   "outputs": [],
   "source": [
    "#data = mnist.MNIST_Data()\n",
    "data = mnist.MNIST_Data()"
   ]
  },
  {
   "cell_type": "code",
   "execution_count": 7,
   "metadata": {
    "scrolled": true
   },
   "outputs": [
    {
     "name": "stdout",
     "output_type": "stream",
     "text": [
      "Initial Accuracy 0.9634\n",
      "Epoch   0 Completed - Train Error: 0.126811 - Validation Error: 0.116170 - Test Accuracy: 0.963400\n",
      "Epoch   1 Completed - Train Error: 0.114141 - Validation Error: 0.109934 - Test Accuracy: 0.965500\n",
      "Epoch   2 Completed - Train Error: 0.131455 - Validation Error: 0.104957 - Test Accuracy: 0.967600\n",
      "Epoch   3 Completed - Train Error: 0.076541 - Validation Error: 0.100777 - Test Accuracy: 0.968200\n",
      "Epoch   4 Completed - Train Error: 0.067044 - Validation Error: 0.097183 - Test Accuracy: 0.970000\n",
      "Epoch   5 Completed - Train Error: 0.085843 - Validation Error: 0.094239 - Test Accuracy: 0.971000\n",
      "Epoch   6 Completed - Train Error: 0.085445 - Validation Error: 0.091722 - Test Accuracy: 0.972000\n",
      "Epoch   7 Completed - Train Error: 0.067895 - Validation Error: 0.089542 - Test Accuracy: 0.972500\n",
      "Epoch   8 Completed - Train Error: 0.048455 - Validation Error: 0.087734 - Test Accuracy: 0.973700\n",
      "Epoch   9 Completed - Train Error: 0.052270 - Validation Error: 0.086157 - Test Accuracy: 0.974100\n",
      "Epoch  10 Completed - Train Error: 0.068605 - Validation Error: 0.084653 - Test Accuracy: 0.974600\n",
      "Epoch  11 Completed - Train Error: 0.072228 - Validation Error: 0.083333 - Test Accuracy: 0.975100\n",
      "Epoch  12 Completed - Train Error: 0.055034 - Validation Error: 0.082232 - Test Accuracy: 0.974900\n",
      "Epoch  13 Completed - Train Error: 0.053472 - Validation Error: 0.081238 - Test Accuracy: 0.975100\n",
      "Epoch  14 Completed - Train Error: 0.042078 - Validation Error: 0.080198 - Test Accuracy: 0.975300\n",
      "Epoch  15 Completed - Train Error: 0.040503 - Validation Error: 0.079314 - Test Accuracy: 0.975800\n",
      "Epoch  16 Completed - Train Error: 0.032733 - Validation Error: 0.078578 - Test Accuracy: 0.976500\n",
      "Epoch  17 Completed - Train Error: 0.043274 - Validation Error: 0.077916 - Test Accuracy: 0.976700\n",
      "Epoch  18 Completed - Train Error: 0.037006 - Validation Error: 0.077235 - Test Accuracy: 0.977100\n",
      "Epoch  19 Completed - Train Error: 0.042215 - Validation Error: 0.076591 - Test Accuracy: 0.977300\n",
      "Epoch  20 Completed - Train Error: 0.023534 - Validation Error: 0.076082 - Test Accuracy: 0.977500\n",
      "Epoch  21 Completed - Train Error: 0.027174 - Validation Error: 0.075801 - Test Accuracy: 0.977200\n",
      "Epoch  22 Completed - Train Error: 0.027867 - Validation Error: 0.075256 - Test Accuracy: 0.977600\n",
      "Epoch  23 Completed - Train Error: 0.035214 - Validation Error: 0.075061 - Test Accuracy: 0.977900\n",
      "Epoch  24 Completed - Train Error: 0.034418 - Validation Error: 0.074684 - Test Accuracy: 0.977700\n",
      "Epoch  25 Completed - Train Error: 0.027527 - Validation Error: 0.074493 - Test Accuracy: 0.977800\n",
      "Epoch  26 Completed - Train Error: 0.026598 - Validation Error: 0.074160 - Test Accuracy: 0.977700\n",
      "Epoch  27 Completed - Train Error: 0.025117 - Validation Error: 0.074010 - Test Accuracy: 0.977800\n",
      "Epoch  28 Completed - Train Error: 0.025431 - Validation Error: 0.073922 - Test Accuracy: 0.977900\n",
      "Epoch  29 Completed - Train Error: 0.026112 - Validation Error: 0.073787 - Test Accuracy: 0.977900\n",
      "Epoch  30 Completed - Train Error: 0.020966 - Validation Error: 0.073654 - Test Accuracy: 0.978000\n",
      "Epoch  31 Completed - Train Error: 0.012674 - Validation Error: 0.073692 - Test Accuracy: 0.978100\n",
      "Epoch  32 Completed - Train Error: 0.018207 - Validation Error: 0.073572 - Test Accuracy: 0.977900\n",
      "Epoch  33 Completed - Train Error: 0.018322 - Validation Error: 0.073577 - Test Accuracy: 0.978400\n",
      "Epoch  34 Completed - Train Error: 0.012405 - Validation Error: 0.073602 - Test Accuracy: 0.978400\n",
      "Epoch  35 Completed - Train Error: 0.016316 - Validation Error: 0.073578 - Test Accuracy: 0.978300\n",
      "Epoch  36 Completed - Train Error: 0.008096 - Validation Error: 0.073564 - Test Accuracy: 0.978400\n",
      "Epoch  37 Completed - Train Error: 0.016625 - Validation Error: 0.073668 - Test Accuracy: 0.978500\n",
      "Epoch  38 Completed - Train Error: 0.013530 - Validation Error: 0.073791 - Test Accuracy: 0.978500\n",
      "Epoch  39 Completed - Train Error: 0.013175 - Validation Error: 0.073937 - Test Accuracy: 0.978500\n",
      "Epoch  40 Completed - Train Error: 0.012218 - Validation Error: 0.073946 - Test Accuracy: 0.978600\n",
      "Epoch  41 Completed - Train Error: 0.025312 - Validation Error: 0.074209 - Test Accuracy: 0.978600\n",
      "Epoch  42 Completed - Train Error: 0.015956 - Validation Error: 0.074370 - Test Accuracy: 0.978700\n",
      "Epoch  43 Completed - Train Error: 0.011393 - Validation Error: 0.074338 - Test Accuracy: 0.978800\n",
      "Epoch  44 Completed - Train Error: 0.007770 - Validation Error: 0.074603 - Test Accuracy: 0.978900\n",
      "Epoch  45 Completed - Train Error: 0.008580 - Validation Error: 0.074477 - Test Accuracy: 0.979100\n",
      "Epoch  46 Completed - Train Error: 0.008168 - Validation Error: 0.074728 - Test Accuracy: 0.979000\n",
      "Epoch  47 Completed - Train Error: 0.010774 - Validation Error: 0.074846 - Test Accuracy: 0.979100\n",
      "Epoch  48 Completed - Train Error: 0.007231 - Validation Error: 0.074981 - Test Accuracy: 0.979300\n",
      "Epoch  49 Completed - Train Error: 0.005715 - Validation Error: 0.075063 - Test Accuracy: 0.979300\n",
      "Epoch  50 Completed - Train Error: 0.007273 - Validation Error: 0.075259 - Test Accuracy: 0.979200\n",
      "Epoch  51 Completed - Train Error: 0.005914 - Validation Error: 0.075309 - Test Accuracy: 0.979100\n",
      "Epoch  52 Completed - Train Error: 0.007923 - Validation Error: 0.075600 - Test Accuracy: 0.979100\n",
      "Epoch  53 Completed - Train Error: 0.007030 - Validation Error: 0.075757 - Test Accuracy: 0.979200\n",
      "Epoch  54 Completed - Train Error: 0.007091 - Validation Error: 0.075947 - Test Accuracy: 0.979200\n",
      "Epoch  55 Completed - Train Error: 0.007903 - Validation Error: 0.076233 - Test Accuracy: 0.979100\n",
      "Epoch  56 Completed - Train Error: 0.012903 - Validation Error: 0.076426 - Test Accuracy: 0.979200\n",
      "Epoch  57 Completed - Train Error: 0.006169 - Validation Error: 0.076711 - Test Accuracy: 0.979300\n",
      "Epoch  58 Completed - Train Error: 0.005782 - Validation Error: 0.076927 - Test Accuracy: 0.979400\n",
      "Epoch  59 Completed - Train Error: 0.004499 - Validation Error: 0.077071 - Test Accuracy: 0.979200\n",
      "Epoch  60 Completed - Train Error: 0.005552 - Validation Error: 0.077218 - Test Accuracy: 0.979200\n",
      "Epoch  61 Completed - Train Error: 0.004914 - Validation Error: 0.077559 - Test Accuracy: 0.979100\n",
      "Epoch  62 Completed - Train Error: 0.006330 - Validation Error: 0.077849 - Test Accuracy: 0.979300\n",
      "Epoch  63 Completed - Train Error: 0.003015 - Validation Error: 0.077996 - Test Accuracy: 0.979200\n",
      "Epoch  64 Completed - Train Error: 0.004625 - Validation Error: 0.078158 - Test Accuracy: 0.979300\n",
      "Epoch  65 Completed - Train Error: 0.003567 - Validation Error: 0.078394 - Test Accuracy: 0.979300\n",
      "Epoch  66 Completed - Train Error: 0.003191 - Validation Error: 0.078461 - Test Accuracy: 0.979200\n",
      "Epoch  67 Completed - Train Error: 0.004786 - Validation Error: 0.078936 - Test Accuracy: 0.979400\n",
      "Epoch  68 Completed - Train Error: 0.002459 - Validation Error: 0.079002 - Test Accuracy: 0.979300\n",
      "Epoch  69 Completed - Train Error: 0.003428 - Validation Error: 0.079196 - Test Accuracy: 0.979400\n",
      "Epoch  70 Completed - Train Error: 0.005731 - Validation Error: 0.079536 - Test Accuracy: 0.979200\n",
      "Epoch  71 Completed - Train Error: 0.004427 - Validation Error: 0.079588 - Test Accuracy: 0.979300\n",
      "Epoch  72 Completed - Train Error: 0.004341 - Validation Error: 0.079908 - Test Accuracy: 0.979200\n",
      "Epoch  73 Completed - Train Error: 0.002928 - Validation Error: 0.080112 - Test Accuracy: 0.979200\n",
      "Epoch  74 Completed - Train Error: 0.003231 - Validation Error: 0.080307 - Test Accuracy: 0.979000\n",
      "Epoch  75 Completed - Train Error: 0.003141 - Validation Error: 0.080483 - Test Accuracy: 0.979400\n",
      "Epoch  76 Completed - Train Error: 0.004508 - Validation Error: 0.080796 - Test Accuracy: 0.979300\n",
      "Epoch  77 Completed - Train Error: 0.002358 - Validation Error: 0.080947 - Test Accuracy: 0.979200\n",
      "Epoch  78 Completed - Train Error: 0.002680 - Validation Error: 0.081123 - Test Accuracy: 0.979300\n",
      "Epoch  79 Completed - Train Error: 0.002551 - Validation Error: 0.081408 - Test Accuracy: 0.979400\n",
      "Epoch  80 Completed - Train Error: 0.002787 - Validation Error: 0.081580 - Test Accuracy: 0.979200\n",
      "Epoch  81 Completed - Train Error: 0.002813 - Validation Error: 0.081760 - Test Accuracy: 0.979400\n",
      "Epoch  82 Completed - Train Error: 0.002634 - Validation Error: 0.081935 - Test Accuracy: 0.979300\n"
     ]
    },
    {
     "name": "stdout",
     "output_type": "stream",
     "text": [
      "Epoch  83 Completed - Train Error: 0.002644 - Validation Error: 0.082155 - Test Accuracy: 0.979300\n",
      "Epoch  84 Completed - Train Error: 0.003578 - Validation Error: 0.082280 - Test Accuracy: 0.979300\n",
      "Epoch  85 Completed - Train Error: 0.001923 - Validation Error: 0.082571 - Test Accuracy: 0.979100\n",
      "Epoch  86 Completed - Train Error: 0.002757 - Validation Error: 0.082700 - Test Accuracy: 0.979000\n",
      "Epoch  87 Completed - Train Error: 0.002310 - Validation Error: 0.082877 - Test Accuracy: 0.979100\n",
      "Epoch  88 Completed - Train Error: 0.001929 - Validation Error: 0.083031 - Test Accuracy: 0.979100\n",
      "Epoch  89 Completed - Train Error: 0.001797 - Validation Error: 0.083235 - Test Accuracy: 0.979200\n",
      "Epoch  90 Completed - Train Error: 0.002031 - Validation Error: 0.083387 - Test Accuracy: 0.979200\n",
      "Epoch  91 Completed - Train Error: 0.001662 - Validation Error: 0.083630 - Test Accuracy: 0.979200\n",
      "Epoch  92 Completed - Train Error: 0.001930 - Validation Error: 0.083759 - Test Accuracy: 0.979200\n",
      "Epoch  93 Completed - Train Error: 0.001888 - Validation Error: 0.083990 - Test Accuracy: 0.979200\n",
      "Epoch  94 Completed - Train Error: 0.001438 - Validation Error: 0.084123 - Test Accuracy: 0.979000\n",
      "Epoch  95 Completed - Train Error: 0.002218 - Validation Error: 0.084239 - Test Accuracy: 0.978900\n",
      "Epoch  96 Completed - Train Error: 0.001812 - Validation Error: 0.084458 - Test Accuracy: 0.978700\n",
      "Epoch  97 Completed - Train Error: 0.002187 - Validation Error: 0.084639 - Test Accuracy: 0.978600\n",
      "Epoch  98 Completed - Train Error: 0.001672 - Validation Error: 0.084783 - Test Accuracy: 0.978600\n",
      "Epoch  99 Completed - Train Error: 0.001593 - Validation Error: 0.084907 - Test Accuracy: 0.978600\n",
      "Epoch 100 Completed - Train Error: 0.002037 - Validation Error: 0.085115 - Test Accuracy: 0.978500\n",
      "Post-learning Accuracy 0.9785\n"
     ]
    }
   ],
   "source": [
    "forward_final_output = n.feed_forward(input_data=data.test_input)\n",
    "#print(forward_final_output.shape)\n",
    "print(\"Initial Accuracy\", tff.accuracy(forward_final_output, data.test_target))\n",
    "\n",
    "batch_size = 1000 #1000장의 이미지를 뭉탱이로 준다.\n",
    "n.learning(max_epoch=100, data=data, batch_size=batch_size, print_period=1, verbose=False)#True\n",
    "\n",
    "forward_final_output = n.feed_forward(input_data=data.test_input)\n",
    "print(\"Post-learning Accuracy\", tff.accuracy(forward_final_output, data.test_target))"
   ]
  },
  {
   "cell_type": "code",
   "execution_count": null,
   "metadata": {
    "collapsed": true
   },
   "outputs": [],
   "source": [
    "# validation error가 최소일 때가 가장 좋은 모델이다\n",
    "# 즉 epoch N번째에서 가장 낮은 validation error를 보이는 것이 가장 좋은 모델이다. \n",
    "# 즉 그 에폭에 해당하는 파라미터를 끄집어 와야 한다는 소리다.\n",
    "\n",
    "\n",
    "# 따라서 위의 그래프에서는 초록색이 최저일 떄 끝났어야 함\n",
    "# 따라서 에포크마다 파라미터를 저장할 필요가 있음\n",
    "\n",
    "# 그럼, 왜 갑자기 error가 높아지는건가? 특히 Fashion MNIST에서.\n",
    "\n"
   ]
  },
  {
   "cell_type": "code",
   "execution_count": 10,
   "metadata": {},
   "outputs": [
    {
     "name": "stdout",
     "output_type": "stream",
     "text": [
      "False Prediction Index: 8, Prediction: Six, Ground Truth: Five\n",
      "False Prediction Index: 62, Prediction: Eight, Ground Truth: Nine\n",
      "False Prediction Index: 115, Prediction: Nine, Ground Truth: Four\n",
      "False Prediction Index: 149, Prediction: Four, Ground Truth: Two\n",
      "False Prediction Index: 151, Prediction: Eight, Ground Truth: Nine\n"
     ]
    },
    {
     "data": {
      "image/png": "[encoded data removed]",
      "text/plain": [
       "<matplotlib.figure.Figure at 0x113eb6588>"
      ]
     },
     "metadata": {},
     "output_type": "display_data"
    }
   ],
   "source": [
    "n.draw_false_prediction(data.test_input, data.test_target, data.labels, num=5, figsize=(20, 5))\n",
    "# cost-learning Accuracy 0.9783\n",
    "# 틀린 217개 중 다섯개의 이미지 출력"
   ]
  },
  {
   "cell_type": "code",
   "execution_count": null,
   "metadata": {
    "collapsed": true
   },
   "outputs": [],
   "source": []
  }
 ],
 "metadata": {
  "kernelspec": {
   "display_name": "Python 3",
   "language": "python",
   "name": "python3"
  },
  "language_info": {
   "codemirror_mode": {
    "name": "ipython",
    "version": 3
   },
   "file_extension": ".py",
   "mimetype": "text/x-python",
   "name": "python",
   "nbconvert_exporter": "python",
   "pygments_lexer": "ipython3",
   "version": "3.6.1"
  }
 },
 "nbformat": 4,
 "nbformat_minor": 2
}
