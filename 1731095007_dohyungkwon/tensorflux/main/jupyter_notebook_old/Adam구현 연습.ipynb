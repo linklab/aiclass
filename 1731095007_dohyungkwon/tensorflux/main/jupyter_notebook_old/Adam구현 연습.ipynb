{
 "cells": [
  {
   "cell_type": "code",
   "execution_count": null,
   "metadata": {
    "collapsed": true
   },
   "outputs": [],
   "source": [
    "# -*- coding:utf-8 -*-\n",
    "import sys\n",
    "import numpy as np\n",
    "from numba import jit\n",
    "\n",
    "class SGD:\n",
    "    def __init__(self, learning_rate=0.01):\n",
    "        self.learning_rate = learning_rate\n",
    "        self.params = None\n",
    "\n",
    "    #\n",
    "    @jit(nopython=True)\n",
    "    def update(self, grads):\n",
    "        for key in self.params.keys():\n",
    "            self.params[key].value = self.params[key].value - self.learning_rate * grads[key]\n"
   ]
  },
  {
   "cell_type": "markdown",
   "metadata": {},
   "source": [
    "위의 SGD optimizer를 참고하여 Adam을 작성하자."
   ]
  },
  {
   "cell_type": "markdown",
   "metadata": {},
   "source": [
    "- 초기값"
   ]
  },
  {
   "cell_type": "code",
   "execution_count": null,
   "metadata": {
    "collapsed": true
   },
   "outputs": [],
   "source": [
    "alpha = 1*e-3 #stepsize \n",
    "beta1 = 0.9\n",
    "beta2 = 0.999\n",
    "e = 10*e-8\n",
    "m = None\n",
    "v = None"
   ]
  },
  {
   "cell_type": "code",
   "execution_count": 1,
   "metadata": {},
   "outputs": [
    {
     "name": "stdout",
     "output_type": "stream",
     "text": [
      "/Users/do-hyungkwon/GoogleDrive/git/aiclass/1731095007_dohyungkwon/tensorflux/main/jupyter_notebook\r\n"
     ]
    }
   ],
   "source": [
    "! pwd"
   ]
  },
  {
   "cell_type": "markdown",
   "metadata": {},
   "source": [
    "![D87473F1-73ED-4749-B0F3-C92924EABD21.png](attachment:D87473F1-73ED-4749-B0F3-C92924EABD21.png)"
   ]
  },
  {
   "cell_type": "code",
   "execution_count": 5,
   "metadata": {
    "collapsed": true
   },
   "outputs": [],
   "source": [
    "class Adam:\n",
    "    def __init__(self, alpha=0.001, beta1=0.9, beta2=0.999):\n",
    "        self.alpha = alpha\n",
    "        self.beta1 = beta1\n",
    "        self.beta2 = beta2\n",
    "        self.t = 0\n",
    "        self.params = None\n",
    "        self.params_m = None\n",
    "        self.params_v = None\n",
    "        self.e = 0.00000001\n",
    "\n",
    "    def update(self, grads):\n",
    "        for key in self.params.keys():\n",
    "            #             self.params_m[key].value = (self.beta1*self.params_m[key].value) + ((1-self.beta1) * grads[key]\n",
    "            #             self.params_v[key].value = (self.beta2*self.params_v[key].value) + ((1-self.beta2) * pow(grads[key], 2)\n",
    "            self.params_m[key].value = \\\n",
    "                (self.beta1 * self.params_m[key].value) + ((1 - self.beta1) * grads[key]) / (1 - pow(self.beta1, self.t))\n",
    "            self.params_v[key].value = \\\n",
    "                (self.beta2 * self.params_v[key].value) + ((1 - self.beta2) * pow(grads[key],2)) \\\n",
    "                                                          / (1 - pow(self.beta2, self.t))\n",
    "\n",
    "            self.params[key].value = \\\n",
    "                self.params[key].value - (self.alpha * self.params_m[key].value) \\\n",
    "                                         / (np.sqrt(self.params_v[key].value) + self.e)\n",
    "\n",
    "        self.t += 1"
   ]
  },
  {
   "cell_type": "code",
   "execution_count": 4,
   "metadata": {},
   "outputs": [
    {
     "data": {
      "text/plain": [
       "2.718281828459045"
      ]
     },
     "execution_count": 4,
     "metadata": {},
     "output_type": "execute_result"
    }
   ],
   "source": [
    "import math\n",
    "math.e"
   ]
  },
  {
   "cell_type": "markdown",
   "metadata": {},
   "source": [
    "![FC98BEA3-A235-40A0-91F6-B0EAD5E43564.png](attachment:FC98BEA3-A235-40A0-91F6-B0EAD5E43564.png)"
   ]
  },
  {
   "cell_type": "code",
   "execution_count": null,
   "metadata": {
    "collapsed": true
   },
   "outputs": [],
   "source": [
    "class Adam:\n",
    "    def __init__(self, alpha=0.001, beta1=0.9, beta2=0.999):\n",
    "        self.alpha = alpha\n",
    "        self.beta1 = beta1\n",
    "        self.beta2 = beta2\n",
    "        self.t = 0\n",
    "        self.params = None\n",
    "        self.params_m = None\n",
    "        self.params_v = None\n",
    "        self.e = 0.00000001\n",
    "        self.alpha_t = 0\n",
    "\n",
    "        def update_2(self, grads):\n",
    "        for key in self.params.keys():\n",
    "            # advanced\n",
    "            self.params_m[key].value = (self.beta1 * self.params_m[key].value) + ((1 - self.beta1) * grads[key])\n",
    "            self.params_v[key].value = (self.beta2 * self.params_v[key].value) + ((1 - self.beta2) * pow(grads[key], 2))\n",
    "\n",
    "            self.alpha_t = self.alpha * np.sqrt(1 - pow(self.beta2, self.t)) / (1 - pow(self.beta1, self.t))\n",
    "\n",
    "            self.params[key].value = \\\n",
    "                self.params[key].value - (self.alpha_t * self.params_m[key].value) \\\n",
    "                                         / (np.sqrt(self.params_v[key].value) + self.e)\n",
    "\n",
    "            self.t += 1"
   ]
  }
 ],
 "metadata": {
  "kernelspec": {
   "display_name": "Python 3",
   "language": "python",
   "name": "python3"
  },
  "language_info": {
   "codemirror_mode": {
    "name": "ipython",
    "version": 3
   },
   "file_extension": ".py",
   "mimetype": "text/x-python",
   "name": "python",
   "nbconvert_exporter": "python",
   "pygments_lexer": "ipython3",
   "version": "3.6.1"
  }
 },
 "nbformat": 4,
 "nbformat_minor": 2
}
