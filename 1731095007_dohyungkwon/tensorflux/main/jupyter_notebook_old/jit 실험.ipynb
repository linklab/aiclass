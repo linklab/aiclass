{
 "cells": [
  {
   "cell_type": "code",
   "execution_count": 1,
   "metadata": {},
   "outputs": [
    {
     "name": "stdout",
     "output_type": "stream",
     "text": [
      "Numba Version 0.35.0\n",
      "[[        0         1         2 ...,     29997     29998     29999]\n",
      " [    30000     30001     30002 ...,     59997     59998     59999]\n",
      " [    60000     60001     60002 ...,     89997     89998     89999]\n",
      " ..., \n",
      " [899910000 899910001 899910002 ..., 899939997 899939998 899939999]\n",
      " [899940000 899940001 899940002 ..., 899969997 899969998 899969999]\n",
      " [899970000 899970001 899970002 ..., 899999997 899999998 899999999]]\n",
      "\n",
      "JIT_SUM_1: 1460.018000 ms\n",
      "4.04999999167109e+17\n",
      "\n",
      "JIT_SUM_2: 1095.918468 ms\n",
      "4.04999999167109e+17\n",
      "\n"
     ]
    },
    {
     "ename": "KeyboardInterrupt",
     "evalue": "",
     "traceback": [
      "\u001b[0;31m---------------------------------------------------------------------------\u001b[0m",
      "\u001b[0;31mKeyboardInterrupt\u001b[0m                         Traceback (most recent call last)",
      "\u001b[0;32m<ipython-input-1-f260e6081522>\u001b[0m in \u001b[0;36m<module>\u001b[0;34m()\u001b[0m\n\u001b[1;32m     74\u001b[0m \u001b[0;34m\u001b[0m\u001b[0m\n\u001b[1;32m     75\u001b[0m \u001b[0ms\u001b[0m \u001b[0;34m=\u001b[0m \u001b[0mtimer\u001b[0m\u001b[0;34m(\u001b[0m\u001b[0;34m)\u001b[0m\u001b[0;34m\u001b[0m\u001b[0m\n\u001b[0;32m---> 76\u001b[0;31m \u001b[0mresult\u001b[0m \u001b[0;34m=\u001b[0m \u001b[0msum\u001b[0m\u001b[0;34m(\u001b[0m\u001b[0ma\u001b[0m\u001b[0;34m)\u001b[0m\u001b[0;34m\u001b[0m\u001b[0m\n\u001b[0m\u001b[1;32m     77\u001b[0m \u001b[0me\u001b[0m \u001b[0;34m=\u001b[0m \u001b[0mtimer\u001b[0m\u001b[0;34m(\u001b[0m\u001b[0;34m)\u001b[0m\u001b[0;34m\u001b[0m\u001b[0m\n\u001b[1;32m     78\u001b[0m \u001b[0mprint\u001b[0m\u001b[0;34m(\u001b[0m\u001b[0;34m\"NORMAL_SUM: {:7.6f} ms\"\u001b[0m\u001b[0;34m.\u001b[0m\u001b[0mformat\u001b[0m\u001b[0;34m(\u001b[0m\u001b[0;34m(\u001b[0m\u001b[0me\u001b[0m \u001b[0;34m-\u001b[0m \u001b[0ms\u001b[0m\u001b[0;34m)\u001b[0m \u001b[0;34m*\u001b[0m \u001b[0;36m1000\u001b[0m\u001b[0;34m)\u001b[0m\u001b[0;34m)\u001b[0m\u001b[0;34m\u001b[0m\u001b[0m\n",
      "\u001b[0;32m<ipython-input-1-f260e6081522>\u001b[0m in \u001b[0;36msum\u001b[0;34m(arr)\u001b[0m\n\u001b[1;32m     38\u001b[0m     \u001b[0;32mfor\u001b[0m \u001b[0mi\u001b[0m \u001b[0;32min\u001b[0m \u001b[0mrange\u001b[0m\u001b[0;34m(\u001b[0m\u001b[0mM\u001b[0m\u001b[0;34m)\u001b[0m\u001b[0;34m:\u001b[0m\u001b[0;34m\u001b[0m\u001b[0m\n\u001b[1;32m     39\u001b[0m         \u001b[0;32mfor\u001b[0m \u001b[0mj\u001b[0m \u001b[0;32min\u001b[0m \u001b[0mrange\u001b[0m\u001b[0;34m(\u001b[0m\u001b[0mN\u001b[0m\u001b[0;34m)\u001b[0m\u001b[0;34m:\u001b[0m\u001b[0;34m\u001b[0m\u001b[0m\n\u001b[0;32m---> 40\u001b[0;31m             \u001b[0mresult\u001b[0m \u001b[0;34m+=\u001b[0m \u001b[0marr\u001b[0m\u001b[0;34m[\u001b[0m\u001b[0mi\u001b[0m\u001b[0;34m,\u001b[0m\u001b[0mj\u001b[0m\u001b[0;34m]\u001b[0m\u001b[0;34m\u001b[0m\u001b[0m\n\u001b[0m\u001b[1;32m     41\u001b[0m     \u001b[0;32mreturn\u001b[0m \u001b[0mresult\u001b[0m\u001b[0;34m\u001b[0m\u001b[0m\n\u001b[1;32m     42\u001b[0m \u001b[0;34m\u001b[0m\u001b[0m\n",
      "\u001b[0;31mKeyboardInterrupt\u001b[0m: "
     ],
     "output_type": "error"
    }
   ],
   "source": [
    "# [Note] http://numba.pydata.org/\n",
    "# [Note] http://numba.pydata.org/numba-doc/0.35.0/index.html\n",
    "# [Note] conda update numba\n",
    "\n",
    "\n",
    "import numba\n",
    "from numba import jit, float32, int32, void, cuda\n",
    "from numpy import arange\n",
    "from timeit import default_timer as timer\n",
    "\n",
    "print(\"Numba Version\", numba.__version__)\n",
    "\n",
    "# jit decorator tells Numba to compile this function.\n",
    "# The argument types will be inferred by Numba when function is called.\n",
    "@jit\n",
    "def jit_sum_1(arr):\n",
    "    M, N = arr.shape\n",
    "    result = 0.0\n",
    "    for i in range(M):\n",
    "        for j in range(N):\n",
    "            result += arr[i,j]\n",
    "    return result\n",
    "\n",
    "\n",
    "@jit(float32(int32[:]))\n",
    "def jit_sum_2(arr):\n",
    "    M, N = arr.shape\n",
    "    result = 0.0\n",
    "    for i in range(M):\n",
    "        for j in range(N):\n",
    "            result += arr[i,j]\n",
    "    return result\n",
    "\n",
    "\n",
    "def sum(arr):\n",
    "    M, N = arr.shape\n",
    "    result = 0.0\n",
    "    for i in range(M):\n",
    "        for j in range(N):\n",
    "            result += arr[i,j]\n",
    "    return result\n",
    "\n",
    "\n",
    "# @cuda.jit(void(int32[:]))\n",
    "# def cuda_jit_sum(arr):\n",
    "#     M, N = arr.shape\n",
    "#     result = 0.0\n",
    "#     for i in range(M):\n",
    "#         for j in range(N):\n",
    "#             result += arr[i,j]\n",
    "#     return result\n",
    "\n",
    "\n",
    "a = arange(900000000).reshape(30000, 30000)\n",
    "print(a)\n",
    "\n",
    "print()\n",
    "\n",
    "s = timer()\n",
    "result = jit_sum_1(a)\n",
    "e = timer()\n",
    "print(\"JIT_SUM_1: {:7.6f} ms\".format((e - s) * 1000))\n",
    "print(result)\n",
    "\n",
    "print()\n",
    "\n",
    "s = timer()\n",
    "result = jit_sum_2(a)\n",
    "e = timer()\n",
    "print(\"JIT_SUM_2: {:7.6f} ms\".format((e - s) * 1000))\n",
    "print(result)\n",
    "\n",
    "print()\n",
    "\n",
    "s = timer()\n",
    "result = sum(a)\n",
    "e = timer()\n",
    "print(\"NORMAL_SUM: {:7.6f} ms\".format((e - s) * 1000))\n",
    "print(result)\n",
    "\n",
    "print()\n",
    "\n",
    "# s = timer()\n",
    "# result = cuda_jit_sum(a)\n",
    "# e = timer()\n",
    "# print(\"{:7.6f} ms\".format((e - s) * 1000))\n",
    "# print(result)"
   ]
  },
  {
   "cell_type": "markdown",
   "metadata": {},
   "source": [
    "### 실험1\n",
    "- def위에 jit을 적용할 경우와 안 할 경우 얼마만큼의 시간 차이가 발생할까?"
   ]
  },
  {
   "cell_type": "code",
   "execution_count": null,
   "metadata": {
    "collapsed": true
   },
   "outputs": [],
   "source": [
    "def jit_sum_1(arr):\n",
    "    M, N = arr.shape\n",
    "    result = 0.0\n",
    "    for i in range(M):\n",
    "        for j in range(N):\n",
    "            result += arr[i,j]\n",
    "    return result\n",
    "\n",
    "@jit\n",
    "def jit_sum_1_(arr):\n",
    "    M, N = arr.shape\n",
    "    result = 0.0\n",
    "    for i in range(M):\n",
    "        for j in range(N):\n",
    "            result += arr[i,j]\n",
    "    return result"
   ]
  },
  {
   "cell_type": "code",
   "execution_count": 6,
   "metadata": {},
   "outputs": [
    {
     "name": "stdout",
     "output_type": "stream",
     "text": [
      "[[   0    1    2 ...,   97   98   99]\n",
      " [ 100  101  102 ...,  197  198  199]\n",
      " [ 200  201  202 ...,  297  298  299]\n",
      " ..., \n",
      " [9700 9701 9702 ..., 9797 9798 9799]\n",
      " [9800 9801 9802 ..., 9897 9898 9899]\n",
      " [9900 9901 9902 ..., 9997 9998 9999]]\n",
      "\n",
      "JIT_SUM_1: 2.911480 ms\n",
      "49995000.0\n",
      "\n",
      "JIT_SUM_1: 75.974958 ms\n",
      "49995000.0\n",
      "\n"
     ]
    }
   ],
   "source": [
    "a = arange(10000).reshape(100, 100)\n",
    "print(a)\n",
    "\n",
    "print()\n",
    "\n",
    "s = timer()\n",
    "result = jit_sum_1(a)\n",
    "e = timer()\n",
    "print(\"JIT_SUM_1: {:7.6f} ms\".format((e - s) * 1000))\n",
    "print(result)\n",
    "\n",
    "print()\n",
    "\n",
    "s = timer()\n",
    "result = jit_sum_1_(a)\n",
    "e = timer()\n",
    "print(\"JIT_SUM_1: {:7.6f} ms\".format((e - s) * 1000))\n",
    "print(result)\n",
    "\n",
    "print()"
   ]
  },
  {
   "cell_type": "markdown",
   "metadata": {},
   "source": [
    "- 실험결과\n",
    "  - 오히려 jit을 적용하지 않은 jit_sum_1() 메소드가 더 빠르다.\n",
    "  - 아마 원소의 개수를 더 줘야 할 것 같다."
   ]
  },
  {
   "cell_type": "markdown",
   "metadata": {},
   "source": [
    "### 실험1 sub-1\n",
    "- 원소의 개수를 1만에서 1백만으로 100배 늘린다면, 수행 시간이 감소할 것이다."
   ]
  },
  {
   "cell_type": "code",
   "execution_count": 7,
   "metadata": {},
   "outputs": [
    {
     "name": "stdout",
     "output_type": "stream",
     "text": [
      "[[     0      1      2 ...,    997    998    999]\n",
      " [  1000   1001   1002 ...,   1997   1998   1999]\n",
      " [  2000   2001   2002 ...,   2997   2998   2999]\n",
      " ..., \n",
      " [997000 997001 997002 ..., 997997 997998 997999]\n",
      " [998000 998001 998002 ..., 998997 998998 998999]\n",
      " [999000 999001 999002 ..., 999997 999998 999999]]\n",
      "\n",
      "JIT_SUM_1: 297.080269 ms\n",
      "499999500000.0\n",
      "\n",
      "JIT_SUM_1: 1.128143 ms\n",
      "499999500000.0\n",
      "\n"
     ]
    }
   ],
   "source": [
    "a = arange(1000000).reshape(1000, 1000)\n",
    "print(a)\n",
    "\n",
    "print()\n",
    "\n",
    "s = timer()\n",
    "result = jit_sum_1(a)\n",
    "e = timer()\n",
    "print(\"JIT_SUM_1: {:7.6f} ms\".format((e - s) * 1000))\n",
    "print(result)\n",
    "\n",
    "print()\n",
    "\n",
    "s = timer()\n",
    "result = jit_sum_1_(a)\n",
    "e = timer()\n",
    "print(\"JIT_SUM_1: {:7.6f} ms\".format((e - s) * 1000))\n",
    "print(result)\n",
    "\n",
    "print()"
   ]
  },
  {
   "cell_type": "markdown",
   "metadata": {},
   "source": [
    "- 실험결과\n",
    "  - 예상대로 감소했다.\n",
    "  - 여기서 얻을 수 있는 교훈은, jit을 사용하려면 원소의 개수를 고려해야 한다는 점이다. 원소 개수가 별로 없는 연산의 경우엔 오히려 jit을 쓰는 것이 불이익이다.\n",
    "- 그럼, 어느 정도의 개수여야 할까?"
   ]
  },
  {
   "cell_type": "markdown",
   "metadata": {},
   "source": [
    "### 실험1 sub-2\n",
    "- 원소의 개수를 1만, 4만, 25만, 10만, 50만, 100만으로 각각 실험해본다."
   ]
  },
  {
   "cell_type": "code",
   "execution_count": 20,
   "metadata": {},
   "outputs": [
    {
     "name": "stdout",
     "output_type": "stream",
     "text": [
      "JIT을 사용하지 않은 케이스\n",
      "JIT_SUM_1: 2.733223 ms\n",
      "JIT_SUM_1: 12.139406 ms\n",
      "JIT_SUM_1: 29.484343 ms\n",
      "JIT_SUM_1: 70.425865 ms\n",
      "JIT_SUM_1: 169.344397 ms\n",
      "JIT_SUM_1: 140.061413 ms\n",
      "JIT_SUM_1: 300.476829 ms\n",
      "\n",
      "JIT을 사용한 케이스\n",
      "JIT_SUM_1: 0.015630 ms\n",
      "JIT_SUM_1: 0.038769 ms\n",
      "JIT_SUM_1: 0.094669 ms\n",
      "JIT_SUM_1: 0.234103 ms\n",
      "JIT_SUM_1: 0.472197 ms\n",
      "JIT_SUM_1: 0.475374 ms\n",
      "JIT_SUM_1: 0.951363 ms\n"
     ]
    }
   ],
   "source": [
    "a = {}\n",
    "a[1] = arange(10000).reshape(100, 100)\n",
    "a[2] = arange(40000).reshape(200, 200)\n",
    "a[3] = arange(100000).reshape(100, 1000)\n",
    "a[4] = arange(250000).reshape(500, 500)\n",
    "a[5] = arange(500000).reshape(500, 1000)\n",
    "a[6] = arange(500000).reshape(100, 5000)\n",
    "a[7] = arange(1000000).reshape(1000, 1000)\n",
    "\n",
    "print(\"JIT을 사용하지 않은 케이스\")\n",
    "for key in a:\n",
    "    s = timer()\n",
    "    result = jit_sum_1(a[key])\n",
    "    e = timer()\n",
    "    print(\"JIT_SUM_1: {:7.6f} ms\".format((e - s) * 1000))\n",
    "\n",
    "print()\n",
    "print(\"JIT을 사용한 케이스\")\n",
    "for key in a:\n",
    "    s = timer()\n",
    "    result = jit_sum_1_(a[key])\n",
    "    e = timer()\n",
    "    print(\"JIT_SUM_1: {:7.6f} ms\".format((e - s) * 1000))"
   ]
  },
  {
   "cell_type": "markdown",
   "metadata": {},
   "source": [
    "- 실험결과\n",
    "  - 아까 내린 가정이 흔들린다. 모든 경우에 있어서 jit을 사용한 케이스가 월등히 더 좋다.\n",
    "  - jit은 '처음에 연산할 때는 오래걸릴 수 있지만, 그 다음 실행부터는 빠르다'라는 문구를 본적 있는 것 같는데, 이것과 관련있는 건가?\n",
    "  - 그리고 jit은 1만~100만개까지 연산시간의 차이는 무의미한 것으로 보인다.(반면, ndarray만을 사용할 경우, 비례한다.)"
   ]
  },
  {
   "cell_type": "markdown",
   "metadata": {},
   "source": [
    "### 실험1 sub-3\n",
    "- 좀 더 늘려보자. 0을 두 개 씩 더 붙인다."
   ]
  },
  {
   "cell_type": "code",
   "execution_count": 21,
   "metadata": {},
   "outputs": [
    {
     "name": "stdout",
     "output_type": "stream",
     "text": [
      "JIT을 사용하지 않은 케이스\n",
      "JIT_SUM_1: 301.012691 ms\n",
      "JIT_SUM_1: 1177.372022 ms\n",
      "JIT_SUM_1: 2962.175087 ms\n",
      "JIT_SUM_1: 7227.778586 ms\n",
      "JIT_SUM_1: 14426.096679 ms\n",
      "JIT_SUM_1: 14333.019120 ms\n",
      "JIT_SUM_1: 28877.913244 ms\n",
      "\n",
      "JIT을 사용한 케이스\n",
      "JIT_SUM_1: 0.990140 ms\n",
      "JIT_SUM_1: 3.999558 ms\n",
      "JIT_SUM_1: 10.187999 ms\n",
      "JIT_SUM_1: 26.239511 ms\n",
      "JIT_SUM_1: 56.194355 ms\n",
      "JIT_SUM_1: 52.216039 ms\n",
      "JIT_SUM_1: 103.133880 ms\n"
     ]
    }
   ],
   "source": [
    "a = {}\n",
    "a[1] = arange(1000000).reshape(1000, 1000)\n",
    "a[2] = arange(4000000).reshape(2000, 2000)\n",
    "a[3] = arange(10000000).reshape(1000, 10000)\n",
    "a[4] = arange(25000000).reshape(5000, 5000)\n",
    "a[5] = arange(50000000).reshape(5000, 10000)\n",
    "a[6] = arange(50000000).reshape(1000, 50000)\n",
    "a[7] = arange(100000000).reshape(10000, 10000)\n",
    "\n",
    "print(\"JIT을 사용하지 않은 케이스\")\n",
    "for key in a:\n",
    "    s = timer()\n",
    "    result = jit_sum_1(a[key])\n",
    "    e = timer()\n",
    "    print(\"JIT_SUM_1: {:7.6f} ms\".format((e - s) * 1000))\n",
    "\n",
    "print()\n",
    "print(\"JIT을 사용한 케이스\")\n",
    "for key in a:\n",
    "    s = timer()\n",
    "    result = jit_sum_1_(a[key])\n",
    "    e = timer()\n",
    "    print(\"JIT_SUM_1: {:7.6f} ms\".format((e - s) * 1000))"
   ]
  },
  {
   "cell_type": "markdown",
   "metadata": {},
   "source": [
    "- 실험결과\n",
    "  - 원소의 개수가 늘어날 수록 증가하는 경향을 띄기는 한다."
   ]
  },
  {
   "cell_type": "markdown",
   "metadata": {},
   "source": [
    "### 실험1 sub-4\n",
    "- 이미 한 번 수행한 연산이라면, 재실행했을 때 시간이 감소할 것인가?"
   ]
  },
  {
   "cell_type": "code",
   "execution_count": 22,
   "metadata": {},
   "outputs": [
    {
     "name": "stdout",
     "output_type": "stream",
     "text": [
      "\n",
      "JIT을 사용한 케이스\n",
      "JIT_SUM_1: 0.979696 ms\n",
      "JIT_SUM_1: 4.119056 ms\n",
      "JIT_SUM_1: 10.821759 ms\n",
      "JIT_SUM_1: 26.055557 ms\n",
      "JIT_SUM_1: 54.098688 ms\n",
      "JIT_SUM_1: 52.870398 ms\n",
      "JIT_SUM_1: 103.686453 ms\n",
      "\n",
      "JIT을 사용한 케이스\n",
      "JIT_SUM_1: 0.959559 ms\n",
      "JIT_SUM_1: 4.335598 ms\n",
      "JIT_SUM_1: 11.890473 ms\n",
      "JIT_SUM_1: 29.537422 ms\n",
      "JIT_SUM_1: 51.123961 ms\n",
      "JIT_SUM_1: 50.447552 ms\n",
      "JIT_SUM_1: 94.914427 ms\n"
     ]
    }
   ],
   "source": [
    "a = {}\n",
    "a[1] = arange(1000000).reshape(1000, 1000)\n",
    "a[2] = arange(4000000).reshape(2000, 2000)\n",
    "a[3] = arange(10000000).reshape(1000, 10000)\n",
    "a[4] = arange(25000000).reshape(5000, 5000)\n",
    "a[5] = arange(50000000).reshape(5000, 10000)\n",
    "a[6] = arange(50000000).reshape(1000, 50000)\n",
    "a[7] = arange(100000000).reshape(10000, 10000)\n",
    "\n",
    "print()\n",
    "print(\"JIT을 사용한 케이스\")\n",
    "for key in a:\n",
    "    s = timer()\n",
    "    result = jit_sum_1_(a[key])\n",
    "    e = timer()\n",
    "    print(\"JIT_SUM_1: {:7.6f} ms\".format((e - s) * 1000))\n",
    "    \n",
    "    \n",
    "print()\n",
    "print(\"JIT을 사용한 케이스\")\n",
    "for key in a:\n",
    "    s = timer()\n",
    "    result = jit_sum_1_(a[key])\n",
    "    e = timer()\n",
    "    print(\"JIT_SUM_1: {:7.6f} ms\".format((e - s) * 1000))"
   ]
  },
  {
   "cell_type": "markdown",
   "metadata": {},
   "source": [
    "- 실험결과\n",
    "  - 상관 없다.\n",
    "  - 도대체 아까 실험 결과는 왜.."
   ]
  },
  {
   "cell_type": "code",
   "execution_count": 23,
   "metadata": {},
   "outputs": [
    {
     "name": "stdout",
     "output_type": "stream",
     "text": [
      "[[   0    1    2 ...,   97   98   99]\n",
      " [ 100  101  102 ...,  197  198  199]\n",
      " [ 200  201  202 ...,  297  298  299]\n",
      " ..., \n",
      " [9700 9701 9702 ..., 9797 9798 9799]\n",
      " [9800 9801 9802 ..., 9897 9898 9899]\n",
      " [9900 9901 9902 ..., 9997 9998 9999]]\n",
      "\n",
      "JIT_SUM_1: 3.055567 ms\n",
      "49995000.0\n",
      "\n",
      "JIT_SUM_1: 0.055956 ms\n",
      "49995000.0\n",
      "\n"
     ]
    }
   ],
   "source": [
    "a = arange(10000).reshape(100, 100)\n",
    "print(a)\n",
    "\n",
    "print()\n",
    "\n",
    "s = timer()\n",
    "result = jit_sum_1(a)\n",
    "e = timer()\n",
    "print(\"JIT_SUM_1: {:7.6f} ms\".format((e - s) * 1000))\n",
    "print(result)\n",
    "\n",
    "print()\n",
    "\n",
    "s = timer()\n",
    "result = jit_sum_1_(a)\n",
    "e = timer()\n",
    "print(\"JIT_SUM_1: {:7.6f} ms\".format((e - s) * 1000))\n",
    "print(result)\n",
    "\n",
    "print()"
   ]
  },
  {
   "cell_type": "markdown",
   "metadata": {},
   "source": [
    "아까의 실험 코드를 그대로 가져왔는데, 결과가 완전히 다르다. 아까는 왜 그렇게 뜬거였지?"
   ]
  },
  {
   "cell_type": "markdown",
   "metadata": {},
   "source": [
    "### 실험2\n",
    "- for문에 붙이는 것과 def에 붙이는 것에 차이가 있나?"
   ]
  },
  {
   "cell_type": "code",
   "execution_count": 25,
   "metadata": {},
   "outputs": [
    {
     "ename": "SyntaxError",
     "evalue": "invalid syntax (<ipython-input-25-641b411a9c33>, line 14)",
     "traceback": [
      "\u001b[0;36m  File \u001b[0;32m\"<ipython-input-25-641b411a9c33>\"\u001b[0;36m, line \u001b[0;32m14\u001b[0m\n\u001b[0;31m    for i in range(M):\u001b[0m\n\u001b[0m      ^\u001b[0m\n\u001b[0;31mSyntaxError\u001b[0m\u001b[0;31m:\u001b[0m invalid syntax\n"
     ],
     "output_type": "error"
    }
   ],
   "source": [
    "a = {}\n",
    "a[1] = arange(1000000).reshape(1000, 1000)\n",
    "a[2] = arange(4000000).reshape(2000, 2000)\n",
    "a[3] = arange(10000000).reshape(1000, 10000)\n",
    "a[4] = arange(25000000).reshape(5000, 5000)\n",
    "a[5] = arange(50000000).reshape(5000, 10000)\n",
    "a[6] = arange(50000000).reshape(1000, 50000)\n",
    "a[7] = arange(100000000).reshape(10000, 10000)\n",
    "\n",
    "def jit_sum_2(arr):\n",
    "    M, N = arr.shape\n",
    "    result = 0.0\n",
    "    @jit(float32(int32[:]))\n",
    "    for i in range(M):\n",
    "        for j in range(N):\n",
    "            result += arr[i,j]\n",
    "    return result\n",
    "\n",
    "@jit(float32(int32[:]))\n",
    "def jit_sum_2_(arr):\n",
    "    M, N = arr.shape\n",
    "    result = 0.0\n",
    "    for i in range(M):\n",
    "        for j in range(N):\n",
    "            result += arr[i,j]\n",
    "    return result\n",
    "\n",
    "\n",
    "print()\n",
    "print(\"JIT을 사용한 케이스\")\n",
    "for key in a:\n",
    "    s = timer()\n",
    "    result = jit_sum_2(a[key])\n",
    "    e = timer()\n",
    "    print(\"JIT_SUM_1: {:7.6f} ms\".format((e - s) * 1000))\n",
    "    \n",
    "    \n",
    "print()\n",
    "print(\"JIT을 사용한 케이스\")\n",
    "for key in a:\n",
    "    s = timer()\n",
    "    result = jit_sum_2_(a[key])\n",
    "    e = timer()\n",
    "    print(\"JIT_SUM_1: {:7.6f} ms\".format((e - s) * 1000))\n",
    "\n"
   ]
  },
  {
   "cell_type": "markdown",
   "metadata": {},
   "source": [
    "- 실험결과\n",
    "  - jit은 for문에는 사용이 불가능하다. def문에만 사용 가능한 것 같다."
   ]
  },
  {
   "cell_type": "markdown",
   "metadata": {},
   "source": [
    "음? 지금보니까, jit에 parameter로 float32(int32[:]) 이런걸 주는 게 관찰된다. jit은 함수인가? 이 parameter는 뭐지?\n",
    "  - jit은 함수일 것이다. parameter를 받아들이니까.\n",
    "    - 그렇다면 왜 그냥 'jit'만을 쳐도 가능한거지? 함수 호출이라면 반드시 func()와 같이 괄호가 붙어야 하는데."
   ]
  },
  {
   "cell_type": "code",
   "execution_count": 26,
   "metadata": {},
   "outputs": [
    {
     "name": "stdout",
     "output_type": "stream",
     "text": [
      "\n",
      "JIT을 사용한 케이스\n",
      "JIT_SUM_1: 70.582567 ms\n",
      "JIT_SUM_1: 3.854764 ms\n",
      "JIT_SUM_1: 10.299260 ms\n",
      "JIT_SUM_1: 28.864715 ms\n",
      "JIT_SUM_1: 53.326796 ms\n",
      "JIT_SUM_1: 81.115621 ms\n",
      "JIT_SUM_1: 160.019110 ms\n"
     ]
    }
   ],
   "source": [
    "a = {}\n",
    "a[1] = arange(1000000).reshape(1000, 1000)\n",
    "a[2] = arange(4000000).reshape(2000, 2000)\n",
    "a[3] = arange(10000000).reshape(1000, 10000)\n",
    "a[4] = arange(25000000).reshape(5000, 5000)\n",
    "a[5] = arange(50000000).reshape(5000, 10000)\n",
    "a[6] = arange(50000000).reshape(1000, 50000)\n",
    "a[7] = arange(100000000).reshape(10000, 10000)\n",
    "\n",
    "@jit(float32(int32[:]))\n",
    "def jit_sum_2_(arr):\n",
    "    M, N = arr.shape\n",
    "    result = 0.0\n",
    "    for i in range(M):\n",
    "        for j in range(N):\n",
    "            result += arr[i,j]\n",
    "    return result\n",
    "    \n",
    "print()\n",
    "print(\"JIT을 사용한 케이스\")\n",
    "for key in a:\n",
    "    s = timer()\n",
    "    result = jit_sum_2_(a[key])\n",
    "    e = timer()\n",
    "    print(\"JIT_SUM_1: {:7.6f} ms\".format((e - s) * 1000))"
   ]
  },
  {
   "cell_type": "markdown",
   "metadata": {},
   "source": [
    "- 실험결과\n",
    "  - 처음에 또 높게 나왔다. 혹시 jit 함수(?)를 처음 호출할 때 시간이 많이 걸리는건가? 매번 첫 호출 때 시간이 높게 나타났다. (그 매번이 두 번이지만..)\n",
    "- float32(int32[:])의 의미는 혹시.. float 타입인 변수 result, 그리고 result에 연산되어 들어가는 int 타입의 변수 arr[i,j]를 의미하는 건가?\n",
    "- 만약 그렇다면, 실험1번에서의 코드를 다음과 같이 돌릴 수도 있지 않을까?"
   ]
  },
  {
   "cell_type": "code",
   "execution_count": 27,
   "metadata": {},
   "outputs": [
    {
     "ename": "AttributeError",
     "evalue": "'Array' object has no attribute '__defaults__'",
     "traceback": [
      "\u001b[0;31m---------------------------------------------------------------------------\u001b[0m",
      "\u001b[0;31mAttributeError\u001b[0m                            Traceback (most recent call last)",
      "\u001b[0;32m<ipython-input-27-ea42132531b5>\u001b[0m in \u001b[0;36m<module>\u001b[0;34m()\u001b[0m\n\u001b[1;32m      8\u001b[0m     \u001b[0;32mreturn\u001b[0m \u001b[0mresult\u001b[0m\u001b[0;34m\u001b[0m\u001b[0m\n\u001b[1;32m      9\u001b[0m \u001b[0;34m\u001b[0m\u001b[0m\n\u001b[0;32m---> 10\u001b[0;31m \u001b[0;34m@\u001b[0m\u001b[0mjit\u001b[0m\u001b[0;34m(\u001b[0m\u001b[0mint32\u001b[0m\u001b[0;34m[\u001b[0m\u001b[0;34m:\u001b[0m\u001b[0;34m]\u001b[0m\u001b[0;34m)\u001b[0m\u001b[0;34m\u001b[0m\u001b[0m\n\u001b[0m\u001b[1;32m     11\u001b[0m \u001b[0;32mdef\u001b[0m \u001b[0mjit_sum_2_2\u001b[0m\u001b[0;34m(\u001b[0m\u001b[0marr\u001b[0m\u001b[0;34m)\u001b[0m\u001b[0;34m:\u001b[0m\u001b[0;34m\u001b[0m\u001b[0m\n\u001b[1;32m     12\u001b[0m     \u001b[0mM\u001b[0m\u001b[0;34m,\u001b[0m \u001b[0mN\u001b[0m \u001b[0;34m=\u001b[0m \u001b[0marr\u001b[0m\u001b[0;34m.\u001b[0m\u001b[0mshape\u001b[0m\u001b[0;34m\u001b[0m\u001b[0m\n",
      "\u001b[0;32m~/anaconda/lib/python3.6/site-packages/numba/decorators.py\u001b[0m in \u001b[0;36mjit\u001b[0;34m(signature_or_function, locals, target, cache, **options)\u001b[0m\n\u001b[1;32m    172\u001b[0m                    targetoptions=options)\n\u001b[1;32m    173\u001b[0m     \u001b[0;32mif\u001b[0m \u001b[0mpyfunc\u001b[0m \u001b[0;32mis\u001b[0m \u001b[0;32mnot\u001b[0m \u001b[0;32mNone\u001b[0m\u001b[0;34m:\u001b[0m\u001b[0;34m\u001b[0m\u001b[0m\n\u001b[0;32m--> 174\u001b[0;31m         \u001b[0;32mreturn\u001b[0m \u001b[0mwrapper\u001b[0m\u001b[0;34m(\u001b[0m\u001b[0mpyfunc\u001b[0m\u001b[0;34m)\u001b[0m\u001b[0;34m\u001b[0m\u001b[0m\n\u001b[0m\u001b[1;32m    175\u001b[0m     \u001b[0;32melse\u001b[0m\u001b[0;34m:\u001b[0m\u001b[0;34m\u001b[0m\u001b[0m\n\u001b[1;32m    176\u001b[0m         \u001b[0;32mreturn\u001b[0m \u001b[0mwrapper\u001b[0m\u001b[0;34m\u001b[0m\u001b[0m\n",
      "\u001b[0;32m~/anaconda/lib/python3.6/site-packages/numba/decorators.py\u001b[0m in \u001b[0;36mwrapper\u001b[0;34m(func)\u001b[0m\n\u001b[1;32m    188\u001b[0m         disp = dispatcher(py_func=func, locals=locals,\n\u001b[1;32m    189\u001b[0m                           \u001b[0mtargetoptions\u001b[0m\u001b[0;34m=\u001b[0m\u001b[0mtargetoptions\u001b[0m\u001b[0;34m,\u001b[0m\u001b[0;34m\u001b[0m\u001b[0m\n\u001b[0;32m--> 190\u001b[0;31m                           **dispatcher_args)\n\u001b[0m\u001b[1;32m    191\u001b[0m         \u001b[0;32mif\u001b[0m \u001b[0mcache\u001b[0m\u001b[0;34m:\u001b[0m\u001b[0;34m\u001b[0m\u001b[0m\n\u001b[1;32m    192\u001b[0m             \u001b[0mdisp\u001b[0m\u001b[0;34m.\u001b[0m\u001b[0menable_caching\u001b[0m\u001b[0;34m(\u001b[0m\u001b[0;34m)\u001b[0m\u001b[0;34m\u001b[0m\u001b[0m\n",
      "\u001b[0;32m~/anaconda/lib/python3.6/site-packages/numba/dispatcher.py\u001b[0m in \u001b[0;36m__init__\u001b[0;34m(self, py_func, locals, targetoptions, impl_kind)\u001b[0m\n\u001b[1;32m    470\u001b[0m         \u001b[0marg_count\u001b[0m \u001b[0;34m=\u001b[0m \u001b[0mlen\u001b[0m\u001b[0;34m(\u001b[0m\u001b[0mpysig\u001b[0m\u001b[0;34m.\u001b[0m\u001b[0mparameters\u001b[0m\u001b[0;34m)\u001b[0m\u001b[0;34m\u001b[0m\u001b[0m\n\u001b[1;32m    471\u001b[0m         \u001b[0mcan_fallback\u001b[0m \u001b[0;34m=\u001b[0m \u001b[0;32mnot\u001b[0m \u001b[0mtargetoptions\u001b[0m\u001b[0;34m.\u001b[0m\u001b[0mget\u001b[0m\u001b[0;34m(\u001b[0m\u001b[0;34m'nopython'\u001b[0m\u001b[0;34m,\u001b[0m \u001b[0;32mFalse\u001b[0m\u001b[0;34m)\u001b[0m\u001b[0;34m\u001b[0m\u001b[0m\n\u001b[0;32m--> 472\u001b[0;31m         \u001b[0m_DispatcherBase\u001b[0m\u001b[0;34m.\u001b[0m\u001b[0m__init__\u001b[0m\u001b[0;34m(\u001b[0m\u001b[0mself\u001b[0m\u001b[0;34m,\u001b[0m \u001b[0marg_count\u001b[0m\u001b[0;34m,\u001b[0m \u001b[0mpy_func\u001b[0m\u001b[0;34m,\u001b[0m \u001b[0mpysig\u001b[0m\u001b[0;34m,\u001b[0m \u001b[0mcan_fallback\u001b[0m\u001b[0;34m)\u001b[0m\u001b[0;34m\u001b[0m\u001b[0m\n\u001b[0m\u001b[1;32m    473\u001b[0m \u001b[0;34m\u001b[0m\u001b[0m\n\u001b[1;32m    474\u001b[0m         \u001b[0mfunctools\u001b[0m\u001b[0;34m.\u001b[0m\u001b[0mupdate_wrapper\u001b[0m\u001b[0;34m(\u001b[0m\u001b[0mself\u001b[0m\u001b[0;34m,\u001b[0m \u001b[0mpy_func\u001b[0m\u001b[0;34m)\u001b[0m\u001b[0;34m\u001b[0m\u001b[0m\n",
      "\u001b[0;32m~/anaconda/lib/python3.6/site-packages/numba/dispatcher.py\u001b[0m in \u001b[0;36m__init__\u001b[0;34m(self, arg_count, py_func, pysig, can_fallback)\u001b[0m\n\u001b[1;32m    177\u001b[0m \u001b[0;34m\u001b[0m\u001b[0m\n\u001b[1;32m    178\u001b[0m         \u001b[0margnames\u001b[0m \u001b[0;34m=\u001b[0m \u001b[0mtuple\u001b[0m\u001b[0;34m(\u001b[0m\u001b[0mpysig\u001b[0m\u001b[0;34m.\u001b[0m\u001b[0mparameters\u001b[0m\u001b[0;34m)\u001b[0m\u001b[0;34m\u001b[0m\u001b[0m\n\u001b[0;32m--> 179\u001b[0;31m         \u001b[0mdefault_values\u001b[0m \u001b[0;34m=\u001b[0m \u001b[0mself\u001b[0m\u001b[0;34m.\u001b[0m\u001b[0mpy_func\u001b[0m\u001b[0;34m.\u001b[0m\u001b[0m__defaults__\u001b[0m \u001b[0;32mor\u001b[0m \u001b[0;34m(\u001b[0m\u001b[0;34m)\u001b[0m\u001b[0;34m\u001b[0m\u001b[0m\n\u001b[0m\u001b[1;32m    180\u001b[0m         \u001b[0mdefargs\u001b[0m \u001b[0;34m=\u001b[0m \u001b[0mtuple\u001b[0m\u001b[0;34m(\u001b[0m\u001b[0mOmittedArg\u001b[0m\u001b[0;34m(\u001b[0m\u001b[0mval\u001b[0m\u001b[0;34m)\u001b[0m \u001b[0;32mfor\u001b[0m \u001b[0mval\u001b[0m \u001b[0;32min\u001b[0m \u001b[0mdefault_values\u001b[0m\u001b[0;34m)\u001b[0m\u001b[0;34m\u001b[0m\u001b[0m\n\u001b[1;32m    181\u001b[0m         \u001b[0;32mtry\u001b[0m\u001b[0;34m:\u001b[0m\u001b[0;34m\u001b[0m\u001b[0m\n",
      "\u001b[0;31mAttributeError\u001b[0m: 'Array' object has no attribute '__defaults__'"
     ],
     "output_type": "error"
    }
   ],
   "source": [
    "@jit\n",
    "def jit_sum_2_1(arr):\n",
    "    M, N = arr.shape\n",
    "    result = 0.0\n",
    "    for i in range(M):\n",
    "        for j in range(N):\n",
    "            result += arr[i,j]\n",
    "    return result\n",
    "\n",
    "@jit(int32[:])\n",
    "def jit_sum_2_2(arr):\n",
    "    M, N = arr.shape\n",
    "    result = 0.0\n",
    "    for i in range(M):\n",
    "        for j in range(N):\n",
    "            result += arr[i,j]\n",
    "    return result\n",
    "\n",
    "@jit(int32(int32[:]))\n",
    "def jit_sum_2_3(arr):\n",
    "    M, N = arr.shape\n",
    "    result = 0.0\n",
    "    for i in range(M):\n",
    "        for j in range(N):\n",
    "            result += arr[i,j]\n",
    "    return result\n",
    "\n",
    "@jit(float32(int32[:]))\n",
    "def jit_sum_2_4(arr):\n",
    "    M, N = arr.shape\n",
    "    result = 0.0\n",
    "    for i in range(M):\n",
    "        for j in range(N):\n",
    "            result += arr[i,j]\n",
    "    return result\n",
    "\n",
    "a = {}\n",
    "a[1] = arange(1000000).reshape(1000, 1000)\n",
    "a[2] = arange(4000000).reshape(2000, 2000)\n",
    "a[3] = arange(10000000).reshape(1000, 10000)\n",
    "a[4] = arange(25000000).reshape(5000, 5000)\n",
    "a[5] = arange(50000000).reshape(5000, 10000)\n",
    "a[6] = arange(50000000).reshape(1000, 50000)\n",
    "a[7] = arange(100000000).reshape(10000, 10000)\n",
    "    \n",
    "print()\n",
    "print(\"JIT을 사용한 케이스\")\n",
    "for key in a:\n",
    "    s = timer()\n",
    "    result = jit_sum_2_1(a[key])\n",
    "    e = timer()\n",
    "    print(\"JIT_SUM_1: {:7.6f} ms\".format((e - s) * 1000))\n",
    "    \n",
    "print()\n",
    "print(\"JIT을 사용한 케이스\")\n",
    "for key in a:\n",
    "    s = timer()\n",
    "    result = jit_sum_2_2(a[key])\n",
    "    e = timer()\n",
    "    print(\"JIT_SUM_1: {:7.6f} ms\".format((e - s) * 1000))\n",
    "    \n",
    "print()\n",
    "print(\"JIT을 사용한 케이스\")\n",
    "for key in a:\n",
    "    s = timer()\n",
    "    result = jit_sum_2_3(a[key])\n",
    "    e = timer()\n",
    "    print(\"JIT_SUM_1: {:7.6f} ms\".format((e - s) * 1000))\n",
    "    \n",
    "print()\n",
    "print(\"JIT을 사용한 케이스\")\n",
    "for key in a:\n",
    "    s = timer()\n",
    "    result = jit_sum_2_4(a[key])\n",
    "    e = timer()\n",
    "    print(\"JIT_SUM_1: {:7.6f} ms\".format((e - s) * 1000))"
   ]
  },
  {
   "cell_type": "code",
   "execution_count": 29,
   "metadata": {},
   "outputs": [
    {
     "name": "stdout",
     "output_type": "stream",
     "text": [
      "\n",
      "JIT을 사용한 케이스\n",
      "JIT_SUM_1: 73.270995 ms\n",
      "JIT_SUM_1: 4.121462 ms\n",
      "JIT_SUM_1: 9.928277 ms\n",
      "JIT_SUM_1: 25.427817 ms\n",
      "JIT_SUM_1: 52.508160 ms\n",
      "JIT_SUM_1: 50.112708 ms\n",
      "JIT_SUM_1: 97.521457 ms\n",
      "\n",
      "JIT을 사용한 케이스\n",
      "JIT_SUM_1: 77.781569 ms\n",
      "JIT_SUM_1: 4.084083 ms\n",
      "JIT_SUM_1: 10.767192 ms\n",
      "JIT_SUM_1: 25.671278 ms\n",
      "JIT_SUM_1: 49.007850 ms\n",
      "JIT_SUM_1: 49.388598 ms\n",
      "JIT_SUM_1: 104.422877 ms\n",
      "\n",
      "JIT을 사용한 케이스\n",
      "JIT_SUM_1: 93.934923 ms\n",
      "JIT_SUM_1: 4.268976 ms\n",
      "JIT_SUM_1: 9.858732 ms\n",
      "JIT_SUM_1: 24.172018 ms\n",
      "JIT_SUM_1: 50.802596 ms\n",
      "JIT_SUM_1: 52.201114 ms\n",
      "JIT_SUM_1: 101.079778 ms\n"
     ]
    }
   ],
   "source": [
    "@jit\n",
    "def jit_sum_2_1(arr):\n",
    "    M, N = arr.shape\n",
    "    result = 0.0\n",
    "    for i in range(M):\n",
    "        for j in range(N):\n",
    "            result += arr[i,j]\n",
    "    return result\n",
    "\n",
    "# @jit(int32[:])\n",
    "# def jit_sum_2_2(arr):\n",
    "#     M, N = arr.shape\n",
    "#     result = 0.0\n",
    "#     for i in range(M):\n",
    "#         for j in range(N):\n",
    "#             result += arr[i,j]\n",
    "#     return result\n",
    "\n",
    "@jit(int32(int32[:]))\n",
    "def jit_sum_2_3(arr):\n",
    "    M, N = arr.shape\n",
    "    result = 0.0\n",
    "    for i in range(M):\n",
    "        for j in range(N):\n",
    "            result += arr[i,j]\n",
    "    return result\n",
    "\n",
    "@jit(float32(int32[:]))\n",
    "def jit_sum_2_4(arr):\n",
    "    M, N = arr.shape\n",
    "    result = 0.0\n",
    "    for i in range(M):\n",
    "        for j in range(N):\n",
    "            result += arr[i,j]\n",
    "    return result\n",
    "\n",
    "a = {}\n",
    "a[1] = arange(1000000).reshape(1000, 1000)\n",
    "a[2] = arange(4000000).reshape(2000, 2000)\n",
    "a[3] = arange(10000000).reshape(1000, 10000)\n",
    "a[4] = arange(25000000).reshape(5000, 5000)\n",
    "a[5] = arange(50000000).reshape(5000, 10000)\n",
    "a[6] = arange(50000000).reshape(1000, 50000)\n",
    "a[7] = arange(100000000).reshape(10000, 10000)\n",
    "    \n",
    "print()\n",
    "print(\"JIT을 사용한 케이스\")\n",
    "for key in a:\n",
    "    s = timer()\n",
    "    result = jit_sum_2_1(a[key])\n",
    "    e = timer()\n",
    "    print(\"JIT_SUM_1: {:7.6f} ms\".format((e - s) * 1000))\n",
    "    \n",
    "# print()\n",
    "# print(\"JIT을 사용한 케이스\")\n",
    "# for key in a:\n",
    "#     s = timer()\n",
    "#     result = jit_sum_2_2(a[key])\n",
    "#     e = timer()\n",
    "#     print(\"JIT_SUM_1: {:7.6f} ms\".format((e - s) * 1000))\n",
    "    \n",
    "print()\n",
    "print(\"JIT을 사용한 케이스\")\n",
    "for key in a:\n",
    "    s = timer()\n",
    "    result = jit_sum_2_3(a[key])\n",
    "    e = timer()\n",
    "    print(\"JIT_SUM_1: {:7.6f} ms\".format((e - s) * 1000))\n",
    "    \n",
    "print()\n",
    "print(\"JIT을 사용한 케이스\")\n",
    "for key in a:\n",
    "    s = timer()\n",
    "    result = jit_sum_2_4(a[key])\n",
    "    e = timer()\n",
    "    print(\"JIT_SUM_1: {:7.6f} ms\".format((e - s) * 1000))"
   ]
  },
  {
   "cell_type": "markdown",
   "metadata": {},
   "source": [
    "- 해석\n",
    "  - @jit(int32[:]) 이 부분이 안되는 이유는 아마 result의 타입 자체가 float이라서 그럴 것이다.\n",
    "    - 그런데 그렇다면 @jit(int32(int32[:])) 얘는 왜 되는거지?\n",
    "  - jit에 특정 인자를 준다고 해서 시간이 줄어드는 것처럼 보이지는 않는다.\n",
    "    - 그럼 도대체 jit에 parameter는 왜 주는건가? 안주고 그냥 jit만 붙여도 되는 것 아닌가?"
   ]
  },
  {
   "cell_type": "code",
   "execution_count": null,
   "metadata": {
    "collapsed": true
   },
   "outputs": [],
   "source": []
  }
 ],
 "metadata": {
  "kernelspec": {
   "display_name": "Python 3",
   "language": "python",
   "name": "python3"
  },
  "language_info": {
   "codemirror_mode": {
    "name": "ipython",
    "version": 3
   },
   "file_extension": ".py",
   "mimetype": "text/x-python",
   "name": "python",
   "nbconvert_exporter": "python",
   "pygments_lexer": "ipython3",
   "version": "3.6.1"
  }
 },
 "nbformat": 4,
 "nbformat_minor": 2
}
