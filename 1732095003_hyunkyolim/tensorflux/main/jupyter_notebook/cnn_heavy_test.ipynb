{
 "cells": [
  {
   "cell_type": "code",
   "execution_count": 1,
   "metadata": {},
   "outputs": [
    {
     "name": "stdout",
     "output_type": "stream",
     "text": [
      "0.33.0\n"
     ]
    }
   ],
   "source": [
    "# pip install numba --upgrade\n",
    "# pip install pygraphviz\n",
    "import sys\n",
    "#sys.path.insert(0, \"/Users/yhhan/git/aiclass/0.Professor/\")\n",
    "sys.path.insert(0, \"C:/Users/admin/git/aiclass/0.Professor/\")\n",
    "\n",
    "import tensorflux.graph as tfg\n",
    "import tensorflux.CNN as tfn\n",
    "import tensorflux.enums as tfe\n",
    "import datasource.mnist as mnist\n",
    "import tensorflux.functions as tff\n",
    "import math\n",
    "import numba\n",
    "print(numba.__version__)\n",
    "%matplotlib inline"
   ]
  },
  {
   "cell_type": "code",
   "execution_count": 2,
   "metadata": {},
   "outputs": [
    {
     "name": "stdout",
     "output_type": "stream",
     "text": [
      "Convolutional Neural Network Model - ID: 75UI01B1\n",
      "Data Size: (1, 28, 28)\n",
      "         |\n",
      "[Convolution Layer 0]\n",
      "Param Key: W0, Shape: (8, 1, 3, 3)\n",
      "Param Key: b0, Shape: (8,)\n",
      "Data Size: (8, 28, 28)\n",
      "         |\n",
      "[Activation Layer 0]\n",
      "Data Size: (8, 28, 28)\n",
      "         |\n",
      "[Convolution Layer 1]\n",
      "Param Key: W1, Shape: (8, 8, 3, 3)\n",
      "Param Key: b1, Shape: (8,)\n",
      "Data Size: (8, 28, 28)\n",
      "         |\n",
      "[Activation Layer 1]\n",
      "Data Size: (8, 28, 28)\n",
      "         |\n",
      "[Pooling Layer 2]\n",
      "Data Size: (8, 14, 14)\n",
      "         |\n",
      "[Convolution Layer 3]\n",
      "Param Key: W3, Shape: (12, 8, 3, 3)\n",
      "Param Key: b3, Shape: (12,)\n",
      "Data Size: (12, 14, 14)\n",
      "         |\n",
      "[Activation Layer 3]\n",
      "Data Size: (12, 14, 14)\n",
      "         |\n",
      "[Convolution Layer 4]\n",
      "Param Key: W4, Shape: (12, 12, 3, 3)\n",
      "Param Key: b4, Shape: (12,)\n",
      "Data Size: (12, 14, 14)\n",
      "         |\n",
      "[Activation Layer 4]\n",
      "Data Size: (12, 14, 14)\n",
      "         |\n",
      "[Pooling Layer 5]\n",
      "Data Size: (12, 7, 7)\n",
      "         |\n",
      "[Reshape Layer]\n",
      "Data Size: 588\n",
      "         |\n",
      "[Affine Layer 6]\n",
      "Param Key: W6, Shape: (588, 128)\n",
      "Param Key: b6, Shape: (128,)\n",
      "Data Size: 128\n",
      "         |\n",
      "[Activation Layer 6]\n",
      "Data Size: 128\n",
      "         |\n",
      "[Affine Layer 7]\n",
      "Param Key: W7, Shape: (128, 10)\n",
      "Param Key: b7, Shape: (10,)\n",
      "Data Size: 10\n",
      "         |\n",
      "[Softmax Layer 7]\n",
      "Data Size: 10\n",
      "\n"
     ]
    }
   ],
   "source": [
    "\"\"\"\n",
    "    conv0 (relu0) - conv1 (relu1) - pool2 - \n",
    "    conv3 (relu3) - conv4 (relu4) - pool5 - \n",
    "    affine6 (relu6) - affine7 - softmax (output)\n",
    "\"\"\"\n",
    "\n",
    "input_dim = (1, 28, 28)\n",
    "cnn_param_list = [\n",
    "    {'type': 'conv', 'filter_num': 8, 'filter_h': 3, 'filter_w': 3, 'pad': 1, 'stride': 1},\n",
    "    {'type': 'conv', 'filter_num': 8, 'filter_h': 3, 'filter_w': 3, 'pad': 1, 'stride': 1},\n",
    "    {'type': 'pooling', 'filter_h': 2, 'filter_w': 2, 'stride': 2},\n",
    "    {'type': 'conv', 'filter_num': 12, 'filter_h': 3, 'filter_w': 3, 'pad': 1, 'stride': 1},\n",
    "    {'type': 'conv', 'filter_num': 12, 'filter_h': 3, 'filter_w': 3, 'pad': 1, 'stride': 1},\n",
    "    {'type': 'pooling', 'filter_h': 2, 'filter_w': 2, 'stride': 2},\n",
    "]\n",
    "fc_hidden_size = 128\n",
    "output_size = 10\n",
    "\n",
    "x = tfg.Placeholder(name=\"x\")\n",
    "target = tfg.Placeholder(name=\"target\")\n",
    "\n",
    "n = tfn.CNN(\n",
    "    input_dim=input_dim,\n",
    "    cnn_param_list=cnn_param_list,\n",
    "    fc_hidden_size=fc_hidden_size,\n",
    "    output_size=output_size,\n",
    "    input_node=x,\n",
    "    target_node=target,\n",
    "    conv_initializer=tfe.Initializer.Conv_Xavier_Normal.value,\n",
    "#     initializer=tfe.Initializer.Normal.value,\n",
    "#     init_sd=0.01,\n",
    "    initializer=tfe.Initializer.He_Normal.value,\n",
    "    activator=tfe.Activator.ReLU.value,\n",
    "    optimizer=tfe.Optimizer.Adam.value,\n",
    "    learning_rate=0.001\n",
    ")"
   ]
  },
  {
   "cell_type": "code",
   "execution_count": 5,
   "metadata": {},
   "outputs": [],
   "source": [
    "#n.draw_and_show(figsize=(20, 20))"
   ]
  },
  {
   "cell_type": "code",
   "execution_count": 9,
   "metadata": {},
   "outputs": [],
   "source": [
    "data = mnist.MNIST_Data(validation_size=5000, n_splits=12, is_onehot_target=True, cnn=True)\n",
    "#data = mnist.Fashion_MNIST_Data(validation_size=5000, n_splits=12, is_onehot_target=True, cnn=True)"
   ]
  },
  {
   "cell_type": "code",
   "execution_count": null,
   "metadata": {
    "scrolled": false
   },
   "outputs": [
    {
     "name": "stdout",
     "output_type": "stream",
     "text": [
      "Initial Accuracy 0.0711\n",
      "-- Learning Started --\n",
      "Epoch   0 Completed - Train Error:2.58293 - Validation Error:2.58668 - Test Accuracy:0.07110 <== Minimal Val. Error\n",
      "Fold:  0\n",
      "Epoch   1 Completed - Train Error:0.20274 - Validation Error:0.16933 - Test Accuracy:0.95060 <== Minimal Val. Error\n"
     ]
    }
   ],
   "source": [
    "forward_final_output = n.feed_forward(input_data=data.test_input, is_numba=False)\n",
    "#print(forward_final_output.shape)\n",
    "print(\"Initial Accuracy\", tff.accuracy(forward_final_output, data.test_target))\n",
    "\n",
    "batch_size = 1000\n",
    "#%timeit -n1 -r1 n.learning(\n",
    "n.learning(\n",
    "    max_epoch=5, \n",
    "    data=data, \n",
    "    batch_size=batch_size, \n",
    "    print_period=1, \n",
    "    is_numba=False, \n",
    "    verbose=False\n",
    ")\n",
    "data.reset_kfold()\n",
    "\n",
    "forward_final_output = n.feed_forward(input_data=data.test_input, is_numba=False)\n",
    "print(\"Post-learning Accuracy\", tff.accuracy(forward_final_output, data.test_target))"
   ]
  },
  {
   "cell_type": "code",
   "execution_count": null,
   "metadata": {},
   "outputs": [],
   "source": [
    "print(\"Epoch:{:3d}, Min Train Error:{:7.5f}, Min Validation Error:{:7.5f}, Test Accuracy:{:7.5f}\".format(\n",
    "    n.min_validation_error_epoch,\n",
    "    n.min_train_error,\n",
    "    n.min_validation_error,\n",
    "    n.test_accuracy_at_min_validation_error_epoch\n",
    "))\n",
    "\n",
    "print(\"Mean of Min Validation Error For All Folds:{:7.5f}\".format(n.mean_min_validation_error_for_all_folds))"
   ]
  },
  {
   "cell_type": "code",
   "execution_count": null,
   "metadata": {},
   "outputs": [],
   "source": [
    "n.draw_error_values_and_accuracy(figsize=(20, 5))"
   ]
  },
  {
   "cell_type": "code",
   "execution_count": null,
   "metadata": {},
   "outputs": [],
   "source": [
    "n.draw_false_prediction(data.test_input, data.test_target, data.labels, num=5, figsize=(20, 5))"
   ]
  },
  {
   "cell_type": "code",
   "execution_count": null,
   "metadata": {},
   "outputs": [],
   "source": [
    "n.draw_param_description(figsize=(20, 10))"
   ]
  },
  {
   "cell_type": "code",
   "execution_count": null,
   "metadata": {},
   "outputs": [],
   "source": [
    "n.draw_output_description(figsize=(20, 10))"
   ]
  }
 ],
 "metadata": {
  "kernelspec": {
   "display_name": "Python 3",
   "language": "python",
   "name": "python3"
  },
  "language_info": {
   "codemirror_mode": {
    "name": "ipython",
    "version": 3
   },
   "file_extension": ".py",
   "mimetype": "text/x-python",
   "name": "python",
   "nbconvert_exporter": "python",
   "pygments_lexer": "ipython3",
   "version": "3.6.1"
  }
 },
 "nbformat": 4,
 "nbformat_minor": 2
}
